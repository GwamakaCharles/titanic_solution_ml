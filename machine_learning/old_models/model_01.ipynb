{
 "cells": [
  {
   "cell_type": "markdown",
   "metadata": {
    "_cell_guid": "b1076dfc-b9ad-4769-8c92-a6c4dae69d19",
    "_uuid": "8f2839f25d086af736a60e9eeb907d3b93b6e0e5"
   },
   "source": [
    "This solution it was after many of kind a combinations, it was best ultil now."
   ]
  },
  {
   "cell_type": "code",
   "execution_count": 380,
   "metadata": {
    "collapsed": true,
    "jupyter": {
     "outputs_hidden": true
    }
   },
   "outputs": [
    {
     "name": "stdout",
     "output_type": "stream",
     "text": [
      "Collecting scikit-plot\n",
      "  Downloading https://files.pythonhosted.org/packages/7c/47/32520e259340c140a4ad27c1b97050dd3254fdc517b1d59974d47037510e/scikit_plot-0.3.7-py3-none-any.whl\n",
      "Requirement already satisfied: scipy>=0.9 in c:\\users\\diego.mayer\\appdata\\local\\continuum\\anaconda3\\lib\\site-packages (from scikit-plot) (1.2.1)\n",
      "Requirement already satisfied: matplotlib>=1.4.0 in c:\\users\\diego.mayer\\appdata\\local\\continuum\\anaconda3\\lib\\site-packages (from scikit-plot) (3.1.0)\n",
      "Requirement already satisfied: scikit-learn>=0.18 in c:\\users\\diego.mayer\\appdata\\local\\continuum\\anaconda3\\lib\\site-packages (from scikit-plot) (0.22.2.post1)\n",
      "Requirement already satisfied: joblib>=0.10 in c:\\users\\diego.mayer\\appdata\\local\\continuum\\anaconda3\\lib\\site-packages (from scikit-plot) (0.13.2)\n",
      "Requirement already satisfied: cycler>=0.10 in c:\\users\\diego.mayer\\appdata\\local\\continuum\\anaconda3\\lib\\site-packages (from matplotlib>=1.4.0->scikit-plot) (0.10.0)\n",
      "Requirement already satisfied: kiwisolver>=1.0.1 in c:\\users\\diego.mayer\\appdata\\local\\continuum\\anaconda3\\lib\\site-packages (from matplotlib>=1.4.0->scikit-plot) (1.1.0)\n",
      "Requirement already satisfied: pyparsing!=2.0.4,!=2.1.2,!=2.1.6,>=2.0.1 in c:\\users\\diego.mayer\\appdata\\local\\continuum\\anaconda3\\lib\\site-packages (from matplotlib>=1.4.0->scikit-plot) (2.4.0)\n",
      "Requirement already satisfied: python-dateutil>=2.1 in c:\\users\\diego.mayer\\appdata\\local\\continuum\\anaconda3\\lib\\site-packages (from matplotlib>=1.4.0->scikit-plot) (2.8.0)\n",
      "Requirement already satisfied: numpy>=1.11 in c:\\users\\diego.mayer\\appdata\\local\\continuum\\anaconda3\\lib\\site-packages (from matplotlib>=1.4.0->scikit-plot) (1.16.4)\n",
      "Requirement already satisfied: six in c:\\users\\diego.mayer\\appdata\\local\\continuum\\anaconda3\\lib\\site-packages (from cycler>=0.10->matplotlib>=1.4.0->scikit-plot) (1.12.0)\n",
      "Requirement already satisfied: setuptools in c:\\users\\diego.mayer\\appdata\\local\\continuum\\anaconda3\\lib\\site-packages (from kiwisolver>=1.0.1->matplotlib>=1.4.0->scikit-plot) (41.0.1)\n",
      "Installing collected packages: scikit-plot\n",
      "Successfully installed scikit-plot-0.3.7\n"
     ]
    }
   ],
   "source": [
    "#!pip install imblearn\n",
    "#!pip install scikit-plot"
   ]
  },
  {
   "cell_type": "code",
   "execution_count": 1,
   "metadata": {},
   "outputs": [],
   "source": [
    "import pandas as pd\n",
    "import numpy as np\n",
    "import matplotlib.pyplot as plt\n",
    "import seaborn as sns\n",
    "import re\n",
    "\n",
    "from imblearn.under_sampling import RandomUnderSampler\n",
    "\n",
    "from sklearn.ensemble import RandomForestClassifier\n",
    "from sklearn.model_selection import train_test_split\n",
    "\n",
    "from sklearn.metrics import mean_squared_log_error, f1_score, precision_score\n",
    "from sklearn.metrics import roc_auc_score, classification_report\n",
    "import scikitplot as skplt\n",
    "\n",
    "from sklearn import feature_selection\n",
    "\n",
    "%matplotlib inline"
   ]
  },
  {
   "cell_type": "code",
   "execution_count": 2,
   "metadata": {
    "_cell_guid": "79c7e3d0-c299-4dcb-8224-4455121ee9b0",
    "_uuid": "d629ff2d2480ee46fbb7e2d37f6b5fab8052498a"
   },
   "outputs": [],
   "source": [
    "df_train = pd.read_csv('data/train.csv')\n",
    "df_test = pd.read_csv('data/test.csv')"
   ]
  },
  {
   "cell_type": "markdown",
   "metadata": {},
   "source": [
    "# Data from train"
   ]
  },
  {
   "cell_type": "code",
   "execution_count": 3,
   "metadata": {},
   "outputs": [],
   "source": [
    "train = pd.DataFrame()\n",
    "train['passengerId'] = df_train['PassengerId']\n",
    "train['fare'] = df_train['Fare']\n",
    "train['pclass'] = df_train['Pclass']\n",
    "train['survived'] = df_train['Survived']\n",
    "train['age'] = df_train['Age'].fillna(df_train['Age'].mean())\n",
    "dum_emb_train = pd.get_dummies(df_train['Embarked']).fillna(0)\n",
    "train = pd.concat([train, dum_emb_train], axis=1)\n",
    "dum_sex_train = pd.get_dummies(df_train['Sex'])\n",
    "train = pd.concat([train, dum_sex_train], axis=1)\n",
    "# You can get duvided dumm from pclass, creat news columns\n",
    "dum_pclass_train = pd.get_dummies(train['pclass'], prefix='class')\n",
    "train = pd.concat([train, dum_pclass_train], axis=1)\n",
    "train.drop('pclass', axis=1, inplace=True)"
   ]
  },
  {
   "cell_type": "code",
   "execution_count": 4,
   "metadata": {},
   "outputs": [],
   "source": [
    "fare_25 = train.fare[train.fare < 7.92]\n",
    "fare_50 = train.fare[(train['fare'] >= 7.92) & (train['fare'] < 14.46)]\n",
    "fare_75 = train.fare[(train['fare'] >= 14.46) & (train['fare'] < 31)]\n",
    "fare_100 = train.fare[train.fare > 31]\n",
    "\n",
    "train = pd.concat([train, fare_25], axis=1).fillna(0)\n",
    "train = pd.concat([train, fare_50], axis=1).fillna(0)\n",
    "train = pd.concat([train, fare_75], axis=1).fillna(0)\n",
    "train = pd.concat([train, fare_100], axis=1).fillna(0)\n",
    "\n",
    "train.columns = ['passengerId', 'fare', 'survived', 'age', 'C', 'Q', 'S', 'female',\n",
    "       'male', 'class_1', 'class_2', 'class_3', 'fare_25', 'fare_50', 'fare_75',\n",
    "       'fare_100']\n",
    "\n",
    "train.drop('passengerId', axis=1, inplace=True) # It's not possible be a feature, because is a ID"
   ]
  },
  {
   "cell_type": "code",
   "execution_count": 5,
   "metadata": {},
   "outputs": [],
   "source": [
    "dum_fare = pd.get_dummies(df_train['Fare'], prefix='fare', )\n",
    "train = pd.concat([train, dum_fare], axis=1)\n",
    "train.drop('fare', axis=1, inplace=True)\n",
    "\n",
    "train['family_size'] = df_train['SibSp'] + df_train['Parch']"
   ]
  },
  {
   "cell_type": "code",
   "execution_count": 6,
   "metadata": {
    "collapsed": true,
    "jupyter": {
     "outputs_hidden": true
    }
   },
   "outputs": [
    {
     "name": "stderr",
     "output_type": "stream",
     "text": [
      "C:\\Users\\diego.mayer\\AppData\\Local\\Continuum\\anaconda3\\lib\\site-packages\\ipykernel_launcher.py:13: SettingWithCopyWarning: \n",
      "A value is trying to be set on a copy of a slice from a DataFrame\n",
      "\n",
      "See the caveats in the documentation: http://pandas.pydata.org/pandas-docs/stable/indexing.html#indexing-view-versus-copy\n",
      "  del sys.path[0]\n",
      "C:\\Users\\diego.mayer\\AppData\\Local\\Continuum\\anaconda3\\lib\\site-packages\\ipykernel_launcher.py:14: SettingWithCopyWarning: \n",
      "A value is trying to be set on a copy of a slice from a DataFrame\n",
      "\n",
      "See the caveats in the documentation: http://pandas.pydata.org/pandas-docs/stable/indexing.html#indexing-view-versus-copy\n",
      "  \n",
      "C:\\Users\\diego.mayer\\AppData\\Local\\Continuum\\anaconda3\\lib\\site-packages\\ipykernel_launcher.py:15: SettingWithCopyWarning: \n",
      "A value is trying to be set on a copy of a slice from a DataFrame\n",
      "\n",
      "See the caveats in the documentation: http://pandas.pydata.org/pandas-docs/stable/indexing.html#indexing-view-versus-copy\n",
      "  from ipykernel import kernelapp as app\n",
      "C:\\Users\\diego.mayer\\AppData\\Local\\Continuum\\anaconda3\\lib\\site-packages\\ipykernel_launcher.py:16: SettingWithCopyWarning: \n",
      "A value is trying to be set on a copy of a slice from a DataFrame\n",
      "\n",
      "See the caveats in the documentation: http://pandas.pydata.org/pandas-docs/stable/indexing.html#indexing-view-versus-copy\n",
      "  app.launch_new_instance()\n",
      "C:\\Users\\diego.mayer\\AppData\\Local\\Continuum\\anaconda3\\lib\\site-packages\\ipykernel_launcher.py:17: SettingWithCopyWarning: \n",
      "A value is trying to be set on a copy of a slice from a DataFrame\n",
      "\n",
      "See the caveats in the documentation: http://pandas.pydata.org/pandas-docs/stable/indexing.html#indexing-view-versus-copy\n",
      "C:\\Users\\diego.mayer\\AppData\\Local\\Continuum\\anaconda3\\lib\\site-packages\\ipykernel_launcher.py:18: SettingWithCopyWarning: \n",
      "A value is trying to be set on a copy of a slice from a DataFrame\n",
      "\n",
      "See the caveats in the documentation: http://pandas.pydata.org/pandas-docs/stable/indexing.html#indexing-view-versus-copy\n",
      "C:\\Users\\diego.mayer\\AppData\\Local\\Continuum\\anaconda3\\lib\\site-packages\\ipykernel_launcher.py:19: SettingWithCopyWarning: \n",
      "A value is trying to be set on a copy of a slice from a DataFrame\n",
      "\n",
      "See the caveats in the documentation: http://pandas.pydata.org/pandas-docs/stable/indexing.html#indexing-view-versus-copy\n",
      "C:\\Users\\diego.mayer\\AppData\\Local\\Continuum\\anaconda3\\lib\\site-packages\\ipykernel_launcher.py:20: SettingWithCopyWarning: \n",
      "A value is trying to be set on a copy of a slice from a DataFrame\n",
      "\n",
      "See the caveats in the documentation: http://pandas.pydata.org/pandas-docs/stable/indexing.html#indexing-view-versus-copy\n",
      "C:\\Users\\diego.mayer\\AppData\\Local\\Continuum\\anaconda3\\lib\\site-packages\\ipykernel_launcher.py:21: SettingWithCopyWarning: \n",
      "A value is trying to be set on a copy of a slice from a DataFrame\n",
      "\n",
      "See the caveats in the documentation: http://pandas.pydata.org/pandas-docs/stable/indexing.html#indexing-view-versus-copy\n",
      "C:\\Users\\diego.mayer\\AppData\\Local\\Continuum\\anaconda3\\lib\\site-packages\\ipykernel_launcher.py:22: SettingWithCopyWarning: \n",
      "A value is trying to be set on a copy of a slice from a DataFrame\n",
      "\n",
      "See the caveats in the documentation: http://pandas.pydata.org/pandas-docs/stable/indexing.html#indexing-view-versus-copy\n",
      "C:\\Users\\diego.mayer\\AppData\\Local\\Continuum\\anaconda3\\lib\\site-packages\\ipykernel_launcher.py:23: SettingWithCopyWarning: \n",
      "A value is trying to be set on a copy of a slice from a DataFrame\n",
      "\n",
      "See the caveats in the documentation: http://pandas.pydata.org/pandas-docs/stable/indexing.html#indexing-view-versus-copy\n",
      "C:\\Users\\diego.mayer\\AppData\\Local\\Continuum\\anaconda3\\lib\\site-packages\\ipykernel_launcher.py:24: SettingWithCopyWarning: \n",
      "A value is trying to be set on a copy of a slice from a DataFrame\n",
      "\n",
      "See the caveats in the documentation: http://pandas.pydata.org/pandas-docs/stable/indexing.html#indexing-view-versus-copy\n",
      "C:\\Users\\diego.mayer\\AppData\\Local\\Continuum\\anaconda3\\lib\\site-packages\\ipykernel_launcher.py:25: SettingWithCopyWarning: \n",
      "A value is trying to be set on a copy of a slice from a DataFrame\n",
      "\n",
      "See the caveats in the documentation: http://pandas.pydata.org/pandas-docs/stable/indexing.html#indexing-view-versus-copy\n",
      "C:\\Users\\diego.mayer\\AppData\\Local\\Continuum\\anaconda3\\lib\\site-packages\\ipykernel_launcher.py:26: SettingWithCopyWarning: \n",
      "A value is trying to be set on a copy of a slice from a DataFrame\n",
      "\n",
      "See the caveats in the documentation: http://pandas.pydata.org/pandas-docs/stable/indexing.html#indexing-view-versus-copy\n",
      "C:\\Users\\diego.mayer\\AppData\\Local\\Continuum\\anaconda3\\lib\\site-packages\\ipykernel_launcher.py:27: SettingWithCopyWarning: \n",
      "A value is trying to be set on a copy of a slice from a DataFrame\n",
      "\n",
      "See the caveats in the documentation: http://pandas.pydata.org/pandas-docs/stable/indexing.html#indexing-view-versus-copy\n",
      "C:\\Users\\diego.mayer\\AppData\\Local\\Continuum\\anaconda3\\lib\\site-packages\\ipykernel_launcher.py:28: SettingWithCopyWarning: \n",
      "A value is trying to be set on a copy of a slice from a DataFrame\n",
      "\n",
      "See the caveats in the documentation: http://pandas.pydata.org/pandas-docs/stable/indexing.html#indexing-view-versus-copy\n",
      "C:\\Users\\diego.mayer\\AppData\\Local\\Continuum\\anaconda3\\lib\\site-packages\\ipykernel_launcher.py:29: SettingWithCopyWarning: \n",
      "A value is trying to be set on a copy of a slice from a DataFrame\n",
      "\n",
      "See the caveats in the documentation: http://pandas.pydata.org/pandas-docs/stable/indexing.html#indexing-view-versus-copy\n",
      "C:\\Users\\diego.mayer\\AppData\\Local\\Continuum\\anaconda3\\lib\\site-packages\\ipykernel_launcher.py:30: SettingWithCopyWarning: \n",
      "A value is trying to be set on a copy of a slice from a DataFrame\n",
      "\n",
      "See the caveats in the documentation: http://pandas.pydata.org/pandas-docs/stable/indexing.html#indexing-view-versus-copy\n",
      "C:\\Users\\diego.mayer\\AppData\\Local\\Continuum\\anaconda3\\lib\\site-packages\\ipykernel_launcher.py:31: SettingWithCopyWarning: \n",
      "A value is trying to be set on a copy of a slice from a DataFrame\n",
      "\n",
      "See the caveats in the documentation: http://pandas.pydata.org/pandas-docs/stable/indexing.html#indexing-view-versus-copy\n",
      "C:\\Users\\diego.mayer\\AppData\\Local\\Continuum\\anaconda3\\lib\\site-packages\\ipykernel_launcher.py:32: SettingWithCopyWarning: \n",
      "A value is trying to be set on a copy of a slice from a DataFrame\n",
      "\n",
      "See the caveats in the documentation: http://pandas.pydata.org/pandas-docs/stable/indexing.html#indexing-view-versus-copy\n",
      "C:\\Users\\diego.mayer\\AppData\\Local\\Continuum\\anaconda3\\lib\\site-packages\\ipykernel_launcher.py:33: SettingWithCopyWarning: \n",
      "A value is trying to be set on a copy of a slice from a DataFrame\n",
      "\n",
      "See the caveats in the documentation: http://pandas.pydata.org/pandas-docs/stable/indexing.html#indexing-view-versus-copy\n",
      "C:\\Users\\diego.mayer\\AppData\\Local\\Continuum\\anaconda3\\lib\\site-packages\\ipykernel_launcher.py:34: SettingWithCopyWarning: \n",
      "A value is trying to be set on a copy of a slice from a DataFrame\n",
      "\n",
      "See the caveats in the documentation: http://pandas.pydata.org/pandas-docs/stable/indexing.html#indexing-view-versus-copy\n",
      "C:\\Users\\diego.mayer\\AppData\\Local\\Continuum\\anaconda3\\lib\\site-packages\\ipykernel_launcher.py:35: SettingWithCopyWarning: \n",
      "A value is trying to be set on a copy of a slice from a DataFrame\n",
      "\n",
      "See the caveats in the documentation: http://pandas.pydata.org/pandas-docs/stable/indexing.html#indexing-view-versus-copy\n",
      "C:\\Users\\diego.mayer\\AppData\\Local\\Continuum\\anaconda3\\lib\\site-packages\\ipykernel_launcher.py:36: SettingWithCopyWarning: \n",
      "A value is trying to be set on a copy of a slice from a DataFrame\n",
      "\n",
      "See the caveats in the documentation: http://pandas.pydata.org/pandas-docs/stable/indexing.html#indexing-view-versus-copy\n",
      "C:\\Users\\diego.mayer\\AppData\\Local\\Continuum\\anaconda3\\lib\\site-packages\\ipykernel_launcher.py:37: SettingWithCopyWarning: \n",
      "A value is trying to be set on a copy of a slice from a DataFrame\n",
      "\n",
      "See the caveats in the documentation: http://pandas.pydata.org/pandas-docs/stable/indexing.html#indexing-view-versus-copy\n"
     ]
    }
   ],
   "source": [
    "list_name = []\n",
    "for n in range(len(df_train.Name)):\n",
    "    list_name.append(df_train.Name[n].split()[1])\n",
    "    \n",
    "train['list_name'] = pd.DataFrame(list_name)\n",
    "train['list_name'] = train['list_name'].str.extract(r'(\\w+)')\n",
    "\n",
    "train['list_name'] = train['list_name'].replace(['Col', 'Major', 'Capt'], 'Army')\n",
    "train['list_name'] = train['list_name'].replace(['Countess','Don','Dona','Jonkheer','Lady','Sir'],'Noble')\n",
    "train['list_name'] = train['list_name'].replace(['Mlle', 'Ms'], 'Miss')\n",
    "train['list_name'] = train['list_name'].replace('Mme', 'Mr')\n",
    "\n",
    "train['list_name'][419] = train['list_name'][419].replace('Impe', 'Miss')\n",
    "train['list_name'][595] = train['list_name'][595].replace('Impe', 'Mr')\n",
    "train['list_name'][799] = train['list_name'][799].replace('Impe', 'Mrs')\n",
    "train['list_name'][307] = train['list_name'][307].replace('y', 'Mrs')\n",
    "train['list_name'][505] = train['list_name'][505].replace('y', 'Mr')\n",
    "train['list_name'][547] = train['list_name'][547].replace('y', 'Mr')\n",
    "train['list_name'][866] = train['list_name'][866].replace('y', 'Miss')\n",
    "train['list_name'][18] = train['list_name'][18].replace('Planke', 'Mrs')\n",
    "train['list_name'][38] = train['list_name'][38].replace('Planke', 'Miss')\n",
    "train['list_name'][333] = train['list_name'][333].replace('Planke', 'Mr')\n",
    "train['list_name'][556] = train['list_name'][556].replace('Gordon', 'Noble')\n",
    "train['list_name'][599] = train['list_name'][599].replace('Gordon', 'Noble')\n",
    "train['list_name'][153] = train['list_name'][153].replace('Billiard', 'Mr')\n",
    "train['list_name'][286] = train['list_name'][286].replace('Mulder', 'Mr')\n",
    "train['list_name'][873] = train['list_name'][873].replace('Cruyssen', 'Mr')\n",
    "train['list_name'][559] = train['list_name'][559].replace('Messemaeker', 'Mrs')\n",
    "train['list_name'][752] = train['list_name'][752].replace('Velde', 'Mr')\n",
    "train['list_name'][282] = train['list_name'][282].replace('Pelsmaeker', 'Mr')\n",
    "train['list_name'][759] = train['list_name'][759].replace('the', 'Noble')\n",
    "train['list_name'][170] = train['list_name'][170].replace('der', 'Mr')\n",
    "train['list_name'][361] = train['list_name'][361].replace('Carlo', 'Mr')\n",
    "train['list_name'][200] = train['list_name'][200].replace('Walle', 'Mr')\n",
    "train['list_name'][798] = train['list_name'][798].replace('Shawah', 'Mr')\n",
    "train['list_name'][868] = train['list_name'][868].replace('Melkebeke', 'Mr')\n",
    "train['list_name'][355] = train['list_name'][355].replace('Steen', 'Mr')\n",
    "\n",
    "dum_name_list = pd.get_dummies(train['list_name'], prefix='name')\n",
    "train = pd.concat([train, dum_name_list], axis=1)\n",
    "train.drop('list_name', axis=1, inplace=True)"
   ]
  },
  {
   "cell_type": "markdown",
   "metadata": {},
   "source": [
    "# Spliting Data to Train and Validation"
   ]
  },
  {
   "cell_type": "code",
   "execution_count": 8,
   "metadata": {},
   "outputs": [],
   "source": [
    "X = train.drop('survived', axis=1)\n",
    "y = train['survived']"
   ]
  },
  {
   "cell_type": "code",
   "execution_count": 9,
   "metadata": {},
   "outputs": [],
   "source": [
    "np.random.seed(0)\n",
    "Xtrain, Xvalid, ytrain, yvalid = train_test_split(X, y, test_size=0.5)"
   ]
  },
  {
   "cell_type": "markdown",
   "metadata": {},
   "source": [
    "# Model Prediction"
   ]
  },
  {
   "cell_type": "code",
   "execution_count": 10,
   "metadata": {},
   "outputs": [
    {
     "data": {
      "text/plain": [
       "RandomForestClassifier(bootstrap=True, ccp_alpha=0.0, class_weight=None,\n",
       "                       criterion='gini', max_depth=None, max_features='auto',\n",
       "                       max_leaf_nodes=None, max_samples=None,\n",
       "                       min_impurity_decrease=0.0, min_impurity_split=None,\n",
       "                       min_samples_leaf=1, min_samples_split=2,\n",
       "                       min_weight_fraction_leaf=0.0, n_estimators=1000,\n",
       "                       n_jobs=-1, oob_score=False, random_state=0, verbose=0,\n",
       "                       warm_start=False)"
      ]
     },
     "execution_count": 10,
     "metadata": {},
     "output_type": "execute_result"
    }
   ],
   "source": [
    "mdl = RandomForestClassifier(n_estimators=1000, n_jobs=-1, random_state=0)\n",
    "mdl.fit(Xtrain, ytrain)"
   ]
  },
  {
   "cell_type": "code",
   "execution_count": 11,
   "metadata": {},
   "outputs": [],
   "source": [
    "pred = mdl.predict(Xvalid)\n",
    "proba = mdl.predict_proba(Xvalid)"
   ]
  },
  {
   "cell_type": "markdown",
   "metadata": {},
   "source": [
    "# Metrics"
   ]
  },
  {
   "cell_type": "code",
   "execution_count": 12,
   "metadata": {},
   "outputs": [
    {
     "name": "stdout",
     "output_type": "stream",
     "text": [
      "              precision    recall  f1-score   support\n",
      "\n",
      "           0       0.86      0.84      0.85       283\n",
      "           1       0.74      0.77      0.75       163\n",
      "\n",
      "    accuracy                           0.81       446\n",
      "   macro avg       0.80      0.80      0.80       446\n",
      "weighted avg       0.82      0.81      0.81       446\n",
      "\n",
      "0.8039302824687289\n"
     ]
    }
   ],
   "source": [
    "print(classification_report(yvalid, pred))\n",
    "print(roc_auc_score(yvalid, pred))"
   ]
  },
  {
   "cell_type": "code",
   "execution_count": null,
   "metadata": {},
   "outputs": [],
   "source": []
  }
 ],
 "metadata": {
  "kernelspec": {
   "display_name": "Python 3",
   "language": "python",
   "name": "python3"
  },
  "language_info": {
   "codemirror_mode": {
    "name": "ipython",
    "version": 3
   },
   "file_extension": ".py",
   "mimetype": "text/x-python",
   "name": "python",
   "nbconvert_exporter": "python",
   "pygments_lexer": "ipython3",
   "version": "3.7.3"
  }
 },
 "nbformat": 4,
 "nbformat_minor": 4
}
