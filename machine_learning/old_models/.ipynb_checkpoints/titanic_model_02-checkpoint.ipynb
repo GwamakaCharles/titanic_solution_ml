{
 "cells": [
  {
   "cell_type": "markdown",
   "metadata": {
    "_cell_guid": "b1076dfc-b9ad-4769-8c92-a6c4dae69d19",
    "_uuid": "8f2839f25d086af736a60e9eeb907d3b93b6e0e5"
   },
   "source": [
    "Ok Let's take a look to understand one thing, you take the train and test and generate a model to submit to kaggle\n",
    "the problem is that you can't test the real accuracy, because you don't have a y_true, one way to know \n",
    "if you get the train file and split that and create a validation when you model get the good performance than\n",
    "you get the test file and submit"
   ]
  },
  {
   "cell_type": "code",
   "execution_count": 380,
   "metadata": {
    "collapsed": true,
    "jupyter": {
     "outputs_hidden": true
    }
   },
   "outputs": [
    {
     "name": "stdout",
     "output_type": "stream",
     "text": [
      "Collecting scikit-plot\n",
      "  Downloading https://files.pythonhosted.org/packages/7c/47/32520e259340c140a4ad27c1b97050dd3254fdc517b1d59974d47037510e/scikit_plot-0.3.7-py3-none-any.whl\n",
      "Requirement already satisfied: scipy>=0.9 in c:\\users\\diego.mayer\\appdata\\local\\continuum\\anaconda3\\lib\\site-packages (from scikit-plot) (1.2.1)\n",
      "Requirement already satisfied: matplotlib>=1.4.0 in c:\\users\\diego.mayer\\appdata\\local\\continuum\\anaconda3\\lib\\site-packages (from scikit-plot) (3.1.0)\n",
      "Requirement already satisfied: scikit-learn>=0.18 in c:\\users\\diego.mayer\\appdata\\local\\continuum\\anaconda3\\lib\\site-packages (from scikit-plot) (0.22.2.post1)\n",
      "Requirement already satisfied: joblib>=0.10 in c:\\users\\diego.mayer\\appdata\\local\\continuum\\anaconda3\\lib\\site-packages (from scikit-plot) (0.13.2)\n",
      "Requirement already satisfied: cycler>=0.10 in c:\\users\\diego.mayer\\appdata\\local\\continuum\\anaconda3\\lib\\site-packages (from matplotlib>=1.4.0->scikit-plot) (0.10.0)\n",
      "Requirement already satisfied: kiwisolver>=1.0.1 in c:\\users\\diego.mayer\\appdata\\local\\continuum\\anaconda3\\lib\\site-packages (from matplotlib>=1.4.0->scikit-plot) (1.1.0)\n",
      "Requirement already satisfied: pyparsing!=2.0.4,!=2.1.2,!=2.1.6,>=2.0.1 in c:\\users\\diego.mayer\\appdata\\local\\continuum\\anaconda3\\lib\\site-packages (from matplotlib>=1.4.0->scikit-plot) (2.4.0)\n",
      "Requirement already satisfied: python-dateutil>=2.1 in c:\\users\\diego.mayer\\appdata\\local\\continuum\\anaconda3\\lib\\site-packages (from matplotlib>=1.4.0->scikit-plot) (2.8.0)\n",
      "Requirement already satisfied: numpy>=1.11 in c:\\users\\diego.mayer\\appdata\\local\\continuum\\anaconda3\\lib\\site-packages (from matplotlib>=1.4.0->scikit-plot) (1.16.4)\n",
      "Requirement already satisfied: six in c:\\users\\diego.mayer\\appdata\\local\\continuum\\anaconda3\\lib\\site-packages (from cycler>=0.10->matplotlib>=1.4.0->scikit-plot) (1.12.0)\n",
      "Requirement already satisfied: setuptools in c:\\users\\diego.mayer\\appdata\\local\\continuum\\anaconda3\\lib\\site-packages (from kiwisolver>=1.0.1->matplotlib>=1.4.0->scikit-plot) (41.0.1)\n",
      "Installing collected packages: scikit-plot\n",
      "Successfully installed scikit-plot-0.3.7\n"
     ]
    }
   ],
   "source": [
    "#!pip install imblearn\n",
    "#!pip install scikit-plot\n",
    "# this package don't got with anaconda, than, I installed."
   ]
  },
  {
   "cell_type": "code",
   "execution_count": 2,
   "metadata": {},
   "outputs": [],
   "source": [
    "import pandas as pd\n",
    "import numpy as np\n",
    "import matplotlib.pyplot as plt\n",
    "import seaborn as sns\n",
    "import re\n",
    "\n",
    "from imblearn.under_sampling import RandomUnderSampler\n",
    "\n",
    "from sklearn.ensemble import RandomForestClassifier\n",
    "from sklearn.model_selection import train_test_split\n",
    "from sklearn.linear_model import LogisticRegression\n",
    "from sklearn.tree import DecisionTreeClassifier\n",
    "\n",
    "from sklearn.metrics import mean_squared_log_error, f1_score, precision_score\n",
    "from sklearn.metrics import roc_auc_score, classification_report\n",
    "import scikitplot as skplt\n",
    "\n",
    "from sklearn import feature_selection\n",
    "\n",
    "%matplotlib inline"
   ]
  },
  {
   "cell_type": "code",
   "execution_count": 118,
   "metadata": {
    "_cell_guid": "79c7e3d0-c299-4dcb-8224-4455121ee9b0",
    "_uuid": "d629ff2d2480ee46fbb7e2d37f6b5fab8052498a"
   },
   "outputs": [],
   "source": [
    "df_train = pd.read_csv('data/train.csv')\n",
    "df_test = pd.read_csv('data/test.csv')"
   ]
  },
  {
   "cell_type": "markdown",
   "metadata": {},
   "source": [
    "Distribution of Data"
   ]
  },
  {
   "cell_type": "code",
   "execution_count": null,
   "metadata": {},
   "outputs": [],
   "source": []
  },
  {
   "cell_type": "code",
   "execution_count": 119,
   "metadata": {},
   "outputs": [],
   "source": [
    "#df_train.shape, df_test.shape"
   ]
  },
  {
   "cell_type": "code",
   "execution_count": 120,
   "metadata": {},
   "outputs": [],
   "source": [
    "#df_test.Pclass.plot(kind='hist')\n",
    "#df_test.Age.plot(kind='hist')"
   ]
  },
  {
   "cell_type": "code",
   "execution_count": 121,
   "metadata": {},
   "outputs": [],
   "source": [
    "#df_train.Pclass.plot(kind='hist')\n",
    "#df_train.Age.plot(kind='hist')"
   ]
  },
  {
   "cell_type": "code",
   "execution_count": 122,
   "metadata": {},
   "outputs": [],
   "source": [
    "#pd.plotting.scatter_matrix(df_train[['Pclass', 'Sex', 'Age']], figsize=(20,10))"
   ]
  },
  {
   "cell_type": "markdown",
   "metadata": {},
   "source": [
    "# Data from train"
   ]
  },
  {
   "cell_type": "markdown",
   "metadata": {},
   "source": [
    "########### VALIDATION - 01 ############"
   ]
  },
  {
   "cell_type": "code",
   "execution_count": 366,
   "metadata": {},
   "outputs": [],
   "source": [
    "train = pd.DataFrame()\n",
    "train['fare'] = df_train['Fare']\n",
    "train['pclass'] = df_train['Pclass']\n",
    "train['age'] = df_train['Age'].fillna(df_train['Age'].median(), inplace=True)\n",
    "dum_emb = pd.get_dummies(df_train['Embarked']).fillna('S')\n",
    "train = pd.concat([train, dum_emb], axis=1)\n",
    "# You can get duvided dumm from pclass, creat news columns\n",
    "dum_pclass = pd.get_dummies(train['pclass'], prefix='class')\n",
    "train = pd.concat([train, dum_pclass], axis=1)\n",
    "train.drop('pclass', axis=1, inplace=True)\n",
    "train['sex'] = df_train['Sex'].map({'male':0, 'female':1})"
   ]
  },
  {
   "cell_type": "code",
   "execution_count": 367,
   "metadata": {},
   "outputs": [],
   "source": [
    "fare_25 = train.fare[train.fare < 7.92]\n",
    "fare_50 = train.fare[(train['fare'] >= 7.92) & (train['fare'] < 14.46)]\n",
    "fare_75 = train.fare[(train['fare'] >= 14.46) & (train['fare'] < 31)]\n",
    "fare_100 = train.fare[train.fare > 31]\n",
    "\n",
    "train = pd.concat([train, fare_25], axis=1).fillna(0)\n",
    "train = pd.concat([train, fare_50], axis=1).fillna(0)\n",
    "train = pd.concat([train, fare_75], axis=1).fillna(0)\n",
    "train = pd.concat([train, fare_100], axis=1).fillna(0)\n",
    "\n",
    "train.columns = ['fare', 'age', 'C', 'Q', 'S', 'sex',\n",
    "       'class_1', 'class_2', 'class_3', 'fare_25', 'fare_50', 'fare_75',\n",
    "       'fare_100']"
   ]
  },
  {
   "cell_type": "code",
   "execution_count": 368,
   "metadata": {},
   "outputs": [],
   "source": [
    "'''dum_fare = pd.get_dummies(df_train['Fare'], prefix='fare', )\n",
    "train = pd.concat([train, dum_fare], axis=1)'''\n",
    "train.drop('fare', axis=1, inplace=True)"
   ]
  },
  {
   "cell_type": "code",
   "execution_count": 369,
   "metadata": {},
   "outputs": [],
   "source": [
    "train['family_size'] = df_train['SibSp'] + df_train['Parch']"
   ]
  },
  {
   "cell_type": "code",
   "execution_count": 362,
   "metadata": {},
   "outputs": [],
   "source": [
    "list_name = []\n",
    "for n in range(len(df_train.Name)):\n",
    "    list_name.append(df_train.Name[n].split()[1])\n",
    "    \n",
    "train['list_name'] = pd.DataFrame(list_name)\n",
    "train['list_name'] = train['list_name'].str.extract(r'(\\w+)')"
   ]
  },
  {
   "cell_type": "code",
   "execution_count": 363,
   "metadata": {},
   "outputs": [],
   "source": [
    "train['list_name'] = train['list_name'].replace(['Col', 'Major', 'Capt'], 'Army')\n",
    "train['list_name'] = train['list_name'].replace(['Countess','Don','Dona','Jonkheer','Lady','Sir'],'Noble')\n",
    "train['list_name'] = train['list_name'].replace(['Mlle', 'Ms'], 'Miss')\n",
    "train['list_name'] = train['list_name'].replace('Mme', 'Mr')"
   ]
  },
  {
   "cell_type": "code",
   "execution_count": 364,
   "metadata": {
    "collapsed": true,
    "jupyter": {
     "outputs_hidden": true
    }
   },
   "outputs": [
    {
     "name": "stderr",
     "output_type": "stream",
     "text": [
      "C:\\Users\\diego.mayer\\AppData\\Local\\Continuum\\anaconda3\\lib\\site-packages\\ipykernel_launcher.py:5: SettingWithCopyWarning: \n",
      "A value is trying to be set on a copy of a slice from a DataFrame\n",
      "\n",
      "See the caveats in the documentation: http://pandas.pydata.org/pandas-docs/stable/indexing.html#indexing-view-versus-copy\n",
      "  \"\"\"\n",
      "C:\\Users\\diego.mayer\\AppData\\Local\\Continuum\\anaconda3\\lib\\site-packages\\ipykernel_launcher.py:6: SettingWithCopyWarning: \n",
      "A value is trying to be set on a copy of a slice from a DataFrame\n",
      "\n",
      "See the caveats in the documentation: http://pandas.pydata.org/pandas-docs/stable/indexing.html#indexing-view-versus-copy\n",
      "  \n",
      "C:\\Users\\diego.mayer\\AppData\\Local\\Continuum\\anaconda3\\lib\\site-packages\\ipykernel_launcher.py:7: SettingWithCopyWarning: \n",
      "A value is trying to be set on a copy of a slice from a DataFrame\n",
      "\n",
      "See the caveats in the documentation: http://pandas.pydata.org/pandas-docs/stable/indexing.html#indexing-view-versus-copy\n",
      "  import sys\n",
      "C:\\Users\\diego.mayer\\AppData\\Local\\Continuum\\anaconda3\\lib\\site-packages\\ipykernel_launcher.py:8: SettingWithCopyWarning: \n",
      "A value is trying to be set on a copy of a slice from a DataFrame\n",
      "\n",
      "See the caveats in the documentation: http://pandas.pydata.org/pandas-docs/stable/indexing.html#indexing-view-versus-copy\n",
      "  \n",
      "C:\\Users\\diego.mayer\\AppData\\Local\\Continuum\\anaconda3\\lib\\site-packages\\ipykernel_launcher.py:9: SettingWithCopyWarning: \n",
      "A value is trying to be set on a copy of a slice from a DataFrame\n",
      "\n",
      "See the caveats in the documentation: http://pandas.pydata.org/pandas-docs/stable/indexing.html#indexing-view-versus-copy\n",
      "  if __name__ == '__main__':\n",
      "C:\\Users\\diego.mayer\\AppData\\Local\\Continuum\\anaconda3\\lib\\site-packages\\ipykernel_launcher.py:10: SettingWithCopyWarning: \n",
      "A value is trying to be set on a copy of a slice from a DataFrame\n",
      "\n",
      "See the caveats in the documentation: http://pandas.pydata.org/pandas-docs/stable/indexing.html#indexing-view-versus-copy\n",
      "  # Remove the CWD from sys.path while we load stuff.\n",
      "C:\\Users\\diego.mayer\\AppData\\Local\\Continuum\\anaconda3\\lib\\site-packages\\ipykernel_launcher.py:11: SettingWithCopyWarning: \n",
      "A value is trying to be set on a copy of a slice from a DataFrame\n",
      "\n",
      "See the caveats in the documentation: http://pandas.pydata.org/pandas-docs/stable/indexing.html#indexing-view-versus-copy\n",
      "  # This is added back by InteractiveShellApp.init_path()\n",
      "C:\\Users\\diego.mayer\\AppData\\Local\\Continuum\\anaconda3\\lib\\site-packages\\ipykernel_launcher.py:12: SettingWithCopyWarning: \n",
      "A value is trying to be set on a copy of a slice from a DataFrame\n",
      "\n",
      "See the caveats in the documentation: http://pandas.pydata.org/pandas-docs/stable/indexing.html#indexing-view-versus-copy\n",
      "  if sys.path[0] == '':\n",
      "C:\\Users\\diego.mayer\\AppData\\Local\\Continuum\\anaconda3\\lib\\site-packages\\ipykernel_launcher.py:13: SettingWithCopyWarning: \n",
      "A value is trying to be set on a copy of a slice from a DataFrame\n",
      "\n",
      "See the caveats in the documentation: http://pandas.pydata.org/pandas-docs/stable/indexing.html#indexing-view-versus-copy\n",
      "  del sys.path[0]\n",
      "C:\\Users\\diego.mayer\\AppData\\Local\\Continuum\\anaconda3\\lib\\site-packages\\ipykernel_launcher.py:14: SettingWithCopyWarning: \n",
      "A value is trying to be set on a copy of a slice from a DataFrame\n",
      "\n",
      "See the caveats in the documentation: http://pandas.pydata.org/pandas-docs/stable/indexing.html#indexing-view-versus-copy\n",
      "  \n",
      "C:\\Users\\diego.mayer\\AppData\\Local\\Continuum\\anaconda3\\lib\\site-packages\\ipykernel_launcher.py:15: SettingWithCopyWarning: \n",
      "A value is trying to be set on a copy of a slice from a DataFrame\n",
      "\n",
      "See the caveats in the documentation: http://pandas.pydata.org/pandas-docs/stable/indexing.html#indexing-view-versus-copy\n",
      "  from ipykernel import kernelapp as app\n",
      "C:\\Users\\diego.mayer\\AppData\\Local\\Continuum\\anaconda3\\lib\\site-packages\\ipykernel_launcher.py:16: SettingWithCopyWarning: \n",
      "A value is trying to be set on a copy of a slice from a DataFrame\n",
      "\n",
      "See the caveats in the documentation: http://pandas.pydata.org/pandas-docs/stable/indexing.html#indexing-view-versus-copy\n",
      "  app.launch_new_instance()\n",
      "C:\\Users\\diego.mayer\\AppData\\Local\\Continuum\\anaconda3\\lib\\site-packages\\ipykernel_launcher.py:17: SettingWithCopyWarning: \n",
      "A value is trying to be set on a copy of a slice from a DataFrame\n",
      "\n",
      "See the caveats in the documentation: http://pandas.pydata.org/pandas-docs/stable/indexing.html#indexing-view-versus-copy\n",
      "C:\\Users\\diego.mayer\\AppData\\Local\\Continuum\\anaconda3\\lib\\site-packages\\ipykernel_launcher.py:18: SettingWithCopyWarning: \n",
      "A value is trying to be set on a copy of a slice from a DataFrame\n",
      "\n",
      "See the caveats in the documentation: http://pandas.pydata.org/pandas-docs/stable/indexing.html#indexing-view-versus-copy\n",
      "C:\\Users\\diego.mayer\\AppData\\Local\\Continuum\\anaconda3\\lib\\site-packages\\ipykernel_launcher.py:19: SettingWithCopyWarning: \n",
      "A value is trying to be set on a copy of a slice from a DataFrame\n",
      "\n",
      "See the caveats in the documentation: http://pandas.pydata.org/pandas-docs/stable/indexing.html#indexing-view-versus-copy\n",
      "C:\\Users\\diego.mayer\\AppData\\Local\\Continuum\\anaconda3\\lib\\site-packages\\ipykernel_launcher.py:20: SettingWithCopyWarning: \n",
      "A value is trying to be set on a copy of a slice from a DataFrame\n",
      "\n",
      "See the caveats in the documentation: http://pandas.pydata.org/pandas-docs/stable/indexing.html#indexing-view-versus-copy\n",
      "C:\\Users\\diego.mayer\\AppData\\Local\\Continuum\\anaconda3\\lib\\site-packages\\ipykernel_launcher.py:21: SettingWithCopyWarning: \n",
      "A value is trying to be set on a copy of a slice from a DataFrame\n",
      "\n",
      "See the caveats in the documentation: http://pandas.pydata.org/pandas-docs/stable/indexing.html#indexing-view-versus-copy\n",
      "C:\\Users\\diego.mayer\\AppData\\Local\\Continuum\\anaconda3\\lib\\site-packages\\ipykernel_launcher.py:22: SettingWithCopyWarning: \n",
      "A value is trying to be set on a copy of a slice from a DataFrame\n",
      "\n",
      "See the caveats in the documentation: http://pandas.pydata.org/pandas-docs/stable/indexing.html#indexing-view-versus-copy\n",
      "C:\\Users\\diego.mayer\\AppData\\Local\\Continuum\\anaconda3\\lib\\site-packages\\ipykernel_launcher.py:23: SettingWithCopyWarning: \n",
      "A value is trying to be set on a copy of a slice from a DataFrame\n",
      "\n",
      "See the caveats in the documentation: http://pandas.pydata.org/pandas-docs/stable/indexing.html#indexing-view-versus-copy\n",
      "C:\\Users\\diego.mayer\\AppData\\Local\\Continuum\\anaconda3\\lib\\site-packages\\ipykernel_launcher.py:24: SettingWithCopyWarning: \n",
      "A value is trying to be set on a copy of a slice from a DataFrame\n",
      "\n",
      "See the caveats in the documentation: http://pandas.pydata.org/pandas-docs/stable/indexing.html#indexing-view-versus-copy\n",
      "C:\\Users\\diego.mayer\\AppData\\Local\\Continuum\\anaconda3\\lib\\site-packages\\ipykernel_launcher.py:25: SettingWithCopyWarning: \n",
      "A value is trying to be set on a copy of a slice from a DataFrame\n",
      "\n",
      "See the caveats in the documentation: http://pandas.pydata.org/pandas-docs/stable/indexing.html#indexing-view-versus-copy\n",
      "C:\\Users\\diego.mayer\\AppData\\Local\\Continuum\\anaconda3\\lib\\site-packages\\ipykernel_launcher.py:26: SettingWithCopyWarning: \n",
      "A value is trying to be set on a copy of a slice from a DataFrame\n",
      "\n",
      "See the caveats in the documentation: http://pandas.pydata.org/pandas-docs/stable/indexing.html#indexing-view-versus-copy\n",
      "C:\\Users\\diego.mayer\\AppData\\Local\\Continuum\\anaconda3\\lib\\site-packages\\ipykernel_launcher.py:27: SettingWithCopyWarning: \n",
      "A value is trying to be set on a copy of a slice from a DataFrame\n",
      "\n",
      "See the caveats in the documentation: http://pandas.pydata.org/pandas-docs/stable/indexing.html#indexing-view-versus-copy\n",
      "C:\\Users\\diego.mayer\\AppData\\Local\\Continuum\\anaconda3\\lib\\site-packages\\ipykernel_launcher.py:28: SettingWithCopyWarning: \n",
      "A value is trying to be set on a copy of a slice from a DataFrame\n",
      "\n",
      "See the caveats in the documentation: http://pandas.pydata.org/pandas-docs/stable/indexing.html#indexing-view-versus-copy\n",
      "C:\\Users\\diego.mayer\\AppData\\Local\\Continuum\\anaconda3\\lib\\site-packages\\ipykernel_launcher.py:29: SettingWithCopyWarning: \n",
      "A value is trying to be set on a copy of a slice from a DataFrame\n",
      "\n",
      "See the caveats in the documentation: http://pandas.pydata.org/pandas-docs/stable/indexing.html#indexing-view-versus-copy\n"
     ]
    }
   ],
   "source": [
    "# The problem in this code is that I don't know the future data, than, I will not know the index\n",
    "# I must change the code to automation, how? first, I will try the map(), didn't done.\n",
    "# for while I will not put this in test, just in train.\n",
    "\n",
    "train['list_name'][419] = train['list_name'][419].replace('Impe', 'Miss')\n",
    "train['list_name'][595] = train['list_name'][595].replace('Impe', 'Mr')\n",
    "train['list_name'][799] = train['list_name'][799].replace('Impe', 'Mrs')\n",
    "train['list_name'][307] = train['list_name'][307].replace('y', 'Mrs')\n",
    "train['list_name'][505] = train['list_name'][505].replace('y', 'Mr')\n",
    "train['list_name'][547] = train['list_name'][547].replace('y', 'Mr')\n",
    "train['list_name'][866] = train['list_name'][866].replace('y', 'Miss')\n",
    "train['list_name'][18] = train['list_name'][18].replace('Planke', 'Mrs')\n",
    "train['list_name'][38] = train['list_name'][38].replace('Planke', 'Miss')\n",
    "train['list_name'][333] = train['list_name'][333].replace('Planke', 'Mr')\n",
    "train['list_name'][556] = train['list_name'][556].replace('Gordon', 'Noble')\n",
    "train['list_name'][599] = train['list_name'][599].replace('Gordon', 'Noble')\n",
    "train['list_name'][153] = train['list_name'][153].replace('Billiard', 'Mr')\n",
    "train['list_name'][286] = train['list_name'][286].replace('Mulder', 'Mr')\n",
    "train['list_name'][873] = train['list_name'][873].replace('Cruyssen', 'Mr')\n",
    "train['list_name'][559] = train['list_name'][559].replace('Messemaeker', 'Mrs')\n",
    "train['list_name'][752] = train['list_name'][752].replace('Velde', 'Mr')\n",
    "train['list_name'][282] = train['list_name'][282].replace('Pelsmaeker', 'Mr')\n",
    "train['list_name'][759] = train['list_name'][759].replace('the', 'Noble')\n",
    "train['list_name'][170] = train['list_name'][170].replace('der', 'Mr')\n",
    "train['list_name'][361] = train['list_name'][361].replace('Carlo', 'Mr')\n",
    "train['list_name'][200] = train['list_name'][200].replace('Walle', 'Mr')\n",
    "train['list_name'][798] = train['list_name'][798].replace('Shawah', 'Mr')\n",
    "train['list_name'][868] = train['list_name'][868].replace('Melkebeke', 'Mr')\n",
    "train['list_name'][355] = train['list_name'][355].replace('Steen', 'Mr')"
   ]
  },
  {
   "cell_type": "code",
   "execution_count": 365,
   "metadata": {},
   "outputs": [
    {
     "data": {
      "text/plain": [
       "(891, 21)"
      ]
     },
     "execution_count": 365,
     "metadata": {},
     "output_type": "execute_result"
    }
   ],
   "source": [
    "dum_name_list = pd.get_dummies(train['list_name'], prefix='name')\n",
    "train = pd.concat([train, dum_name_list], axis=1)\n",
    "train.drop('list_name', axis=1, inplace=True)\n",
    "train.shape"
   ]
  },
  {
   "cell_type": "code",
   "execution_count": 372,
   "metadata": {},
   "outputs": [],
   "source": [
    "age_1 = train.age[train['age'] < 15]\n",
    "age_2 = train.age[(train['age'] > 14) & (train['age'] < 48)]\n",
    "age_3 = train.age[train['age'] > 47]\n",
    "age_1.name, age_2.name, age_3.name = 'age_1', 'age_2', 'age_3'\n",
    "\n",
    "train = pd.concat([train, age_1], axis=1).fillna(0)\n",
    "train = pd.concat([train, age_2], axis=1).fillna(0)\n",
    "train = pd.concat([train, age_3], axis=1).fillna(0)"
   ]
  },
  {
   "cell_type": "code",
   "execution_count": 282,
   "metadata": {},
   "outputs": [],
   "source": [
    "# to visualize how can be the data with a numeric\n",
    "# plt.figure(figsize=(17,7))\n",
    "# sns.heatmap(train.corr(), annot=True)"
   ]
  },
  {
   "cell_type": "markdown",
   "metadata": {},
   "source": [
    "# Data from Test for using to test and submit"
   ]
  },
  {
   "cell_type": "code",
   "execution_count": 370,
   "metadata": {},
   "outputs": [],
   "source": [
    "test = pd.DataFrame()\n",
    "test['fare'] = df_test['Fare']\n",
    "test['pclass'] = df_test['Pclass']\n",
    "test['age'] = df_train['Age'].fillna(df_test['Age'].median(), inplace=True)\n",
    "dum_emb = pd.get_dummies(df_test['Embarked']).fillna('S')\n",
    "test = pd.concat([test, dum_emb], axis=1)\n",
    "# You can get duvided dumm from pclass, creat news columns\n",
    "dum_pclass = pd.get_dummies(test['pclass'], prefix='class')\n",
    "test = pd.concat([test, dum_pclass], axis=1)\n",
    "test.drop('pclass', axis=1, inplace=True)\n",
    "test['sex'] = df_test['Sex'].map({'male':0, 'female':1})\n",
    "# ---------------------------------------------------------------------------------\n",
    "fare_25 = test.fare[test.fare < 7.92]\n",
    "fare_50 = test.fare[(test['fare'] >= 7.92) & (test['fare'] < 14.46)]\n",
    "fare_75 = test.fare[(test['fare'] >= 14.46) & (test['fare'] < 31)]\n",
    "fare_100 = test.fare[test.fare > 31]\n",
    "\n",
    "test = pd.concat([test, fare_25], axis=1).fillna(0)\n",
    "test = pd.concat([test, fare_50], axis=1).fillna(0)\n",
    "test = pd.concat([test, fare_75], axis=1).fillna(0)\n",
    "test = pd.concat([test, fare_100], axis=1).fillna(0)\n",
    "\n",
    "test.columns = ['fare', 'age', 'C', 'Q', 'S', 'sex',\n",
    "       'class_1', 'class_2', 'class_3', 'fare_25', 'fare_50', 'fare_75',\n",
    "       'fare_100']\n",
    "# ---------------------------------------------------------------------------------\n",
    "'''dum_fare = pd.get_dummies(df_test['Fare'], prefix='fare', )\n",
    "test = pd.concat([test, dum_fare], axis=1)'''\n",
    "test.drop('fare', axis=1, inplace=True)\n",
    "# ---------------------------------------------------------------------------------\n",
    "test['family_size'] = df_test['SibSp'] + df_test['Parch']\n",
    "# ---------------------------------------------------------------------------------\n",
    "'''list_name = []\n",
    "for n in range(len(df_test.Name)):\n",
    "    list_name.append(df_test.Name[n].split()[1])\n",
    "    \n",
    "test['list_name'] = pd.DataFrame(list_name)\n",
    "test['list_name'] = test['list_name'].str.extract(r'(\\w+)')\n",
    "# ---------------------------------------------------------------------------------\n",
    "test['list_name'] = test['list_name'].replace(['Col', 'Major', 'Capt'], 'Army')\n",
    "test['list_name'] = test['list_name'].replace(['Countess','Don','Dona','Jonkheer','Lady','Sir'],'Noble')\n",
    "test['list_name'] = test['list_name'].replace(['Mlle', 'Ms'], 'Miss')\n",
    "test['list_name'] = test['list_name'].replace('Mme', 'Mr')\n",
    "# ---------------------------------------------------------------------------------\n",
    "dum_name_list = pd.get_dummies(test['list_name'], prefix='name')\n",
    "test = pd.concat([test, dum_name_list], axis=1)\n",
    "test.drop('list_name', axis=1, inplace=True)'''\n",
    "# ---------------------------------------------------------------------------------\n",
    "age_1 = test.age[test['age'] < 15]\n",
    "age_2 = test.age[(test['age'] > 14) & (test['age'] < 48)]\n",
    "age_3 = test.age[test['age'] > 47]\n",
    "age_1.name, age_2.name, age_3.name = 'age_1', 'age_2', 'age_3'\n",
    "\n",
    "test = pd.concat([test, age_1], axis=1).fillna(0)\n",
    "test = pd.concat([test, age_2], axis=1).fillna(0)\n",
    "test = pd.concat([test, age_3], axis=1).fillna(0)"
   ]
  },
  {
   "cell_type": "code",
   "execution_count": 373,
   "metadata": {},
   "outputs": [
    {
     "data": {
      "text/plain": [
       "(Index(['age', 'C', 'Q', 'S', 'sex', 'class_1', 'class_2', 'class_3', 'fare_25',\n",
       "        'fare_50', 'fare_75', 'fare_100', 'family_size', 'age_1', 'age_2',\n",
       "        'age_3'],\n",
       "       dtype='object'),\n",
       " Index(['age', 'C', 'Q', 'S', 'sex', 'class_1', 'class_2', 'class_3', 'fare_25',\n",
       "        'fare_50', 'fare_75', 'fare_100', 'family_size', 'age_1', 'age_2',\n",
       "        'age_3'],\n",
       "       dtype='object'))"
      ]
     },
     "execution_count": 373,
     "metadata": {},
     "output_type": "execute_result"
    }
   ],
   "source": [
    "train.columns, test.columns"
   ]
  },
  {
   "cell_type": "markdown",
   "metadata": {},
   "source": [
    "# Spliting Data to Train and Validation"
   ]
  },
  {
   "cell_type": "code",
   "execution_count": 374,
   "metadata": {},
   "outputs": [],
   "source": [
    "X = train\n",
    "y = df_train['Survived']"
   ]
  },
  {
   "cell_type": "code",
   "execution_count": 375,
   "metadata": {},
   "outputs": [],
   "source": [
    "np.random.seed(0)\n",
    "Xtrain, Xvalid, ytrain, yvalid = train_test_split(X, y, test_size=0.5)"
   ]
  },
  {
   "cell_type": "markdown",
   "metadata": {},
   "source": [
    "# Balancing class"
   ]
  },
  {
   "cell_type": "code",
   "execution_count": 318,
   "metadata": {},
   "outputs": [],
   "source": [
    "#rus = RandomUnderSampler()"
   ]
  },
  {
   "cell_type": "code",
   "execution_count": 319,
   "metadata": {},
   "outputs": [],
   "source": [
    "#Xres, yres = rus.fit_sample(Xtrain, ytrain)"
   ]
  },
  {
   "cell_type": "code",
   "execution_count": 320,
   "metadata": {},
   "outputs": [],
   "source": [
    "#sns.countplot(yres)\n",
    "\n",
    "#Balancing clas better the distribution, but, worsened the score"
   ]
  },
  {
   "cell_type": "markdown",
   "metadata": {},
   "source": [
    "# Model Prediction"
   ]
  },
  {
   "cell_type": "code",
   "execution_count": 376,
   "metadata": {},
   "outputs": [
    {
     "data": {
      "text/plain": [
       "RandomForestClassifier(bootstrap=True, ccp_alpha=0.0, class_weight=None,\n",
       "                       criterion='gini', max_depth=None, max_features='auto',\n",
       "                       max_leaf_nodes=None, max_samples=None,\n",
       "                       min_impurity_decrease=0.0, min_impurity_split=None,\n",
       "                       min_samples_leaf=1, min_samples_split=2,\n",
       "                       min_weight_fraction_leaf=0.0, n_estimators=1000,\n",
       "                       n_jobs=-1, oob_score=False, random_state=0, verbose=0,\n",
       "                       warm_start=False)"
      ]
     },
     "execution_count": 376,
     "metadata": {},
     "output_type": "execute_result"
    }
   ],
   "source": [
    "mdl = RandomForestClassifier(n_estimators=1000, n_jobs=-1, random_state=0) # better model\n",
    "mdl.fit(Xtrain, ytrain)"
   ]
  },
  {
   "cell_type": "code",
   "execution_count": 292,
   "metadata": {},
   "outputs": [],
   "source": [
    "#mdl = LogisticRegression(solver='liblinear')  # third colocation\n",
    "#mdl.fit(Xtrain, ytrain)"
   ]
  },
  {
   "cell_type": "code",
   "execution_count": 293,
   "metadata": {},
   "outputs": [],
   "source": [
    "#mdl = DecisionTreeClassifier(max_depth=3)     # second colocation\n",
    "#mdl.fit(Xtrain, ytrain)"
   ]
  },
  {
   "cell_type": "code",
   "execution_count": 377,
   "metadata": {},
   "outputs": [],
   "source": [
    "pred = mdl.predict(test)\n",
    "proba = mdl.predict_proba(test)"
   ]
  },
  {
   "cell_type": "markdown",
   "metadata": {},
   "source": [
    "# Metrics"
   ]
  },
  {
   "cell_type": "code",
   "execution_count": 343,
   "metadata": {},
   "outputs": [],
   "source": [
    "# this metrics are used to classification                      # - 01  -  02   -   03  -  04   -  05   -  06   -  07   -   08    -  09"
   ]
  },
  {
   "cell_type": "code",
   "execution_count": 344,
   "metadata": {},
   "outputs": [],
   "source": [
    "mean = np.mean(pred == yvalid)*100                             # 80.94 - 81.17 - 80.94 - 79.60 - 80.94 - 78.92 - 81.16 - 81.3901 - 82.5112"
   ]
  },
  {
   "cell_type": "code",
   "execution_count": 345,
   "metadata": {},
   "outputs": [],
   "source": [
    "msle = 100-(np.sqrt(mean_squared_log_error(yvalid, pred))*100) # 69.74 - 69.92 - 68.69 - 68.69 - 69.74 - 68.18 - 69.92 - 70.0982 - 71.0128"
   ]
  },
  {
   "cell_type": "code",
   "execution_count": 346,
   "metadata": {},
   "outputs": [],
   "source": [
    "f1 = f1_score(yvalid, pred)                                    # 0.733 - 0.737 - 0.720 - 0.720 - 0.727 - 0.713 - 0.745 - 0.750   - 0.7664"
   ]
  },
  {
   "cell_type": "code",
   "execution_count": 347,
   "metadata": {},
   "outputs": [],
   "source": [
    "prec = precision_score(yvalid, pred)                           # 0.750 - 0.752 - 0.722 - 0.722 - 0.763 - 0.710 - 0.736 - 0.735   - 0.7485"
   ]
  },
  {
   "cell_type": "code",
   "execution_count": 348,
   "metadata": {},
   "outputs": [],
   "source": [
    "roc = roc_auc_score(yvalid, pred)                              # 0.789 - 0.793 - 0.780 - 0.780 - 0.785 - 0.774 - 0.800 - 0.803   - 0.8166"
   ]
  },
  {
   "cell_type": "code",
   "execution_count": 349,
   "metadata": {},
   "outputs": [
    {
     "data": {
      "text/plain": [
       "(81.61434977578476,\n",
       " 70.27889459816464,\n",
       " 0.7453416149068323,\n",
       " 0.7547169811320755,\n",
       " 0.7991935658696265)"
      ]
     },
     "execution_count": 349,
     "metadata": {},
     "output_type": "execute_result"
    }
   ],
   "source": [
    "(mean, msle, f1, prec, roc) # 9 -> best = 82.5112 - 0.8166 | score = 0.9370"
   ]
  },
  {
   "cell_type": "code",
   "execution_count": 350,
   "metadata": {},
   "outputs": [
    {
     "name": "stdout",
     "output_type": "stream",
     "text": [
      "              precision    recall  f1-score   support\n",
      "\n",
      "           0       0.85      0.86      0.86       283\n",
      "           1       0.75      0.74      0.75       163\n",
      "\n",
      "    accuracy                           0.82       446\n",
      "   macro avg       0.80      0.80      0.80       446\n",
      "weighted avg       0.82      0.82      0.82       446\n",
      "\n",
      "0.7991935658696265\n"
     ]
    }
   ],
   "source": [
    "print(classification_report(yvalid, pred))\n",
    "print(roc_auc_score(yvalid, pred))"
   ]
  },
  {
   "cell_type": "code",
   "execution_count": 378,
   "metadata": {},
   "outputs": [
    {
     "data": {
      "text/plain": [
       "0.9303370786516854"
      ]
     },
     "execution_count": 378,
     "metadata": {},
     "output_type": "execute_result"
    }
   ],
   "source": [
    "mdl.score(Xtrain, ytrain)"
   ]
  },
  {
   "cell_type": "markdown",
   "metadata": {},
   "source": [
    "# Submission"
   ]
  },
  {
   "cell_type": "code",
   "execution_count": 382,
   "metadata": {},
   "outputs": [],
   "source": [
    "#sub = pd.Series(pred, index=df_test['PassengerId'], name='Survived')\n",
    "\n",
    "sub = pd.DataFrame({\n",
    "    'PassengerId':df_test['PassengerId'],\n",
    "    'Survived':pred\n",
    "})\n",
    "sub.to_csv('sub_2020_03_22.csv', index=False)"
   ]
  },
  {
   "cell_type": "code",
   "execution_count": null,
   "metadata": {},
   "outputs": [],
   "source": []
  }
 ],
 "metadata": {
  "kernelspec": {
   "display_name": "Python 3",
   "language": "python",
   "name": "python3"
  },
  "language_info": {
   "codemirror_mode": {
    "name": "ipython",
    "version": 3
   },
   "file_extension": ".py",
   "mimetype": "text/x-python",
   "name": "python",
   "nbconvert_exporter": "python",
   "pygments_lexer": "ipython3",
   "version": "3.7.3"
  }
 },
 "nbformat": 4,
 "nbformat_minor": 4
}
