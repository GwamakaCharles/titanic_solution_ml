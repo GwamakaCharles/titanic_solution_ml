{
 "cells": [
  {
   "cell_type": "markdown",
   "metadata": {},
   "source": [
    "# Titanic Prediction"
   ]
  },
  {
   "cell_type": "raw",
   "metadata": {},
   "source": [
    "Objctive:\n",
    "    Predict the most possible who was survived in Titanic Tragedy\n",
    "    Predict the news people like you or me were survived or died if we were there\n",
    "    \n",
    "How:\n",
    "    Using features engineering and creating a Machine Learnings solutions for predicting\n",
    "    Create a interface to input the new data like you or me\n",
    "\n",
    "Action Planning:\n",
    "    0 - [X] Building a structore of project, folder, files and datas and classes for documentation, scope and tasks.\n",
    "    1 - [X] Collect data and understanding data from dictionary, history and movies\n",
    "    2 - [ ] Getting the baseline, you must going to across the baseline\n",
    "    3 - [ ] Validation of numerics features and see the results \n",
    "    4 - [ ] Exploratory data, seeing the charts of datas, and correlations\n",
    "    5 - [ ] Pre-Processing data, feature engineering for transform, dived, concat and sum data\n",
    "    6 - [ ] Validation the train data with simple solutions models like a RandomForestClassifier\n",
    "    7 - [ ] Emprove score with another models, if it's necessary you can return to step 3, 2 or 1, when you can't better more, pass to next\n",
    "    8 - [ ] Emprove the score ultil get 0.81 with boosting, tunning, scaler data, balancing class, and optimazetions soluctions\n",
    "    9 - [ ] Create test features like a train code pre-processing\n",
    "    10- [ ] Submmit the solution to the kaggle plataform\n",
    "    11- [ ] Create a simple interface page to input the news supposed people and get the predictions if survived or died\n",
    "    12- [ ] Create a deploy on Heroku\n",
    "    13- [ ] Share the solution --> Linkedin, reddit, kaggle, git and Hackernews"
   ]
  },
  {
   "cell_type": "code",
   "execution_count": 266,
   "metadata": {},
   "outputs": [],
   "source": [
    "import pandas as pd\n",
    "import numpy as np"
   ]
  },
  {
   "cell_type": "code",
   "execution_count": 267,
   "metadata": {},
   "outputs": [],
   "source": [
    "df_train = pd.read_csv('data/train.csv')\n",
    "df_test = pd.read_csv('data/test.csv')"
   ]
  },
  {
   "cell_type": "markdown",
   "metadata": {},
   "source": [
    "# Baseline"
   ]
  },
  {
   "cell_type": "raw",
   "metadata": {},
   "source": [
    "First of all you need get the baseline like a target number that you must be across the baseline\n",
    "In this case from titanic dataset from kaggle there is a baseline, the baseline from kaggle is supposet to all female is survived\n",
    "Let's do the same with out train dataset and check if is the same score "
   ]
  },
  {
   "cell_type": "code",
   "execution_count": 268,
   "metadata": {},
   "outputs": [],
   "source": [
    "train_base = df_train[df_train['Sex'] == 'female']"
   ]
  },
  {
   "cell_type": "code",
   "execution_count": 269,
   "metadata": {},
   "outputs": [
    {
     "data": {
      "text/plain": [
       "0.7420382165605095"
      ]
     },
     "execution_count": 269,
     "metadata": {},
     "output_type": "execute_result"
    }
   ],
   "source": [
    "baseline = np.mean(train_base.Survived == 1)\n",
    "baseline"
   ]
  },
  {
   "cell_type": "raw",
   "metadata": {},
   "source": [
    "The Baseline Score is 0.7420 with Accuracy, but in the kaggle with gender_submission got 0.7655, it's closer, but, \n",
    "there is a % diference it's not exactly, but, the same way, you must across the 0.7420 with accuracy\n",
    "Let's take a look that diferent armazeneted in fraction, than use this percentual to be compare that accuracy\n",
    "you can create a function to get the accuracy"
   ]
  },
  {
   "cell_type": "code",
   "execution_count": 270,
   "metadata": {},
   "outputs": [],
   "source": [
    "def kaggle(accuracy):\n",
    "    diference = 0.7655/0.7420\n",
    "    return f'Kaggle: {accuracy * diference}'"
   ]
  },
  {
   "cell_type": "code",
   "execution_count": 271,
   "metadata": {},
   "outputs": [
    {
     "data": {
      "text/plain": [
       "'Kaggle: 0.7654999999999998'"
      ]
     },
     "execution_count": 271,
     "metadata": {},
     "output_type": "execute_result"
    }
   ],
   "source": [
    "kaggle(0.7420)"
   ]
  },
  {
   "cell_type": "markdown",
   "metadata": {},
   "source": [
    "# Validation with Numerics features"
   ]
  },
  {
   "cell_type": "raw",
   "metadata": {},
   "source": [
    "Let's get only numeric features, one way of this is filter all of features are diferent of 'objetc', than\n",
    "automatcly will be a numeric features, take a look in info() all the features are int or float"
   ]
  },
  {
   "cell_type": "code",
   "execution_count": 272,
   "metadata": {},
   "outputs": [],
   "source": [
    "variables = df_train.columns[(df_train.dtypes != 'object')].drop(['Survived', 'PassengerId'])"
   ]
  },
  {
   "cell_type": "code",
   "execution_count": 273,
   "metadata": {},
   "outputs": [
    {
     "name": "stdout",
     "output_type": "stream",
     "text": [
      "<class 'pandas.core.frame.DataFrame'>\n",
      "RangeIndex: 891 entries, 0 to 890\n",
      "Data columns (total 5 columns):\n",
      "Pclass    891 non-null int64\n",
      "Age       714 non-null float64\n",
      "SibSp     891 non-null int64\n",
      "Parch     891 non-null int64\n",
      "Fare      891 non-null float64\n",
      "dtypes: float64(2), int64(3)\n",
      "memory usage: 34.9 KB\n"
     ]
    }
   ],
   "source": [
    "df_train[variables].info() \n",
    "# all are numeric, than let's try the model, but survived and passengerId couldn't have, \n",
    "# it's necessary drop, than after I had printed the info I changed the variables above cell, look up"
   ]
  },
  {
   "cell_type": "code",
   "execution_count": 274,
   "metadata": {},
   "outputs": [],
   "source": [
    "from sklearn.ensemble import RandomForestClassifier\n",
    "from sklearn.model_selection import train_test_split"
   ]
  },
  {
   "cell_type": "raw",
   "metadata": {},
   "source": [
    "Let's make a model with RandomForest one of the best of ranking, let's get variables and filter Data frame.\n",
    "Remember that target is Survived, because you want to know when survived or died, this is your target, and target is 'y'\n",
    "and features coudn't has the target, because you suppose to that not know who survived or died.\n",
    "couldn't has NaN or Null than you change from NaN to -1, in this time, just to see the accuracy in this way"
   ]
  },
  {
   "cell_type": "code",
   "execution_count": 275,
   "metadata": {},
   "outputs": [
    {
     "name": "stdout",
     "output_type": "stream",
     "text": [
      "Baseline is: 0.7420382165605095\n",
      "Accuracy is: 0.6973094170403588\n",
      "Kaggle: 0.7193940144803161\n"
     ]
    }
   ],
   "source": [
    "X = df_train[variables].fillna(-1).copy() # change the NaN or Null to -1\n",
    "y = df_train['Survived']\n",
    "\n",
    "Xtrain, Xvalid, ytrain, yvalid = train_test_split(X, y, test_size=0.5, random_state=0)\n",
    "\n",
    "mdl = RandomForestClassifier(random_state=0, n_estimators=100)\n",
    "mdl.fit(Xtrain, ytrain)\n",
    "\n",
    "prediction = mdl.predict(Xvalid)\n",
    "acc_rf = np.mean(yvalid == prediction)\n",
    "\n",
    "# Comparation accuracy\n",
    "print(f'Baseline is: {baseline}')\n",
    "print(f'Accuracy is: {acc_rf}')\n",
    "print(kaggle(acc_rf))"
   ]
  },
  {
   "cell_type": "raw",
   "metadata": {},
   "source": [
    "Weel as you see, it was terrible, just the numeric features it's not possible, you must doing the\n",
    "feature engineer, create another features and try until across up the baseline"
   ]
  },
  {
   "cell_type": "markdown",
   "metadata": {},
   "source": [
    "# Test Features"
   ]
  },
  {
   "cell_type": "raw",
   "metadata": {},
   "source": [
    "This part is simple replicate what you did in train doing here, just it"
   ]
  },
  {
   "cell_type": "code",
   "execution_count": 283,
   "metadata": {},
   "outputs": [],
   "source": [
    "surname = ['Mr.', 'Mrs', 'Miss', 'Master', 'Rev.', 'Dr', 'Col.', 'Sir.', 'Major', 'Don.', 'Capt']\n",
    "for rep in surname:\n",
    "    for name in test['Name'][test.Name.str.contains(rep, regex=False)]:\n",
    "        if rep in ['Col.', 'Major', 'Capt']:\n",
    "            test.replace(name, 'Army', inplace=True)\n",
    "        elif rep in ['Sir.', 'Don.']:\n",
    "            test.replace(name, 'Mr.', inplace=True)\n",
    "        else:\n",
    "            test.replace(name, rep, inplace=True)\n",
    "\n",
    "for title in test.Name:\n",
    "    if title not in ['Mr.', 'Miss', 'Mrs', 'Master', 'Dr', 'Rev', 'Army']:\n",
    "        test.replace(title, 'Miss', inplace=True)\n",
    "\n",
    "test = pd.concat([test, pd.get_dummies(test['Name'], prefix='Name')], axis=1)\n"
   ]
  },
  {
   "cell_type": "code",
   "execution_count": null,
   "metadata": {},
   "outputs": [],
   "source": []
  },
  {
   "cell_type": "raw",
   "metadata": {},
   "source": [
    "For easier way to model and no lost yourself, you can create the variable with name of features\n",
    "create a function the run the same config ever, this way you can compare correctly accuracy only change the features\n",
    "see below\n",
    "This features columns name you must use in train and test"
   ]
  },
  {
   "cell_type": "code",
   "execution_count": 284,
   "metadata": {},
   "outputs": [],
   "source": [
    "features = ['Pclass', 'Age', 'SibSp',\n",
    "            'Parch', 'Fare', 'Name_Army', 'Name_Dr',\n",
    "            'Name_Master', 'Name_Miss', 'Name_Mr.', 'Name_Mrs', 'PassengerId', 'Survived']"
   ]
  },
  {
   "cell_type": "code",
   "execution_count": 285,
   "metadata": {},
   "outputs": [],
   "source": [
    "def model_random_forest(train, features):\n",
    "    train, features = train, features\n",
    "    X = train[features].fillna(-1).copy() # change the NaN or Null to -1\n",
    "    y = train['Survived']\n",
    "\n",
    "    Xtrain, Xvalid, ytrain, yvalid = train_test_split(X, y, test_size=0.5, random_state=0)\n",
    "\n",
    "    mdl = RandomForestClassifier(random_state=0, n_estimators=100)\n",
    "    mdl.fit(Xtrain.drop(['Survived', 'PassengerId'], axis=1), ytrain)\n",
    "\n",
    "    prediction = mdl.predict(Xvalid.drop(['Survived', 'PassengerId'], axis=1))\n",
    "    acc_rf = np.mean(yvalid == prediction)\n",
    "\n",
    "    # Comparation accuracy\n",
    "    print(f'Baseline is: {baseline}')\n",
    "    print(f'Accuracy is: {acc_rf}')\n",
    "    print(kaggle(acc_rf))"
   ]
  },
  {
   "cell_type": "code",
   "execution_count": 286,
   "metadata": {},
   "outputs": [
    {
     "name": "stdout",
     "output_type": "stream",
     "text": [
      "Baseline is: 0.7420382165605095\n",
      "Accuracy is: 0.7825112107623319\n",
      "Kaggle: 0.8072942477608692\n"
     ]
    }
   ],
   "source": [
    "prediction = model_random_forest(train, features)"
   ]
  },
  {
   "cell_type": "raw",
   "metadata": {},
   "source": [
    "As you see our accuracy was better than baseline, and accordly the percentual a diference with kaggle and accuracy\n",
    "you can get 0.80, it's good, but, there a problem, remember that dataset test is diferent of train, and this way\n",
    "the model trained diferent, it's possible that you couldn't get the 0.80, lets export to csv and submmit to kaggle \n",
    "and see the real accuracy there."
   ]
  },
  {
   "cell_type": "code",
   "execution_count": 287,
   "metadata": {},
   "outputs": [],
   "source": [
    "def submmission_random_forest(train, features, test, name_file):\n",
    "    train, features = train, features\n",
    "    X = train[features]\n",
    "    y = train['Survived']\n",
    "\n",
    "    Xtrain, Xvalid, ytrain, yvalid = train_test_split(X, y, test_size=0.5, random_state=0)\n",
    "\n",
    "    mdl = RandomForestClassifier(random_state=0, n_estimators=100)\n",
    "    mdl.fit(Xtrain.drop(['Survived', 'PassengerId'], axis=1), ytrain)\n",
    "\n",
    "    prediction = mdl.predict(test.drop(['PassengerId'], axis=1))\n",
    "\n",
    "    sub = pd.DataFrame({\n",
    "        'PassengerId':test['PassengerId'],\n",
    "        'Survived':sub})\n",
    "    \n",
    "    return sub.to_csv(name_file, index=False)"
   ]
  },
  {
   "cell_type": "code",
   "execution_count": 288,
   "metadata": {},
   "outputs": [],
   "source": [
    "# submmission_random_forest(train, features, test, 'sub_310320_name_I.csv')"
   ]
  },
  {
   "cell_type": "raw",
   "metadata": {},
   "source": [
    "The submission: sub_310320_name.csv\n",
    "    test size with 0.5\n",
    "    you get accuracy:\n",
    "        Baseline is: 0.7420382165605095\n",
    "        Accuracy is: 0.7825112107623319\n",
    "        Kaggle: 0.8072942477608692\n",
    "        real Kaggle: \n",
    "        \n",
    "    of 0.78 and prediction kaggle is 0.8020, but in kaggle get the accuracy was 0.74641\n",
    "    lets try with test size with 0.3\n",
    "The submission: sub_310320_name_030.csv\n",
    "    test size 0.3\n",
    "        it was terrible, the accuracy got worst pontuation\n",
    "        accuracy here = \n",
    "            Baseline is: 0.7420382165605095\n",
    "            Accuracy is: 0.8134328358208955\n",
    "            Kaggle: 0.8391951965241179\n",
    "            Real kaggle: 0.71770, \n",
    "        Why???\n",
    "        First let's return the test_size=0.5, than let's change to data exploratory and pre-processing"
   ]
  },
  {
   "cell_type": "markdown",
   "metadata": {},
   "source": [
    "###   RETURN TO DATA EXPLORATORY AND PRE-PROCESSING    ######"
   ]
  },
  {
   "cell_type": "raw",
   "metadata": {},
   "source": [
    "Weel you can analyse the worst predict, otherwise you can do feature engineering but only with bad predict, \n",
    "let's do this, below you can see the function getting worst, otherwords,  predict != real"
   ]
  },
  {
   "cell_type": "code",
   "execution_count": 289,
   "metadata": {},
   "outputs": [],
   "source": [
    "def get_worst(train, features):\n",
    "    train, features = train, features\n",
    "    X = train[features].fillna(-1).copy() # change the NaN or Null to -1\n",
    "    y = train['Survived']\n",
    "\n",
    "    Xtrain, Xvalid, ytrain, yvalid = train_test_split(X, y, test_size=0.5, random_state=0)\n",
    "\n",
    "    mdl = RandomForestClassifier(random_state=0, n_estimators=100)\n",
    "    mdl.fit(Xtrain.drop(['Survived', 'PassengerId'], axis=1), ytrain)\n",
    "\n",
    "    prediction = mdl.predict(Xvalid.drop(['Survived', 'PassengerId'], axis=1))\n",
    "    \n",
    "    worst = Xvalid.copy()\n",
    "    worst['prediction'] = prediction\n",
    "    worst = worst[worst.Survived != worst.prediction].copy()\n",
    "    \n",
    "    return worst"
   ]
  },
  {
   "cell_type": "code",
   "execution_count": 290,
   "metadata": {},
   "outputs": [],
   "source": [
    "worst = get_worst(train, features)"
   ]
  },
  {
   "cell_type": "code",
   "execution_count": 291,
   "metadata": {},
   "outputs": [
    {
     "data": {
      "text/plain": [
       "-1.0     16\n",
       " 18.0     5\n",
       " 29.0     5\n",
       " 32.0     5\n",
       " 45.0     4\n",
       "Name: Age, dtype: int64"
      ]
     },
     "execution_count": 291,
     "metadata": {},
     "output_type": "execute_result"
    }
   ],
   "source": [
    "worst.Age.value_counts().head()"
   ]
  },
  {
   "cell_type": "raw",
   "metadata": {},
   "source": [
    "Let's see the percentual of this fact"
   ]
  },
  {
   "cell_type": "code",
   "execution_count": 292,
   "metadata": {},
   "outputs": [
    {
     "data": {
      "text/plain": [
       "16.49484536082474"
      ]
     },
     "execution_count": 292,
     "metadata": {},
     "output_type": "execute_result"
    }
   ],
   "source": [
    "(worst[worst['Age'] == -1].shape[0] / worst.shape[0])*100"
   ]
  },
  {
   "cell_type": "raw",
   "metadata": {},
   "source": [
    "16% !!! it's very difference, off couse in data worst, not in total, but, you can get better accuracy with this\n",
    "let's see the distribution data"
   ]
  },
  {
   "cell_type": "code",
   "execution_count": 293,
   "metadata": {},
   "outputs": [],
   "source": [
    "import seaborn as sns\n",
    "%matplotlib inline"
   ]
  },
  {
   "cell_type": "code",
   "execution_count": 294,
   "metadata": {},
   "outputs": [
    {
     "data": {
      "text/plain": [
       "<matplotlib.axes._subplots.AxesSubplot at 0x1fd9d1c0e48>"
      ]
     },
     "execution_count": 294,
     "metadata": {},
     "output_type": "execute_result"
    },
    {
     "data": {
      "image/png": "[encoded data removed]",
      "text/plain": [
       "<Figure size 432x288 with 1 Axes>"
      ]
     },
     "metadata": {
      "needs_background": "light"
     },
     "output_type": "display_data"
    }
   ],
   "source": [
    "sns.scatterplot(worst.Age, worst.Survived)"
   ]
  },
  {
   "cell_type": "raw",
   "metadata": {},
   "source": [
    "As you can see the plot it's most concentrate between 18 and 37, so so, see above\n",
    "and below the number of suvived and died count with age -1 it's 50%, if you get \n",
    "the median I think it's better instead mean because of distribution of data it's most concentrate in the center"
   ]
  },
  {
   "cell_type": "code",
   "execution_count": 295,
   "metadata": {},
   "outputs": [
    {
     "data": {
      "text/plain": [
       "<matplotlib.axes._subplots.AxesSubplot at 0x1fd9cd1a748>"
      ]
     },
     "execution_count": 295,
     "metadata": {},
     "output_type": "execute_result"
    },
    {
     "data": {
      "image/png": "[encoded data removed]",
      "text/plain": [
       "<Figure size 432x288 with 1 Axes>"
      ]
     },
     "metadata": {
      "needs_background": "light"
     },
     "output_type": "display_data"
    }
   ],
   "source": [
    "worst[worst.Age == -1]['Survived'].value_counts().plot('bar')"
   ]
  },
  {
   "cell_type": "raw",
   "metadata": {},
   "source": [
    "See the describe and median below, it's not so diference, it's a little diference"
   ]
  },
  {
   "cell_type": "code",
   "execution_count": 296,
   "metadata": {},
   "outputs": [
    {
     "data": {
      "text/plain": [
       "count    97.000000\n",
       "mean     25.494845\n",
       "std      16.931310\n",
       "min      -1.000000\n",
       "25%      18.000000\n",
       "50%      26.000000\n",
       "75%      36.000000\n",
       "max      63.000000\n",
       "Name: Age, dtype: float64"
      ]
     },
     "execution_count": 296,
     "metadata": {},
     "output_type": "execute_result"
    }
   ],
   "source": [
    "worst.Age.describe()"
   ]
  },
  {
   "cell_type": "code",
   "execution_count": 297,
   "metadata": {},
   "outputs": [
    {
     "data": {
      "text/plain": [
       "26.0"
      ]
     },
     "execution_count": 297,
     "metadata": {},
     "output_type": "execute_result"
    }
   ],
   "source": [
    "worst.Age.median()"
   ]
  },
  {
   "cell_type": "raw",
   "metadata": {},
   "source": [
    "Mean: 25.49\n",
    "Median: 26\n",
    "\n",
    "but see the standard it's very desbalanced\n",
    "std: 16.93\n",
    "\n",
    "Let's see the median and mean in the center concentrated, how about thei second and third quartis\n",
    "in describe you saw the 25%, 50% and 75%, let's take between them values\n",
    "First see the histogram that you undestand the distribution, you see! let's do"
   ]
  },
  {
   "cell_type": "code",
   "execution_count": 298,
   "metadata": {},
   "outputs": [
    {
     "data": {
      "text/plain": [
       "<matplotlib.axes._subplots.AxesSubplot at 0x1fd9d2aeb38>"
      ]
     },
     "execution_count": 298,
     "metadata": {},
     "output_type": "execute_result"
    },
    {
     "data": {
      "image/png": "[encoded data removed]",
      "text/plain": [
       "<Figure size 432x288 with 1 Axes>"
      ]
     },
     "metadata": {
      "needs_background": "light"
     },
     "output_type": "display_data"
    }
   ],
   "source": [
    "worst['Age'].hist()"
   ]
  },
  {
   "cell_type": "code",
   "execution_count": 299,
   "metadata": {},
   "outputs": [
    {
     "data": {
      "text/plain": [
       "<matplotlib.axes._subplots.AxesSubplot at 0x1fd9d310828>"
      ]
     },
     "execution_count": 299,
     "metadata": {},
     "output_type": "execute_result"
    },
    {
     "data": {
      "image/png": "[encoded data removed]",
      "text/plain": [
       "<Figure size 432x288 with 1 Axes>"
      ]
     },
     "metadata": {
      "needs_background": "light"
     },
     "output_type": "display_data"
    }
   ],
   "source": [
    "worst['Age'][(worst['Age'] >= 18) & (worst['Age'] <= 36)].hist()"
   ]
  },
  {
   "cell_type": "raw",
   "metadata": {},
   "source": [
    "it's more distributed this way, let's do\n",
    "The mean and median no emprove like you imagineted, but the standart down, than it's show\n",
    "more confiable, let's take the the median and change"
   ]
  },
  {
   "cell_type": "code",
   "execution_count": 300,
   "metadata": {},
   "outputs": [
    {
     "data": {
      "text/plain": [
       "count    50.000000\n",
       "mean     26.100000\n",
       "std       5.135908\n",
       "min      18.000000\n",
       "25%      22.000000\n",
       "50%      26.500000\n",
       "75%      30.000000\n",
       "max      36.000000\n",
       "Name: Age, dtype: float64"
      ]
     },
     "execution_count": 300,
     "metadata": {},
     "output_type": "execute_result"
    }
   ],
   "source": [
    "worst['Age'][(worst['Age'] >= 18) & (worst['Age'] <= 36)].describe()"
   ]
  },
  {
   "cell_type": "code",
   "execution_count": 301,
   "metadata": {},
   "outputs": [],
   "source": [
    "mean = worst['Age'][(worst['Age'] >= 18) & (worst['Age'] <= 36)].mean()"
   ]
  },
  {
   "cell_type": "code",
   "execution_count": 302,
   "metadata": {},
   "outputs": [],
   "source": [
    "worst.Age.replace(-1, mean, inplace=True)"
   ]
  },
  {
   "cell_type": "code",
   "execution_count": 303,
   "metadata": {},
   "outputs": [
    {
     "data": {
      "text/plain": [
       "(14.526497332334044, 12.228825587836795)"
      ]
     },
     "execution_count": 303,
     "metadata": {},
     "output_type": "execute_result"
    }
   ],
   "source": [
    "train.Age.std(), worst.Age.std() # as you see std it's up yet, but it's better, let's change in train"
   ]
  },
  {
   "cell_type": "code",
   "execution_count": 304,
   "metadata": {},
   "outputs": [
    {
     "data": {
      "text/plain": [
       "(29.69911764705882, 30.272590361445783, 28.0, 27.0)"
      ]
     },
     "execution_count": 304,
     "metadata": {},
     "output_type": "execute_result"
    }
   ],
   "source": [
    "train.Age.mean(), test.Age.mean(), train.Age.median(), test.Age.median()"
   ]
  },
  {
   "cell_type": "code",
   "execution_count": 305,
   "metadata": {},
   "outputs": [],
   "source": [
    "train.Age.fillna(mean, inplace=True)\n",
    "test.Age.fillna(mean, inplace=True)"
   ]
  },
  {
   "cell_type": "code",
   "execution_count": 306,
   "metadata": {
    "collapsed": true,
    "jupyter": {
     "outputs_hidden": true
    }
   },
   "outputs": [
    {
     "data": {
      "text/plain": [
       "26.10    86\n",
       "24.00    17\n",
       "21.00    17\n",
       "22.00    16\n",
       "30.00    15\n",
       "18.00    13\n",
       "26.00    12\n",
       "27.00    12\n",
       "25.00    11\n",
       "23.00    11\n",
       "29.00    10\n",
       "36.00     9\n",
       "45.00     9\n",
       "20.00     8\n",
       "17.00     7\n",
       "28.00     7\n",
       "31.00     6\n",
       "32.00     6\n",
       "33.00     6\n",
       "55.00     6\n",
       "39.00     6\n",
       "50.00     5\n",
       "48.00     5\n",
       "41.00     5\n",
       "42.00     5\n",
       "40.00     5\n",
       "35.00     5\n",
       "47.00     5\n",
       "43.00     4\n",
       "19.00     4\n",
       "         ..\n",
       "9.00      2\n",
       "54.00     2\n",
       "2.00      2\n",
       "22.50     1\n",
       "62.00     1\n",
       "67.00     1\n",
       "28.50     1\n",
       "0.83      1\n",
       "0.92      1\n",
       "0.17      1\n",
       "38.50     1\n",
       "3.00      1\n",
       "51.00     1\n",
       "5.00      1\n",
       "44.00     1\n",
       "14.50     1\n",
       "59.00     1\n",
       "58.00     1\n",
       "0.33      1\n",
       "0.75      1\n",
       "36.50     1\n",
       "40.50     1\n",
       "11.50     1\n",
       "34.00     1\n",
       "15.00     1\n",
       "7.00      1\n",
       "60.50     1\n",
       "26.50     1\n",
       "76.00     1\n",
       "34.50     1\n",
       "Name: Age, Length: 80, dtype: int64"
      ]
     },
     "execution_count": 306,
     "metadata": {},
     "output_type": "execute_result"
    }
   ],
   "source": [
    "train.Age[train.Age == 26.10].groupby(train['Survived']).count(), \n",
    "test.Age.value_counts()"
   ]
  },
  {
   "cell_type": "code",
   "execution_count": 307,
   "metadata": {},
   "outputs": [
    {
     "name": "stdout",
     "output_type": "stream",
     "text": [
      "Baseline is: 0.7420382165605095\n",
      "Accuracy is: 0.7914798206278026\n",
      "Kaggle: 0.8165469038956642\n"
     ]
    }
   ],
   "source": [
    "model_random_forest(train, features)"
   ]
  },
  {
   "cell_type": "code",
   "execution_count": 331,
   "metadata": {},
   "outputs": [
    {
     "data": {
      "text/plain": [
       "'test'"
      ]
     },
     "execution_count": 331,
     "metadata": {},
     "output_type": "execute_result"
    }
   ],
   "source": [
    "features.pop(features.index('test'))"
   ]
  },
  {
   "cell_type": "code",
   "execution_count": 332,
   "metadata": {},
   "outputs": [
    {
     "data": {
      "text/plain": [
       "['Pclass',\n",
       " 'Age',\n",
       " 'SibSp',\n",
       " 'Parch',\n",
       " 'Fare',\n",
       " 'Name_Army',\n",
       " 'Name_Dr',\n",
       " 'Name_Master',\n",
       " 'Name_Miss',\n",
       " 'Name_Mr.',\n",
       " 'Name_Mrs',\n",
       " 'PassengerId']"
      ]
     },
     "execution_count": 332,
     "metadata": {},
     "output_type": "execute_result"
    }
   ],
   "source": [
    "features"
   ]
  },
  {
   "cell_type": "code",
   "execution_count": 308,
   "metadata": {},
   "outputs": [
    {
     "ename": "ValueError",
     "evalue": "could not convert string to float: 'Mr.'",
     "output_type": "error",
     "traceback": [
      "\u001b[1;31m---------------------------------------------------------------------------\u001b[0m",
      "\u001b[1;31mValueError\u001b[0m                                Traceback (most recent call last)",
      "\u001b[1;32m<ipython-input-308-8c63c8789df0>\u001b[0m in \u001b[0;36m<module>\u001b[1;34m\u001b[0m\n\u001b[1;32m----> 1\u001b[1;33m \u001b[0msubmmission_random_forest\u001b[0m\u001b[1;33m(\u001b[0m\u001b[0mtrain\u001b[0m\u001b[1;33m,\u001b[0m \u001b[0mfeatures\u001b[0m\u001b[1;33m,\u001b[0m \u001b[0mtest\u001b[0m\u001b[1;33m,\u001b[0m \u001b[1;34m'sub_310320_age_mean.csv'\u001b[0m\u001b[1;33m)\u001b[0m\u001b[1;33m\u001b[0m\u001b[1;33m\u001b[0m\u001b[0m\n\u001b[0m",
      "\u001b[1;32m<ipython-input-287-697d00d5213d>\u001b[0m in \u001b[0;36msubmmission_random_forest\u001b[1;34m(train, features, test, name_file)\u001b[0m\n\u001b[0;32m      9\u001b[0m     \u001b[0mmdl\u001b[0m\u001b[1;33m.\u001b[0m\u001b[0mfit\u001b[0m\u001b[1;33m(\u001b[0m\u001b[0mXtrain\u001b[0m\u001b[1;33m.\u001b[0m\u001b[0mdrop\u001b[0m\u001b[1;33m(\u001b[0m\u001b[1;33m[\u001b[0m\u001b[1;34m'Survived'\u001b[0m\u001b[1;33m,\u001b[0m \u001b[1;34m'PassengerId'\u001b[0m\u001b[1;33m]\u001b[0m\u001b[1;33m,\u001b[0m \u001b[0maxis\u001b[0m\u001b[1;33m=\u001b[0m\u001b[1;36m1\u001b[0m\u001b[1;33m)\u001b[0m\u001b[1;33m,\u001b[0m \u001b[0mytrain\u001b[0m\u001b[1;33m)\u001b[0m\u001b[1;33m\u001b[0m\u001b[1;33m\u001b[0m\u001b[0m\n\u001b[0;32m     10\u001b[0m \u001b[1;33m\u001b[0m\u001b[0m\n\u001b[1;32m---> 11\u001b[1;33m     \u001b[0mprediction\u001b[0m \u001b[1;33m=\u001b[0m \u001b[0mmdl\u001b[0m\u001b[1;33m.\u001b[0m\u001b[0mpredict\u001b[0m\u001b[1;33m(\u001b[0m\u001b[0mtest\u001b[0m\u001b[1;33m.\u001b[0m\u001b[0mdrop\u001b[0m\u001b[1;33m(\u001b[0m\u001b[1;33m[\u001b[0m\u001b[1;34m'PassengerId'\u001b[0m\u001b[1;33m]\u001b[0m\u001b[1;33m,\u001b[0m \u001b[0maxis\u001b[0m\u001b[1;33m=\u001b[0m\u001b[1;36m1\u001b[0m\u001b[1;33m)\u001b[0m\u001b[1;33m)\u001b[0m\u001b[1;33m\u001b[0m\u001b[1;33m\u001b[0m\u001b[0m\n\u001b[0m\u001b[0;32m     12\u001b[0m \u001b[1;33m\u001b[0m\u001b[0m\n\u001b[0;32m     13\u001b[0m     sub = pd.DataFrame({\n",
      "\u001b[1;32m~\\AppData\\Local\\Continuum\\anaconda3\\lib\\site-packages\\sklearn\\ensemble\\_forest.py\u001b[0m in \u001b[0;36mpredict\u001b[1;34m(self, X)\u001b[0m\n\u001b[0;32m    610\u001b[0m             \u001b[0mThe\u001b[0m \u001b[0mpredicted\u001b[0m \u001b[0mclasses\u001b[0m\u001b[1;33m.\u001b[0m\u001b[1;33m\u001b[0m\u001b[1;33m\u001b[0m\u001b[0m\n\u001b[0;32m    611\u001b[0m         \"\"\"\n\u001b[1;32m--> 612\u001b[1;33m         \u001b[0mproba\u001b[0m \u001b[1;33m=\u001b[0m \u001b[0mself\u001b[0m\u001b[1;33m.\u001b[0m\u001b[0mpredict_proba\u001b[0m\u001b[1;33m(\u001b[0m\u001b[0mX\u001b[0m\u001b[1;33m)\u001b[0m\u001b[1;33m\u001b[0m\u001b[1;33m\u001b[0m\u001b[0m\n\u001b[0m\u001b[0;32m    613\u001b[0m \u001b[1;33m\u001b[0m\u001b[0m\n\u001b[0;32m    614\u001b[0m         \u001b[1;32mif\u001b[0m \u001b[0mself\u001b[0m\u001b[1;33m.\u001b[0m\u001b[0mn_outputs_\u001b[0m \u001b[1;33m==\u001b[0m \u001b[1;36m1\u001b[0m\u001b[1;33m:\u001b[0m\u001b[1;33m\u001b[0m\u001b[1;33m\u001b[0m\u001b[0m\n",
      "\u001b[1;32m~\\AppData\\Local\\Continuum\\anaconda3\\lib\\site-packages\\sklearn\\ensemble\\_forest.py\u001b[0m in \u001b[0;36mpredict_proba\u001b[1;34m(self, X)\u001b[0m\n\u001b[0;32m    654\u001b[0m         \u001b[0mcheck_is_fitted\u001b[0m\u001b[1;33m(\u001b[0m\u001b[0mself\u001b[0m\u001b[1;33m)\u001b[0m\u001b[1;33m\u001b[0m\u001b[1;33m\u001b[0m\u001b[0m\n\u001b[0;32m    655\u001b[0m         \u001b[1;31m# Check data\u001b[0m\u001b[1;33m\u001b[0m\u001b[1;33m\u001b[0m\u001b[1;33m\u001b[0m\u001b[0m\n\u001b[1;32m--> 656\u001b[1;33m         \u001b[0mX\u001b[0m \u001b[1;33m=\u001b[0m \u001b[0mself\u001b[0m\u001b[1;33m.\u001b[0m\u001b[0m_validate_X_predict\u001b[0m\u001b[1;33m(\u001b[0m\u001b[0mX\u001b[0m\u001b[1;33m)\u001b[0m\u001b[1;33m\u001b[0m\u001b[1;33m\u001b[0m\u001b[0m\n\u001b[0m\u001b[0;32m    657\u001b[0m \u001b[1;33m\u001b[0m\u001b[0m\n\u001b[0;32m    658\u001b[0m         \u001b[1;31m# Assign chunk of trees to jobs\u001b[0m\u001b[1;33m\u001b[0m\u001b[1;33m\u001b[0m\u001b[1;33m\u001b[0m\u001b[0m\n",
      "\u001b[1;32m~\\AppData\\Local\\Continuum\\anaconda3\\lib\\site-packages\\sklearn\\ensemble\\_forest.py\u001b[0m in \u001b[0;36m_validate_X_predict\u001b[1;34m(self, X)\u001b[0m\n\u001b[0;32m    410\u001b[0m         \u001b[0mcheck_is_fitted\u001b[0m\u001b[1;33m(\u001b[0m\u001b[0mself\u001b[0m\u001b[1;33m)\u001b[0m\u001b[1;33m\u001b[0m\u001b[1;33m\u001b[0m\u001b[0m\n\u001b[0;32m    411\u001b[0m \u001b[1;33m\u001b[0m\u001b[0m\n\u001b[1;32m--> 412\u001b[1;33m         \u001b[1;32mreturn\u001b[0m \u001b[0mself\u001b[0m\u001b[1;33m.\u001b[0m\u001b[0mestimators_\u001b[0m\u001b[1;33m[\u001b[0m\u001b[1;36m0\u001b[0m\u001b[1;33m]\u001b[0m\u001b[1;33m.\u001b[0m\u001b[0m_validate_X_predict\u001b[0m\u001b[1;33m(\u001b[0m\u001b[0mX\u001b[0m\u001b[1;33m,\u001b[0m \u001b[0mcheck_input\u001b[0m\u001b[1;33m=\u001b[0m\u001b[1;32mTrue\u001b[0m\u001b[1;33m)\u001b[0m\u001b[1;33m\u001b[0m\u001b[1;33m\u001b[0m\u001b[0m\n\u001b[0m\u001b[0;32m    413\u001b[0m \u001b[1;33m\u001b[0m\u001b[0m\n\u001b[0;32m    414\u001b[0m     \u001b[1;33m@\u001b[0m\u001b[0mproperty\u001b[0m\u001b[1;33m\u001b[0m\u001b[1;33m\u001b[0m\u001b[0m\n",
      "\u001b[1;32m~\\AppData\\Local\\Continuum\\anaconda3\\lib\\site-packages\\sklearn\\tree\\_classes.py\u001b[0m in \u001b[0;36m_validate_X_predict\u001b[1;34m(self, X, check_input)\u001b[0m\n\u001b[0;32m    378\u001b[0m         \u001b[1;34m\"\"\"Validate X whenever one tries to predict, apply, predict_proba\"\"\"\u001b[0m\u001b[1;33m\u001b[0m\u001b[1;33m\u001b[0m\u001b[0m\n\u001b[0;32m    379\u001b[0m         \u001b[1;32mif\u001b[0m \u001b[0mcheck_input\u001b[0m\u001b[1;33m:\u001b[0m\u001b[1;33m\u001b[0m\u001b[1;33m\u001b[0m\u001b[0m\n\u001b[1;32m--> 380\u001b[1;33m             \u001b[0mX\u001b[0m \u001b[1;33m=\u001b[0m \u001b[0mcheck_array\u001b[0m\u001b[1;33m(\u001b[0m\u001b[0mX\u001b[0m\u001b[1;33m,\u001b[0m \u001b[0mdtype\u001b[0m\u001b[1;33m=\u001b[0m\u001b[0mDTYPE\u001b[0m\u001b[1;33m,\u001b[0m \u001b[0maccept_sparse\u001b[0m\u001b[1;33m=\u001b[0m\u001b[1;34m\"csr\"\u001b[0m\u001b[1;33m)\u001b[0m\u001b[1;33m\u001b[0m\u001b[1;33m\u001b[0m\u001b[0m\n\u001b[0m\u001b[0;32m    381\u001b[0m             if issparse(X) and (X.indices.dtype != np.intc or\n\u001b[0;32m    382\u001b[0m                                 X.indptr.dtype != np.intc):\n",
      "\u001b[1;32m~\\AppData\\Local\\Continuum\\anaconda3\\lib\\site-packages\\sklearn\\utils\\validation.py\u001b[0m in \u001b[0;36mcheck_array\u001b[1;34m(array, accept_sparse, accept_large_sparse, dtype, order, copy, force_all_finite, ensure_2d, allow_nd, ensure_min_samples, ensure_min_features, warn_on_dtype, estimator)\u001b[0m\n\u001b[0;32m    529\u001b[0m                     \u001b[0marray\u001b[0m \u001b[1;33m=\u001b[0m \u001b[0marray\u001b[0m\u001b[1;33m.\u001b[0m\u001b[0mastype\u001b[0m\u001b[1;33m(\u001b[0m\u001b[0mdtype\u001b[0m\u001b[1;33m,\u001b[0m \u001b[0mcasting\u001b[0m\u001b[1;33m=\u001b[0m\u001b[1;34m\"unsafe\"\u001b[0m\u001b[1;33m,\u001b[0m \u001b[0mcopy\u001b[0m\u001b[1;33m=\u001b[0m\u001b[1;32mFalse\u001b[0m\u001b[1;33m)\u001b[0m\u001b[1;33m\u001b[0m\u001b[1;33m\u001b[0m\u001b[0m\n\u001b[0;32m    530\u001b[0m                 \u001b[1;32melse\u001b[0m\u001b[1;33m:\u001b[0m\u001b[1;33m\u001b[0m\u001b[1;33m\u001b[0m\u001b[0m\n\u001b[1;32m--> 531\u001b[1;33m                     \u001b[0marray\u001b[0m \u001b[1;33m=\u001b[0m \u001b[0mnp\u001b[0m\u001b[1;33m.\u001b[0m\u001b[0masarray\u001b[0m\u001b[1;33m(\u001b[0m\u001b[0marray\u001b[0m\u001b[1;33m,\u001b[0m \u001b[0morder\u001b[0m\u001b[1;33m=\u001b[0m\u001b[0morder\u001b[0m\u001b[1;33m,\u001b[0m \u001b[0mdtype\u001b[0m\u001b[1;33m=\u001b[0m\u001b[0mdtype\u001b[0m\u001b[1;33m)\u001b[0m\u001b[1;33m\u001b[0m\u001b[1;33m\u001b[0m\u001b[0m\n\u001b[0m\u001b[0;32m    532\u001b[0m             \u001b[1;32mexcept\u001b[0m \u001b[0mComplexWarning\u001b[0m\u001b[1;33m:\u001b[0m\u001b[1;33m\u001b[0m\u001b[1;33m\u001b[0m\u001b[0m\n\u001b[0;32m    533\u001b[0m                 raise ValueError(\"Complex data not supported\\n\"\n",
      "\u001b[1;32m~\\AppData\\Local\\Continuum\\anaconda3\\lib\\site-packages\\numpy\\core\\numeric.py\u001b[0m in \u001b[0;36masarray\u001b[1;34m(a, dtype, order)\u001b[0m\n\u001b[0;32m    536\u001b[0m \u001b[1;33m\u001b[0m\u001b[0m\n\u001b[0;32m    537\u001b[0m     \"\"\"\n\u001b[1;32m--> 538\u001b[1;33m     \u001b[1;32mreturn\u001b[0m \u001b[0marray\u001b[0m\u001b[1;33m(\u001b[0m\u001b[0ma\u001b[0m\u001b[1;33m,\u001b[0m \u001b[0mdtype\u001b[0m\u001b[1;33m,\u001b[0m \u001b[0mcopy\u001b[0m\u001b[1;33m=\u001b[0m\u001b[1;32mFalse\u001b[0m\u001b[1;33m,\u001b[0m \u001b[0morder\u001b[0m\u001b[1;33m=\u001b[0m\u001b[0morder\u001b[0m\u001b[1;33m)\u001b[0m\u001b[1;33m\u001b[0m\u001b[1;33m\u001b[0m\u001b[0m\n\u001b[0m\u001b[0;32m    539\u001b[0m \u001b[1;33m\u001b[0m\u001b[0m\n\u001b[0;32m    540\u001b[0m \u001b[1;33m\u001b[0m\u001b[0m\n",
      "\u001b[1;31mValueError\u001b[0m: could not convert string to float: 'Mr.'"
     ]
    }
   ],
   "source": [
    "submmission_random_forest(train, features, test, 'sub_310320_age_mean.csv')"
   ]
  },
  {
   "cell_type": "code",
   "execution_count": null,
   "metadata": {},
   "outputs": [],
   "source": []
  },
  {
   "cell_type": "raw",
   "metadata": {},
   "source": [
    "The submission: sub_310320_name.csv\n",
    "    test size with 0.5\n",
    "    you get accuracy:\n",
    "        Baseline is: 0.7420382165605095\n",
    "        Accuracy is: 0.7825112107623319\n",
    "        Kaggle: 0.8072942477608692\n",
    "        real Kaggle: \n",
    "        \n",
    "    of 0.78 and prediction kaggle is 0.8020, but in kaggle get the accuracy was 0.74641\n",
    "    lets try with test size with 0.3\n",
    "The submission: sub_310320_name_030.csv\n",
    "    test size 0.3\n",
    "        it was terrible, the accuracy got worst pontuation\n",
    "        accuracy here = \n",
    "            Baseline is: 0.7420382165605095\n",
    "            Accuracy is: 0.8134328358208955\n",
    "            Kaggle: 0.8391951965241179\n",
    "            Real kaggle: 0.71770\n",
    "            \n",
    "The submission: sub_310320_age_mean.csv:\n",
    "    Baseline is: 0.7420382165605095\n",
    "    Accuracy is: 0.7914798206278026\n",
    "    Kaggle:      0.8165469038956642\n",
    "    Real Kaggle: Not submited yet (no internet)\n",
    "    \n"
   ]
  },
  {
   "cell_type": "code",
   "execution_count": null,
   "metadata": {},
   "outputs": [],
   "source": []
  },
  {
   "cell_type": "code",
   "execution_count": 172,
   "metadata": {},
   "outputs": [
    {
     "data": {
      "text/html": [
       "<div>\n",
       "<style scoped>\n",
       "    .dataframe tbody tr th:only-of-type {\n",
       "        vertical-align: middle;\n",
       "    }\n",
       "\n",
       "    .dataframe tbody tr th {\n",
       "        vertical-align: top;\n",
       "    }\n",
       "\n",
       "    .dataframe thead th {\n",
       "        text-align: right;\n",
       "    }\n",
       "</style>\n",
       "<table border=\"1\" class=\"dataframe\">\n",
       "  <thead>\n",
       "    <tr style=\"text-align: right;\">\n",
       "      <th></th>\n",
       "      <th>PassengerId</th>\n",
       "      <th>Pclass</th>\n",
       "      <th>Name</th>\n",
       "      <th>Sex</th>\n",
       "      <th>Age</th>\n",
       "      <th>SibSp</th>\n",
       "      <th>Parch</th>\n",
       "      <th>Ticket</th>\n",
       "      <th>Fare</th>\n",
       "      <th>Cabin</th>\n",
       "      <th>...</th>\n",
       "      <th>Name_Master</th>\n",
       "      <th>Name_Miss</th>\n",
       "      <th>Name_Mr.</th>\n",
       "      <th>Name_Mrs</th>\n",
       "      <th>Name_Army</th>\n",
       "      <th>Name_Dr</th>\n",
       "      <th>Name_Master</th>\n",
       "      <th>Name_Miss</th>\n",
       "      <th>Name_Mr.</th>\n",
       "      <th>Name_Mrs</th>\n",
       "    </tr>\n",
       "  </thead>\n",
       "  <tbody>\n",
       "  </tbody>\n",
       "</table>\n",
       "<p>0 rows × 23 columns</p>\n",
       "</div>"
      ],
      "text/plain": [
       "Empty DataFrame\n",
       "Columns: [PassengerId, Pclass, Name, Sex, Age, SibSp, Parch, Ticket, Fare, Cabin, Embarked, Name_Army, Name_Dr, Name_Master, Name_Miss, Name_Mr., Name_Mrs, Name_Army, Name_Dr, Name_Master, Name_Miss, Name_Mr., Name_Mrs]\n",
       "Index: []\n",
       "\n",
       "[0 rows x 23 columns]"
      ]
     },
     "execution_count": 172,
     "metadata": {},
     "output_type": "execute_result"
    }
   ],
   "source": [
    "test[test.Fare == None]"
   ]
  },
  {
   "cell_type": "code",
   "execution_count": null,
   "metadata": {},
   "outputs": [],
   "source": []
  }
 ],
 "metadata": {
  "kernelspec": {
   "display_name": "Python 3",
   "language": "python",
   "name": "python3"
  },
  "language_info": {
   "codemirror_mode": {
    "name": "ipython",
    "version": 3
   },
   "file_extension": ".py",
   "mimetype": "text/x-python",
   "name": "python",
   "nbconvert_exporter": "python",
   "pygments_lexer": "ipython3",
   "version": "3.7.3"
  }
 },
 "nbformat": 4,
 "nbformat_minor": 4
}
