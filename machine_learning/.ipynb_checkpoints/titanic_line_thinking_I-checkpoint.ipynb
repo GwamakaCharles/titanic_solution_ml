{
 "cells": [
  {
   "cell_type": "markdown",
   "metadata": {
    "colab_type": "text",
    "id": "KHeIrUdx5dfd"
   },
   "source": [
    "# Titanic Prediction"
   ]
  },
  {
   "cell_type": "markdown",
   "metadata": {
    "colab_type": "text",
    "id": "7kg9WwGn5dfe"
   },
   "source": [
    "# Scope of Projec and Planning\n",
    "______________________________"
   ]
  },
  {
   "cell_type": "markdown",
   "metadata": {
    "colab_type": "text",
    "id": "adtejNGY5dff"
   },
   "source": [
    "<h3>Objective</h3>\n",
    "    <li>Predict the most possible who was survived in Titanic Tragedy </li>\n",
    "    <li>Predict the news people like you or me were survived or died if we were there</li>\n",
    "    \n",
    "<h3>How Solve The Problem</h3>\n",
    "    <li>Using <b>Machine Learning</b> with EDA and Features Engineering for predicting Using Python</li> \n",
    "    <li>Create a interface to input the new data like you or me using Django</li>\n",
    "\n",
    "<h3>How Can you know if Work</h3>\n",
    "    <li>Metrics</li>\n",
    "        <li>Accuracy</li>\n",
    "        <li>F1</li>\n",
    "        <li>ROC-AUC</li>\n",
    "        <li>LogLoss</li>\n",
    "<h3>Action Planning:</h3>\n",
    "    <li>0 - &#10004;Building a structore of project, folder, files and datas and classes for documentation, scope and tasks.</li>\n",
    "    <li>1 - &#10004;Data collect - Kaggle csv download</li>\n",
    "    <li>2 - &#10004; EDA - Exploratory data, Understanting and seeing the charts of datas, and correlations</li>\n",
    "    <li>3 - &#10004; Data Preparation, Feature engineering</li>\n",
    "    <li>4 - &#10004;Getting the baseline, you must going to across the baseline</li>\n",
    "    <li>5 - &#10004;Validation the train data with simple solutions models like a RandomForestClassifier</li>\n",
    "    <li>6 - &#9634; Emprove score with another models, if it's necessary you can return to step 3, 2 or 1, when you can't better more, pass to next</li>\n",
    "    <li>7 - &#9634; Emprove the score ultil get 0.81 with boosting, tunning, scaler data, balancing class, and optimazetions soluctions</li>\n",
    "    <li>8 - &#9634; Create test features like a train code pre-processing</li>\n",
    "    <li>9 - &#9634; Submmit the solution to the kaggle plataform</li>\n",
    "    <li>10- &#9634; Create a simple interface page to input the news supposed people and get the predictions if survived or died</li>\n",
    "    <li>11- &#9634; Create a deploy on Heroku</li>\n",
    "    <li>12- &#9634; Share the solution --> Linkedin, reddit, kaggle, git and Hackernews</li>"
   ]
  },
  {
   "cell_type": "code",
   "execution_count": 179,
   "metadata": {
    "colab": {
     "base_uri": "https://localhost:8080/",
     "height": 105
    },
    "colab_type": "code",
    "id": "_bKLN8pT5dfg",
    "outputId": "5ebfdfa5-8f85-4ea9-934e-3629d88888e8"
   },
   "outputs": [
    {
     "name": "stdout",
     "output_type": "stream",
     "text": [
      "Populating the interactive namespace from numpy and matplotlib\n"
     ]
    },
    {
     "name": "stderr",
     "output_type": "stream",
     "text": [
      "C:\\Users\\diego.mayer\\AppData\\Local\\Continuum\\anaconda3\\lib\\site-packages\\IPython\\core\\magics\\pylab.py:160: UserWarning: pylab import has clobbered these variables: ['title', 'test', 'log']\n",
      "`%matplotlib` prevents importing * from pylab and numpy\n",
      "  \"\\n`%matplotlib` prevents importing * from pylab and numpy\"\n"
     ]
    }
   ],
   "source": [
    "# !pip install scikit-optimize\n",
    " \n",
    "import pandas as pd\n",
    "import numpy as np\n",
    "\n",
    "import seaborn as sns\n",
    "import matplotlib.pyplot as plt\n",
    "%matplotlib inline\n",
    "%pylab inline\n",
    "\n",
    "from sklearn.ensemble import RandomForestClassifier, GradientBoostingClassifier\n",
    "from sklearn.model_selection import train_test_split\n",
    "from sklearn.linear_model import LogisticRegression\n",
    "from sklearn.model_selection import KFold, RepeatedKFold\n",
    "from lightgbm import LGBMClassifier\n",
    "\n",
    "from sklearn.preprocessing import StandardScaler, MinMaxScaler, power_transform\n",
    "from skopt import dummy_minimize, plots\n",
    "\n",
    "from sklearn.metrics import classification_report, f1_score, roc_auc_score\n",
    "from sklearn.metrics import log_loss\n"
   ]
  },
  {
   "cell_type": "markdown",
   "metadata": {
    "colab_type": "text",
    "id": "9aIS6hEl5dfk"
   },
   "source": [
    "# 01 - Business Undertanding\n",
    "____________________________"
   ]
  },
  {
   "cell_type": "markdown",
   "metadata": {
    "colab_type": "text",
    "id": "W74vXGCt5dfm"
   },
   "source": [
    "The Titanic was one of tragedy, thousands people dead because they not was preperade to save all the people\n",
    "This project consist in hands on the data science project soluction , answears some asks and hypoteses\n",
    "This competition is one of more important in the kaggle competition, to understand more about the competition click <a href=\"https://www.kaggle.com/docs/competitions\">Titanic Competition</a>\n",
    "It's important you understand the data and your mean, for this there are a lot of explanation click <a href=\"https://www.kaggle.com/c/titanic/overview\">Overview Titanic</a>\n"
   ]
  },
  {
   "cell_type": "markdown",
   "metadata": {
    "colab_type": "text",
    "id": "25VtR6NM5dfn"
   },
   "source": [
    "# 02 - Data Collect\n",
    "___________________"
   ]
  },
  {
   "cell_type": "markdown",
   "metadata": {
    "colab_type": "text",
    "id": "Z0ibvaif5dfo"
   },
   "source": [
    "<h4> The data collect is the kaggle dataset click this link and will download <a href=\"https://www.kaggle.com/c/3136/download-all\">Kaggle Dataset Download</a></h4>"
   ]
  },
  {
   "cell_type": "code",
   "execution_count": 180,
   "metadata": {
    "colab": {},
    "colab_type": "code",
    "id": "fKEAviEM5dfp"
   },
   "outputs": [],
   "source": [
    "df_train = pd.read_csv('data/train.csv')\n",
    "df_test = pd.read_csv('data/test.csv')"
   ]
  },
  {
   "cell_type": "markdown",
   "metadata": {
    "colab_type": "text",
    "id": "Vpt3T3gc5dfu"
   },
   "source": [
    "# 03 - EDA - Data Exploratory Analysis\n",
    "______________________________________"
   ]
  },
  {
   "cell_type": "markdown",
   "metadata": {
    "colab_type": "text",
    "id": "h9-612bG5dfv"
   },
   "source": [
    "<title>Hypoteses and Questions</title>\n",
    "<ul id=\"myUL\">\n",
    "    <li>&#10004; Women and child survived first?</li>\n",
    "    <li>&#10004; How more rich is people more possibily to survived?</li>\n",
    "    <li>Where the safe boat are? wich floor? in this floor is it more possible survived people stayed in room the same floor?</li>\n",
    "    <li>&#10004; First class was there more chance of surviver than second and third classes?</li>\n",
    "    <li>The solders and people keeping the shipp safe, were they less chance of survived \" the capt die with shipp\"</li>\n",
    "</ul>\n"
   ]
  },
  {
   "cell_type": "markdown",
   "metadata": {
    "colab_type": "text",
    "id": "5HkMKb6o5dfw"
   },
   "source": [
    "______________"
   ]
  },
  {
   "cell_type": "markdown",
   "metadata": {
    "colab_type": "text",
    "id": "ZKR7_z8J5dfx"
   },
   "source": [
    "<p>Created two vars, \"objects\" and \"numerics\" for using and transform\n",
    "Let's see the easier first, the no objects\n",
    "The first Column is PassengerId, this column aren't be like a feature, because is not a standart, than we must remove them.\n",
    "Survived will be necessary for analysis with others features lika a correlation matrix for exemple \n",
    "Pclass is a class when the people stay, 1, 2 or 3 classes</p>\n",
    "<lu>\n",
    "    <li>&#10004;- PassengerId:- Remove from train and test</li>\n",
    "    <li>&#10004;- Survived:----- Keep in train, but remove in X to use in model</li>\n",
    "    <li>&#10004;- Sex:----------- Convert string to binarium (0 = male, 1= female)</li>\n",
    "    <li>&#10004;- Pclass:-------- Keep this columns and create news slices features for using with Age and other possibilities</li>\n",
    "    <li>&#10004; - Age:----------Replace NaN to median from sliced by Pclass grouped Survived and split the ages following histogram</li>\n",
    "    <li>&#10004;- SibSp | Parch:-Sum bouth, not was better, than toke separeted, validation with standardScale better in %, but I'll do this for last</li>\n",
    "    <li>&#10004;- Fare:---------- Use the StandartScaler and try others, MinMaxScaler and PowerTransform from sklearn</li>\n",
    "    <li>&#10004;- Embarked:--- Replace NaN to 'S', get_dummies to three new columns and drop the original</li>\n",
    "    <li>&#10004;- Name:-------- Split the title surname and create a dummies values</li>\n",
    "    <li>&#10004;- Cabin:-------- ??? </li>\n",
    "    <li>&#9634; - Ticket:-------- ??? </li>\n",
    "\n",
    "\n",
    "</lu>"
   ]
  },
  {
   "cell_type": "code",
   "execution_count": null,
   "metadata": {
    "colab": {},
    "colab_type": "code",
    "id": "HCUfVvY-5dfy"
   },
   "outputs": [],
   "source": [
    "col_obj = df_train.columns[df_train.dtypes == object]\n",
    "col_num = df_train.columns[df_train.dtypes != object]"
   ]
  },
  {
   "cell_type": "code",
   "execution_count": null,
   "metadata": {
    "colab": {
     "base_uri": "https://localhost:8080/",
     "height": 204
    },
    "colab_type": "code",
    "id": "6TYa_UmT5df3",
    "outputId": "02700681-a76e-4f00-b92a-877d2d41a28a"
   },
   "outputs": [
    {
     "data": {
      "text/html": [
       "<div>\n",
       "<style scoped>\n",
       "    .dataframe tbody tr th:only-of-type {\n",
       "        vertical-align: middle;\n",
       "    }\n",
       "\n",
       "    .dataframe tbody tr th {\n",
       "        vertical-align: top;\n",
       "    }\n",
       "\n",
       "    .dataframe thead th {\n",
       "        text-align: right;\n",
       "    }\n",
       "</style>\n",
       "<table border=\"1\" class=\"dataframe\">\n",
       "  <thead>\n",
       "    <tr style=\"text-align: right;\">\n",
       "      <th></th>\n",
       "      <th>PassengerId</th>\n",
       "      <th>Survived</th>\n",
       "      <th>Pclass</th>\n",
       "      <th>Age</th>\n",
       "      <th>SibSp</th>\n",
       "      <th>Parch</th>\n",
       "      <th>Fare</th>\n",
       "    </tr>\n",
       "  </thead>\n",
       "  <tbody>\n",
       "    <tr>\n",
       "      <th>0</th>\n",
       "      <td>1</td>\n",
       "      <td>0</td>\n",
       "      <td>3</td>\n",
       "      <td>22.0</td>\n",
       "      <td>1</td>\n",
       "      <td>0</td>\n",
       "      <td>7.2500</td>\n",
       "    </tr>\n",
       "    <tr>\n",
       "      <th>1</th>\n",
       "      <td>2</td>\n",
       "      <td>1</td>\n",
       "      <td>1</td>\n",
       "      <td>38.0</td>\n",
       "      <td>1</td>\n",
       "      <td>0</td>\n",
       "      <td>71.2833</td>\n",
       "    </tr>\n",
       "    <tr>\n",
       "      <th>2</th>\n",
       "      <td>3</td>\n",
       "      <td>1</td>\n",
       "      <td>3</td>\n",
       "      <td>26.0</td>\n",
       "      <td>0</td>\n",
       "      <td>0</td>\n",
       "      <td>7.9250</td>\n",
       "    </tr>\n",
       "    <tr>\n",
       "      <th>3</th>\n",
       "      <td>4</td>\n",
       "      <td>1</td>\n",
       "      <td>1</td>\n",
       "      <td>35.0</td>\n",
       "      <td>1</td>\n",
       "      <td>0</td>\n",
       "      <td>53.1000</td>\n",
       "    </tr>\n",
       "    <tr>\n",
       "      <th>4</th>\n",
       "      <td>5</td>\n",
       "      <td>0</td>\n",
       "      <td>3</td>\n",
       "      <td>35.0</td>\n",
       "      <td>0</td>\n",
       "      <td>0</td>\n",
       "      <td>8.0500</td>\n",
       "    </tr>\n",
       "  </tbody>\n",
       "</table>\n",
       "</div>"
      ],
      "text/plain": [
       "   PassengerId  Survived  Pclass   Age  SibSp  Parch     Fare\n",
       "0            1         0       3  22.0      1      0   7.2500\n",
       "1            2         1       1  38.0      1      0  71.2833\n",
       "2            3         1       3  26.0      0      0   7.9250\n",
       "3            4         1       1  35.0      1      0  53.1000\n",
       "4            5         0       3  35.0      0      0   8.0500"
      ]
     },
     "execution_count": 5,
     "metadata": {
      "tags": []
     },
     "output_type": "execute_result"
    }
   ],
   "source": [
    "df_train[col_num].head()"
   ]
  },
  {
   "cell_type": "code",
   "execution_count": null,
   "metadata": {
    "colab": {
     "base_uri": "https://localhost:8080/",
     "height": 204
    },
    "colab_type": "code",
    "id": "xtapDUGH5df8",
    "outputId": "a5b041f4-dfba-4cff-e253-1743c1ab7612"
   },
   "outputs": [
    {
     "data": {
      "text/html": [
       "<div>\n",
       "<style scoped>\n",
       "    .dataframe tbody tr th:only-of-type {\n",
       "        vertical-align: middle;\n",
       "    }\n",
       "\n",
       "    .dataframe tbody tr th {\n",
       "        vertical-align: top;\n",
       "    }\n",
       "\n",
       "    .dataframe thead th {\n",
       "        text-align: right;\n",
       "    }\n",
       "</style>\n",
       "<table border=\"1\" class=\"dataframe\">\n",
       "  <thead>\n",
       "    <tr style=\"text-align: right;\">\n",
       "      <th></th>\n",
       "      <th>Name</th>\n",
       "      <th>Sex</th>\n",
       "      <th>Ticket</th>\n",
       "      <th>Cabin</th>\n",
       "      <th>Embarked</th>\n",
       "    </tr>\n",
       "  </thead>\n",
       "  <tbody>\n",
       "    <tr>\n",
       "      <th>0</th>\n",
       "      <td>Braund, Mr. Owen Harris</td>\n",
       "      <td>male</td>\n",
       "      <td>A/5 21171</td>\n",
       "      <td>NaN</td>\n",
       "      <td>S</td>\n",
       "    </tr>\n",
       "    <tr>\n",
       "      <th>1</th>\n",
       "      <td>Cumings, Mrs. John Bradley (Florence Briggs Th...</td>\n",
       "      <td>female</td>\n",
       "      <td>PC 17599</td>\n",
       "      <td>C85</td>\n",
       "      <td>C</td>\n",
       "    </tr>\n",
       "    <tr>\n",
       "      <th>2</th>\n",
       "      <td>Heikkinen, Miss. Laina</td>\n",
       "      <td>female</td>\n",
       "      <td>STON/O2. 3101282</td>\n",
       "      <td>NaN</td>\n",
       "      <td>S</td>\n",
       "    </tr>\n",
       "    <tr>\n",
       "      <th>3</th>\n",
       "      <td>Futrelle, Mrs. Jacques Heath (Lily May Peel)</td>\n",
       "      <td>female</td>\n",
       "      <td>113803</td>\n",
       "      <td>C123</td>\n",
       "      <td>S</td>\n",
       "    </tr>\n",
       "    <tr>\n",
       "      <th>4</th>\n",
       "      <td>Allen, Mr. William Henry</td>\n",
       "      <td>male</td>\n",
       "      <td>373450</td>\n",
       "      <td>NaN</td>\n",
       "      <td>S</td>\n",
       "    </tr>\n",
       "  </tbody>\n",
       "</table>\n",
       "</div>"
      ],
      "text/plain": [
       "                                                Name     Sex  ... Cabin Embarked\n",
       "0                            Braund, Mr. Owen Harris    male  ...   NaN        S\n",
       "1  Cumings, Mrs. John Bradley (Florence Briggs Th...  female  ...   C85        C\n",
       "2                             Heikkinen, Miss. Laina  female  ...   NaN        S\n",
       "3       Futrelle, Mrs. Jacques Heath (Lily May Peel)  female  ...  C123        S\n",
       "4                           Allen, Mr. William Henry    male  ...   NaN        S\n",
       "\n",
       "[5 rows x 5 columns]"
      ]
     },
     "execution_count": 6,
     "metadata": {
      "tags": []
     },
     "output_type": "execute_result"
    }
   ],
   "source": [
    "df_train[col_obj].head()"
   ]
  },
  {
   "cell_type": "code",
   "execution_count": null,
   "metadata": {
    "colab": {
     "base_uri": "https://localhost:8080/",
     "height": 272
    },
    "colab_type": "code",
    "id": "p9mAMQtM5df_",
    "outputId": "43c572e9-6277-4039-a829-f1ee3811b7cb"
   },
   "outputs": [
    {
     "name": "stdout",
     "output_type": "stream",
     "text": [
      "Shape train -->> (891, 12)\n",
      "Null columns--------------\n",
      "PassengerId      0\n",
      "Survived         0\n",
      "Pclass           0\n",
      "Name             0\n",
      "Sex              0\n",
      "Age            177\n",
      "SibSp            0\n",
      "Parch            0\n",
      "Ticket           0\n",
      "Fare             0\n",
      "Cabin          687\n",
      "Embarked         2\n",
      "dtype: int64\n"
     ]
    }
   ],
   "source": [
    "print(f'Shape train -->> {df_train.shape}')\n",
    "print(f'Null columns--------------\\n{df_train.isnull().sum()}')\n",
    "\n",
    "# Age      = 177 null values\n",
    "# Cabin    = 687 null values\n",
    "# Embarked = 2 null value"
   ]
  },
  {
   "cell_type": "markdown",
   "metadata": {
    "colab_type": "text",
    "id": "Oz6RnBSx5dgC"
   },
   "source": [
    "> <h2>PassangerId and Survived</h2>\n",
    "PassangerId it's not copy you can't use this column like a feature"
   ]
  },
  {
   "cell_type": "markdown",
   "metadata": {
    "colab_type": "text",
    "id": "V7qRUjHH5dgD"
   },
   "source": [
    "> <h2>Pclass</h2>\n",
    "The value counts are thirt class has 55% of total passengers"
   ]
  },
  {
   "cell_type": "code",
   "execution_count": null,
   "metadata": {
    "colab": {
     "base_uri": "https://localhost:8080/",
     "height": 153
    },
    "colab_type": "code",
    "id": "x7xWJYVO5dgD",
    "outputId": "5695260f-352c-4734-c1f8-37ec6ccc89a6"
   },
   "outputs": [
    {
     "name": "stdout",
     "output_type": "stream",
     "text": [
      "3    491\n",
      "1    216\n",
      "2    184\n",
      "Name: Pclass, dtype: int64\n",
      "3    0.551066\n",
      "1    0.242424\n",
      "2    0.206510\n",
      "Name: Pclass, dtype: float64\n"
     ]
    }
   ],
   "source": [
    "print(f'{df_train.Pclass.value_counts()}\\n{df_train.Pclass.value_counts() / df_train.shape[0]}')"
   ]
  },
  {
   "cell_type": "code",
   "execution_count": null,
   "metadata": {
    "colab": {
     "base_uri": "https://localhost:8080/",
     "height": 296
    },
    "colab_type": "code",
    "id": "DAYwVyiq5dgG",
    "outputId": "6040655f-5bd1-4f5a-faaa-d288b059e121"
   },
   "outputs": [
    {
     "data": {
      "text/plain": [
       "<matplotlib.axes._subplots.AxesSubplot at 0x7f0677a59898>"
      ]
     },
     "execution_count": 9,
     "metadata": {
      "tags": []
     },
     "output_type": "execute_result"
    },
    {
     "data": {
      "image/png": "[encoded data removed]",
      "text/plain": [
       "<Figure size 432x288 with 1 Axes>"
      ]
     },
     "metadata": {
      "tags": []
     },
     "output_type": "display_data"
    }
   ],
   "source": [
    "sns.countplot(x='Pclass', data=df_train, hue='Survived')"
   ]
  },
  {
   "cell_type": "code",
   "execution_count": 182,
   "metadata": {
    "colab": {
     "base_uri": "https://localhost:8080/",
     "height": 296
    },
    "colab_type": "code",
    "id": "8B88Sg6M5dgK",
    "outputId": "425469de-41f3-47bf-dcf6-b951febbdd37"
   },
   "outputs": [
    {
     "data": {
      "text/plain": [
       "<matplotlib.axes._subplots.AxesSubplot at 0x211ef1d30b8>"
      ]
     },
     "execution_count": 182,
     "metadata": {},
     "output_type": "execute_result"
    },
    {
     "data": {
      "image/png": "[encoded data removed]",
      "text/plain": [
       "<Figure size 1080x720 with 1 Axes>"
      ]
     },
     "metadata": {
      "needs_background": "light"
     },
     "output_type": "display_data"
    }
   ],
   "source": [
    "plt.figure(figsize=(15,10))\n",
    "sns.countplot(x='Age', data=df_train, hue='Pclass')"
   ]
  },
  {
   "cell_type": "markdown",
   "metadata": {
    "colab_type": "text",
    "id": "8ipuLLce5dgP"
   },
   "source": [
    "<p>You see that class 3 has more dead than class 1 and 2 together, otherwords I think filter this dead in class 3\n",
    "and understanding why and see the NaN number and features, for exemple, if it's age NaN, it's betterget the\n",
    "median or mean this slice, but it's not possible slices with survived, tha you will make a comparation survived wih Pclass and Age\n",
    "You get the slices of Survived and Pclass information comparison, this filter could be use in the others features.</p>\n",
    "<p>From histogram Pclass and Survived, was possible created the range of age, than you can see the comparison between Pclass and Sex and Age</p>\n",
    "<p>Can you see, the best match is get mean from Pclass | Sex | Age, you going to do the same way the code below</p>\n",
    "<p>df_train.Age[(df_train.Pclass == 3) & (df_train.Sex == 'male').mean()</p>"
   ]
  },
  {
   "cell_type": "code",
   "execution_count": null,
   "metadata": {
    "colab": {},
    "colab_type": "code",
    "id": "j6EPi9Qy5dgQ",
    "outputId": "0821108a-69e9-4ff6-a9c2-100dde7e85fb"
   },
   "outputs": [
    {
     "name": "stdout",
     "output_type": "stream",
     "text": [
      "Mean Age from Class_3: 24.0\n",
      "Mean Age from Class_2: 29.0\n",
      "Mean Age from Class_1: 37.0\n"
     ]
    }
   ],
   "source": [
    "print(f'Mean Age from Class_3: {df_train.Age[df_train.Pclass == 3].median()}')\n",
    "print(f'Mean Age from Class_2: {df_train.Age[df_train.Pclass == 2].median()}')\n",
    "print(f'Mean Age from Class_1: {df_train.Age[df_train.Pclass == 1].median()}')"
   ]
  },
  {
   "cell_type": "code",
   "execution_count": null,
   "metadata": {
    "colab": {},
    "colab_type": "code",
    "id": "te4obCO65dgS",
    "outputId": "ad0335e2-f978-4a14-ed22-f13ceb0bc6eb"
   },
   "outputs": [
    {
     "name": "stdout",
     "output_type": "stream",
     "text": [
      "Clas_3 fem - sur - count: 47 - med: 19.0\n",
      "Clas_2 fem - sur - count: 68 - med: 28.0\n",
      "Clas_1 fem - sur - count: 82 - med: 35.0\n",
      "Clas_3 fem - die - count: 55 - med: 22.0\n",
      "Clas_2 fem - die - count:  6 - med: 32.5\n",
      "Clas_1 fem - die - count:  3 - med: 25.0\n"
     ]
    }
   ],
   "source": [
    "print(f'Clas_3 fem - sur - count: 47 - med: {df_train.Age[(df_train.Pclass == 3) & (df_train.Sex == \"female\") & (df_train.Survived == 1)].median()}') # 47\n",
    "print(f'Clas_2 fem - sur - count: 68 - med: {df_train.Age[(df_train.Pclass == 2) & (df_train.Sex == \"female\") & (df_train.Survived == 1)].median()}') # 68\n",
    "print(f'Clas_1 fem - sur - count: 82 - med: {df_train.Age[(df_train.Pclass == 1) & (df_train.Sex == \"female\") & (df_train.Survived == 1)].median()}') # 82\n",
    "print(f'Clas_3 fem - die - count: 55 - med: {df_train.Age[(df_train.Pclass == 3) & (df_train.Sex == \"female\") & (df_train.Survived == 0)].median()}') # 55\n",
    "print(f'Clas_2 fem - die - count:  6 - med: {df_train.Age[(df_train.Pclass == 2) & (df_train.Sex == \"female\") & (df_train.Survived == 0)].median()}') # 6\n",
    "print(f'Clas_1 fem - die - count:  3 - med: {df_train.Age[(df_train.Pclass == 1) & (df_train.Sex == \"female\") & (df_train.Survived == 0)].median()}') # 3"
   ]
  },
  {
   "cell_type": "markdown",
   "metadata": {
    "colab_type": "text",
    "id": "n0VFAy0O5dgU"
   },
   "source": [
    "<p>Mean or median is the same</p>"
   ]
  },
  {
   "cell_type": "code",
   "execution_count": null,
   "metadata": {
    "colab": {},
    "colab_type": "code",
    "id": "-i_Jlq8i5dgV",
    "outputId": "b94eb864-528f-4644-a424-d65a7f7d739d"
   },
   "outputs": [
    {
     "data": {
      "text/plain": [
       "(102, 102)"
      ]
     },
     "execution_count": 250,
     "metadata": {
      "tags": []
     },
     "output_type": "execute_result"
    }
   ],
   "source": [
    "df_train.Age[(df_train.Pclass == 3) & (df_train.Sex == 'female')].mean(), df_train.Age[(df_train.Pclass == 3) & (df_train.Sex == 'female')].median()"
   ]
  },
  {
   "cell_type": "code",
   "execution_count": null,
   "metadata": {
    "colab": {},
    "colab_type": "code",
    "id": "qRz1kF_j5dgX",
    "outputId": "f86c0a85-4f55-41ea-d9bd-c7bb6826b9c5"
   },
   "outputs": [
    {
     "data": {
      "text/plain": [
       "<matplotlib.axes._subplots.AxesSubplot at 0x1cd77eeec50>"
      ]
     },
     "execution_count": 233,
     "metadata": {
      "tags": []
     },
     "output_type": "execute_result"
    },
    {
     "data": {
      "image/png": "[encoded data removed]",
      "text/plain": [
       "<Figure size 432x288 with 1 Axes>"
      ]
     },
     "metadata": {
      "needs_background": "light",
      "tags": []
     },
     "output_type": "display_data"
    }
   ],
   "source": [
    "df_train.Age[(df_train.Pclass == 3) & (df_train.Sex == 'female') & (df_train.Survived == 1)].hist(bins=25)\n",
    "df_train.Age[(df_train.Pclass == 3) & (df_train.Sex == 'female') & (df_train.Survived == 0)].hist(bins=25, color='red')"
   ]
  },
  {
   "cell_type": "markdown",
   "metadata": {
    "colab_type": "text",
    "id": "8Xb4vvxq5dga"
   },
   "source": [
    "<p>Class 2 it's good slice, because mot of female people survived, probaly mean it's better here</p>"
   ]
  },
  {
   "cell_type": "code",
   "execution_count": null,
   "metadata": {
    "colab": {},
    "colab_type": "code",
    "id": "ZPGdtgEV5dga",
    "outputId": "a0c609eb-5956-45a9-82c9-a071956f7674"
   },
   "outputs": [
    {
     "data": {
      "text/plain": [
       "(28.722972972972972, 28.0)"
      ]
     },
     "execution_count": 237,
     "metadata": {
      "tags": []
     },
     "output_type": "execute_result"
    }
   ],
   "source": [
    "df_train.Age[(df_train.Pclass == 2) & (df_train.Sex == 'female')].mean(), df_train.Age[(df_train.Pclass == 2) & (df_train.Sex == 'female')].median()"
   ]
  },
  {
   "cell_type": "code",
   "execution_count": null,
   "metadata": {
    "colab": {},
    "colab_type": "code",
    "id": "G0aWgiyl5dgd",
    "outputId": "93e2a75a-f1c6-497b-ce7d-8c795ef10088"
   },
   "outputs": [
    {
     "data": {
      "text/plain": [
       "<matplotlib.axes._subplots.AxesSubplot at 0x1cd0b053c18>"
      ]
     },
     "execution_count": 235,
     "metadata": {
      "tags": []
     },
     "output_type": "execute_result"
    },
    {
     "data": {
      "image/png": "[encoded data removed]",
      "text/plain": [
       "<Figure size 432x288 with 1 Axes>"
      ]
     },
     "metadata": {
      "needs_background": "light",
      "tags": []
     },
     "output_type": "display_data"
    }
   ],
   "source": [
    "df_train.Age[(df_train.Pclass == 2) & (df_train.Sex == 'female') & (df_train.Survived == 1)].hist(bins=25)\n",
    "df_train.Age[(df_train.Pclass == 2) & (df_train.Sex == 'female') & (df_train.Survived == 0)].hist(bins=25, color='red')"
   ]
  },
  {
   "cell_type": "markdown",
   "metadata": {
    "colab_type": "text",
    "id": "TuEXXcpC5dgg"
   },
   "source": [
    "<p>The same way here, mean it's better</p>"
   ]
  },
  {
   "cell_type": "code",
   "execution_count": null,
   "metadata": {
    "colab": {},
    "colab_type": "code",
    "id": "50URnmDx5dgj",
    "outputId": "883f2cf0-4318-488c-bc8d-ae314aff2b9f"
   },
   "outputs": [
    {
     "data": {
      "text/plain": [
       "(34.61176470588235, 35.0)"
      ]
     },
     "execution_count": 238,
     "metadata": {
      "tags": []
     },
     "output_type": "execute_result"
    }
   ],
   "source": [
    "df_train.Age[(df_train.Pclass == 1) & (df_train.Sex == 'female')].mean(), df_train.Age[(df_train.Pclass == 1) & (df_train.Sex == 'female')].median()"
   ]
  },
  {
   "cell_type": "code",
   "execution_count": null,
   "metadata": {
    "colab": {},
    "colab_type": "code",
    "id": "SHAVuPhT5dgn",
    "outputId": "fa5962ee-fe95-412d-b431-73b7033888c3"
   },
   "outputs": [
    {
     "data": {
      "text/plain": [
       "<matplotlib.axes._subplots.AxesSubplot at 0x1cd0aeae630>"
      ]
     },
     "execution_count": 236,
     "metadata": {
      "tags": []
     },
     "output_type": "execute_result"
    },
    {
     "data": {
      "image/png": "[encoded data removed]",
      "text/plain": [
       "<Figure size 432x288 with 1 Axes>"
      ]
     },
     "metadata": {
      "needs_background": "light",
      "tags": []
     },
     "output_type": "display_data"
    }
   ],
   "source": [
    "df_train.Age[(df_train.Pclass == 1) & (df_train.Sex == 'female') & (df_train.Survived == 1)].hist(bins=25)\n",
    "df_train.Age[(df_train.Pclass == 1) & (df_train.Sex == 'female') & (df_train.Survived == 0)].hist(bins=25, color='red')"
   ]
  },
  {
   "cell_type": "markdown",
   "metadata": {
    "colab_type": "text",
    "id": "zDMKXIIW5dgq"
   },
   "source": [
    "<p>Mean it's better</p>"
   ]
  },
  {
   "cell_type": "code",
   "execution_count": null,
   "metadata": {
    "colab": {},
    "colab_type": "code",
    "id": "YVGczebL5dgq",
    "outputId": "2f2d64a4-e103-44a9-a46b-76ae60ca393e"
   },
   "outputs": [
    {
     "data": {
      "text/plain": [
       "(26.507588932806325, 25.0)"
      ]
     },
     "execution_count": 244,
     "metadata": {
      "tags": []
     },
     "output_type": "execute_result"
    }
   ],
   "source": [
    "df_train.Age[(df_train.Pclass == 3) & (df_train.Sex == 'male')].mean(), df_train.Age[(df_train.Pclass == 3) & (df_train.Sex == 'male')].median()"
   ]
  },
  {
   "cell_type": "code",
   "execution_count": null,
   "metadata": {
    "colab": {},
    "colab_type": "code",
    "id": "Trddxt-I5dgt",
    "outputId": "33c13a10-7654-4539-b6b4-4dcbeb4571a9"
   },
   "outputs": [
    {
     "data": {
      "text/plain": [
       "<matplotlib.axes._subplots.AxesSubplot at 0x1cd0b438160>"
      ]
     },
     "execution_count": 242,
     "metadata": {
      "tags": []
     },
     "output_type": "execute_result"
    },
    {
     "data": {
      "image/png": "[encoded data removed]",
      "text/plain": [
       "<Figure size 432x288 with 1 Axes>"
      ]
     },
     "metadata": {
      "needs_background": "light",
      "tags": []
     },
     "output_type": "display_data"
    }
   ],
   "source": [
    "df_train.Age[(df_train.Pclass == 3) & (df_train.Sex == 'male') & (df_train.Survived == 0)].hist(bins=25, color='red')\n",
    "df_train.Age[(df_train.Pclass == 3) & (df_train.Sex == 'male') & (df_train.Survived == 1)].hist(bins=25)"
   ]
  },
  {
   "cell_type": "markdown",
   "metadata": {
    "colab_type": "text",
    "id": "M-_0Qy5L5dgv"
   },
   "source": [
    "<p> Median it's better because it's closer than frequence</p>"
   ]
  },
  {
   "cell_type": "code",
   "execution_count": null,
   "metadata": {
    "colab": {},
    "colab_type": "code",
    "id": "Q2YgHOin5dgv",
    "outputId": "9e6fab93-3079-41cd-f66e-429f35047a8b"
   },
   "outputs": [
    {
     "data": {
      "text/plain": [
       "(30.74070707070707, 30.0)"
      ]
     },
     "execution_count": 246,
     "metadata": {
      "tags": []
     },
     "output_type": "execute_result"
    }
   ],
   "source": [
    "df_train.Age[(df_train.Pclass == 2) & (df_train.Sex == 'male')].mean(), df_train.Age[(df_train.Pclass == 2) & (df_train.Sex == 'male')].median()"
   ]
  },
  {
   "cell_type": "code",
   "execution_count": null,
   "metadata": {
    "colab": {},
    "colab_type": "code",
    "id": "ylhBu9yV5dgy",
    "outputId": "a7037fe4-eef6-43fb-d462-4deb5c3e0566"
   },
   "outputs": [
    {
     "data": {
      "text/plain": [
       "<matplotlib.axes._subplots.AxesSubplot at 0x1cd0b537e10>"
      ]
     },
     "execution_count": 245,
     "metadata": {
      "tags": []
     },
     "output_type": "execute_result"
    },
    {
     "data": {
      "image/png": "[encoded data removed]",
      "text/plain": [
       "<Figure size 432x288 with 1 Axes>"
      ]
     },
     "metadata": {
      "needs_background": "light",
      "tags": []
     },
     "output_type": "display_data"
    }
   ],
   "source": [
    "df_train.Age[(df_train.Pclass == 2) & (df_train.Sex == 'male') & (df_train.Survived == 0)].hist(bins=25, color='red')\n",
    "df_train.Age[(df_train.Pclass == 2) & (df_train.Sex == 'male') & (df_train.Survived == 1)].hist(bins=25)"
   ]
  },
  {
   "cell_type": "markdown",
   "metadata": {
    "colab_type": "text",
    "id": "5J0NXlbv5dg1"
   },
   "source": [
    "<p> Median it's better because it's closer than frequence</p>"
   ]
  },
  {
   "cell_type": "code",
   "execution_count": null,
   "metadata": {
    "colab": {},
    "colab_type": "code",
    "id": "scl5vQSq5dg1",
    "outputId": "9474fa83-3eeb-4263-9a4f-24b4b72169af"
   },
   "outputs": [
    {
     "data": {
      "text/plain": [
       "(41.28138613861386, 40.0)"
      ]
     },
     "execution_count": 247,
     "metadata": {
      "tags": []
     },
     "output_type": "execute_result"
    }
   ],
   "source": [
    "df_train.Age[(df_train.Pclass == 1) & (df_train.Sex == 'male')].mean(), df_train.Age[(df_train.Pclass == 1) & (df_train.Sex == 'male')].median()"
   ]
  },
  {
   "cell_type": "code",
   "execution_count": null,
   "metadata": {
    "colab": {},
    "colab_type": "code",
    "id": "Egul_eDy5dg6",
    "outputId": "7319cf7e-81da-4ee4-88f9-e5e3b2d152bd"
   },
   "outputs": [
    {
     "data": {
      "text/plain": [
       "<matplotlib.axes._subplots.AxesSubplot at 0x1cd0b703a90>"
      ]
     },
     "execution_count": 248,
     "metadata": {
      "tags": []
     },
     "output_type": "execute_result"
    },
    {
     "data": {
      "image/png": "[encoded data removed]",
      "text/plain": [
       "<Figure size 432x288 with 1 Axes>"
      ]
     },
     "metadata": {
      "needs_background": "light",
      "tags": []
     },
     "output_type": "display_data"
    }
   ],
   "source": [
    "df_train.Age[(df_train.Pclass == 1) & (df_train.Sex == 'male') & (df_train.Survived == 0)].hist(bins=25, color='red')\n",
    "df_train.Age[(df_train.Pclass == 1) & (df_train.Sex == 'male') & (df_train.Survived == 1)].hist(bins=25)"
   ]
  },
  {
   "cell_type": "code",
   "execution_count": null,
   "metadata": {
    "colab": {},
    "colab_type": "code",
    "id": "XvNLDJiy5dg8",
    "outputId": "237dd2a4-120f-4be8-b2c5-701c5a3b2c96"
   },
   "outputs": [
    {
     "data": {
      "text/plain": [
       "<matplotlib.axes._subplots.AxesSubplot at 0x1cd0b210c88>"
      ]
     },
     "execution_count": 239,
     "metadata": {
      "tags": []
     },
     "output_type": "execute_result"
    },
    {
     "data": {
      "image/png": "[encoded data removed]",
      "text/plain": [
       "<Figure size 432x288 with 1 Axes>"
      ]
     },
     "metadata": {
      "needs_background": "light",
      "tags": []
     },
     "output_type": "display_data"
    }
   ],
   "source": [
    "df_train.Age[(df_train.Pclass == 3) & (df_train.Sex == 'male') & (df_train.Survived == 0)].hist(bins=25)\n",
    "df_train.Age[(df_train.Pclass == 2) & (df_train.Sex == 'male') & (df_train.Survived == 0)].hist(bins=25)\n",
    "df_train.Age[(df_train.Pclass == 1) & (df_train.Sex == 'male') & (df_train.Survived == 0)].hist(bins=25)"
   ]
  },
  {
   "cell_type": "code",
   "execution_count": null,
   "metadata": {
    "colab": {},
    "colab_type": "code",
    "id": "CkDcVBSk5dg-"
   },
   "outputs": [],
   "source": [
    "class_3_died = df_train[(df_train.Pclass == 3) & (df_train.Survived == 0)]\n",
    "class_2_died = df_train[(df_train.Pclass == 2) & (df_train.Survived == 0)]\n",
    "class_1_died = df_train[(df_train.Pclass == 1) & (df_train.Survived == 0)]\n",
    "class_3_surv = df_train[(df_train.Pclass == 3) & (df_train.Survived == 1)]\n",
    "class_2_surv = df_train[(df_train.Pclass == 2) & (df_train.Survived == 1)]\n",
    "class_1_surv = df_train[(df_train.Pclass == 1) & (df_train.Survived == 1)]"
   ]
  },
  {
   "cell_type": "markdown",
   "metadata": {
    "colab_type": "text",
    "id": "5pcPSCGn5dhC"
   },
   "source": [
    "<p>The conclusion is that you get the mean and median with filter Pclass and Sex, same a exemple below</p>\n",
    "<p> df_train.Age[(df_train.Pclass == 3) & (df_train.Sex == 'male').mean()</p>"
   ]
  },
  {
   "cell_type": "markdown",
   "metadata": {
    "colab_type": "text",
    "id": "-HN28ya35dhD"
   },
   "source": [
    "><h2>Age</h2>"
   ]
  },
  {
   "cell_type": "markdown",
   "metadata": {
    "colab_type": "raw",
    "id": "n6vzQ5eN5dhE"
   },
   "source": [
    "After analysis you decided replace the Nan to mean by Pclass sliced, Let's take a look histograma about them\n",
    "Conclution is that each class done below you going to get the median because of distribution type\n",
    "After this you get the slices of ages this slices are following histogram distribution where are\n",
    "more survived people slice there and create news features, I write the suppose split, but\n",
    "it's necessary replace first to see, let's see now without change the feature just to see\n",
    "it's strange, but, let's try the score after the engineer"
   ]
  },
  {
   "cell_type": "markdown",
   "metadata": {
    "colab_type": "raw",
    "id": "1hgzDbtN5dhE"
   },
   "source": [
    "Split ages\n",
    "<= 15      - split it's more survived people\n",
    ">= 16 <=30 - split it's more died\n",
    ">= 31 <=40 - split it's more survived people\n",
    ">=41       - split 50/50, so so"
   ]
  },
  {
   "cell_type": "code",
   "execution_count": null,
   "metadata": {
    "colab": {},
    "colab_type": "code",
    "id": "fyFrnjzC5dhF",
    "outputId": "eeae01dd-f83a-4a75-b87b-630ab126c76b"
   },
   "outputs": [
    {
     "name": "stdout",
     "output_type": "stream",
     "text": [
      " \n",
      "Died  Class 3 - Mean: 26.56   Median: 25.0\n",
      "Died  Class 2 - Mean: 33.54   Median: 30.5\n",
      "Died  Class 1 - Mean: 43.7    Median: 45.25\n",
      "Lived Class 3 - Mean: 20.65   Median: 22.0\n",
      "Lived Class 2 - Mean: 25.9    Median: 28.0\n",
      "Lived Class 1 - Mean: 35.37   Median: 35.0\n",
      "\n"
     ]
    }
   ],
   "source": [
    "print(f\"\"\" \n",
    "Died  Class 3 - Mean: {round(class_3_died.Age.mean(), ndigits=2)}   Median: {class_3_died.Age.median()}\n",
    "Died  Class 2 - Mean: {round(class_2_died.Age.mean(), ndigits=2)}   Median: {class_2_died.Age.median()}\n",
    "Died  Class 1 - Mean: {round(class_1_died.Age.mean(), ndigits=2)}    Median: {class_1_died.Age.median()}\n",
    "Lived Class 3 - Mean: {round(class_3_surv.Age.mean(), ndigits=2)}   Median: {class_3_surv.Age.median()}\n",
    "Lived Class 2 - Mean: {round(class_2_surv.Age.mean(), ndigits=2)}    Median: {class_2_surv.Age.median()}\n",
    "Lived Class 1 - Mean: {round(class_1_surv.Age.mean(), ndigits=2)}   Median: {class_1_surv.Age.median()}\n",
    "\"\"\")"
   ]
  },
  {
   "cell_type": "code",
   "execution_count": null,
   "metadata": {
    "colab": {},
    "colab_type": "code",
    "id": "ewoh5Oey5dhH",
    "outputId": "73a09a9c-0eea-471d-e043-1dc57f579b94"
   },
   "outputs": [
    {
     "data": {
      "text/plain": [
       "(<matplotlib.axes._subplots.AxesSubplot at 0x1cd7b21ec18>,\n",
       " <matplotlib.axes._subplots.AxesSubplot at 0x1cd7b21ec18>)"
      ]
     },
     "execution_count": 70,
     "metadata": {
      "tags": []
     },
     "output_type": "execute_result"
    },
    {
     "data": {
      "image/png": "[encoded data removed]",
      "text/plain": [
       "<Figure size 432x288 with 1 Axes>"
      ]
     },
     "metadata": {
      "needs_background": "light",
      "tags": []
     },
     "output_type": "display_data"
    }
   ],
   "source": [
    "class_1_died.Age.fillna(45).hist(bins=25), class_1_lived.fillna(35).Age.hist(bins=25)\n",
    "# < 4\n",
    "# > 10 and < 42\n",
    "class_3_died.fillna(25).Age.hist(bins=25), class_3_lived.fillna(22).Age.hist(bins=25)\n",
    "# < 5\n",
    "# > 18 and < 32\n",
    "class_2_died.fillna(30).Age.hist(bins=25), class_2_lived.fillna(28).Age.hist(bins=25)\n",
    "# < 10\n",
    "# > 18 and < 25"
   ]
  },
  {
   "cell_type": "markdown",
   "metadata": {
    "colab_type": "text",
    "id": "4rg7sZRV5dhL"
   },
   "source": [
    "<h2>SibSP and Parch</h2>"
   ]
  },
  {
   "cell_type": "markdown",
   "metadata": {
    "colab_type": "raw",
    "id": "FjzCc0ls5dhM"
   },
   "source": [
    "SibSp and Parch it's very simylar, than you get sum them and concatened only one columns\n",
    "the histogram and coutplot show you how much they are simylar, they are."
   ]
  },
  {
   "cell_type": "code",
   "execution_count": null,
   "metadata": {
    "colab": {},
    "colab_type": "code",
    "id": "icqt-o7H5dhN",
    "outputId": "200424a7-1f7a-499b-d408-6ca2c6fcb7f8"
   },
   "outputs": [
    {
     "data": {
      "text/plain": [
       "(<matplotlib.axes._subplots.AxesSubplot at 0x1cd79634e80>,\n",
       " <matplotlib.axes._subplots.AxesSubplot at 0x1cd79634e80>)"
      ]
     },
     "execution_count": 14,
     "metadata": {
      "tags": []
     },
     "output_type": "execute_result"
    },
    {
     "data": {
      "image/png": "[encoded data removed]",
      "text/plain": [
       "<Figure size 432x288 with 1 Axes>"
      ]
     },
     "metadata": {
      "needs_background": "light",
      "tags": []
     },
     "output_type": "display_data"
    }
   ],
   "source": [
    "df_train.SibSp.hist(), df_train.Parch.hist()"
   ]
  },
  {
   "cell_type": "markdown",
   "metadata": {
    "colab_type": "raw",
    "id": "Rt_e6z-X5dhQ"
   },
   "source": [
    "this histogram aboce has very hight in the left, it's be a negative distribution, it's important standard this data"
   ]
  },
  {
   "cell_type": "code",
   "execution_count": null,
   "metadata": {
    "colab": {},
    "colab_type": "code",
    "id": "DliWrXX_5dhR"
   },
   "outputs": [],
   "source": [
    "#sns.countplot(x='SibSp', data=df_train, hue='Survived')"
   ]
  },
  {
   "cell_type": "code",
   "execution_count": null,
   "metadata": {
    "colab": {},
    "colab_type": "code",
    "id": "J2OE3pQn5dhT"
   },
   "outputs": [],
   "source": [
    "#sns.countplot(x='Parch', data=df_train, hue='Survived')"
   ]
  },
  {
   "cell_type": "markdown",
   "metadata": {
    "colab_type": "text",
    "id": "hrBRPIAm5dhW"
   },
   "source": [
    "<h2>Fare</h2>"
   ]
  },
  {
   "cell_type": "markdown",
   "metadata": {
    "colab_type": "text",
    "id": "C3szGBaF5dhW"
   },
   "source": [
    "<p>Fare, it's possible how much more money, more possibility living ?\n",
    "The value_counts show up that more frequency are the cheaper fare, than more people dead than survived, suppose to\n",
    "that how much more is fare, more people survive, let's see the mean:32 and median:14 - it's so differents, it's suppose to\n",
    "the distribrution is very assimetric, let's see - wouuu! see the histogram, it's positive assimetric, see the describe\n",
    "it's very hard standard desviation, it's Necessary standarlization, see this link <a href='https://medium.com/data-hackers/normalizar-ou-padronizar-as-vari%C3%A1veis-3b619876ccc9'>Medium Data Hackers</a></p>\n",
    "\n",
    "<p>First of all I'm going to get the number from Fare, may split and create news colums and try validation for know how better, after I had got better validation I lefted that, and when I will finished the all data preparetion, I'm going to try the MinMaxScaler, after that let's try the StandartScaler and try other powertransform, and chose better score</p>\n",
    "\n",
    "<p>There are many outliers, in this case I'm not going to remove the outliers, because this outliers it's correct, than I can't remove them, others solutions are change the value to mean, but it's chance to be worst, them I think it's better split the values, create another columns to put the outliers</p>\n",
    "\n",
    "<p>There are another very used way to get the outliers, see this link <a href='https://minerandodados.com.br/tratando-outliers-python/'> Outliers</a></p>\n",
    "\n",
    "<p>Let's try this way to data manipulation like this linke above, this way = mean - or + (2 * std)</p>"
   ]
  },
  {
   "cell_type": "code",
   "execution_count": null,
   "metadata": {
    "colab": {},
    "colab_type": "code",
    "id": "7GJ7A__k5dhX",
    "outputId": "5b55093b-a133-4d4d-ce01-d9dc7cff15d1"
   },
   "outputs": [
    {
     "data": {
      "text/plain": [
       "(32.2042079685746, 14.4542)"
      ]
     },
     "execution_count": 300,
     "metadata": {
      "tags": []
     },
     "output_type": "execute_result"
    }
   ],
   "source": [
    "df_train.Fare.value_counts()\n",
    "df_train.Fare.mean(), df_train.Fare.median()"
   ]
  },
  {
   "cell_type": "code",
   "execution_count": null,
   "metadata": {
    "colab": {},
    "colab_type": "code",
    "id": "quWXPrUl5dhc",
    "outputId": "fd2dfc91-eaa9-41a4-a782-f23cccd9413f"
   },
   "outputs": [
    {
     "data": {
      "text/plain": [
       "<matplotlib.axes._subplots.AxesSubplot at 0x1f4795b5940>"
      ]
     },
     "execution_count": 301,
     "metadata": {
      "tags": []
     },
     "output_type": "execute_result"
    },
    {
     "data": {
      "image/png": "[encoded data removed]",
      "text/plain": [
       "<Figure size 432x288 with 1 Axes>"
      ]
     },
     "metadata": {
      "needs_background": "light",
      "tags": []
     },
     "output_type": "display_data"
    }
   ],
   "source": [
    "df_train.Fare[df_train.Fare <300].hist(bins=25)"
   ]
  },
  {
   "cell_type": "code",
   "execution_count": null,
   "metadata": {
    "colab": {},
    "colab_type": "code",
    "id": "MsDG0zZA5dhe",
    "outputId": "9a604ed0-ca9e-49b2-f334-a1aaa4a15286"
   },
   "outputs": [
    {
     "data": {
      "text/plain": [
       "<matplotlib.axes._subplots.AxesSubplot at 0x1f479580c18>"
      ]
     },
     "execution_count": 302,
     "metadata": {
      "tags": []
     },
     "output_type": "execute_result"
    },
    {
     "data": {
      "image/png": "[encoded data removed]",
      "text/plain": [
       "<Figure size 432x288 with 1 Axes>"
      ]
     },
     "metadata": {
      "needs_background": "light",
      "tags": []
     },
     "output_type": "display_data"
    }
   ],
   "source": [
    "#df_train.Fare[df_train.Fare > 100].hist()\n",
    "df_train.Fare[df_train.Fare < 100].hist(bins=25)"
   ]
  },
  {
   "cell_type": "code",
   "execution_count": null,
   "metadata": {
    "colab": {},
    "colab_type": "code",
    "id": "PqCSdB825dhh",
    "outputId": "3fe4cc91-6c20-409f-ca5d-aadc80053411"
   },
   "outputs": [
    {
     "data": {
      "text/plain": [
       "count    891.000000\n",
       "mean      32.204208\n",
       "std       49.693429\n",
       "min        0.000000\n",
       "25%        7.910400\n",
       "50%       14.454200\n",
       "75%       31.000000\n",
       "max      512.329200\n",
       "Name: Fare, dtype: float64"
      ]
     },
     "execution_count": 305,
     "metadata": {
      "tags": []
     },
     "output_type": "execute_result"
    }
   ],
   "source": [
    "df_train.Fare.describe()\n",
    "# Q3 - Q1 = FIQ\n",
    "# 31 - 7.91 = 23.09\n",
    "# Q3 +(FIQ*1.5) = > 65.63 there are many outliers\n",
    "# Q1 -(FIQ*1.5) = < -26.72 no outlier"
   ]
  },
  {
   "cell_type": "code",
   "execution_count": null,
   "metadata": {
    "colab": {},
    "colab_type": "code",
    "id": "tnhegD6V5dhm",
    "outputId": "f69a0d78-c588-41c3-a08d-48e71e52f881"
   },
   "outputs": [
    {
     "data": {
      "text/plain": [
       "<matplotlib.axes._subplots.AxesSubplot at 0x1f47a6e2f28>"
      ]
     },
     "execution_count": 308,
     "metadata": {
      "tags": []
     },
     "output_type": "execute_result"
    },
    {
     "data": {
      "image/png": "[encoded data removed]",
      "text/plain": [
       "<Figure size 432x288 with 1 Axes>"
      ]
     },
     "metadata": {
      "needs_background": "light",
      "tags": []
     },
     "output_type": "display_data"
    }
   ],
   "source": [
    "df_train.Fare.plot(kind='box')"
   ]
  },
  {
   "cell_type": "markdown",
   "metadata": {
    "colab_type": "text",
    "id": "hwUedAz25dho"
   },
   "source": [
    "<p>There are another very used way to get the outliers, see this link <a href='https://minerandodados.com.br/tratando-outliers-python/'> Outliers</a></p>"
   ]
  },
  {
   "cell_type": "markdown",
   "metadata": {
    "colab_type": "text",
    "id": "fmLvTa9g5dhp"
   },
   "source": [
    "<h2>Embarked</h2>"
   ]
  },
  {
   "cell_type": "markdown",
   "metadata": {
    "colab_type": "raw",
    "id": "p380pqbn5dhq"
   },
   "source": [
    "Let's see the  informations about, the most value are in 'S' embarked, and there are two NaN, let's replace to S, because it's the most count, after that you had replaced you transformed string to number map()"
   ]
  },
  {
   "cell_type": "code",
   "execution_count": null,
   "metadata": {
    "colab": {},
    "colab_type": "code",
    "id": "WGv6LtPd5dhr",
    "outputId": "2e8d784d-cc9c-4713-efb0-61318e129b47"
   },
   "outputs": [
    {
     "name": "stdout",
     "output_type": "stream",
     "text": [
      "S    644\n",
      "C    168\n",
      "Q     77\n",
      "Name: Embarked, dtype: int64\n",
      "NaN:  2\n"
     ]
    }
   ],
   "source": [
    "print(df_train.Embarked.value_counts())\n",
    "print('NaN: ', df_train.Embarked.isnull().sum())"
   ]
  },
  {
   "cell_type": "markdown",
   "metadata": {
    "colab_type": "text",
    "id": "UlQrSJA05dhw"
   },
   "source": [
    "<h2>Name</h2>"
   ]
  },
  {
   "cell_type": "markdown",
   "metadata": {
    "colab_type": "raw",
    "id": "liYpbjQr5dhy"
   },
   "source": [
    "you can get the title like [Mr, Mrs, Miss, etc], because it's possible mean, after do you see contains, you replace the name for just title, than you convert string to numbers with getdummies"
   ]
  },
  {
   "cell_type": "markdown",
   "metadata": {
    "colab_type": "raw",
    "id": "blHt3eGR5dh0"
   },
   "source": [
    "Another thing maybe it's important, get the surname, maybe the same surname if woman died, it's possible that the man and child died too, if child survived, it's possible that her mother survived too, and about a man, you think after that.\n",
    "\n",
    "As you see, I think that is two ways to get better score, let's see, in data transformation"
   ]
  },
  {
   "cell_type": "code",
   "execution_count": null,
   "metadata": {
    "colab": {},
    "colab_type": "code",
    "id": "0wFpim_W5dh0"
   },
   "outputs": [],
   "source": [
    "surname = df_train.Name.str.extract(r'(\\w+)')\n",
    "surname.columns = ['Surname']"
   ]
  },
  {
   "cell_type": "code",
   "execution_count": null,
   "metadata": {
    "colab": {},
    "colab_type": "code",
    "id": "PK7oDV9M5dh3"
   },
   "outputs": [],
   "source": [
    "df = df_train.copy()\n",
    "df = pd.concat([df, surname], axis=1).copy()\n",
    "\n",
    "mapping = df.Surname.value_counts()\n",
    "\n",
    "df.Surname = df.Surname.map(mapping).copy()\n",
    "df.head()"
   ]
  },
  {
   "cell_type": "code",
   "execution_count": null,
   "metadata": {
    "colab": {},
    "colab_type": "code",
    "id": "63qPsOnk5dh6"
   },
   "outputs": [],
   "source": [
    "surname = ['Mr.', 'Mrs', 'Miss', 'Master', 'Rev.', 'Dr', 'Col.', 'Sir.', 'Major', 'Don.', 'Capt']\n",
    "for rep in surname:\n",
    "    for name in df['Name'][df.Name.str.contains(rep, regex=False)]:\n",
    "        if rep in ['Col.', 'Major', 'Capt']:\n",
    "            df.replace(name, 'Army', inplace=True)\n",
    "        elif rep in ['Sir.', 'Don.']:\n",
    "            df.replace(name, 'Mr.', inplace=True)\n",
    "        else:\n",
    "            df.replace(name, rep, inplace=True)\n",
    "\n",
    "for title in df.Name:\n",
    "    if title not in ['Mr.', 'Miss', 'Mrs', 'Master', 'Dr', 'Rev', 'Army']:\n",
    "        df.replace(title, 'Miss', inplace=True)"
   ]
  },
  {
   "cell_type": "code",
   "execution_count": null,
   "metadata": {
    "colab": {},
    "colab_type": "code",
    "id": "6CuITLb65diA",
    "outputId": "5e8e042d-3e75-4f25-e48b-119ee1fe98ce"
   },
   "outputs": [
    {
     "data": {
      "text/plain": [
       "<matplotlib.axes._subplots.AxesSubplot at 0x1f401da7390>"
      ]
     },
     "execution_count": 935,
     "metadata": {
      "tags": []
     },
     "output_type": "execute_result"
    },
    {
     "data": {
      "image/png": "[encoded data removed]",
      "text/plain": [
       "<Figure size 432x288 with 1 Axes>"
      ]
     },
     "metadata": {
      "needs_background": "light",
      "tags": []
     },
     "output_type": "display_data"
    }
   ],
   "source": [
    "sns.countplot('Surname', hue='Survived', data=df)"
   ]
  },
  {
   "cell_type": "code",
   "execution_count": null,
   "metadata": {
    "colab": {},
    "colab_type": "code",
    "id": "7fCdFLLL5diD",
    "outputId": "dd8ac0c4-daec-44a8-ce2f-af87de325f3b"
   },
   "outputs": [
    {
     "data": {
      "text/plain": [
       "<matplotlib.axes._subplots.AxesSubplot at 0x1f402e23c88>"
      ]
     },
     "execution_count": 934,
     "metadata": {
      "tags": []
     },
     "output_type": "execute_result"
    },
    {
     "data": {
      "image/png": "[encoded data removed]",
      "text/plain": [
       "<Figure size 432x288 with 1 Axes>"
      ]
     },
     "metadata": {
      "needs_background": "light",
      "tags": []
     },
     "output_type": "display_data"
    }
   ],
   "source": [
    "sns.countplot('Name', hue='Survived', data=df)"
   ]
  },
  {
   "cell_type": "code",
   "execution_count": null,
   "metadata": {
    "colab": {},
    "colab_type": "code",
    "id": "aWppIwkU5diG",
    "outputId": "8eeb83b7-5d96-44df-f4b5-9e88a309fd83"
   },
   "outputs": [
    {
     "data": {
      "text/plain": [
       "<seaborn.axisgrid.FacetGrid at 0x1f4030cea58>"
      ]
     },
     "execution_count": 921,
     "metadata": {
      "tags": []
     },
     "output_type": "execute_result"
    },
    {
     "data": {
      "image/png": "[encoded data removed]",
      "text/plain": [
       "<Figure size 411.875x360 with 1 Axes>"
      ]
     },
     "metadata": {
      "needs_background": "light",
      "tags": []
     },
     "output_type": "display_data"
    }
   ],
   "source": [
    "sns.catplot(x='Surname', y='Surname', hue='Survived', data=df)"
   ]
  },
  {
   "cell_type": "markdown",
   "metadata": {
    "colab_type": "text",
    "id": "5E4Bkgmh5diI"
   },
   "source": [
    "<h2>Cabin</h2>"
   ]
  },
  {
   "cell_type": "markdown",
   "metadata": {
    "colab_type": "text",
    "id": "bG5BQeVl5diI"
   },
   "source": [
    "<p>Cabin has a information how deck corresponding , it's can be a important, let's get only the first letter that corresponding the deck, see this link <a href='https://www.encyclopedia-titanica.org/cabins.html'>Deck Titanic Cabin</a></p>\n",
    "<p>As you see in plotting, there not so much count, but maybe you can get the good training with this, after you get with regex a first letter, create a new columns and concat to train dataframe and convert to numbers with dummies</p>"
   ]
  },
  {
   "cell_type": "code",
   "execution_count": null,
   "metadata": {
    "colab": {},
    "colab_type": "code",
    "id": "wMIzHy6a5diJ"
   },
   "outputs": [],
   "source": [
    "import re"
   ]
  },
  {
   "cell_type": "code",
   "execution_count": null,
   "metadata": {
    "colab": {},
    "colab_type": "code",
    "id": "cYyZjOzu5diL"
   },
   "outputs": [],
   "source": [
    "cab = pd.DataFrame()"
   ]
  },
  {
   "cell_type": "code",
   "execution_count": null,
   "metadata": {
    "colab": {},
    "colab_type": "code",
    "id": "e2njCzrg5diP"
   },
   "outputs": [],
   "source": [
    "cab_ = df_train.Cabin.str.extract((r'([A-Za-z])'), ).fillna(0).copy()\n",
    "cab = pd.concat([cab, cab_], axis=1).copy()\n",
    "cab.columns = ['cabin']"
   ]
  },
  {
   "cell_type": "code",
   "execution_count": null,
   "metadata": {
    "colab": {},
    "colab_type": "code",
    "id": "K9hQpaKk5diS",
    "outputId": "a38592a5-d22d-4fd9-c2f2-19394495b974"
   },
   "outputs": [
    {
     "data": {
      "text/plain": [
       "0    687\n",
       "C     59\n",
       "B     47\n",
       "D     33\n",
       "E     32\n",
       "A     15\n",
       "F     13\n",
       "G      4\n",
       "T      1\n",
       "Name: cabin, dtype: int64"
      ]
     },
     "execution_count": 698,
     "metadata": {
      "tags": []
     },
     "output_type": "execute_result"
    }
   ],
   "source": [
    "cab.cabin.value_counts()"
   ]
  },
  {
   "cell_type": "code",
   "execution_count": null,
   "metadata": {
    "colab": {},
    "colab_type": "code",
    "id": "KdPQJqYu5diW",
    "outputId": "601aeddd-177c-48dc-ecd1-fbe031166159"
   },
   "outputs": [
    {
     "data": {
      "text/plain": [
       "<matplotlib.axes._subplots.AxesSubplot at 0x1f47e87fd30>"
      ]
     },
     "execution_count": 701,
     "metadata": {
      "tags": []
     },
     "output_type": "execute_result"
    },
    {
     "data": {
      "image/png": "[encoded data removed]",
      "text/plain": [
       "<Figure size 432x288 with 1 Axes>"
      ]
     },
     "metadata": {
      "needs_background": "light",
      "tags": []
     },
     "output_type": "display_data"
    }
   ],
   "source": [
    "sns.countplot('cabin', data=cab[cab.cabin != 0])"
   ]
  },
  {
   "cell_type": "markdown",
   "metadata": {
    "colab_type": "text",
    "id": "l8fqxh0D5dia"
   },
   "source": [
    "<h2>Ticket</h2>"
   ]
  },
  {
   "cell_type": "code",
   "execution_count": null,
   "metadata": {
    "colab": {},
    "colab_type": "code",
    "id": "4MgDpuag5dia",
    "outputId": "9b1561da-97df-4c23-dd06-d3394d4b3c03"
   },
   "outputs": [
    {
     "data": {
      "text/plain": [
       "0           A/5 21171\n",
       "1            PC 17599\n",
       "2    STON/O2. 3101282\n",
       "3              113803\n",
       "4              373450\n",
       "Name: Ticket, dtype: object"
      ]
     },
     "execution_count": 790,
     "metadata": {
      "tags": []
     },
     "output_type": "execute_result"
    }
   ],
   "source": [
    "df_train.Ticket.head()"
   ]
  },
  {
   "cell_type": "code",
   "execution_count": null,
   "metadata": {
    "colab": {},
    "colab_type": "code",
    "id": "-Iltj2yq5dig",
    "outputId": "9b1e3a05-703f-4172-c6d4-7414d0d63389"
   },
   "outputs": [
    {
     "data": {
      "text/html": [
       "<div>\n",
       "<style scoped>\n",
       "    .dataframe tbody tr th:only-of-type {\n",
       "        vertical-align: middle;\n",
       "    }\n",
       "\n",
       "    .dataframe tbody tr th {\n",
       "        vertical-align: top;\n",
       "    }\n",
       "\n",
       "    .dataframe thead th {\n",
       "        text-align: right;\n",
       "    }\n",
       "</style>\n",
       "<table border=\"1\" class=\"dataframe\">\n",
       "  <thead>\n",
       "    <tr style=\"text-align: right;\">\n",
       "      <th></th>\n",
       "      <th>0</th>\n",
       "    </tr>\n",
       "  </thead>\n",
       "  <tbody>\n",
       "    <tr>\n",
       "      <th>0</th>\n",
       "      <td>A</td>\n",
       "    </tr>\n",
       "    <tr>\n",
       "      <th>1</th>\n",
       "      <td>P</td>\n",
       "    </tr>\n",
       "    <tr>\n",
       "      <th>2</th>\n",
       "      <td>S</td>\n",
       "    </tr>\n",
       "    <tr>\n",
       "      <th>3</th>\n",
       "      <td>NaN</td>\n",
       "    </tr>\n",
       "    <tr>\n",
       "      <th>4</th>\n",
       "      <td>NaN</td>\n",
       "    </tr>\n",
       "  </tbody>\n",
       "</table>\n",
       "</div>"
      ],
      "text/plain": [
       "     0\n",
       "0    A\n",
       "1    P\n",
       "2    S\n",
       "3  NaN\n",
       "4  NaN"
      ]
     },
     "execution_count": 789,
     "metadata": {
      "tags": []
     },
     "output_type": "execute_result"
    }
   ],
   "source": [
    "df_train.Ticket.str.extract(r'([A-Za-z])').head()"
   ]
  },
  {
   "cell_type": "markdown",
   "metadata": {
    "colab_type": "text",
    "id": "kEtHpTm_5dij"
   },
   "source": [
    "# 04 - Data Preparation\n",
    "___________________"
   ]
  },
  {
   "cell_type": "markdown",
   "metadata": {},
   "source": [
    "This phase consist in change the data and create the features and each time you change, you try the predict to\n",
    "know how is score, and comparing between them"
   ]
  },
  {
   "cell_type": "markdown",
   "metadata": {
    "colab_type": "text",
    "id": "N7JkKPlM5dik"
   },
   "source": [
    "> Features 1"
   ]
  },
  {
   "cell_type": "code",
   "execution_count": 460,
   "metadata": {
    "colab": {},
    "colab_type": "code",
    "id": "igaGuB415dil"
   },
   "outputs": [],
   "source": [
    "train = pd.DataFrame()\n",
    "# Create new variable for Data Preparation\n",
    "train['Survived'] = df_train['Survived'].copy()\n",
    "train['Pclass'] = df_train['Pclass'].copy()\n",
    "train['Sex'] = df_train.Sex.map({\n",
    "    'female':1,\n",
    "    'male':0\n",
    "}).copy()\n",
    "\n",
    "features = train.columns.drop('Survived')"
   ]
  },
  {
   "cell_type": "markdown",
   "metadata": {
    "colab_type": "text",
    "id": "WiHOvNXC5dim"
   },
   "source": [
    "> Features 2"
   ]
  },
  {
   "cell_type": "code",
   "execution_count": 461,
   "metadata": {
    "colab": {
     "base_uri": "https://localhost:8080/",
     "height": 547
    },
    "colab_type": "code",
    "id": "p1tlthN15din",
    "outputId": "25756c40-030a-4c6a-ac2c-5e89ca9e6eba"
   },
   "outputs": [
    {
     "name": "stderr",
     "output_type": "stream",
     "text": [
      "C:\\Users\\diego.mayer\\AppData\\Local\\Continuum\\anaconda3\\lib\\site-packages\\ipykernel_launcher.py:10: SettingWithCopyWarning: \n",
      "A value is trying to be set on a copy of a slice from a DataFrame\n",
      "\n",
      "See the caveats in the documentation: http://pandas.pydata.org/pandas-docs/stable/indexing.html#indexing-view-versus-copy\n",
      "  # Remove the CWD from sys.path while we load stuff.\n",
      "C:\\Users\\diego.mayer\\AppData\\Local\\Continuum\\anaconda3\\lib\\site-packages\\ipykernel_launcher.py:11: SettingWithCopyWarning: \n",
      "A value is trying to be set on a copy of a slice from a DataFrame\n",
      "\n",
      "See the caveats in the documentation: http://pandas.pydata.org/pandas-docs/stable/indexing.html#indexing-view-versus-copy\n",
      "  # This is added back by InteractiveShellApp.init_path()\n",
      "C:\\Users\\diego.mayer\\AppData\\Local\\Continuum\\anaconda3\\lib\\site-packages\\ipykernel_launcher.py:12: SettingWithCopyWarning: \n",
      "A value is trying to be set on a copy of a slice from a DataFrame\n",
      "\n",
      "See the caveats in the documentation: http://pandas.pydata.org/pandas-docs/stable/indexing.html#indexing-view-versus-copy\n",
      "  if sys.path[0] == '':\n",
      "C:\\Users\\diego.mayer\\AppData\\Local\\Continuum\\anaconda3\\lib\\site-packages\\ipykernel_launcher.py:13: SettingWithCopyWarning: \n",
      "A value is trying to be set on a copy of a slice from a DataFrame\n",
      "\n",
      "See the caveats in the documentation: http://pandas.pydata.org/pandas-docs/stable/indexing.html#indexing-view-versus-copy\n",
      "  del sys.path[0]\n",
      "C:\\Users\\diego.mayer\\AppData\\Local\\Continuum\\anaconda3\\lib\\site-packages\\ipykernel_launcher.py:14: SettingWithCopyWarning: \n",
      "A value is trying to be set on a copy of a slice from a DataFrame\n",
      "\n",
      "See the caveats in the documentation: http://pandas.pydata.org/pandas-docs/stable/indexing.html#indexing-view-versus-copy\n",
      "  \n",
      "C:\\Users\\diego.mayer\\AppData\\Local\\Continuum\\anaconda3\\lib\\site-packages\\ipykernel_launcher.py:15: SettingWithCopyWarning: \n",
      "A value is trying to be set on a copy of a slice from a DataFrame\n",
      "\n",
      "See the caveats in the documentation: http://pandas.pydata.org/pandas-docs/stable/indexing.html#indexing-view-versus-copy\n",
      "  from ipykernel import kernelapp as app\n"
     ]
    }
   ],
   "source": [
    "train['Age'] = df_train['Age'].copy()\n",
    "\n",
    "med_cl_fem_3 = train.Age[(train.Pclass == 3) & (train.Sex == 1)].median()\n",
    "med_cl_fem_2 = train.Age[(train.Pclass == 2) & (train.Sex == 1)].median()\n",
    "med_cl_fem_1 = train.Age[(train.Pclass == 1) & (train.Sex == 1)].median()\n",
    "med_cl_mal_3 = train.Age[(train.Pclass == 3) & (train.Sex == 0)].median()\n",
    "med_cl_mal_2 = train.Age[(train.Pclass == 2) & (train.Sex == 0)].median()\n",
    "med_cl_mal_1 = train.Age[(train.Pclass == 1) & (train.Sex == 0)].median()\n",
    "\n",
    "train.Age[(train.Pclass == 3) & (train.Sex == 1)] = train.Age[(train.Pclass == 3) & (train.Sex == 1)].fillna(med_cl_fem_3)\n",
    "train.Age[(train.Pclass == 2) & (train.Sex == 1)] = train.Age[(train.Pclass == 2) & (train.Sex == 1)].fillna(med_cl_fem_2)\n",
    "train.Age[(train.Pclass == 1) & (train.Sex == 1)] = train.Age[(train.Pclass == 1) & (train.Sex == 1)].fillna(med_cl_fem_1)\n",
    "train.Age[(train.Pclass == 3) & (train.Sex == 0)] = train.Age[(train.Pclass == 3) & (train.Sex == 0)].fillna(med_cl_mal_3)\n",
    "train.Age[(train.Pclass == 2) & (train.Sex == 0)] = train.Age[(train.Pclass == 2) & (train.Sex == 0)].fillna(med_cl_mal_2)\n",
    "train.Age[(train.Pclass == 1) & (train.Sex == 0)] = train.Age[(train.Pclass == 1) & (train.Sex == 0)].fillna(med_cl_mal_1)\n",
    "\n",
    "features = train.columns.copy()"
   ]
  },
  {
   "cell_type": "markdown",
   "metadata": {
    "colab_type": "text",
    "id": "_nn66FHX5dip"
   },
   "source": [
    "> Features 3"
   ]
  },
  {
   "cell_type": "code",
   "execution_count": 462,
   "metadata": {
    "colab": {},
    "colab_type": "code",
    "id": "mHCsJInH5diq"
   },
   "outputs": [],
   "source": [
    "age_4 = train.Age[train.Age <=4].copy()\n",
    "age_30 = train.Age[(train.Age >=4) & (train.Age <=30)].copy()\n",
    "age_40 = train.Age[(train.Age >=31) & (train.Age <=40)].copy()\n",
    "age_80 = train.Age[train.Age >=41].copy()\n",
    "age_4.name, age_30.name = 'age_4', 'age_30'\n",
    "age_40.name, age_80.name = 'age_40', 'age_80'\n",
    "\n",
    "train = pd.concat([train, age_4], axis=1).fillna(0)\n",
    "train = pd.concat([train, age_30], axis=1).fillna(0)\n",
    "train = pd.concat([train, age_40], axis=1).fillna(0)\n",
    "train = pd.concat([train, age_80], axis=1).fillna(0)\n",
    "\n",
    "features = train.columns"
   ]
  },
  {
   "cell_type": "markdown",
   "metadata": {
    "colab_type": "text",
    "id": "bTVK5_P15div"
   },
   "source": [
    "> Features 4"
   ]
  },
  {
   "cell_type": "code",
   "execution_count": 463,
   "metadata": {
    "colab": {},
    "colab_type": "code",
    "id": "Lz_a6OaZ5div"
   },
   "outputs": [],
   "source": [
    "train.drop('Age', axis=1, inplace=True)\n",
    "\n",
    "features = train.columns"
   ]
  },
  {
   "cell_type": "markdown",
   "metadata": {
    "colab_type": "text",
    "id": "YdAq1ax55diy"
   },
   "source": [
    "> Features 5"
   ]
  },
  {
   "cell_type": "code",
   "execution_count": 464,
   "metadata": {
    "colab": {
     "base_uri": "https://localhost:8080/",
     "height": 122
    },
    "colab_type": "code",
    "id": "ToNp2YGS5diz",
    "outputId": "c0469636-3939-42c1-89a3-66f29829da4d"
   },
   "outputs": [
    {
     "name": "stderr",
     "output_type": "stream",
     "text": [
      "C:\\Users\\diego.mayer\\AppData\\Local\\Continuum\\anaconda3\\lib\\site-packages\\ipykernel_launcher.py:4: SettingWithCopyWarning: \n",
      "A value is trying to be set on a copy of a slice from a DataFrame\n",
      "\n",
      "See the caveats in the documentation: http://pandas.pydata.org/pandas-docs/stable/indexing.html#indexing-view-versus-copy\n",
      "  after removing the cwd from sys.path.\n"
     ]
    }
   ],
   "source": [
    "train['Age'] = df_train['Age'].copy()\n",
    "for i in range(len(train.Age)):\n",
    "    if train.Age[i] != float(train.Age[i]):\n",
    "        train.Age[i] = np.mean(train.Age)\n",
    "\n",
    "features = train.columns\n",
    "features = features.drop(['Survived', 'age_4', 'age_30', 'age_40', 'age_80'])"
   ]
  },
  {
   "cell_type": "markdown",
   "metadata": {
    "colab_type": "text",
    "id": "4bDqLyZc5di1"
   },
   "source": [
    "> Featurs 6"
   ]
  },
  {
   "cell_type": "code",
   "execution_count": 465,
   "metadata": {
    "colab": {},
    "colab_type": "code",
    "id": "Hcu6daDU5di1"
   },
   "outputs": [],
   "source": [
    "train = train.drop(['Age'], axis=1)\n",
    "\n",
    "train['Family_size'] = df_train.SibSp + df_train.Parch\n",
    "features = train.columns.drop('Survived')"
   ]
  },
  {
   "cell_type": "code",
   "execution_count": 466,
   "metadata": {
    "colab": {},
    "colab_type": "code",
    "id": "wQ686gh45di2"
   },
   "outputs": [],
   "source": [
    "features = train.columns.drop(['Family_size', 'Survived'])"
   ]
  },
  {
   "cell_type": "markdown",
   "metadata": {
    "colab_type": "text",
    "id": "Ir4pqRrL5di4"
   },
   "source": [
    "> Features 7"
   ]
  },
  {
   "cell_type": "code",
   "execution_count": 467,
   "metadata": {
    "colab": {},
    "colab_type": "code",
    "id": "jqCRXQQw5di4"
   },
   "outputs": [],
   "source": [
    "train['SibSp'] = df_train['SibSp'].copy()\n",
    "train['Parch'] = df_train['Parch'].copy()\n",
    "\n",
    "features = train.columns.drop('Survived')"
   ]
  },
  {
   "cell_type": "markdown",
   "metadata": {
    "colab_type": "text",
    "id": "FMmARnUG5di5"
   },
   "source": [
    "> Features 8"
   ]
  },
  {
   "cell_type": "code",
   "execution_count": 468,
   "metadata": {
    "colab": {},
    "colab_type": "code",
    "id": "N70Vo9H25di6"
   },
   "outputs": [],
   "source": [
    "outlier = np.mean(df_train.Fare) + (2 * np.std(df_train.Fare))\n",
    "fare_out = df_train.Fare[df_train.Fare >= outlier].copy()\n",
    "fare = df_train.Fare[df_train.Fare < outlier].copy()\n",
    "fare_out.name, fare.name = 'Fare_out', 'Fare'\n",
    "\n",
    "train = pd.concat([train, fare_out], axis=1).fillna(0)\n",
    "train = pd.concat([train, fare], axis=1).fillna(0)\n",
    "\n",
    "features = train.columns.drop('Survived')"
   ]
  },
  {
   "cell_type": "markdown",
   "metadata": {
    "colab_type": "text",
    "id": "aiKL97JR5di7"
   },
   "source": [
    "> Features 9"
   ]
  },
  {
   "cell_type": "code",
   "execution_count": 469,
   "metadata": {
    "colab": {},
    "colab_type": "code",
    "id": "Q7iFNX6J5di7"
   },
   "outputs": [],
   "source": [
    "train['Embarked'] = df_train['Embarked'].fillna('S').copy()\n",
    "embark = pd.get_dummies(train['Embarked'], prefix='Embark')\n",
    "train = pd.concat([train, embark], axis=1).copy()\n",
    "train = train.drop('Embarked', axis=1).copy()\n",
    "\n",
    "features = train.columns.drop('Survived').copy()"
   ]
  },
  {
   "cell_type": "markdown",
   "metadata": {
    "colab_type": "text",
    "id": "qrcKWuBw5di8"
   },
   "source": [
    "> Features 10"
   ]
  },
  {
   "cell_type": "code",
   "execution_count": 470,
   "metadata": {
    "colab": {},
    "colab_type": "code",
    "id": "rSdSiFur5di9"
   },
   "outputs": [],
   "source": [
    "train['Name'] = df_train.Name.copy()\n",
    "surname = ['Mr.', 'Mrs', 'Miss', 'Master', 'Rev.', 'Dr', 'Col.', 'Sir.', \n",
    "           'Major', 'Don.', 'Capt']\n",
    "for rep in surname:\n",
    "    for name in train['Name'][train.Name.str.contains(rep, regex=False)]:\n",
    "        if rep in ['Col.', 'Major', 'Capt']:\n",
    "            train.replace(name, 'Army', inplace=True)\n",
    "        elif rep in ['Sir.', 'Don.']:\n",
    "            train.replace(name, 'Mr.', inplace=True)\n",
    "        else:\n",
    "            train.replace(name, rep, inplace=True)\n",
    "\n",
    "for title in train.Name:\n",
    "    if title not in ['Mr.', 'Miss', 'Mrs', 'Master', 'Dr', 'Rev', 'Army']:\n",
    "        train.replace(title, 'Miss', inplace=True)\n",
    "        \n",
    "name_dum = pd.get_dummies(train.Name, prefix='name').copy()\n",
    "train = pd.concat([train, name_dum], axis=1)\n",
    "\n",
    "train = train.drop('Name', axis=1)\n",
    "\n",
    "features = train.columns.drop('Survived').copy()        "
   ]
  },
  {
   "cell_type": "markdown",
   "metadata": {
    "colab_type": "text",
    "id": "cO7gdhpo5di-"
   },
   "source": [
    "> Features 11"
   ]
  },
  {
   "cell_type": "code",
   "execution_count": 471,
   "metadata": {
    "colab": {},
    "colab_type": "code",
    "id": "bT-Xu3035di_"
   },
   "outputs": [],
   "source": [
    "cab = df_train.Cabin.str.extract((r'([A-Za-z])'), ).fillna(0).copy()\n",
    "cab_dum = pd.get_dummies(cab, prefix='Deck')\n",
    "train = pd.concat([train, cab_dum], axis=1).copy()\n",
    "train = train.drop(['Deck_0'], axis=1).copy()\n",
    "\n",
    "features = train.columns.drop('Survived').copy()"
   ]
  },
  {
   "cell_type": "markdown",
   "metadata": {
    "colab_type": "text",
    "id": "MsJ4uiML5djC"
   },
   "source": [
    "> Features 12"
   ]
  },
  {
   "cell_type": "code",
   "execution_count": 472,
   "metadata": {
    "colab": {},
    "colab_type": "code",
    "id": "28-5AByc5djC"
   },
   "outputs": [],
   "source": [
    "surname = df_train.Name.str.extract(r'(\\w+)').copy()\n",
    "surname.columns = ['Surname']\n",
    "\n",
    "train = pd.concat([train, surname], axis=1).copy()\n",
    "mapping = train.Surname.value_counts()\n",
    "train.Surname = train.Surname.map(mapping).copy()\n",
    "\n",
    "features = train.columns.drop('Survived').copy()"
   ]
  },
  {
   "cell_type": "markdown",
   "metadata": {},
   "source": [
    "> Features 13"
   ]
  },
  {
   "cell_type": "code",
   "execution_count": 473,
   "metadata": {},
   "outputs": [],
   "source": [
    "null_cabin = df_train['Cabin'][df_train['Cabin'].isnull()]\n",
    "null_cabin.fillna(1, inplace=True)\n",
    "null_cabin.name = 'Null_Cabin'\n",
    "train = pd.concat([train, null_cabin], axis=1).fillna(0).copy()\n",
    "features = train.columns.drop('Survived')"
   ]
  },
  {
   "cell_type": "markdown",
   "metadata": {
    "colab_type": "text",
    "id": "cLKHt-CF5djE"
   },
   "source": [
    "# 05 - Baseline\n",
    "___________________"
   ]
  },
  {
   "cell_type": "markdown",
   "metadata": {
    "colab_type": "text",
    "id": "0BxmxH0J5djE"
   },
   "source": [
    "<p>The baseline is the gender submission with supposed to all female survived,\n",
    "you get only the women and compare with Survived like \n",
    "    (survived == women) than get mean</p>"
   ]
  },
  {
   "cell_type": "code",
   "execution_count": 16,
   "metadata": {
    "colab": {},
    "colab_type": "code",
    "id": "71rit1Of5djF"
   },
   "outputs": [],
   "source": [
    "y_true_bas = train.Survived[train.Sex == 1]\n",
    "y_pred_bas = train.Sex[train.Sex ==1]\n",
    "\n",
    "bas_acc = np.mean(y_true_bas == y_pred_bas)\n",
    "bas_f1 = f1_score(y_true_bas, y_pred_bas)"
   ]
  },
  {
   "cell_type": "code",
   "execution_count": 17,
   "metadata": {
    "colab": {
     "base_uri": "https://localhost:8080/",
     "height": 51
    },
    "colab_type": "code",
    "id": "J1iWeAOA5djH",
    "outputId": "cd5744f4-be68-4b9c-9ee9-9c273772c9e8"
   },
   "outputs": [
    {
     "name": "stdout",
     "output_type": "stream",
     "text": [
      "Baseline Accuracy: 0.742\n",
      "      Baseline F1: 0.852\n"
     ]
    }
   ],
   "source": [
    "print(f'Baseline Accuracy: {round(bas_acc, 3)}')\n",
    "print(f'      Baseline F1: {round(bas_f1, 3)}')"
   ]
  },
  {
   "cell_type": "markdown",
   "metadata": {
    "colab_type": "text",
    "id": "dgy1cbFX5djJ"
   },
   "source": [
    "# 06 - Model Soluctions\n",
    "___________________"
   ]
  },
  {
   "cell_type": "markdown",
   "metadata": {
    "colab_type": "text",
    "id": "YM5dvJojKTF4"
   },
   "source": [
    "### Split Data"
   ]
  },
  {
   "cell_type": "code",
   "execution_count": 719,
   "metadata": {
    "colab": {},
    "colab_type": "code",
    "id": "pqVBXCZNKREN"
   },
   "outputs": [],
   "source": [
    "X, y = train[features].copy(), train['Survived'].copy()\n",
    "Xtrain, Xvalid, ytrain, yvalid = train_test_split(X, y, test_size=0.5)"
   ]
  },
  {
   "cell_type": "markdown",
   "metadata": {
    "colab_type": "text",
    "id": "WkvqjL8hKJ2E"
   },
   "source": [
    "### Stander Scaler Data\n"
   ]
  },
  {
   "cell_type": "markdown",
   "metadata": {
    "colab": {},
    "colab_type": "code",
    "id": "3OX8C0vVXivB"
   },
   "source": [
    "I tryed with Standart Scaler and Power, but the MinMaxScaler was better"
   ]
  },
  {
   "cell_type": "code",
   "execution_count": 701,
   "metadata": {
    "colab": {},
    "colab_type": "code",
    "id": "vCswvcXIKJ1Y"
   },
   "outputs": [],
   "source": [
    "sca = MinMaxScaler()\n",
    "train_scaled = sca.fit_transform(X)\n",
    "Xtrain, Xvalid, ytrain, yvalid = train_test_split(train_scaled, y, test_size=0.5)"
   ]
  },
  {
   "cell_type": "markdown",
   "metadata": {
    "colab_type": "text",
    "id": "Gx4PVghOJdge"
   },
   "source": [
    "### Models to valid features"
   ]
  },
  {
   "cell_type": "code",
   "execution_count": 720,
   "metadata": {},
   "outputs": [],
   "source": [
    "models = [RandomForestClassifier(random_state=0), LogisticRegression(random_state=0), \n",
    "          GradientBoostingClassifier(random_state=0), LGBMClassifier(random_state=0)]\n",
    "scores = []"
   ]
  },
  {
   "cell_type": "code",
   "execution_count": 722,
   "metadata": {
    "collapsed": true,
    "jupyter": {
     "outputs_hidden": true
    }
   },
   "outputs": [
    {
     "name": "stdout",
     "output_type": "stream",
     "text": [
      "RandomFor: ACC: 0.78700 - F1: 0.71471\n",
      "RandomFor: ACC: 0.80717 - F1: 0.72611\n",
      "RandomFor: ACC: 0.81839 - F1: 0.76106\n",
      "RandomFor: ACC: 0.78924 - F1: 0.72674\n",
      "RandomFor: ACC: 0.79148 - F1: 0.71733\n",
      "RandomFor: ACC: 0.82287 - F1: 0.76558\n",
      "RandomFor: ACC: 0.81614 - F1: 0.74375\n",
      "RandomFor: ACC: 0.79596 - F1: 0.74221\n",
      "RandomFor: ACC: 0.82735 - F1: 0.76012\n",
      "RandomFor: ACC: 0.81839 - F1: 0.76246\n",
      "RandomFor: ACC: 0.80717 - F1: 0.73939\n",
      "RandomFor: ACC: 0.79372 - F1: 0.71069\n",
      "RandomFor: ACC: 0.82287 - F1: 0.75389\n",
      "RandomFor: ACC: 0.79148 - F1: 0.70476\n",
      "RandomFor: ACC: 0.80942 - F1: 0.74320\n",
      "RandomFor: ACC: 0.82287 - F1: 0.75988\n",
      "RandomFor: ACC: 0.84529 - F1: 0.78899\n",
      "RandomFor: ACC: 0.81614 - F1: 0.71528\n",
      "RandomFor: ACC: 0.81166 - F1: 0.74074\n",
      "RandomFor: ACC: 0.79372 - F1: 0.72289\n",
      "RandomFor: ACC: 0.78700 - F1: 0.70405\n",
      "RandomFor: ACC: 0.81839 - F1: 0.75229\n",
      "RandomFor: ACC: 0.83184 - F1: 0.75570\n",
      "RandomFor: ACC: 0.80942 - F1: 0.74474\n",
      "RandomFor: ACC: 0.80717 - F1: 0.74706\n",
      "RandomFor: ACC: 0.82511 - F1: 0.75926\n",
      "RandomFor: ACC: 0.82063 - F1: 0.75155\n",
      "RandomFor: ACC: 0.80717 - F1: 0.72785\n",
      "RandomFor: ACC: 0.79821 - F1: 0.73684\n",
      "RandomFor: ACC: 0.81614 - F1: 0.74691\n",
      "RandomFor: ACC: 0.78475 - F1: 0.72414\n",
      "RandomFor: ACC: 0.80942 - F1: 0.73186\n",
      "RandomFor: ACC: 0.80942 - F1: 0.73354\n",
      "RandomFor: ACC: 0.81166 - F1: 0.74545\n",
      "RandomFor: ACC: 0.79148 - F1: 0.71560\n",
      "RandomFor: ACC: 0.81839 - F1: 0.73786\n",
      "RandomFor: ACC: 0.79821 - F1: 0.75000\n",
      "RandomFor: ACC: 0.82063 - F1: 0.75758\n",
      "RandomFor: ACC: 0.80269 - F1: 0.72152\n",
      "RandomFor: ACC: 0.80717 - F1: 0.73620\n",
      "RandomFor: ACC: 0.83408 - F1: 0.77019\n",
      "RandomFor: ACC: 0.80493 - F1: 0.73556\n",
      "RandomFor: ACC: 0.79372 - F1: 0.72619\n",
      "RandomFor: ACC: 0.82063 - F1: 0.74843\n",
      "RandomFor: ACC: 0.83184 - F1: 0.76923\n",
      "RandomFor: ACC: 0.78475 - F1: 0.71084\n",
      "RandomFor: ACC: 0.80493 - F1: 0.73065\n",
      "RandomFor: ACC: 0.80942 - F1: 0.75073\n",
      "RandomFor: ACC: 0.81390 - F1: 0.75942\n",
      "RandomFor: ACC: 0.80493 - F1: 0.74783\n",
      "RandomFor: ACC: 0.80269 - F1: 0.71429\n",
      "RandomFor: ACC: 0.79821 - F1: 0.73988\n",
      "RandomFor: ACC: 0.79821 - F1: 0.73988\n",
      "RandomFor: ACC: 0.79821 - F1: 0.71698\n",
      "RandomFor: ACC: 0.80045 - F1: 0.72948\n",
      "RandomFor: ACC: 0.81390 - F1: 0.75075\n",
      "RandomFor: ACC: 0.79148 - F1: 0.70288\n",
      "RandomFor: ACC: 0.79596 - F1: 0.71651\n",
      "RandomFor: ACC: 0.78924 - F1: 0.71856\n",
      "RandomFor: ACC: 0.78251 - F1: 0.72521\n",
      "RandomFor: ACC: 0.81166 - F1: 0.75000\n",
      "RandomFor: ACC: 0.80269 - F1: 0.73653\n",
      "RandomFor: ACC: 0.81166 - F1: 0.74850\n",
      "RandomFor: ACC: 0.79148 - F1: 0.73803\n",
      "RandomFor: ACC: 0.81614 - F1: 0.75740\n",
      "RandomFor: ACC: 0.82511 - F1: 0.76923\n",
      "RandomFor: ACC: 0.83184 - F1: 0.76923\n",
      "RandomFor: ACC: 0.80045 - F1: 0.73112\n",
      "RandomFor: ACC: 0.81839 - F1: 0.77183\n",
      "RandomFor: ACC: 0.80045 - F1: 0.73433\n",
      "RandomFor: ACC: 0.80942 - F1: 0.74164\n",
      "RandomFor: ACC: 0.79596 - F1: 0.72997\n",
      "RandomFor: ACC: 0.80269 - F1: 0.71242\n",
      "RandomFor: ACC: 0.80269 - F1: 0.74118\n",
      "RandomFor: ACC: 0.80942 - F1: 0.74006\n",
      "RandomFor: ACC: 0.80269 - F1: 0.72500\n",
      "RandomFor: ACC: 0.80717 - F1: 0.73620\n",
      "RandomFor: ACC: 0.80269 - F1: 0.71795\n",
      "RandomFor: ACC: 0.80942 - F1: 0.73354\n",
      "RandomFor: ACC: 0.80717 - F1: 0.73125\n",
      "RandomFor: ACC: 0.80493 - F1: 0.73556\n",
      "RandomFor: ACC: 0.81390 - F1: 0.74303\n",
      "RandomFor: ACC: 0.80717 - F1: 0.74854\n",
      "RandomFor: ACC: 0.82960 - F1: 0.75949\n",
      "RandomFor: ACC: 0.82063 - F1: 0.74359\n",
      "RandomFor: ACC: 0.82511 - F1: 0.76923\n",
      "RandomFor: ACC: 0.82511 - F1: 0.76364\n",
      "RandomFor: ACC: 0.82511 - F1: 0.76786\n",
      "RandomFor: ACC: 0.80045 - F1: 0.74930\n",
      "RandomFor: ACC: 0.80717 - F1: 0.75978\n",
      "RandomFor: ACC: 0.80493 - F1: 0.73394\n",
      "RandomFor: ACC: 0.80493 - F1: 0.74030\n",
      "RandomFor: ACC: 0.80493 - F1: 0.74487\n",
      "RandomFor: ACC: 0.80045 - F1: 0.73112\n",
      "RandomFor: ACC: 0.81614 - F1: 0.76836\n",
      "RandomFor: ACC: 0.82960 - F1: 0.77515\n",
      "RandomFor: ACC: 0.80269 - F1: 0.73964\n",
      "RandomFor: ACC: 0.81614 - F1: 0.75740\n",
      "RandomFor: ACC: 0.82735 - F1: 0.74074\n",
      "RandomFor: ACC: 0.79148 - F1: 0.72566\n",
      "RandomFor: ACC: 0.79372 - F1: 0.71605\n",
      "RandomFor: ACC: 0.81390 - F1: 0.75802\n",
      "RandomFor: ACC: 0.78700 - F1: 0.71642\n",
      "RandomFor: ACC: 0.81839 - F1: 0.75077\n",
      "RandomFor: ACC: 0.81166 - F1: 0.73248\n",
      "RandomFor: ACC: 0.82511 - F1: 0.75625\n",
      "RandomFor: ACC: 0.79596 - F1: 0.72673\n",
      "RandomFor: ACC: 0.80717 - F1: 0.75568\n",
      "RandomFor: ACC: 0.82287 - F1: 0.76558\n",
      "RandomFor: ACC: 0.81839 - F1: 0.74766\n",
      "RandomFor: ACC: 0.79821 - F1: 0.70588\n",
      "RandomFor: ACC: 0.81166 - F1: 0.73750\n",
      "RandomFor: ACC: 0.79821 - F1: 0.73214\n",
      "RandomFor: ACC: 0.81839 - F1: 0.76522\n",
      "RandomFor: ACC: 0.80942 - F1: 0.72669\n",
      "RandomFor: ACC: 0.81839 - F1: 0.74286\n",
      "RandomFor: ACC: 0.76682 - F1: 0.69942\n",
      "RandomFor: ACC: 0.80269 - F1: 0.73333\n",
      "RandomFor: ACC: 0.78700 - F1: 0.71471\n",
      "RandomFor: ACC: 0.82063 - F1: 0.75758\n",
      "RandomFor: ACC: 0.81390 - F1: 0.75224\n",
      "RandomFor: ACC: 0.80942 - F1: 0.74320\n",
      "RandomFor: ACC: 0.80493 - F1: 0.75354\n",
      "RandomFor: ACC: 0.82063 - F1: 0.76048\n",
      "RandomFor: ACC: 0.78251 - F1: 0.71554\n",
      "RandomFor: ACC: 0.80045 - F1: 0.72274\n",
      "RandomFor: ACC: 0.80493 - F1: 0.73231\n",
      "RandomFor: ACC: 0.81166 - F1: 0.72368\n",
      "RandomFor: ACC: 0.80045 - F1: 0.73273\n",
      "RandomFor: ACC: 0.79596 - F1: 0.72340\n",
      "RandomFor: ACC: 0.80045 - F1: 0.74052\n",
      "RandomFor: ACC: 0.79372 - F1: 0.72619\n",
      "RandomFor: ACC: 0.78924 - F1: 0.72024\n",
      "RandomFor: ACC: 0.82287 - F1: 0.78237\n",
      "RandomFor: ACC: 0.82063 - F1: 0.73684\n",
      "RandomFor: ACC: 0.81839 - F1: 0.74923\n",
      "RandomFor: ACC: 0.79596 - F1: 0.72000\n",
      "RandomFor: ACC: 0.83184 - F1: 0.78873\n",
      "RandomFor: ACC: 0.80942 - F1: 0.73684\n",
      "RandomFor: ACC: 0.81166 - F1: 0.74850\n",
      "RandomFor: ACC: 0.80045 - F1: 0.71565\n",
      "RandomFor: ACC: 0.82063 - F1: 0.76190\n",
      "RandomFor: ACC: 0.80269 - F1: 0.73810\n",
      "RandomFor: ACC: 0.81614 - F1: 0.73026\n",
      "RandomFor: ACC: 0.81614 - F1: 0.73548\n",
      "RandomFor: ACC: 0.79821 - F1: 0.71519\n",
      "RandomFor: ACC: 0.78251 - F1: 0.72521\n",
      "RandomFor: ACC: 0.80269 - F1: 0.72840\n",
      "RandomFor: ACC: 0.80269 - F1: 0.74269\n",
      "RandomFor: ACC: 0.80269 - F1: 0.73171\n",
      "RandomFor: ACC: 0.81390 - F1: 0.73817\n",
      "RandomFor: ACC: 0.81390 - F1: 0.74143\n",
      "RandomFor: ACC: 0.79596 - F1: 0.72997\n",
      "RandomFor: ACC: 0.79148 - F1: 0.72727\n",
      "RandomFor: ACC: 0.81390 - F1: 0.75224\n",
      "RandomFor: ACC: 0.81390 - F1: 0.75075\n",
      "RandomFor: ACC: 0.78924 - F1: 0.72832\n",
      "RandomFor: ACC: 0.81166 - F1: 0.74074\n",
      "RandomFor: ACC: 0.80269 - F1: 0.75824\n",
      "RandomFor: ACC: 0.82960 - F1: 0.75949\n",
      "RandomFor: ACC: 0.82511 - F1: 0.77059\n",
      "RandomFor: ACC: 0.81166 - F1: 0.72368\n",
      "RandomFor: ACC: 0.80717 - F1: 0.74854\n",
      "RandomFor: ACC: 0.79372 - F1: 0.70701\n",
      "RandomFor: ACC: 0.80942 - F1: 0.75645\n",
      "RandomFor: ACC: 0.81614 - F1: 0.73718\n",
      "RandomFor: ACC: 0.80045 - F1: 0.72948\n",
      "RandomFor: ACC: 0.83184 - F1: 0.78006\n",
      "RandomFor: ACC: 0.82735 - F1: 0.75862\n",
      "RandomFor: ACC: 0.80269 - F1: 0.72327\n",
      "RandomFor: ACC: 0.80269 - F1: 0.74118\n",
      "RandomFor: ACC: 0.82063 - F1: 0.75155\n",
      "RandomFor: ACC: 0.81839 - F1: 0.73955\n",
      "RandomFor: ACC: 0.80269 - F1: 0.72152\n",
      "RandomFor: ACC: 0.81390 - F1: 0.74618\n",
      "RandomFor: ACC: 0.78924 - F1: 0.70988\n",
      "RandomFor: ACC: 0.79148 - F1: 0.73504\n",
      "RandomFor: ACC: 0.76233 - F1: 0.69886\n",
      "RandomFor: ACC: 0.80045 - F1: 0.72783\n",
      "RandomFor: ACC: 0.80717 - F1: 0.73780\n",
      "RandomFor: ACC: 0.80942 - F1: 0.73520\n",
      "RandomFor: ACC: 0.78700 - F1: 0.71299\n",
      "RandomFor: ACC: 0.82960 - F1: 0.77778\n",
      "RandomFor: ACC: 0.82063 - F1: 0.76879\n",
      "RandomFor: ACC: 0.78924 - F1: 0.70988\n",
      "RandomFor: ACC: 0.80493 - F1: 0.75493\n",
      "RandomFor: ACC: 0.79148 - F1: 0.71560\n",
      "RandomFor: ACC: 0.80269 - F1: 0.73810\n",
      "RandomFor: ACC: 0.80717 - F1: 0.74405\n",
      "RandomFor: ACC: 0.80942 - F1: 0.74627\n",
      "RandomFor: ACC: 0.79821 - F1: 0.74138\n",
      "RandomFor: ACC: 0.81390 - F1: 0.75075\n",
      "RandomFor: ACC: 0.79596 - F1: 0.71651\n",
      "RandomFor: ACC: 0.79821 - F1: 0.72727\n",
      "RandomFor: ACC: 0.80942 - F1: 0.74006\n",
      "RandomFor: ACC: 0.83857 - F1: 0.78049\n",
      "RandomFor: ACC: 0.80942 - F1: 0.73520\n",
      "RandomFor: ACC: 0.79372 - F1: 0.72121\n",
      "RandomFor: ACC: 0.81614 - F1: 0.75882\n",
      "RandomFor: ACC: 0.82063 - F1: 0.78495\n",
      "LogisticR: ACC: 0.78700 - F1: 0.72141\n",
      "LogisticR: ACC: 0.80493 - F1: 0.74336\n"
     ]
    },
    {
     "name": "stderr",
     "output_type": "stream",
     "text": [
      "C:\\Users\\diego.mayer\\AppData\\Local\\Continuum\\anaconda3\\lib\\site-packages\\sklearn\\linear_model\\_logistic.py:940: ConvergenceWarning: lbfgs failed to converge (status=1):\n",
      "STOP: TOTAL NO. of ITERATIONS REACHED LIMIT.\n",
      "\n",
      "Increase the number of iterations (max_iter) or scale the data as shown in:\n",
      "    https://scikit-learn.org/stable/modules/preprocessing.html\n",
      "Please also refer to the documentation for alternative solver options:\n",
      "    https://scikit-learn.org/stable/modules/linear_model.html#logistic-regression\n",
      "  extra_warning_msg=_LOGISTIC_SOLVER_CONVERGENCE_MSG)\n",
      "C:\\Users\\diego.mayer\\AppData\\Local\\Continuum\\anaconda3\\lib\\site-packages\\sklearn\\linear_model\\_logistic.py:940: ConvergenceWarning: lbfgs failed to converge (status=1):\n",
      "STOP: TOTAL NO. of ITERATIONS REACHED LIMIT.\n",
      "\n",
      "Increase the number of iterations (max_iter) or scale the data as shown in:\n",
      "    https://scikit-learn.org/stable/modules/preprocessing.html\n",
      "Please also refer to the documentation for alternative solver options:\n",
      "    https://scikit-learn.org/stable/modules/linear_model.html#logistic-regression\n",
      "  extra_warning_msg=_LOGISTIC_SOLVER_CONVERGENCE_MSG)\n",
      "C:\\Users\\diego.mayer\\AppData\\Local\\Continuum\\anaconda3\\lib\\site-packages\\sklearn\\linear_model\\_logistic.py:940: ConvergenceWarning: lbfgs failed to converge (status=1):\n",
      "STOP: TOTAL NO. of ITERATIONS REACHED LIMIT.\n",
      "\n",
      "Increase the number of iterations (max_iter) or scale the data as shown in:\n",
      "    https://scikit-learn.org/stable/modules/preprocessing.html\n",
      "Please also refer to the documentation for alternative solver options:\n",
      "    https://scikit-learn.org/stable/modules/linear_model.html#logistic-regression\n",
      "  extra_warning_msg=_LOGISTIC_SOLVER_CONVERGENCE_MSG)\n",
      "C:\\Users\\diego.mayer\\AppData\\Local\\Continuum\\anaconda3\\lib\\site-packages\\sklearn\\linear_model\\_logistic.py:940: ConvergenceWarning: lbfgs failed to converge (status=1):\n",
      "STOP: TOTAL NO. of ITERATIONS REACHED LIMIT.\n",
      "\n",
      "Increase the number of iterations (max_iter) or scale the data as shown in:\n",
      "    https://scikit-learn.org/stable/modules/preprocessing.html\n",
      "Please also refer to the documentation for alternative solver options:\n",
      "    https://scikit-learn.org/stable/modules/linear_model.html#logistic-regression\n",
      "  extra_warning_msg=_LOGISTIC_SOLVER_CONVERGENCE_MSG)\n"
     ]
    },
    {
     "name": "stdout",
     "output_type": "stream",
     "text": [
      "LogisticR: ACC: 0.81839 - F1: 0.74448\n",
      "LogisticR: ACC: 0.82735 - F1: 0.77419\n",
      "LogisticR: ACC: 0.80493 - F1: 0.73231\n",
      "LogisticR: ACC: 0.81166 - F1: 0.73913"
     ]
    },
    {
     "name": "stderr",
     "output_type": "stream",
     "text": [
      "C:\\Users\\diego.mayer\\AppData\\Local\\Continuum\\anaconda3\\lib\\site-packages\\sklearn\\linear_model\\_logistic.py:940: ConvergenceWarning: lbfgs failed to converge (status=1):\n",
      "STOP: TOTAL NO. of ITERATIONS REACHED LIMIT.\n",
      "\n",
      "Increase the number of iterations (max_iter) or scale the data as shown in:\n",
      "    https://scikit-learn.org/stable/modules/preprocessing.html\n",
      "Please also refer to the documentation for alternative solver options:\n",
      "    https://scikit-learn.org/stable/modules/linear_model.html#logistic-regression\n",
      "  extra_warning_msg=_LOGISTIC_SOLVER_CONVERGENCE_MSG)\n",
      "C:\\Users\\diego.mayer\\AppData\\Local\\Continuum\\anaconda3\\lib\\site-packages\\sklearn\\linear_model\\_logistic.py:940: ConvergenceWarning: lbfgs failed to converge (status=1):\n",
      "STOP: TOTAL NO. of ITERATIONS REACHED LIMIT.\n",
      "\n",
      "Increase the number of iterations (max_iter) or scale the data as shown in:\n",
      "    https://scikit-learn.org/stable/modules/preprocessing.html\n",
      "Please also refer to the documentation for alternative solver options:\n",
      "    https://scikit-learn.org/stable/modules/linear_model.html#logistic-regression\n",
      "  extra_warning_msg=_LOGISTIC_SOLVER_CONVERGENCE_MSG)\n",
      "C:\\Users\\diego.mayer\\AppData\\Local\\Continuum\\anaconda3\\lib\\site-packages\\sklearn\\linear_model\\_logistic.py:940: ConvergenceWarning: lbfgs failed to converge (status=1):\n",
      "STOP: TOTAL NO. of ITERATIONS REACHED LIMIT.\n",
      "\n",
      "Increase the number of iterations (max_iter) or scale the data as shown in:\n",
      "    https://scikit-learn.org/stable/modules/preprocessing.html\n",
      "Please also refer to the documentation for alternative solver options:\n",
      "    https://scikit-learn.org/stable/modules/linear_model.html#logistic-regression\n",
      "  extra_warning_msg=_LOGISTIC_SOLVER_CONVERGENCE_MSG)\n",
      "C:\\Users\\diego.mayer\\AppData\\Local\\Continuum\\anaconda3\\lib\\site-packages\\sklearn\\linear_model\\_logistic.py:940: ConvergenceWarning: lbfgs failed to converge (status=1):\n",
      "STOP: TOTAL NO. of ITERATIONS REACHED LIMIT.\n",
      "\n",
      "Increase the number of iterations (max_iter) or scale the data as shown in:\n",
      "    https://scikit-learn.org/stable/modules/preprocessing.html\n",
      "Please also refer to the documentation for alternative solver options:\n",
      "    https://scikit-learn.org/stable/modules/linear_model.html#logistic-regression\n",
      "  extra_warning_msg=_LOGISTIC_SOLVER_CONVERGENCE_MSG)\n"
     ]
    },
    {
     "name": "stdout",
     "output_type": "stream",
     "text": [
      "\n",
      "LogisticR: ACC: 0.81614 - F1: 0.75595\n",
      "LogisticR: ACC: 0.80717 - F1: 0.75000\n"
     ]
    },
    {
     "name": "stderr",
     "output_type": "stream",
     "text": [
      "C:\\Users\\diego.mayer\\AppData\\Local\\Continuum\\anaconda3\\lib\\site-packages\\sklearn\\linear_model\\_logistic.py:940: ConvergenceWarning: lbfgs failed to converge (status=1):\n",
      "STOP: TOTAL NO. of ITERATIONS REACHED LIMIT.\n",
      "\n",
      "Increase the number of iterations (max_iter) or scale the data as shown in:\n",
      "    https://scikit-learn.org/stable/modules/preprocessing.html\n",
      "Please also refer to the documentation for alternative solver options:\n",
      "    https://scikit-learn.org/stable/modules/linear_model.html#logistic-regression\n",
      "  extra_warning_msg=_LOGISTIC_SOLVER_CONVERGENCE_MSG)\n",
      "C:\\Users\\diego.mayer\\AppData\\Local\\Continuum\\anaconda3\\lib\\site-packages\\sklearn\\linear_model\\_logistic.py:940: ConvergenceWarning: lbfgs failed to converge (status=1):\n",
      "STOP: TOTAL NO. of ITERATIONS REACHED LIMIT.\n",
      "\n",
      "Increase the number of iterations (max_iter) or scale the data as shown in:\n",
      "    https://scikit-learn.org/stable/modules/preprocessing.html\n",
      "Please also refer to the documentation for alternative solver options:\n",
      "    https://scikit-learn.org/stable/modules/linear_model.html#logistic-regression\n",
      "  extra_warning_msg=_LOGISTIC_SOLVER_CONVERGENCE_MSG)\n",
      "C:\\Users\\diego.mayer\\AppData\\Local\\Continuum\\anaconda3\\lib\\site-packages\\sklearn\\linear_model\\_logistic.py:940: ConvergenceWarning: lbfgs failed to converge (status=1):\n",
      "STOP: TOTAL NO. of ITERATIONS REACHED LIMIT.\n",
      "\n",
      "Increase the number of iterations (max_iter) or scale the data as shown in:\n",
      "    https://scikit-learn.org/stable/modules/preprocessing.html\n",
      "Please also refer to the documentation for alternative solver options:\n",
      "    https://scikit-learn.org/stable/modules/linear_model.html#logistic-regression\n",
      "  extra_warning_msg=_LOGISTIC_SOLVER_CONVERGENCE_MSG)\n",
      "C:\\Users\\diego.mayer\\AppData\\Local\\Continuum\\anaconda3\\lib\\site-packages\\sklearn\\linear_model\\_logistic.py:940: ConvergenceWarning: lbfgs failed to converge (status=1):\n",
      "STOP: TOTAL NO. of ITERATIONS REACHED LIMIT.\n",
      "\n",
      "Increase the number of iterations (max_iter) or scale the data as shown in:\n",
      "    https://scikit-learn.org/stable/modules/preprocessing.html\n",
      "Please also refer to the documentation for alternative solver options:\n",
      "    https://scikit-learn.org/stable/modules/linear_model.html#logistic-regression\n",
      "  extra_warning_msg=_LOGISTIC_SOLVER_CONVERGENCE_MSG)\n"
     ]
    },
    {
     "name": "stdout",
     "output_type": "stream",
     "text": [
      "LogisticR: ACC: 0.80045 - F1: 0.73433\n",
      "LogisticR: ACC: 0.82287 - F1: 0.76418\n",
      "LogisticR: ACC: 0.82287 - F1: 0.75079\n"
     ]
    },
    {
     "name": "stderr",
     "output_type": "stream",
     "text": [
      "C:\\Users\\diego.mayer\\AppData\\Local\\Continuum\\anaconda3\\lib\\site-packages\\sklearn\\linear_model\\_logistic.py:940: ConvergenceWarning: lbfgs failed to converge (status=1):\n",
      "STOP: TOTAL NO. of ITERATIONS REACHED LIMIT.\n",
      "\n",
      "Increase the number of iterations (max_iter) or scale the data as shown in:\n",
      "    https://scikit-learn.org/stable/modules/preprocessing.html\n",
      "Please also refer to the documentation for alternative solver options:\n",
      "    https://scikit-learn.org/stable/modules/linear_model.html#logistic-regression\n",
      "  extra_warning_msg=_LOGISTIC_SOLVER_CONVERGENCE_MSG)\n",
      "C:\\Users\\diego.mayer\\AppData\\Local\\Continuum\\anaconda3\\lib\\site-packages\\sklearn\\linear_model\\_logistic.py:940: ConvergenceWarning: lbfgs failed to converge (status=1):\n",
      "STOP: TOTAL NO. of ITERATIONS REACHED LIMIT.\n",
      "\n",
      "Increase the number of iterations (max_iter) or scale the data as shown in:\n",
      "    https://scikit-learn.org/stable/modules/preprocessing.html\n",
      "Please also refer to the documentation for alternative solver options:\n",
      "    https://scikit-learn.org/stable/modules/linear_model.html#logistic-regression\n",
      "  extra_warning_msg=_LOGISTIC_SOLVER_CONVERGENCE_MSG)\n",
      "C:\\Users\\diego.mayer\\AppData\\Local\\Continuum\\anaconda3\\lib\\site-packages\\sklearn\\linear_model\\_logistic.py:940: ConvergenceWarning: lbfgs failed to converge (status=1):\n",
      "STOP: TOTAL NO. of ITERATIONS REACHED LIMIT.\n",
      "\n",
      "Increase the number of iterations (max_iter) or scale the data as shown in:\n",
      "    https://scikit-learn.org/stable/modules/preprocessing.html\n",
      "Please also refer to the documentation for alternative solver options:\n",
      "    https://scikit-learn.org/stable/modules/linear_model.html#logistic-regression\n",
      "  extra_warning_msg=_LOGISTIC_SOLVER_CONVERGENCE_MSG)\n"
     ]
    },
    {
     "name": "stdout",
     "output_type": "stream",
     "text": [
      "LogisticR: ACC: 0.81839 - F1: 0.75821\n",
      "LogisticR: ACC: 0.78700 - F1: 0.72303\n",
      "LogisticR: ACC: 0.82735 - F1: 0.75710\n",
      "LogisticR: ACC: 0.82287 - F1: 0.76276\n"
     ]
    },
    {
     "name": "stderr",
     "output_type": "stream",
     "text": [
      "C:\\Users\\diego.mayer\\AppData\\Local\\Continuum\\anaconda3\\lib\\site-packages\\sklearn\\linear_model\\_logistic.py:940: ConvergenceWarning: lbfgs failed to converge (status=1):\n",
      "STOP: TOTAL NO. of ITERATIONS REACHED LIMIT.\n",
      "\n",
      "Increase the number of iterations (max_iter) or scale the data as shown in:\n",
      "    https://scikit-learn.org/stable/modules/preprocessing.html\n",
      "Please also refer to the documentation for alternative solver options:\n",
      "    https://scikit-learn.org/stable/modules/linear_model.html#logistic-regression\n",
      "  extra_warning_msg=_LOGISTIC_SOLVER_CONVERGENCE_MSG)\n",
      "C:\\Users\\diego.mayer\\AppData\\Local\\Continuum\\anaconda3\\lib\\site-packages\\sklearn\\linear_model\\_logistic.py:940: ConvergenceWarning: lbfgs failed to converge (status=1):\n",
      "STOP: TOTAL NO. of ITERATIONS REACHED LIMIT.\n",
      "\n",
      "Increase the number of iterations (max_iter) or scale the data as shown in:\n",
      "    https://scikit-learn.org/stable/modules/preprocessing.html\n",
      "Please also refer to the documentation for alternative solver options:\n",
      "    https://scikit-learn.org/stable/modules/linear_model.html#logistic-regression\n",
      "  extra_warning_msg=_LOGISTIC_SOLVER_CONVERGENCE_MSG)\n",
      "C:\\Users\\diego.mayer\\AppData\\Local\\Continuum\\anaconda3\\lib\\site-packages\\sklearn\\linear_model\\_logistic.py:940: ConvergenceWarning: lbfgs failed to converge (status=1):\n",
      "STOP: TOTAL NO. of ITERATIONS REACHED LIMIT.\n",
      "\n",
      "Increase the number of iterations (max_iter) or scale the data as shown in:\n",
      "    https://scikit-learn.org/stable/modules/preprocessing.html\n",
      "Please also refer to the documentation for alternative solver options:\n",
      "    https://scikit-learn.org/stable/modules/linear_model.html#logistic-regression\n",
      "  extra_warning_msg=_LOGISTIC_SOLVER_CONVERGENCE_MSG)\n",
      "C:\\Users\\diego.mayer\\AppData\\Local\\Continuum\\anaconda3\\lib\\site-packages\\sklearn\\linear_model\\_logistic.py:940: ConvergenceWarning: lbfgs failed to converge (status=1):\n",
      "STOP: TOTAL NO. of ITERATIONS REACHED LIMIT.\n",
      "\n",
      "Increase the number of iterations (max_iter) or scale the data as shown in:\n",
      "    https://scikit-learn.org/stable/modules/preprocessing.html\n",
      "Please also refer to the documentation for alternative solver options:\n",
      "    https://scikit-learn.org/stable/modules/linear_model.html#logistic-regression\n",
      "  extra_warning_msg=_LOGISTIC_SOLVER_CONVERGENCE_MSG)\n"
     ]
    },
    {
     "name": "stdout",
     "output_type": "stream",
     "text": [
      "LogisticR: ACC: 0.81614 - F1: 0.77717\n",
      "LogisticR: ACC: 0.82960 - F1: 0.77381\n",
      "LogisticR: ACC: 0.82287 - F1: 0.77233\n"
     ]
    },
    {
     "name": "stderr",
     "output_type": "stream",
     "text": [
      "C:\\Users\\diego.mayer\\AppData\\Local\\Continuum\\anaconda3\\lib\\site-packages\\sklearn\\linear_model\\_logistic.py:940: ConvergenceWarning: lbfgs failed to converge (status=1):\n",
      "STOP: TOTAL NO. of ITERATIONS REACHED LIMIT.\n",
      "\n",
      "Increase the number of iterations (max_iter) or scale the data as shown in:\n",
      "    https://scikit-learn.org/stable/modules/preprocessing.html\n",
      "Please also refer to the documentation for alternative solver options:\n",
      "    https://scikit-learn.org/stable/modules/linear_model.html#logistic-regression\n",
      "  extra_warning_msg=_LOGISTIC_SOLVER_CONVERGENCE_MSG)\n",
      "C:\\Users\\diego.mayer\\AppData\\Local\\Continuum\\anaconda3\\lib\\site-packages\\sklearn\\linear_model\\_logistic.py:940: ConvergenceWarning: lbfgs failed to converge (status=1):\n",
      "STOP: TOTAL NO. of ITERATIONS REACHED LIMIT.\n",
      "\n",
      "Increase the number of iterations (max_iter) or scale the data as shown in:\n",
      "    https://scikit-learn.org/stable/modules/preprocessing.html\n",
      "Please also refer to the documentation for alternative solver options:\n",
      "    https://scikit-learn.org/stable/modules/linear_model.html#logistic-regression\n",
      "  extra_warning_msg=_LOGISTIC_SOLVER_CONVERGENCE_MSG)\n",
      "C:\\Users\\diego.mayer\\AppData\\Local\\Continuum\\anaconda3\\lib\\site-packages\\sklearn\\linear_model\\_logistic.py:940: ConvergenceWarning: lbfgs failed to converge (status=1):\n",
      "STOP: TOTAL NO. of ITERATIONS REACHED LIMIT.\n",
      "\n",
      "Increase the number of iterations (max_iter) or scale the data as shown in:\n",
      "    https://scikit-learn.org/stable/modules/preprocessing.html\n",
      "Please also refer to the documentation for alternative solver options:\n",
      "    https://scikit-learn.org/stable/modules/linear_model.html#logistic-regression\n",
      "  extra_warning_msg=_LOGISTIC_SOLVER_CONVERGENCE_MSG)\n"
     ]
    },
    {
     "name": "stdout",
     "output_type": "stream",
     "text": [
      "LogisticR: ACC: 0.81390 - F1: 0.75660\n",
      "LogisticR: ACC: 0.81839 - F1: 0.75529\n",
      "LogisticR: ACC: 0.82960 - F1: 0.76250\n",
      "LogisticR: ACC: 0.80493 - F1: 0.71845\n"
     ]
    },
    {
     "name": "stderr",
     "output_type": "stream",
     "text": [
      "C:\\Users\\diego.mayer\\AppData\\Local\\Continuum\\anaconda3\\lib\\site-packages\\sklearn\\linear_model\\_logistic.py:940: ConvergenceWarning: lbfgs failed to converge (status=1):\n",
      "STOP: TOTAL NO. of ITERATIONS REACHED LIMIT.\n",
      "\n",
      "Increase the number of iterations (max_iter) or scale the data as shown in:\n",
      "    https://scikit-learn.org/stable/modules/preprocessing.html\n",
      "Please also refer to the documentation for alternative solver options:\n",
      "    https://scikit-learn.org/stable/modules/linear_model.html#logistic-regression\n",
      "  extra_warning_msg=_LOGISTIC_SOLVER_CONVERGENCE_MSG)\n",
      "C:\\Users\\diego.mayer\\AppData\\Local\\Continuum\\anaconda3\\lib\\site-packages\\sklearn\\linear_model\\_logistic.py:940: ConvergenceWarning: lbfgs failed to converge (status=1):\n",
      "STOP: TOTAL NO. of ITERATIONS REACHED LIMIT.\n",
      "\n",
      "Increase the number of iterations (max_iter) or scale the data as shown in:\n",
      "    https://scikit-learn.org/stable/modules/preprocessing.html\n",
      "Please also refer to the documentation for alternative solver options:\n",
      "    https://scikit-learn.org/stable/modules/linear_model.html#logistic-regression\n",
      "  extra_warning_msg=_LOGISTIC_SOLVER_CONVERGENCE_MSG)\n",
      "C:\\Users\\diego.mayer\\AppData\\Local\\Continuum\\anaconda3\\lib\\site-packages\\sklearn\\linear_model\\_logistic.py:940: ConvergenceWarning: lbfgs failed to converge (status=1):\n",
      "STOP: TOTAL NO. of ITERATIONS REACHED LIMIT.\n",
      "\n",
      "Increase the number of iterations (max_iter) or scale the data as shown in:\n",
      "    https://scikit-learn.org/stable/modules/preprocessing.html\n",
      "Please also refer to the documentation for alternative solver options:\n",
      "    https://scikit-learn.org/stable/modules/linear_model.html#logistic-regression\n",
      "  extra_warning_msg=_LOGISTIC_SOLVER_CONVERGENCE_MSG)\n"
     ]
    },
    {
     "name": "stdout",
     "output_type": "stream",
     "text": [
      "LogisticR: ACC: 0.81166 - F1: 0.73750\n",
      "LogisticR: ACC: 0.80269 - F1: 0.72840\n",
      "LogisticR: ACC: 0.80269 - F1: 0.73964\n"
     ]
    },
    {
     "name": "stderr",
     "output_type": "stream",
     "text": [
      "C:\\Users\\diego.mayer\\AppData\\Local\\Continuum\\anaconda3\\lib\\site-packages\\sklearn\\linear_model\\_logistic.py:940: ConvergenceWarning: lbfgs failed to converge (status=1):\n",
      "STOP: TOTAL NO. of ITERATIONS REACHED LIMIT.\n",
      "\n",
      "Increase the number of iterations (max_iter) or scale the data as shown in:\n",
      "    https://scikit-learn.org/stable/modules/preprocessing.html\n",
      "Please also refer to the documentation for alternative solver options:\n",
      "    https://scikit-learn.org/stable/modules/linear_model.html#logistic-regression\n",
      "  extra_warning_msg=_LOGISTIC_SOLVER_CONVERGENCE_MSG)\n",
      "C:\\Users\\diego.mayer\\AppData\\Local\\Continuum\\anaconda3\\lib\\site-packages\\sklearn\\linear_model\\_logistic.py:940: ConvergenceWarning: lbfgs failed to converge (status=1):\n",
      "STOP: TOTAL NO. of ITERATIONS REACHED LIMIT.\n",
      "\n",
      "Increase the number of iterations (max_iter) or scale the data as shown in:\n",
      "    https://scikit-learn.org/stable/modules/preprocessing.html\n",
      "Please also refer to the documentation for alternative solver options:\n",
      "    https://scikit-learn.org/stable/modules/linear_model.html#logistic-regression\n",
      "  extra_warning_msg=_LOGISTIC_SOLVER_CONVERGENCE_MSG)\n",
      "C:\\Users\\diego.mayer\\AppData\\Local\\Continuum\\anaconda3\\lib\\site-packages\\sklearn\\linear_model\\_logistic.py:940: ConvergenceWarning: lbfgs failed to converge (status=1):\n",
      "STOP: TOTAL NO. of ITERATIONS REACHED LIMIT.\n",
      "\n",
      "Increase the number of iterations (max_iter) or scale the data as shown in:\n",
      "    https://scikit-learn.org/stable/modules/preprocessing.html\n",
      "Please also refer to the documentation for alternative solver options:\n",
      "    https://scikit-learn.org/stable/modules/linear_model.html#logistic-regression\n",
      "  extra_warning_msg=_LOGISTIC_SOLVER_CONVERGENCE_MSG)\n",
      "C:\\Users\\diego.mayer\\AppData\\Local\\Continuum\\anaconda3\\lib\\site-packages\\sklearn\\linear_model\\_logistic.py:940: ConvergenceWarning: lbfgs failed to converge (status=1):\n",
      "STOP: TOTAL NO. of ITERATIONS REACHED LIMIT.\n",
      "\n",
      "Increase the number of iterations (max_iter) or scale the data as shown in:\n",
      "    https://scikit-learn.org/stable/modules/preprocessing.html\n",
      "Please also refer to the documentation for alternative solver options:\n",
      "    https://scikit-learn.org/stable/modules/linear_model.html#logistic-regression\n",
      "  extra_warning_msg=_LOGISTIC_SOLVER_CONVERGENCE_MSG)\n"
     ]
    },
    {
     "name": "stdout",
     "output_type": "stream",
     "text": [
      "LogisticR: ACC: 0.80493 - F1: 0.73716\n",
      "LogisticR: ACC: 0.82063 - F1: 0.76608\n",
      "LogisticR: ACC: 0.80942 - F1: 0.75073\n",
      "LogisticR: ACC: 0.80045 - F1: 0.73591\n",
      "LogisticR: ACC: 0.83632 - F1: 0.78078\n",
      "LogisticR: ACC: 0.78924 - F1: 0.72189\n",
      "LogisticR: ACC: 0.80045 - F1: 0.74052\n"
     ]
    },
    {
     "name": "stderr",
     "output_type": "stream",
     "text": [
      "C:\\Users\\diego.mayer\\AppData\\Local\\Continuum\\anaconda3\\lib\\site-packages\\sklearn\\linear_model\\_logistic.py:940: ConvergenceWarning: lbfgs failed to converge (status=1):\n",
      "STOP: TOTAL NO. of ITERATIONS REACHED LIMIT.\n",
      "\n",
      "Increase the number of iterations (max_iter) or scale the data as shown in:\n",
      "    https://scikit-learn.org/stable/modules/preprocessing.html\n",
      "Please also refer to the documentation for alternative solver options:\n",
      "    https://scikit-learn.org/stable/modules/linear_model.html#logistic-regression\n",
      "  extra_warning_msg=_LOGISTIC_SOLVER_CONVERGENCE_MSG)\n",
      "C:\\Users\\diego.mayer\\AppData\\Local\\Continuum\\anaconda3\\lib\\site-packages\\sklearn\\linear_model\\_logistic.py:940: ConvergenceWarning: lbfgs failed to converge (status=1):\n",
      "STOP: TOTAL NO. of ITERATIONS REACHED LIMIT.\n",
      "\n",
      "Increase the number of iterations (max_iter) or scale the data as shown in:\n",
      "    https://scikit-learn.org/stable/modules/preprocessing.html\n",
      "Please also refer to the documentation for alternative solver options:\n",
      "    https://scikit-learn.org/stable/modules/linear_model.html#logistic-regression\n",
      "  extra_warning_msg=_LOGISTIC_SOLVER_CONVERGENCE_MSG)\n",
      "C:\\Users\\diego.mayer\\AppData\\Local\\Continuum\\anaconda3\\lib\\site-packages\\sklearn\\linear_model\\_logistic.py:940: ConvergenceWarning: lbfgs failed to converge (status=1):\n",
      "STOP: TOTAL NO. of ITERATIONS REACHED LIMIT.\n",
      "\n",
      "Increase the number of iterations (max_iter) or scale the data as shown in:\n",
      "    https://scikit-learn.org/stable/modules/preprocessing.html\n",
      "Please also refer to the documentation for alternative solver options:\n",
      "    https://scikit-learn.org/stable/modules/linear_model.html#logistic-regression\n",
      "  extra_warning_msg=_LOGISTIC_SOLVER_CONVERGENCE_MSG)\n",
      "C:\\Users\\diego.mayer\\AppData\\Local\\Continuum\\anaconda3\\lib\\site-packages\\sklearn\\linear_model\\_logistic.py:940: ConvergenceWarning: lbfgs failed to converge (status=1):\n",
      "STOP: TOTAL NO. of ITERATIONS REACHED LIMIT.\n",
      "\n",
      "Increase the number of iterations (max_iter) or scale the data as shown in:\n",
      "    https://scikit-learn.org/stable/modules/preprocessing.html\n",
      "Please also refer to the documentation for alternative solver options:\n",
      "    https://scikit-learn.org/stable/modules/linear_model.html#logistic-regression\n",
      "  extra_warning_msg=_LOGISTIC_SOLVER_CONVERGENCE_MSG)\n"
     ]
    },
    {
     "name": "stdout",
     "output_type": "stream",
     "text": [
      "LogisticR: ACC: 0.82735 - F1: 0.75862\n",
      "LogisticR: ACC: 0.78924 - F1: 0.71166\n",
      "LogisticR: ACC: 0.81614 - F1: 0.76705\n"
     ]
    },
    {
     "name": "stderr",
     "output_type": "stream",
     "text": [
      "C:\\Users\\diego.mayer\\AppData\\Local\\Continuum\\anaconda3\\lib\\site-packages\\sklearn\\linear_model\\_logistic.py:940: ConvergenceWarning: lbfgs failed to converge (status=1):\n",
      "STOP: TOTAL NO. of ITERATIONS REACHED LIMIT.\n",
      "\n",
      "Increase the number of iterations (max_iter) or scale the data as shown in:\n",
      "    https://scikit-learn.org/stable/modules/preprocessing.html\n",
      "Please also refer to the documentation for alternative solver options:\n",
      "    https://scikit-learn.org/stable/modules/linear_model.html#logistic-regression\n",
      "  extra_warning_msg=_LOGISTIC_SOLVER_CONVERGENCE_MSG)\n",
      "C:\\Users\\diego.mayer\\AppData\\Local\\Continuum\\anaconda3\\lib\\site-packages\\sklearn\\linear_model\\_logistic.py:940: ConvergenceWarning: lbfgs failed to converge (status=1):\n",
      "STOP: TOTAL NO. of ITERATIONS REACHED LIMIT.\n",
      "\n",
      "Increase the number of iterations (max_iter) or scale the data as shown in:\n",
      "    https://scikit-learn.org/stable/modules/preprocessing.html\n",
      "Please also refer to the documentation for alternative solver options:\n",
      "    https://scikit-learn.org/stable/modules/linear_model.html#logistic-regression\n",
      "  extra_warning_msg=_LOGISTIC_SOLVER_CONVERGENCE_MSG)\n",
      "C:\\Users\\diego.mayer\\AppData\\Local\\Continuum\\anaconda3\\lib\\site-packages\\sklearn\\linear_model\\_logistic.py:940: ConvergenceWarning: lbfgs failed to converge (status=1):\n",
      "STOP: TOTAL NO. of ITERATIONS REACHED LIMIT.\n",
      "\n",
      "Increase the number of iterations (max_iter) or scale the data as shown in:\n",
      "    https://scikit-learn.org/stable/modules/preprocessing.html\n",
      "Please also refer to the documentation for alternative solver options:\n",
      "    https://scikit-learn.org/stable/modules/linear_model.html#logistic-regression\n",
      "  extra_warning_msg=_LOGISTIC_SOLVER_CONVERGENCE_MSG)\n",
      "C:\\Users\\diego.mayer\\AppData\\Local\\Continuum\\anaconda3\\lib\\site-packages\\sklearn\\linear_model\\_logistic.py:940: ConvergenceWarning: lbfgs failed to converge (status=1):\n",
      "STOP: TOTAL NO. of ITERATIONS REACHED LIMIT.\n",
      "\n",
      "Increase the number of iterations (max_iter) or scale the data as shown in:\n",
      "    https://scikit-learn.org/stable/modules/preprocessing.html\n",
      "Please also refer to the documentation for alternative solver options:\n",
      "    https://scikit-learn.org/stable/modules/linear_model.html#logistic-regression\n",
      "  extra_warning_msg=_LOGISTIC_SOLVER_CONVERGENCE_MSG)\n"
     ]
    },
    {
     "name": "stdout",
     "output_type": "stream",
     "text": [
      "LogisticR: ACC: 0.80717 - F1: 0.75145\n",
      "LogisticR: ACC: 0.79596 - F1: 0.73623\n",
      "LogisticR: ACC: 0.80269 - F1: 0.72500\n"
     ]
    },
    {
     "name": "stderr",
     "output_type": "stream",
     "text": [
      "C:\\Users\\diego.mayer\\AppData\\Local\\Continuum\\anaconda3\\lib\\site-packages\\sklearn\\linear_model\\_logistic.py:940: ConvergenceWarning: lbfgs failed to converge (status=1):\n",
      "STOP: TOTAL NO. of ITERATIONS REACHED LIMIT.\n",
      "\n",
      "Increase the number of iterations (max_iter) or scale the data as shown in:\n",
      "    https://scikit-learn.org/stable/modules/preprocessing.html\n",
      "Please also refer to the documentation for alternative solver options:\n",
      "    https://scikit-learn.org/stable/modules/linear_model.html#logistic-regression\n",
      "  extra_warning_msg=_LOGISTIC_SOLVER_CONVERGENCE_MSG)\n",
      "C:\\Users\\diego.mayer\\AppData\\Local\\Continuum\\anaconda3\\lib\\site-packages\\sklearn\\linear_model\\_logistic.py:940: ConvergenceWarning: lbfgs failed to converge (status=1):\n",
      "STOP: TOTAL NO. of ITERATIONS REACHED LIMIT.\n",
      "\n",
      "Increase the number of iterations (max_iter) or scale the data as shown in:\n",
      "    https://scikit-learn.org/stable/modules/preprocessing.html\n",
      "Please also refer to the documentation for alternative solver options:\n",
      "    https://scikit-learn.org/stable/modules/linear_model.html#logistic-regression\n",
      "  extra_warning_msg=_LOGISTIC_SOLVER_CONVERGENCE_MSG)\n",
      "C:\\Users\\diego.mayer\\AppData\\Local\\Continuum\\anaconda3\\lib\\site-packages\\sklearn\\linear_model\\_logistic.py:940: ConvergenceWarning: lbfgs failed to converge (status=1):\n",
      "STOP: TOTAL NO. of ITERATIONS REACHED LIMIT.\n",
      "\n",
      "Increase the number of iterations (max_iter) or scale the data as shown in:\n",
      "    https://scikit-learn.org/stable/modules/preprocessing.html\n",
      "Please also refer to the documentation for alternative solver options:\n",
      "    https://scikit-learn.org/stable/modules/linear_model.html#logistic-regression\n",
      "  extra_warning_msg=_LOGISTIC_SOLVER_CONVERGENCE_MSG)\n",
      "C:\\Users\\diego.mayer\\AppData\\Local\\Continuum\\anaconda3\\lib\\site-packages\\sklearn\\linear_model\\_logistic.py:940: ConvergenceWarning: lbfgs failed to converge (status=1):\n",
      "STOP: TOTAL NO. of ITERATIONS REACHED LIMIT.\n",
      "\n",
      "Increase the number of iterations (max_iter) or scale the data as shown in:\n",
      "    https://scikit-learn.org/stable/modules/preprocessing.html\n",
      "Please also refer to the documentation for alternative solver options:\n",
      "    https://scikit-learn.org/stable/modules/linear_model.html#logistic-regression\n",
      "  extra_warning_msg=_LOGISTIC_SOLVER_CONVERGENCE_MSG)\n"
     ]
    },
    {
     "name": "stdout",
     "output_type": "stream",
     "text": [
      "LogisticR: ACC: 0.82063 - F1: 0.75610\n",
      "LogisticR: ACC: 0.78700 - F1: 0.70948\n",
      "LogisticR: ACC: 0.82511 - F1: 0.74675\n"
     ]
    },
    {
     "name": "stderr",
     "output_type": "stream",
     "text": [
      "C:\\Users\\diego.mayer\\AppData\\Local\\Continuum\\anaconda3\\lib\\site-packages\\sklearn\\linear_model\\_logistic.py:940: ConvergenceWarning: lbfgs failed to converge (status=1):\n",
      "STOP: TOTAL NO. of ITERATIONS REACHED LIMIT.\n",
      "\n",
      "Increase the number of iterations (max_iter) or scale the data as shown in:\n",
      "    https://scikit-learn.org/stable/modules/preprocessing.html\n",
      "Please also refer to the documentation for alternative solver options:\n",
      "    https://scikit-learn.org/stable/modules/linear_model.html#logistic-regression\n",
      "  extra_warning_msg=_LOGISTIC_SOLVER_CONVERGENCE_MSG)\n",
      "C:\\Users\\diego.mayer\\AppData\\Local\\Continuum\\anaconda3\\lib\\site-packages\\sklearn\\linear_model\\_logistic.py:940: ConvergenceWarning: lbfgs failed to converge (status=1):\n",
      "STOP: TOTAL NO. of ITERATIONS REACHED LIMIT.\n",
      "\n",
      "Increase the number of iterations (max_iter) or scale the data as shown in:\n",
      "    https://scikit-learn.org/stable/modules/preprocessing.html\n",
      "Please also refer to the documentation for alternative solver options:\n",
      "    https://scikit-learn.org/stable/modules/linear_model.html#logistic-regression\n",
      "  extra_warning_msg=_LOGISTIC_SOLVER_CONVERGENCE_MSG)\n"
     ]
    },
    {
     "name": "stdout",
     "output_type": "stream",
     "text": [
      "LogisticR: ACC: 0.80269 - F1: 0.75141\n",
      "LogisticR: ACC: 0.78700 - F1: 0.71810\n",
      "LogisticR: ACC: 0.81166 - F1: 0.74233\n"
     ]
    },
    {
     "name": "stderr",
     "output_type": "stream",
     "text": [
      "C:\\Users\\diego.mayer\\AppData\\Local\\Continuum\\anaconda3\\lib\\site-packages\\sklearn\\linear_model\\_logistic.py:940: ConvergenceWarning: lbfgs failed to converge (status=1):\n",
      "STOP: TOTAL NO. of ITERATIONS REACHED LIMIT.\n",
      "\n",
      "Increase the number of iterations (max_iter) or scale the data as shown in:\n",
      "    https://scikit-learn.org/stable/modules/preprocessing.html\n",
      "Please also refer to the documentation for alternative solver options:\n",
      "    https://scikit-learn.org/stable/modules/linear_model.html#logistic-regression\n",
      "  extra_warning_msg=_LOGISTIC_SOLVER_CONVERGENCE_MSG)\n",
      "C:\\Users\\diego.mayer\\AppData\\Local\\Continuum\\anaconda3\\lib\\site-packages\\sklearn\\linear_model\\_logistic.py:940: ConvergenceWarning: lbfgs failed to converge (status=1):\n",
      "STOP: TOTAL NO. of ITERATIONS REACHED LIMIT.\n",
      "\n",
      "Increase the number of iterations (max_iter) or scale the data as shown in:\n",
      "    https://scikit-learn.org/stable/modules/preprocessing.html\n",
      "Please also refer to the documentation for alternative solver options:\n",
      "    https://scikit-learn.org/stable/modules/linear_model.html#logistic-regression\n",
      "  extra_warning_msg=_LOGISTIC_SOLVER_CONVERGENCE_MSG)\n",
      "C:\\Users\\diego.mayer\\AppData\\Local\\Continuum\\anaconda3\\lib\\site-packages\\sklearn\\linear_model\\_logistic.py:940: ConvergenceWarning: lbfgs failed to converge (status=1):\n",
      "STOP: TOTAL NO. of ITERATIONS REACHED LIMIT.\n",
      "\n",
      "Increase the number of iterations (max_iter) or scale the data as shown in:\n",
      "    https://scikit-learn.org/stable/modules/preprocessing.html\n",
      "Please also refer to the documentation for alternative solver options:\n",
      "    https://scikit-learn.org/stable/modules/linear_model.html#logistic-regression\n",
      "  extra_warning_msg=_LOGISTIC_SOLVER_CONVERGENCE_MSG)\n",
      "C:\\Users\\diego.mayer\\AppData\\Local\\Continuum\\anaconda3\\lib\\site-packages\\sklearn\\linear_model\\_logistic.py:940: ConvergenceWarning: lbfgs failed to converge (status=1):\n",
      "STOP: TOTAL NO. of ITERATIONS REACHED LIMIT.\n",
      "\n",
      "Increase the number of iterations (max_iter) or scale the data as shown in:\n",
      "    https://scikit-learn.org/stable/modules/preprocessing.html\n",
      "Please also refer to the documentation for alternative solver options:\n",
      "    https://scikit-learn.org/stable/modules/linear_model.html#logistic-regression\n",
      "  extra_warning_msg=_LOGISTIC_SOLVER_CONVERGENCE_MSG)\n"
     ]
    },
    {
     "name": "stdout",
     "output_type": "stream",
     "text": [
      "LogisticR: ACC: 0.80493 - F1: 0.72897\n",
      "LogisticR: ACC: 0.82063 - F1: 0.77528\n",
      "LogisticR: ACC: 0.78924 - F1: 0.71515\n",
      "LogisticR: ACC: 0.82287 - F1: 0.77233"
     ]
    },
    {
     "name": "stderr",
     "output_type": "stream",
     "text": [
      "C:\\Users\\diego.mayer\\AppData\\Local\\Continuum\\anaconda3\\lib\\site-packages\\sklearn\\linear_model\\_logistic.py:940: ConvergenceWarning: lbfgs failed to converge (status=1):\n",
      "STOP: TOTAL NO. of ITERATIONS REACHED LIMIT.\n",
      "\n",
      "Increase the number of iterations (max_iter) or scale the data as shown in:\n",
      "    https://scikit-learn.org/stable/modules/preprocessing.html\n",
      "Please also refer to the documentation for alternative solver options:\n",
      "    https://scikit-learn.org/stable/modules/linear_model.html#logistic-regression\n",
      "  extra_warning_msg=_LOGISTIC_SOLVER_CONVERGENCE_MSG)\n",
      "C:\\Users\\diego.mayer\\AppData\\Local\\Continuum\\anaconda3\\lib\\site-packages\\sklearn\\linear_model\\_logistic.py:940: ConvergenceWarning: lbfgs failed to converge (status=1):\n",
      "STOP: TOTAL NO. of ITERATIONS REACHED LIMIT.\n",
      "\n",
      "Increase the number of iterations (max_iter) or scale the data as shown in:\n",
      "    https://scikit-learn.org/stable/modules/preprocessing.html\n",
      "Please also refer to the documentation for alternative solver options:\n",
      "    https://scikit-learn.org/stable/modules/linear_model.html#logistic-regression\n",
      "  extra_warning_msg=_LOGISTIC_SOLVER_CONVERGENCE_MSG)\n",
      "C:\\Users\\diego.mayer\\AppData\\Local\\Continuum\\anaconda3\\lib\\site-packages\\sklearn\\linear_model\\_logistic.py:940: ConvergenceWarning: lbfgs failed to converge (status=1):\n",
      "STOP: TOTAL NO. of ITERATIONS REACHED LIMIT.\n",
      "\n",
      "Increase the number of iterations (max_iter) or scale the data as shown in:\n",
      "    https://scikit-learn.org/stable/modules/preprocessing.html\n",
      "Please also refer to the documentation for alternative solver options:\n",
      "    https://scikit-learn.org/stable/modules/linear_model.html#logistic-regression\n",
      "  extra_warning_msg=_LOGISTIC_SOLVER_CONVERGENCE_MSG)\n"
     ]
    },
    {
     "name": "stdout",
     "output_type": "stream",
     "text": [
      "\n",
      "LogisticR: ACC: 0.80269 - F1: 0.74419\n",
      "LogisticR: ACC: 0.80717 - F1: 0.74251\n",
      "LogisticR: ACC: 0.80717 - F1: 0.76374\n"
     ]
    },
    {
     "name": "stderr",
     "output_type": "stream",
     "text": [
      "C:\\Users\\diego.mayer\\AppData\\Local\\Continuum\\anaconda3\\lib\\site-packages\\sklearn\\linear_model\\_logistic.py:940: ConvergenceWarning: lbfgs failed to converge (status=1):\n",
      "STOP: TOTAL NO. of ITERATIONS REACHED LIMIT.\n",
      "\n",
      "Increase the number of iterations (max_iter) or scale the data as shown in:\n",
      "    https://scikit-learn.org/stable/modules/preprocessing.html\n",
      "Please also refer to the documentation for alternative solver options:\n",
      "    https://scikit-learn.org/stable/modules/linear_model.html#logistic-regression\n",
      "  extra_warning_msg=_LOGISTIC_SOLVER_CONVERGENCE_MSG)\n",
      "C:\\Users\\diego.mayer\\AppData\\Local\\Continuum\\anaconda3\\lib\\site-packages\\sklearn\\linear_model\\_logistic.py:940: ConvergenceWarning: lbfgs failed to converge (status=1):\n",
      "STOP: TOTAL NO. of ITERATIONS REACHED LIMIT.\n",
      "\n",
      "Increase the number of iterations (max_iter) or scale the data as shown in:\n",
      "    https://scikit-learn.org/stable/modules/preprocessing.html\n",
      "Please also refer to the documentation for alternative solver options:\n",
      "    https://scikit-learn.org/stable/modules/linear_model.html#logistic-regression\n",
      "  extra_warning_msg=_LOGISTIC_SOLVER_CONVERGENCE_MSG)\n",
      "C:\\Users\\diego.mayer\\AppData\\Local\\Continuum\\anaconda3\\lib\\site-packages\\sklearn\\linear_model\\_logistic.py:940: ConvergenceWarning: lbfgs failed to converge (status=1):\n",
      "STOP: TOTAL NO. of ITERATIONS REACHED LIMIT.\n",
      "\n",
      "Increase the number of iterations (max_iter) or scale the data as shown in:\n",
      "    https://scikit-learn.org/stable/modules/preprocessing.html\n",
      "Please also refer to the documentation for alternative solver options:\n",
      "    https://scikit-learn.org/stable/modules/linear_model.html#logistic-regression\n",
      "  extra_warning_msg=_LOGISTIC_SOLVER_CONVERGENCE_MSG)\n"
     ]
    },
    {
     "name": "stdout",
     "output_type": "stream",
     "text": [
      "LogisticR: ACC: 0.80269 - F1: 0.74566\n",
      "LogisticR: ACC: 0.84081 - F1: 0.79300\n",
      "LogisticR: ACC: 0.80493 - F1: 0.74030\n"
     ]
    },
    {
     "name": "stderr",
     "output_type": "stream",
     "text": [
      "C:\\Users\\diego.mayer\\AppData\\Local\\Continuum\\anaconda3\\lib\\site-packages\\sklearn\\linear_model\\_logistic.py:940: ConvergenceWarning: lbfgs failed to converge (status=1):\n",
      "STOP: TOTAL NO. of ITERATIONS REACHED LIMIT.\n",
      "\n",
      "Increase the number of iterations (max_iter) or scale the data as shown in:\n",
      "    https://scikit-learn.org/stable/modules/preprocessing.html\n",
      "Please also refer to the documentation for alternative solver options:\n",
      "    https://scikit-learn.org/stable/modules/linear_model.html#logistic-regression\n",
      "  extra_warning_msg=_LOGISTIC_SOLVER_CONVERGENCE_MSG)\n",
      "C:\\Users\\diego.mayer\\AppData\\Local\\Continuum\\anaconda3\\lib\\site-packages\\sklearn\\linear_model\\_logistic.py:940: ConvergenceWarning: lbfgs failed to converge (status=1):\n",
      "STOP: TOTAL NO. of ITERATIONS REACHED LIMIT.\n",
      "\n",
      "Increase the number of iterations (max_iter) or scale the data as shown in:\n",
      "    https://scikit-learn.org/stable/modules/preprocessing.html\n",
      "Please also refer to the documentation for alternative solver options:\n",
      "    https://scikit-learn.org/stable/modules/linear_model.html#logistic-regression\n",
      "  extra_warning_msg=_LOGISTIC_SOLVER_CONVERGENCE_MSG)\n",
      "C:\\Users\\diego.mayer\\AppData\\Local\\Continuum\\anaconda3\\lib\\site-packages\\sklearn\\linear_model\\_logistic.py:940: ConvergenceWarning: lbfgs failed to converge (status=1):\n",
      "STOP: TOTAL NO. of ITERATIONS REACHED LIMIT.\n",
      "\n",
      "Increase the number of iterations (max_iter) or scale the data as shown in:\n",
      "    https://scikit-learn.org/stable/modules/preprocessing.html\n",
      "Please also refer to the documentation for alternative solver options:\n",
      "    https://scikit-learn.org/stable/modules/linear_model.html#logistic-regression\n",
      "  extra_warning_msg=_LOGISTIC_SOLVER_CONVERGENCE_MSG)\n",
      "C:\\Users\\diego.mayer\\AppData\\Local\\Continuum\\anaconda3\\lib\\site-packages\\sklearn\\linear_model\\_logistic.py:940: ConvergenceWarning: lbfgs failed to converge (status=1):\n",
      "STOP: TOTAL NO. of ITERATIONS REACHED LIMIT.\n",
      "\n",
      "Increase the number of iterations (max_iter) or scale the data as shown in:\n",
      "    https://scikit-learn.org/stable/modules/preprocessing.html\n",
      "Please also refer to the documentation for alternative solver options:\n",
      "    https://scikit-learn.org/stable/modules/linear_model.html#logistic-regression\n",
      "  extra_warning_msg=_LOGISTIC_SOLVER_CONVERGENCE_MSG)\n"
     ]
    },
    {
     "name": "stdout",
     "output_type": "stream",
     "text": [
      "LogisticR: ACC: 0.80717 - F1: 0.70748\n",
      "LogisticR: ACC: 0.81839 - F1: 0.73443\n",
      "LogisticR: ACC: 0.79821 - F1: 0.72892\n"
     ]
    },
    {
     "name": "stderr",
     "output_type": "stream",
     "text": [
      "C:\\Users\\diego.mayer\\AppData\\Local\\Continuum\\anaconda3\\lib\\site-packages\\sklearn\\linear_model\\_logistic.py:940: ConvergenceWarning: lbfgs failed to converge (status=1):\n",
      "STOP: TOTAL NO. of ITERATIONS REACHED LIMIT.\n",
      "\n",
      "Increase the number of iterations (max_iter) or scale the data as shown in:\n",
      "    https://scikit-learn.org/stable/modules/preprocessing.html\n",
      "Please also refer to the documentation for alternative solver options:\n",
      "    https://scikit-learn.org/stable/modules/linear_model.html#logistic-regression\n",
      "  extra_warning_msg=_LOGISTIC_SOLVER_CONVERGENCE_MSG)\n",
      "C:\\Users\\diego.mayer\\AppData\\Local\\Continuum\\anaconda3\\lib\\site-packages\\sklearn\\linear_model\\_logistic.py:940: ConvergenceWarning: lbfgs failed to converge (status=1):\n",
      "STOP: TOTAL NO. of ITERATIONS REACHED LIMIT.\n",
      "\n",
      "Increase the number of iterations (max_iter) or scale the data as shown in:\n",
      "    https://scikit-learn.org/stable/modules/preprocessing.html\n",
      "Please also refer to the documentation for alternative solver options:\n",
      "    https://scikit-learn.org/stable/modules/linear_model.html#logistic-regression\n",
      "  extra_warning_msg=_LOGISTIC_SOLVER_CONVERGENCE_MSG)\n",
      "C:\\Users\\diego.mayer\\AppData\\Local\\Continuum\\anaconda3\\lib\\site-packages\\sklearn\\linear_model\\_logistic.py:940: ConvergenceWarning: lbfgs failed to converge (status=1):\n",
      "STOP: TOTAL NO. of ITERATIONS REACHED LIMIT.\n",
      "\n",
      "Increase the number of iterations (max_iter) or scale the data as shown in:\n",
      "    https://scikit-learn.org/stable/modules/preprocessing.html\n",
      "Please also refer to the documentation for alternative solver options:\n",
      "    https://scikit-learn.org/stable/modules/linear_model.html#logistic-regression\n",
      "  extra_warning_msg=_LOGISTIC_SOLVER_CONVERGENCE_MSG)\n"
     ]
    },
    {
     "name": "stdout",
     "output_type": "stream",
     "text": [
      "LogisticR: ACC: 0.81614 - F1: 0.73548\n",
      "LogisticR: ACC: 0.78475 - F1: 0.71930\n",
      "LogisticR: ACC: 0.78924 - F1: 0.72515\n",
      "LogisticR: ACC: 0.78700 - F1: 0.72934\n"
     ]
    },
    {
     "name": "stderr",
     "output_type": "stream",
     "text": [
      "C:\\Users\\diego.mayer\\AppData\\Local\\Continuum\\anaconda3\\lib\\site-packages\\sklearn\\linear_model\\_logistic.py:940: ConvergenceWarning: lbfgs failed to converge (status=1):\n",
      "STOP: TOTAL NO. of ITERATIONS REACHED LIMIT.\n",
      "\n",
      "Increase the number of iterations (max_iter) or scale the data as shown in:\n",
      "    https://scikit-learn.org/stable/modules/preprocessing.html\n",
      "Please also refer to the documentation for alternative solver options:\n",
      "    https://scikit-learn.org/stable/modules/linear_model.html#logistic-regression\n",
      "  extra_warning_msg=_LOGISTIC_SOLVER_CONVERGENCE_MSG)\n",
      "C:\\Users\\diego.mayer\\AppData\\Local\\Continuum\\anaconda3\\lib\\site-packages\\sklearn\\linear_model\\_logistic.py:940: ConvergenceWarning: lbfgs failed to converge (status=1):\n",
      "STOP: TOTAL NO. of ITERATIONS REACHED LIMIT.\n",
      "\n",
      "Increase the number of iterations (max_iter) or scale the data as shown in:\n",
      "    https://scikit-learn.org/stable/modules/preprocessing.html\n",
      "Please also refer to the documentation for alternative solver options:\n",
      "    https://scikit-learn.org/stable/modules/linear_model.html#logistic-regression\n",
      "  extra_warning_msg=_LOGISTIC_SOLVER_CONVERGENCE_MSG)\n",
      "C:\\Users\\diego.mayer\\AppData\\Local\\Continuum\\anaconda3\\lib\\site-packages\\sklearn\\linear_model\\_logistic.py:940: ConvergenceWarning: lbfgs failed to converge (status=1):\n",
      "STOP: TOTAL NO. of ITERATIONS REACHED LIMIT.\n",
      "\n",
      "Increase the number of iterations (max_iter) or scale the data as shown in:\n",
      "    https://scikit-learn.org/stable/modules/preprocessing.html\n",
      "Please also refer to the documentation for alternative solver options:\n",
      "    https://scikit-learn.org/stable/modules/linear_model.html#logistic-regression\n",
      "  extra_warning_msg=_LOGISTIC_SOLVER_CONVERGENCE_MSG)\n"
     ]
    },
    {
     "name": "stdout",
     "output_type": "stream",
     "text": [
      "LogisticR: ACC: 0.81390 - F1: 0.76218\n",
      "LogisticR: ACC: 0.82960 - F1: 0.77515\n",
      "LogisticR: ACC: 0.80717 - F1: 0.74251\n",
      "LogisticR: ACC: 0.81614 - F1: 0.76437\n"
     ]
    },
    {
     "name": "stderr",
     "output_type": "stream",
     "text": [
      "C:\\Users\\diego.mayer\\AppData\\Local\\Continuum\\anaconda3\\lib\\site-packages\\sklearn\\linear_model\\_logistic.py:940: ConvergenceWarning: lbfgs failed to converge (status=1):\n",
      "STOP: TOTAL NO. of ITERATIONS REACHED LIMIT.\n",
      "\n",
      "Increase the number of iterations (max_iter) or scale the data as shown in:\n",
      "    https://scikit-learn.org/stable/modules/preprocessing.html\n",
      "Please also refer to the documentation for alternative solver options:\n",
      "    https://scikit-learn.org/stable/modules/linear_model.html#logistic-regression\n",
      "  extra_warning_msg=_LOGISTIC_SOLVER_CONVERGENCE_MSG)\n",
      "C:\\Users\\diego.mayer\\AppData\\Local\\Continuum\\anaconda3\\lib\\site-packages\\sklearn\\linear_model\\_logistic.py:940: ConvergenceWarning: lbfgs failed to converge (status=1):\n",
      "STOP: TOTAL NO. of ITERATIONS REACHED LIMIT.\n",
      "\n",
      "Increase the number of iterations (max_iter) or scale the data as shown in:\n",
      "    https://scikit-learn.org/stable/modules/preprocessing.html\n",
      "Please also refer to the documentation for alternative solver options:\n",
      "    https://scikit-learn.org/stable/modules/linear_model.html#logistic-regression\n",
      "  extra_warning_msg=_LOGISTIC_SOLVER_CONVERGENCE_MSG)\n",
      "C:\\Users\\diego.mayer\\AppData\\Local\\Continuum\\anaconda3\\lib\\site-packages\\sklearn\\linear_model\\_logistic.py:940: ConvergenceWarning: lbfgs failed to converge (status=1):\n",
      "STOP: TOTAL NO. of ITERATIONS REACHED LIMIT.\n",
      "\n",
      "Increase the number of iterations (max_iter) or scale the data as shown in:\n",
      "    https://scikit-learn.org/stable/modules/preprocessing.html\n",
      "Please also refer to the documentation for alternative solver options:\n",
      "    https://scikit-learn.org/stable/modules/linear_model.html#logistic-regression\n",
      "  extra_warning_msg=_LOGISTIC_SOLVER_CONVERGENCE_MSG)\n",
      "C:\\Users\\diego.mayer\\AppData\\Local\\Continuum\\anaconda3\\lib\\site-packages\\sklearn\\linear_model\\_logistic.py:940: ConvergenceWarning: lbfgs failed to converge (status=1):\n",
      "STOP: TOTAL NO. of ITERATIONS REACHED LIMIT.\n",
      "\n",
      "Increase the number of iterations (max_iter) or scale the data as shown in:\n",
      "    https://scikit-learn.org/stable/modules/preprocessing.html\n",
      "Please also refer to the documentation for alternative solver options:\n",
      "    https://scikit-learn.org/stable/modules/linear_model.html#logistic-regression\n",
      "  extra_warning_msg=_LOGISTIC_SOLVER_CONVERGENCE_MSG)\n",
      "C:\\Users\\diego.mayer\\AppData\\Local\\Continuum\\anaconda3\\lib\\site-packages\\sklearn\\linear_model\\_logistic.py:940: ConvergenceWarning: lbfgs failed to converge (status=1):\n",
      "STOP: TOTAL NO. of ITERATIONS REACHED LIMIT.\n",
      "\n",
      "Increase the number of iterations (max_iter) or scale the data as shown in:\n",
      "    https://scikit-learn.org/stable/modules/preprocessing.html\n",
      "Please also refer to the documentation for alternative solver options:\n",
      "    https://scikit-learn.org/stable/modules/linear_model.html#logistic-regression\n",
      "  extra_warning_msg=_LOGISTIC_SOLVER_CONVERGENCE_MSG)\n",
      "C:\\Users\\diego.mayer\\AppData\\Local\\Continuum\\anaconda3\\lib\\site-packages\\sklearn\\linear_model\\_logistic.py:940: ConvergenceWarning: lbfgs failed to converge (status=1):\n",
      "STOP: TOTAL NO. of ITERATIONS REACHED LIMIT.\n",
      "\n",
      "Increase the number of iterations (max_iter) or scale the data as shown in:\n",
      "    https://scikit-learn.org/stable/modules/preprocessing.html\n",
      "Please also refer to the documentation for alternative solver options:\n",
      "    https://scikit-learn.org/stable/modules/linear_model.html#logistic-regression\n",
      "  extra_warning_msg=_LOGISTIC_SOLVER_CONVERGENCE_MSG)\n"
     ]
    },
    {
     "name": "stdout",
     "output_type": "stream",
     "text": [
      "LogisticR: ACC: 0.80493 - F1: 0.74783\n",
      "LogisticR: ACC: 0.78251 - F1: 0.70871\n",
      "LogisticR: ACC: 0.80269 - F1: 0.73006\n",
      "LogisticR: ACC: 0.80045 - F1: 0.73900"
     ]
    },
    {
     "name": "stderr",
     "output_type": "stream",
     "text": [
      "C:\\Users\\diego.mayer\\AppData\\Local\\Continuum\\anaconda3\\lib\\site-packages\\sklearn\\linear_model\\_logistic.py:940: ConvergenceWarning: lbfgs failed to converge (status=1):\n",
      "STOP: TOTAL NO. of ITERATIONS REACHED LIMIT.\n",
      "\n",
      "Increase the number of iterations (max_iter) or scale the data as shown in:\n",
      "    https://scikit-learn.org/stable/modules/preprocessing.html\n",
      "Please also refer to the documentation for alternative solver options:\n",
      "    https://scikit-learn.org/stable/modules/linear_model.html#logistic-regression\n",
      "  extra_warning_msg=_LOGISTIC_SOLVER_CONVERGENCE_MSG)\n",
      "C:\\Users\\diego.mayer\\AppData\\Local\\Continuum\\anaconda3\\lib\\site-packages\\sklearn\\linear_model\\_logistic.py:940: ConvergenceWarning: lbfgs failed to converge (status=1):\n",
      "STOP: TOTAL NO. of ITERATIONS REACHED LIMIT.\n",
      "\n",
      "Increase the number of iterations (max_iter) or scale the data as shown in:\n",
      "    https://scikit-learn.org/stable/modules/preprocessing.html\n",
      "Please also refer to the documentation for alternative solver options:\n",
      "    https://scikit-learn.org/stable/modules/linear_model.html#logistic-regression\n",
      "  extra_warning_msg=_LOGISTIC_SOLVER_CONVERGENCE_MSG)\n",
      "C:\\Users\\diego.mayer\\AppData\\Local\\Continuum\\anaconda3\\lib\\site-packages\\sklearn\\linear_model\\_logistic.py:940: ConvergenceWarning: lbfgs failed to converge (status=1):\n",
      "STOP: TOTAL NO. of ITERATIONS REACHED LIMIT.\n",
      "\n",
      "Increase the number of iterations (max_iter) or scale the data as shown in:\n",
      "    https://scikit-learn.org/stable/modules/preprocessing.html\n",
      "Please also refer to the documentation for alternative solver options:\n",
      "    https://scikit-learn.org/stable/modules/linear_model.html#logistic-regression\n",
      "  extra_warning_msg=_LOGISTIC_SOLVER_CONVERGENCE_MSG)\n"
     ]
    },
    {
     "name": "stdout",
     "output_type": "stream",
     "text": [
      "\n",
      "LogisticR: ACC: 0.82960 - F1: 0.76398\n",
      "LogisticR: ACC: 0.78924 - F1: 0.71515\n",
      "LogisticR: ACC: 0.80942 - F1: 0.74006\n",
      "LogisticR: ACC: 0.82735 - F1: 0.75556\n",
      "LogisticR: ACC: 0.78700 - F1: 0.71299\n"
     ]
    },
    {
     "name": "stderr",
     "output_type": "stream",
     "text": [
      "C:\\Users\\diego.mayer\\AppData\\Local\\Continuum\\anaconda3\\lib\\site-packages\\sklearn\\linear_model\\_logistic.py:940: ConvergenceWarning: lbfgs failed to converge (status=1):\n",
      "STOP: TOTAL NO. of ITERATIONS REACHED LIMIT.\n",
      "\n",
      "Increase the number of iterations (max_iter) or scale the data as shown in:\n",
      "    https://scikit-learn.org/stable/modules/preprocessing.html\n",
      "Please also refer to the documentation for alternative solver options:\n",
      "    https://scikit-learn.org/stable/modules/linear_model.html#logistic-regression\n",
      "  extra_warning_msg=_LOGISTIC_SOLVER_CONVERGENCE_MSG)\n",
      "C:\\Users\\diego.mayer\\AppData\\Local\\Continuum\\anaconda3\\lib\\site-packages\\sklearn\\linear_model\\_logistic.py:940: ConvergenceWarning: lbfgs failed to converge (status=1):\n",
      "STOP: TOTAL NO. of ITERATIONS REACHED LIMIT.\n",
      "\n",
      "Increase the number of iterations (max_iter) or scale the data as shown in:\n",
      "    https://scikit-learn.org/stable/modules/preprocessing.html\n",
      "Please also refer to the documentation for alternative solver options:\n",
      "    https://scikit-learn.org/stable/modules/linear_model.html#logistic-regression\n",
      "  extra_warning_msg=_LOGISTIC_SOLVER_CONVERGENCE_MSG)\n",
      "C:\\Users\\diego.mayer\\AppData\\Local\\Continuum\\anaconda3\\lib\\site-packages\\sklearn\\linear_model\\_logistic.py:940: ConvergenceWarning: lbfgs failed to converge (status=1):\n",
      "STOP: TOTAL NO. of ITERATIONS REACHED LIMIT.\n",
      "\n",
      "Increase the number of iterations (max_iter) or scale the data as shown in:\n",
      "    https://scikit-learn.org/stable/modules/preprocessing.html\n",
      "Please also refer to the documentation for alternative solver options:\n",
      "    https://scikit-learn.org/stable/modules/linear_model.html#logistic-regression\n",
      "  extra_warning_msg=_LOGISTIC_SOLVER_CONVERGENCE_MSG)\n"
     ]
    },
    {
     "name": "stdout",
     "output_type": "stream",
     "text": [
      "LogisticR: ACC: 0.81839 - F1: 0.75529\n",
      "LogisticR: ACC: 0.80045 - F1: 0.74052\n",
      "LogisticR: ACC: 0.80717 - F1: 0.75145\n",
      "LogisticR: ACC: 0.80493 - F1: 0.74636"
     ]
    },
    {
     "name": "stderr",
     "output_type": "stream",
     "text": [
      "C:\\Users\\diego.mayer\\AppData\\Local\\Continuum\\anaconda3\\lib\\site-packages\\sklearn\\linear_model\\_logistic.py:940: ConvergenceWarning: lbfgs failed to converge (status=1):\n",
      "STOP: TOTAL NO. of ITERATIONS REACHED LIMIT.\n",
      "\n",
      "Increase the number of iterations (max_iter) or scale the data as shown in:\n",
      "    https://scikit-learn.org/stable/modules/preprocessing.html\n",
      "Please also refer to the documentation for alternative solver options:\n",
      "    https://scikit-learn.org/stable/modules/linear_model.html#logistic-regression\n",
      "  extra_warning_msg=_LOGISTIC_SOLVER_CONVERGENCE_MSG)\n",
      "C:\\Users\\diego.mayer\\AppData\\Local\\Continuum\\anaconda3\\lib\\site-packages\\sklearn\\linear_model\\_logistic.py:940: ConvergenceWarning: lbfgs failed to converge (status=1):\n",
      "STOP: TOTAL NO. of ITERATIONS REACHED LIMIT.\n",
      "\n",
      "Increase the number of iterations (max_iter) or scale the data as shown in:\n",
      "    https://scikit-learn.org/stable/modules/preprocessing.html\n",
      "Please also refer to the documentation for alternative solver options:\n",
      "    https://scikit-learn.org/stable/modules/linear_model.html#logistic-regression\n",
      "  extra_warning_msg=_LOGISTIC_SOLVER_CONVERGENCE_MSG)\n",
      "C:\\Users\\diego.mayer\\AppData\\Local\\Continuum\\anaconda3\\lib\\site-packages\\sklearn\\linear_model\\_logistic.py:940: ConvergenceWarning: lbfgs failed to converge (status=1):\n",
      "STOP: TOTAL NO. of ITERATIONS REACHED LIMIT.\n",
      "\n",
      "Increase the number of iterations (max_iter) or scale the data as shown in:\n",
      "    https://scikit-learn.org/stable/modules/preprocessing.html\n",
      "Please also refer to the documentation for alternative solver options:\n",
      "    https://scikit-learn.org/stable/modules/linear_model.html#logistic-regression\n",
      "  extra_warning_msg=_LOGISTIC_SOLVER_CONVERGENCE_MSG)\n",
      "C:\\Users\\diego.mayer\\AppData\\Local\\Continuum\\anaconda3\\lib\\site-packages\\sklearn\\linear_model\\_logistic.py:940: ConvergenceWarning: lbfgs failed to converge (status=1):\n",
      "STOP: TOTAL NO. of ITERATIONS REACHED LIMIT.\n",
      "\n",
      "Increase the number of iterations (max_iter) or scale the data as shown in:\n",
      "    https://scikit-learn.org/stable/modules/preprocessing.html\n",
      "Please also refer to the documentation for alternative solver options:\n",
      "    https://scikit-learn.org/stable/modules/linear_model.html#logistic-regression\n",
      "  extra_warning_msg=_LOGISTIC_SOLVER_CONVERGENCE_MSG)\n"
     ]
    },
    {
     "name": "stdout",
     "output_type": "stream",
     "text": [
      "\n",
      "LogisticR: ACC: 0.80045 - F1: 0.73591\n",
      "LogisticR: ACC: 0.82960 - F1: 0.77778\n"
     ]
    },
    {
     "name": "stderr",
     "output_type": "stream",
     "text": [
      "C:\\Users\\diego.mayer\\AppData\\Local\\Continuum\\anaconda3\\lib\\site-packages\\sklearn\\linear_model\\_logistic.py:940: ConvergenceWarning: lbfgs failed to converge (status=1):\n",
      "STOP: TOTAL NO. of ITERATIONS REACHED LIMIT.\n",
      "\n",
      "Increase the number of iterations (max_iter) or scale the data as shown in:\n",
      "    https://scikit-learn.org/stable/modules/preprocessing.html\n",
      "Please also refer to the documentation for alternative solver options:\n",
      "    https://scikit-learn.org/stable/modules/linear_model.html#logistic-regression\n",
      "  extra_warning_msg=_LOGISTIC_SOLVER_CONVERGENCE_MSG)\n",
      "C:\\Users\\diego.mayer\\AppData\\Local\\Continuum\\anaconda3\\lib\\site-packages\\sklearn\\linear_model\\_logistic.py:940: ConvergenceWarning: lbfgs failed to converge (status=1):\n",
      "STOP: TOTAL NO. of ITERATIONS REACHED LIMIT.\n",
      "\n",
      "Increase the number of iterations (max_iter) or scale the data as shown in:\n",
      "    https://scikit-learn.org/stable/modules/preprocessing.html\n",
      "Please also refer to the documentation for alternative solver options:\n",
      "    https://scikit-learn.org/stable/modules/linear_model.html#logistic-regression\n",
      "  extra_warning_msg=_LOGISTIC_SOLVER_CONVERGENCE_MSG)\n",
      "C:\\Users\\diego.mayer\\AppData\\Local\\Continuum\\anaconda3\\lib\\site-packages\\sklearn\\linear_model\\_logistic.py:940: ConvergenceWarning: lbfgs failed to converge (status=1):\n",
      "STOP: TOTAL NO. of ITERATIONS REACHED LIMIT.\n",
      "\n",
      "Increase the number of iterations (max_iter) or scale the data as shown in:\n",
      "    https://scikit-learn.org/stable/modules/preprocessing.html\n",
      "Please also refer to the documentation for alternative solver options:\n",
      "    https://scikit-learn.org/stable/modules/linear_model.html#logistic-regression\n",
      "  extra_warning_msg=_LOGISTIC_SOLVER_CONVERGENCE_MSG)\n"
     ]
    },
    {
     "name": "stdout",
     "output_type": "stream",
     "text": [
      "LogisticR: ACC: 0.80269 - F1: 0.73333\n",
      "LogisticR: ACC: 0.82735 - F1: 0.77151\n",
      "LogisticR: ACC: 0.79821 - F1: 0.73988\n"
     ]
    },
    {
     "name": "stderr",
     "output_type": "stream",
     "text": [
      "C:\\Users\\diego.mayer\\AppData\\Local\\Continuum\\anaconda3\\lib\\site-packages\\sklearn\\linear_model\\_logistic.py:940: ConvergenceWarning: lbfgs failed to converge (status=1):\n",
      "STOP: TOTAL NO. of ITERATIONS REACHED LIMIT.\n",
      "\n",
      "Increase the number of iterations (max_iter) or scale the data as shown in:\n",
      "    https://scikit-learn.org/stable/modules/preprocessing.html\n",
      "Please also refer to the documentation for alternative solver options:\n",
      "    https://scikit-learn.org/stable/modules/linear_model.html#logistic-regression\n",
      "  extra_warning_msg=_LOGISTIC_SOLVER_CONVERGENCE_MSG)\n",
      "C:\\Users\\diego.mayer\\AppData\\Local\\Continuum\\anaconda3\\lib\\site-packages\\sklearn\\linear_model\\_logistic.py:940: ConvergenceWarning: lbfgs failed to converge (status=1):\n",
      "STOP: TOTAL NO. of ITERATIONS REACHED LIMIT.\n",
      "\n",
      "Increase the number of iterations (max_iter) or scale the data as shown in:\n",
      "    https://scikit-learn.org/stable/modules/preprocessing.html\n",
      "Please also refer to the documentation for alternative solver options:\n",
      "    https://scikit-learn.org/stable/modules/linear_model.html#logistic-regression\n",
      "  extra_warning_msg=_LOGISTIC_SOLVER_CONVERGENCE_MSG)\n"
     ]
    },
    {
     "name": "stdout",
     "output_type": "stream",
     "text": [
      "LogisticR: ACC: 0.79372 - F1: 0.73563\n",
      "LogisticR: ACC: 0.80045 - F1: 0.72446\n",
      "LogisticR: ACC: 0.79821 - F1: 0.70199\n"
     ]
    },
    {
     "name": "stderr",
     "output_type": "stream",
     "text": [
      "C:\\Users\\diego.mayer\\AppData\\Local\\Continuum\\anaconda3\\lib\\site-packages\\sklearn\\linear_model\\_logistic.py:940: ConvergenceWarning: lbfgs failed to converge (status=1):\n",
      "STOP: TOTAL NO. of ITERATIONS REACHED LIMIT.\n",
      "\n",
      "Increase the number of iterations (max_iter) or scale the data as shown in:\n",
      "    https://scikit-learn.org/stable/modules/preprocessing.html\n",
      "Please also refer to the documentation for alternative solver options:\n",
      "    https://scikit-learn.org/stable/modules/linear_model.html#logistic-regression\n",
      "  extra_warning_msg=_LOGISTIC_SOLVER_CONVERGENCE_MSG)\n",
      "C:\\Users\\diego.mayer\\AppData\\Local\\Continuum\\anaconda3\\lib\\site-packages\\sklearn\\linear_model\\_logistic.py:940: ConvergenceWarning: lbfgs failed to converge (status=1):\n",
      "STOP: TOTAL NO. of ITERATIONS REACHED LIMIT.\n",
      "\n",
      "Increase the number of iterations (max_iter) or scale the data as shown in:\n",
      "    https://scikit-learn.org/stable/modules/preprocessing.html\n",
      "Please also refer to the documentation for alternative solver options:\n",
      "    https://scikit-learn.org/stable/modules/linear_model.html#logistic-regression\n",
      "  extra_warning_msg=_LOGISTIC_SOLVER_CONVERGENCE_MSG)\n",
      "C:\\Users\\diego.mayer\\AppData\\Local\\Continuum\\anaconda3\\lib\\site-packages\\sklearn\\linear_model\\_logistic.py:940: ConvergenceWarning: lbfgs failed to converge (status=1):\n",
      "STOP: TOTAL NO. of ITERATIONS REACHED LIMIT.\n",
      "\n",
      "Increase the number of iterations (max_iter) or scale the data as shown in:\n",
      "    https://scikit-learn.org/stable/modules/preprocessing.html\n",
      "Please also refer to the documentation for alternative solver options:\n",
      "    https://scikit-learn.org/stable/modules/linear_model.html#logistic-regression\n",
      "  extra_warning_msg=_LOGISTIC_SOLVER_CONVERGENCE_MSG)\n"
     ]
    },
    {
     "name": "stdout",
     "output_type": "stream",
     "text": [
      "LogisticR: ACC: 0.83184 - F1: 0.76190\n",
      "LogisticR: ACC: 0.80942 - F1: 0.74164\n",
      "LogisticR: ACC: 0.80942 - F1: 0.72669\n"
     ]
    },
    {
     "name": "stderr",
     "output_type": "stream",
     "text": [
      "C:\\Users\\diego.mayer\\AppData\\Local\\Continuum\\anaconda3\\lib\\site-packages\\sklearn\\linear_model\\_logistic.py:940: ConvergenceWarning: lbfgs failed to converge (status=1):\n",
      "STOP: TOTAL NO. of ITERATIONS REACHED LIMIT.\n",
      "\n",
      "Increase the number of iterations (max_iter) or scale the data as shown in:\n",
      "    https://scikit-learn.org/stable/modules/preprocessing.html\n",
      "Please also refer to the documentation for alternative solver options:\n",
      "    https://scikit-learn.org/stable/modules/linear_model.html#logistic-regression\n",
      "  extra_warning_msg=_LOGISTIC_SOLVER_CONVERGENCE_MSG)\n",
      "C:\\Users\\diego.mayer\\AppData\\Local\\Continuum\\anaconda3\\lib\\site-packages\\sklearn\\linear_model\\_logistic.py:940: ConvergenceWarning: lbfgs failed to converge (status=1):\n",
      "STOP: TOTAL NO. of ITERATIONS REACHED LIMIT.\n",
      "\n",
      "Increase the number of iterations (max_iter) or scale the data as shown in:\n",
      "    https://scikit-learn.org/stable/modules/preprocessing.html\n",
      "Please also refer to the documentation for alternative solver options:\n",
      "    https://scikit-learn.org/stable/modules/linear_model.html#logistic-regression\n",
      "  extra_warning_msg=_LOGISTIC_SOLVER_CONVERGENCE_MSG)\n",
      "C:\\Users\\diego.mayer\\AppData\\Local\\Continuum\\anaconda3\\lib\\site-packages\\sklearn\\linear_model\\_logistic.py:940: ConvergenceWarning: lbfgs failed to converge (status=1):\n",
      "STOP: TOTAL NO. of ITERATIONS REACHED LIMIT.\n",
      "\n",
      "Increase the number of iterations (max_iter) or scale the data as shown in:\n",
      "    https://scikit-learn.org/stable/modules/preprocessing.html\n",
      "Please also refer to the documentation for alternative solver options:\n",
      "    https://scikit-learn.org/stable/modules/linear_model.html#logistic-regression\n",
      "  extra_warning_msg=_LOGISTIC_SOLVER_CONVERGENCE_MSG)\n"
     ]
    },
    {
     "name": "stdout",
     "output_type": "stream",
     "text": [
      "LogisticR: ACC: 0.80269 - F1: 0.73810\n",
      "LogisticR: ACC: 0.78700 - F1: 0.69453\n",
      "LogisticR: ACC: 0.81390 - F1: 0.76880\n"
     ]
    },
    {
     "name": "stderr",
     "output_type": "stream",
     "text": [
      "C:\\Users\\diego.mayer\\AppData\\Local\\Continuum\\anaconda3\\lib\\site-packages\\sklearn\\linear_model\\_logistic.py:940: ConvergenceWarning: lbfgs failed to converge (status=1):\n",
      "STOP: TOTAL NO. of ITERATIONS REACHED LIMIT.\n",
      "\n",
      "Increase the number of iterations (max_iter) or scale the data as shown in:\n",
      "    https://scikit-learn.org/stable/modules/preprocessing.html\n",
      "Please also refer to the documentation for alternative solver options:\n",
      "    https://scikit-learn.org/stable/modules/linear_model.html#logistic-regression\n",
      "  extra_warning_msg=_LOGISTIC_SOLVER_CONVERGENCE_MSG)\n",
      "C:\\Users\\diego.mayer\\AppData\\Local\\Continuum\\anaconda3\\lib\\site-packages\\sklearn\\linear_model\\_logistic.py:940: ConvergenceWarning: lbfgs failed to converge (status=1):\n",
      "STOP: TOTAL NO. of ITERATIONS REACHED LIMIT.\n",
      "\n",
      "Increase the number of iterations (max_iter) or scale the data as shown in:\n",
      "    https://scikit-learn.org/stable/modules/preprocessing.html\n",
      "Please also refer to the documentation for alternative solver options:\n",
      "    https://scikit-learn.org/stable/modules/linear_model.html#logistic-regression\n",
      "  extra_warning_msg=_LOGISTIC_SOLVER_CONVERGENCE_MSG)\n",
      "C:\\Users\\diego.mayer\\AppData\\Local\\Continuum\\anaconda3\\lib\\site-packages\\sklearn\\linear_model\\_logistic.py:940: ConvergenceWarning: lbfgs failed to converge (status=1):\n",
      "STOP: TOTAL NO. of ITERATIONS REACHED LIMIT.\n",
      "\n",
      "Increase the number of iterations (max_iter) or scale the data as shown in:\n",
      "    https://scikit-learn.org/stable/modules/preprocessing.html\n",
      "Please also refer to the documentation for alternative solver options:\n",
      "    https://scikit-learn.org/stable/modules/linear_model.html#logistic-regression\n",
      "  extra_warning_msg=_LOGISTIC_SOLVER_CONVERGENCE_MSG)\n",
      "C:\\Users\\diego.mayer\\AppData\\Local\\Continuum\\anaconda3\\lib\\site-packages\\sklearn\\linear_model\\_logistic.py:940: ConvergenceWarning: lbfgs failed to converge (status=1):\n",
      "STOP: TOTAL NO. of ITERATIONS REACHED LIMIT.\n",
      "\n",
      "Increase the number of iterations (max_iter) or scale the data as shown in:\n",
      "    https://scikit-learn.org/stable/modules/preprocessing.html\n",
      "Please also refer to the documentation for alternative solver options:\n",
      "    https://scikit-learn.org/stable/modules/linear_model.html#logistic-regression\n",
      "  extra_warning_msg=_LOGISTIC_SOLVER_CONVERGENCE_MSG)\n"
     ]
    },
    {
     "name": "stdout",
     "output_type": "stream",
     "text": [
      "LogisticR: ACC: 0.80717 - F1: 0.73780\n",
      "LogisticR: ACC: 0.82063 - F1: 0.75904\n",
      "LogisticR: ACC: 0.76009 - F1: 0.67077\n",
      "LogisticR: ACC: 0.79372 - F1: 0.70701\n"
     ]
    },
    {
     "name": "stderr",
     "output_type": "stream",
     "text": [
      "C:\\Users\\diego.mayer\\AppData\\Local\\Continuum\\anaconda3\\lib\\site-packages\\sklearn\\linear_model\\_logistic.py:940: ConvergenceWarning: lbfgs failed to converge (status=1):\n",
      "STOP: TOTAL NO. of ITERATIONS REACHED LIMIT.\n",
      "\n",
      "Increase the number of iterations (max_iter) or scale the data as shown in:\n",
      "    https://scikit-learn.org/stable/modules/preprocessing.html\n",
      "Please also refer to the documentation for alternative solver options:\n",
      "    https://scikit-learn.org/stable/modules/linear_model.html#logistic-regression\n",
      "  extra_warning_msg=_LOGISTIC_SOLVER_CONVERGENCE_MSG)\n",
      "C:\\Users\\diego.mayer\\AppData\\Local\\Continuum\\anaconda3\\lib\\site-packages\\sklearn\\linear_model\\_logistic.py:940: ConvergenceWarning: lbfgs failed to converge (status=1):\n",
      "STOP: TOTAL NO. of ITERATIONS REACHED LIMIT.\n",
      "\n",
      "Increase the number of iterations (max_iter) or scale the data as shown in:\n",
      "    https://scikit-learn.org/stable/modules/preprocessing.html\n",
      "Please also refer to the documentation for alternative solver options:\n",
      "    https://scikit-learn.org/stable/modules/linear_model.html#logistic-regression\n",
      "  extra_warning_msg=_LOGISTIC_SOLVER_CONVERGENCE_MSG)\n",
      "C:\\Users\\diego.mayer\\AppData\\Local\\Continuum\\anaconda3\\lib\\site-packages\\sklearn\\linear_model\\_logistic.py:940: ConvergenceWarning: lbfgs failed to converge (status=1):\n",
      "STOP: TOTAL NO. of ITERATIONS REACHED LIMIT.\n",
      "\n",
      "Increase the number of iterations (max_iter) or scale the data as shown in:\n",
      "    https://scikit-learn.org/stable/modules/preprocessing.html\n",
      "Please also refer to the documentation for alternative solver options:\n",
      "    https://scikit-learn.org/stable/modules/linear_model.html#logistic-regression\n",
      "  extra_warning_msg=_LOGISTIC_SOLVER_CONVERGENCE_MSG)\n"
     ]
    },
    {
     "name": "stdout",
     "output_type": "stream",
     "text": [
      "LogisticR: ACC: 0.78700 - F1: 0.70948\n",
      "LogisticR: ACC: 0.81614 - F1: 0.75000\n",
      "LogisticR: ACC: 0.82287 - F1: 0.76276\n",
      "LogisticR: ACC: 0.82063 - F1: 0.75904\n"
     ]
    },
    {
     "name": "stderr",
     "output_type": "stream",
     "text": [
      "C:\\Users\\diego.mayer\\AppData\\Local\\Continuum\\anaconda3\\lib\\site-packages\\sklearn\\linear_model\\_logistic.py:940: ConvergenceWarning: lbfgs failed to converge (status=1):\n",
      "STOP: TOTAL NO. of ITERATIONS REACHED LIMIT.\n",
      "\n",
      "Increase the number of iterations (max_iter) or scale the data as shown in:\n",
      "    https://scikit-learn.org/stable/modules/preprocessing.html\n",
      "Please also refer to the documentation for alternative solver options:\n",
      "    https://scikit-learn.org/stable/modules/linear_model.html#logistic-regression\n",
      "  extra_warning_msg=_LOGISTIC_SOLVER_CONVERGENCE_MSG)\n",
      "C:\\Users\\diego.mayer\\AppData\\Local\\Continuum\\anaconda3\\lib\\site-packages\\sklearn\\linear_model\\_logistic.py:940: ConvergenceWarning: lbfgs failed to converge (status=1):\n",
      "STOP: TOTAL NO. of ITERATIONS REACHED LIMIT.\n",
      "\n",
      "Increase the number of iterations (max_iter) or scale the data as shown in:\n",
      "    https://scikit-learn.org/stable/modules/preprocessing.html\n",
      "Please also refer to the documentation for alternative solver options:\n",
      "    https://scikit-learn.org/stable/modules/linear_model.html#logistic-regression\n",
      "  extra_warning_msg=_LOGISTIC_SOLVER_CONVERGENCE_MSG)\n",
      "C:\\Users\\diego.mayer\\AppData\\Local\\Continuum\\anaconda3\\lib\\site-packages\\sklearn\\linear_model\\_logistic.py:940: ConvergenceWarning: lbfgs failed to converge (status=1):\n",
      "STOP: TOTAL NO. of ITERATIONS REACHED LIMIT.\n",
      "\n",
      "Increase the number of iterations (max_iter) or scale the data as shown in:\n",
      "    https://scikit-learn.org/stable/modules/preprocessing.html\n",
      "Please also refer to the documentation for alternative solver options:\n",
      "    https://scikit-learn.org/stable/modules/linear_model.html#logistic-regression\n",
      "  extra_warning_msg=_LOGISTIC_SOLVER_CONVERGENCE_MSG)\n"
     ]
    },
    {
     "name": "stdout",
     "output_type": "stream",
     "text": [
      "LogisticR: ACC: 0.78027 - F1: 0.72316\n",
      "LogisticR: ACC: 0.80942 - F1: 0.72313\n",
      "LogisticR: ACC: 0.79372 - F1: 0.71250\n",
      "LogisticR: ACC: 0.78700 - F1: 0.71810"
     ]
    },
    {
     "name": "stderr",
     "output_type": "stream",
     "text": [
      "C:\\Users\\diego.mayer\\AppData\\Local\\Continuum\\anaconda3\\lib\\site-packages\\sklearn\\linear_model\\_logistic.py:940: ConvergenceWarning: lbfgs failed to converge (status=1):\n",
      "STOP: TOTAL NO. of ITERATIONS REACHED LIMIT.\n",
      "\n",
      "Increase the number of iterations (max_iter) or scale the data as shown in:\n",
      "    https://scikit-learn.org/stable/modules/preprocessing.html\n",
      "Please also refer to the documentation for alternative solver options:\n",
      "    https://scikit-learn.org/stable/modules/linear_model.html#logistic-regression\n",
      "  extra_warning_msg=_LOGISTIC_SOLVER_CONVERGENCE_MSG)\n",
      "C:\\Users\\diego.mayer\\AppData\\Local\\Continuum\\anaconda3\\lib\\site-packages\\sklearn\\linear_model\\_logistic.py:940: ConvergenceWarning: lbfgs failed to converge (status=1):\n",
      "STOP: TOTAL NO. of ITERATIONS REACHED LIMIT.\n",
      "\n",
      "Increase the number of iterations (max_iter) or scale the data as shown in:\n",
      "    https://scikit-learn.org/stable/modules/preprocessing.html\n",
      "Please also refer to the documentation for alternative solver options:\n",
      "    https://scikit-learn.org/stable/modules/linear_model.html#logistic-regression\n",
      "  extra_warning_msg=_LOGISTIC_SOLVER_CONVERGENCE_MSG)\n",
      "C:\\Users\\diego.mayer\\AppData\\Local\\Continuum\\anaconda3\\lib\\site-packages\\sklearn\\linear_model\\_logistic.py:940: ConvergenceWarning: lbfgs failed to converge (status=1):\n",
      "STOP: TOTAL NO. of ITERATIONS REACHED LIMIT.\n",
      "\n",
      "Increase the number of iterations (max_iter) or scale the data as shown in:\n",
      "    https://scikit-learn.org/stable/modules/preprocessing.html\n",
      "Please also refer to the documentation for alternative solver options:\n",
      "    https://scikit-learn.org/stable/modules/linear_model.html#logistic-regression\n",
      "  extra_warning_msg=_LOGISTIC_SOLVER_CONVERGENCE_MSG)\n",
      "C:\\Users\\diego.mayer\\AppData\\Local\\Continuum\\anaconda3\\lib\\site-packages\\sklearn\\linear_model\\_logistic.py:940: ConvergenceWarning: lbfgs failed to converge (status=1):\n",
      "STOP: TOTAL NO. of ITERATIONS REACHED LIMIT.\n",
      "\n",
      "Increase the number of iterations (max_iter) or scale the data as shown in:\n",
      "    https://scikit-learn.org/stable/modules/preprocessing.html\n",
      "Please also refer to the documentation for alternative solver options:\n",
      "    https://scikit-learn.org/stable/modules/linear_model.html#logistic-regression\n",
      "  extra_warning_msg=_LOGISTIC_SOLVER_CONVERGENCE_MSG)\n",
      "C:\\Users\\diego.mayer\\AppData\\Local\\Continuum\\anaconda3\\lib\\site-packages\\sklearn\\linear_model\\_logistic.py:940: ConvergenceWarning: lbfgs failed to converge (status=1):\n",
      "STOP: TOTAL NO. of ITERATIONS REACHED LIMIT.\n",
      "\n",
      "Increase the number of iterations (max_iter) or scale the data as shown in:\n",
      "    https://scikit-learn.org/stable/modules/preprocessing.html\n",
      "Please also refer to the documentation for alternative solver options:\n",
      "    https://scikit-learn.org/stable/modules/linear_model.html#logistic-regression\n",
      "  extra_warning_msg=_LOGISTIC_SOLVER_CONVERGENCE_MSG)\n"
     ]
    },
    {
     "name": "stdout",
     "output_type": "stream",
     "text": [
      "\n",
      "LogisticR: ACC: 0.78924 - F1: 0.72353\n",
      "LogisticR: ACC: 0.79821 - F1: 0.74138\n"
     ]
    },
    {
     "name": "stderr",
     "output_type": "stream",
     "text": [
      "C:\\Users\\diego.mayer\\AppData\\Local\\Continuum\\anaconda3\\lib\\site-packages\\sklearn\\linear_model\\_logistic.py:940: ConvergenceWarning: lbfgs failed to converge (status=1):\n",
      "STOP: TOTAL NO. of ITERATIONS REACHED LIMIT.\n",
      "\n",
      "Increase the number of iterations (max_iter) or scale the data as shown in:\n",
      "    https://scikit-learn.org/stable/modules/preprocessing.html\n",
      "Please also refer to the documentation for alternative solver options:\n",
      "    https://scikit-learn.org/stable/modules/linear_model.html#logistic-regression\n",
      "  extra_warning_msg=_LOGISTIC_SOLVER_CONVERGENCE_MSG)\n",
      "C:\\Users\\diego.mayer\\AppData\\Local\\Continuum\\anaconda3\\lib\\site-packages\\sklearn\\linear_model\\_logistic.py:940: ConvergenceWarning: lbfgs failed to converge (status=1):\n",
      "STOP: TOTAL NO. of ITERATIONS REACHED LIMIT.\n",
      "\n",
      "Increase the number of iterations (max_iter) or scale the data as shown in:\n",
      "    https://scikit-learn.org/stable/modules/preprocessing.html\n",
      "Please also refer to the documentation for alternative solver options:\n",
      "    https://scikit-learn.org/stable/modules/linear_model.html#logistic-regression\n",
      "  extra_warning_msg=_LOGISTIC_SOLVER_CONVERGENCE_MSG)\n",
      "C:\\Users\\diego.mayer\\AppData\\Local\\Continuum\\anaconda3\\lib\\site-packages\\sklearn\\linear_model\\_logistic.py:940: ConvergenceWarning: lbfgs failed to converge (status=1):\n",
      "STOP: TOTAL NO. of ITERATIONS REACHED LIMIT.\n",
      "\n",
      "Increase the number of iterations (max_iter) or scale the data as shown in:\n",
      "    https://scikit-learn.org/stable/modules/preprocessing.html\n",
      "Please also refer to the documentation for alternative solver options:\n",
      "    https://scikit-learn.org/stable/modules/linear_model.html#logistic-regression\n",
      "  extra_warning_msg=_LOGISTIC_SOLVER_CONVERGENCE_MSG)\n",
      "C:\\Users\\diego.mayer\\AppData\\Local\\Continuum\\anaconda3\\lib\\site-packages\\sklearn\\linear_model\\_logistic.py:940: ConvergenceWarning: lbfgs failed to converge (status=1):\n",
      "STOP: TOTAL NO. of ITERATIONS REACHED LIMIT.\n",
      "\n",
      "Increase the number of iterations (max_iter) or scale the data as shown in:\n",
      "    https://scikit-learn.org/stable/modules/preprocessing.html\n",
      "Please also refer to the documentation for alternative solver options:\n",
      "    https://scikit-learn.org/stable/modules/linear_model.html#logistic-regression\n",
      "  extra_warning_msg=_LOGISTIC_SOLVER_CONVERGENCE_MSG)\n"
     ]
    },
    {
     "name": "stdout",
     "output_type": "stream",
     "text": [
      "LogisticR: ACC: 0.81166 - F1: 0.74545\n",
      "LogisticR: ACC: 0.83408 - F1: 0.77439\n",
      "LogisticR: ACC: 0.82063 - F1: 0.77011\n"
     ]
    },
    {
     "name": "stderr",
     "output_type": "stream",
     "text": [
      "C:\\Users\\diego.mayer\\AppData\\Local\\Continuum\\anaconda3\\lib\\site-packages\\sklearn\\linear_model\\_logistic.py:940: ConvergenceWarning: lbfgs failed to converge (status=1):\n",
      "STOP: TOTAL NO. of ITERATIONS REACHED LIMIT.\n",
      "\n",
      "Increase the number of iterations (max_iter) or scale the data as shown in:\n",
      "    https://scikit-learn.org/stable/modules/preprocessing.html\n",
      "Please also refer to the documentation for alternative solver options:\n",
      "    https://scikit-learn.org/stable/modules/linear_model.html#logistic-regression\n",
      "  extra_warning_msg=_LOGISTIC_SOLVER_CONVERGENCE_MSG)\n",
      "C:\\Users\\diego.mayer\\AppData\\Local\\Continuum\\anaconda3\\lib\\site-packages\\sklearn\\linear_model\\_logistic.py:940: ConvergenceWarning: lbfgs failed to converge (status=1):\n",
      "STOP: TOTAL NO. of ITERATIONS REACHED LIMIT.\n",
      "\n",
      "Increase the number of iterations (max_iter) or scale the data as shown in:\n",
      "    https://scikit-learn.org/stable/modules/preprocessing.html\n",
      "Please also refer to the documentation for alternative solver options:\n",
      "    https://scikit-learn.org/stable/modules/linear_model.html#logistic-regression\n",
      "  extra_warning_msg=_LOGISTIC_SOLVER_CONVERGENCE_MSG)\n",
      "C:\\Users\\diego.mayer\\AppData\\Local\\Continuum\\anaconda3\\lib\\site-packages\\sklearn\\linear_model\\_logistic.py:940: ConvergenceWarning: lbfgs failed to converge (status=1):\n",
      "STOP: TOTAL NO. of ITERATIONS REACHED LIMIT.\n",
      "\n",
      "Increase the number of iterations (max_iter) or scale the data as shown in:\n",
      "    https://scikit-learn.org/stable/modules/preprocessing.html\n",
      "Please also refer to the documentation for alternative solver options:\n",
      "    https://scikit-learn.org/stable/modules/linear_model.html#logistic-regression\n",
      "  extra_warning_msg=_LOGISTIC_SOLVER_CONVERGENCE_MSG)\n",
      "C:\\Users\\diego.mayer\\AppData\\Local\\Continuum\\anaconda3\\lib\\site-packages\\sklearn\\linear_model\\_logistic.py:940: ConvergenceWarning: lbfgs failed to converge (status=1):\n",
      "STOP: TOTAL NO. of ITERATIONS REACHED LIMIT.\n",
      "\n",
      "Increase the number of iterations (max_iter) or scale the data as shown in:\n",
      "    https://scikit-learn.org/stable/modules/preprocessing.html\n",
      "Please also refer to the documentation for alternative solver options:\n",
      "    https://scikit-learn.org/stable/modules/linear_model.html#logistic-regression\n",
      "  extra_warning_msg=_LOGISTIC_SOLVER_CONVERGENCE_MSG)\n"
     ]
    },
    {
     "name": "stdout",
     "output_type": "stream",
     "text": [
      "LogisticR: ACC: 0.78027 - F1: 0.69182\n",
      "LogisticR: ACC: 0.80942 - F1: 0.77333\n",
      "LogisticR: ACC: 0.82063 - F1: 0.76190\n",
      "LogisticR: ACC: 0.78700 - F1: 0.70769\n"
     ]
    },
    {
     "name": "stderr",
     "output_type": "stream",
     "text": [
      "C:\\Users\\diego.mayer\\AppData\\Local\\Continuum\\anaconda3\\lib\\site-packages\\sklearn\\linear_model\\_logistic.py:940: ConvergenceWarning: lbfgs failed to converge (status=1):\n",
      "STOP: TOTAL NO. of ITERATIONS REACHED LIMIT.\n",
      "\n",
      "Increase the number of iterations (max_iter) or scale the data as shown in:\n",
      "    https://scikit-learn.org/stable/modules/preprocessing.html\n",
      "Please also refer to the documentation for alternative solver options:\n",
      "    https://scikit-learn.org/stable/modules/linear_model.html#logistic-regression\n",
      "  extra_warning_msg=_LOGISTIC_SOLVER_CONVERGENCE_MSG)\n",
      "C:\\Users\\diego.mayer\\AppData\\Local\\Continuum\\anaconda3\\lib\\site-packages\\sklearn\\linear_model\\_logistic.py:940: ConvergenceWarning: lbfgs failed to converge (status=1):\n",
      "STOP: TOTAL NO. of ITERATIONS REACHED LIMIT.\n",
      "\n",
      "Increase the number of iterations (max_iter) or scale the data as shown in:\n",
      "    https://scikit-learn.org/stable/modules/preprocessing.html\n",
      "Please also refer to the documentation for alternative solver options:\n",
      "    https://scikit-learn.org/stable/modules/linear_model.html#logistic-regression\n",
      "  extra_warning_msg=_LOGISTIC_SOLVER_CONVERGENCE_MSG)\n",
      "C:\\Users\\diego.mayer\\AppData\\Local\\Continuum\\anaconda3\\lib\\site-packages\\sklearn\\linear_model\\_logistic.py:940: ConvergenceWarning: lbfgs failed to converge (status=1):\n",
      "STOP: TOTAL NO. of ITERATIONS REACHED LIMIT.\n",
      "\n",
      "Increase the number of iterations (max_iter) or scale the data as shown in:\n",
      "    https://scikit-learn.org/stable/modules/preprocessing.html\n",
      "Please also refer to the documentation for alternative solver options:\n",
      "    https://scikit-learn.org/stable/modules/linear_model.html#logistic-regression\n",
      "  extra_warning_msg=_LOGISTIC_SOLVER_CONVERGENCE_MSG)\n"
     ]
    },
    {
     "name": "stdout",
     "output_type": "stream",
     "text": [
      "LogisticR: ACC: 0.82063 - F1: 0.76608\n",
      "LogisticR: ACC: 0.82287 - F1: 0.74598\n",
      "LogisticR: ACC: 0.79372 - F1: 0.72121\n",
      "LogisticR: ACC: 0.79372 - F1: 0.73256"
     ]
    },
    {
     "name": "stderr",
     "output_type": "stream",
     "text": [
      "C:\\Users\\diego.mayer\\AppData\\Local\\Continuum\\anaconda3\\lib\\site-packages\\sklearn\\linear_model\\_logistic.py:940: ConvergenceWarning: lbfgs failed to converge (status=1):\n",
      "STOP: TOTAL NO. of ITERATIONS REACHED LIMIT.\n",
      "\n",
      "Increase the number of iterations (max_iter) or scale the data as shown in:\n",
      "    https://scikit-learn.org/stable/modules/preprocessing.html\n",
      "Please also refer to the documentation for alternative solver options:\n",
      "    https://scikit-learn.org/stable/modules/linear_model.html#logistic-regression\n",
      "  extra_warning_msg=_LOGISTIC_SOLVER_CONVERGENCE_MSG)\n",
      "C:\\Users\\diego.mayer\\AppData\\Local\\Continuum\\anaconda3\\lib\\site-packages\\sklearn\\linear_model\\_logistic.py:940: ConvergenceWarning: lbfgs failed to converge (status=1):\n",
      "STOP: TOTAL NO. of ITERATIONS REACHED LIMIT.\n",
      "\n",
      "Increase the number of iterations (max_iter) or scale the data as shown in:\n",
      "    https://scikit-learn.org/stable/modules/preprocessing.html\n",
      "Please also refer to the documentation for alternative solver options:\n",
      "    https://scikit-learn.org/stable/modules/linear_model.html#logistic-regression\n",
      "  extra_warning_msg=_LOGISTIC_SOLVER_CONVERGENCE_MSG)\n",
      "C:\\Users\\diego.mayer\\AppData\\Local\\Continuum\\anaconda3\\lib\\site-packages\\sklearn\\linear_model\\_logistic.py:940: ConvergenceWarning: lbfgs failed to converge (status=1):\n",
      "STOP: TOTAL NO. of ITERATIONS REACHED LIMIT.\n",
      "\n",
      "Increase the number of iterations (max_iter) or scale the data as shown in:\n",
      "    https://scikit-learn.org/stable/modules/preprocessing.html\n",
      "Please also refer to the documentation for alternative solver options:\n",
      "    https://scikit-learn.org/stable/modules/linear_model.html#logistic-regression\n",
      "  extra_warning_msg=_LOGISTIC_SOLVER_CONVERGENCE_MSG)\n"
     ]
    },
    {
     "name": "stdout",
     "output_type": "stream",
     "text": [
      "\n",
      "LogisticR: ACC: 0.80045 - F1: 0.74352\n",
      "LogisticR: ACC: 0.80942 - F1: 0.72669\n"
     ]
    },
    {
     "name": "stderr",
     "output_type": "stream",
     "text": [
      "C:\\Users\\diego.mayer\\AppData\\Local\\Continuum\\anaconda3\\lib\\site-packages\\sklearn\\linear_model\\_logistic.py:940: ConvergenceWarning: lbfgs failed to converge (status=1):\n",
      "STOP: TOTAL NO. of ITERATIONS REACHED LIMIT.\n",
      "\n",
      "Increase the number of iterations (max_iter) or scale the data as shown in:\n",
      "    https://scikit-learn.org/stable/modules/preprocessing.html\n",
      "Please also refer to the documentation for alternative solver options:\n",
      "    https://scikit-learn.org/stable/modules/linear_model.html#logistic-regression\n",
      "  extra_warning_msg=_LOGISTIC_SOLVER_CONVERGENCE_MSG)\n",
      "C:\\Users\\diego.mayer\\AppData\\Local\\Continuum\\anaconda3\\lib\\site-packages\\sklearn\\linear_model\\_logistic.py:940: ConvergenceWarning: lbfgs failed to converge (status=1):\n",
      "STOP: TOTAL NO. of ITERATIONS REACHED LIMIT.\n",
      "\n",
      "Increase the number of iterations (max_iter) or scale the data as shown in:\n",
      "    https://scikit-learn.org/stable/modules/preprocessing.html\n",
      "Please also refer to the documentation for alternative solver options:\n",
      "    https://scikit-learn.org/stable/modules/linear_model.html#logistic-regression\n",
      "  extra_warning_msg=_LOGISTIC_SOLVER_CONVERGENCE_MSG)\n",
      "C:\\Users\\diego.mayer\\AppData\\Local\\Continuum\\anaconda3\\lib\\site-packages\\sklearn\\linear_model\\_logistic.py:940: ConvergenceWarning: lbfgs failed to converge (status=1):\n",
      "STOP: TOTAL NO. of ITERATIONS REACHED LIMIT.\n",
      "\n",
      "Increase the number of iterations (max_iter) or scale the data as shown in:\n",
      "    https://scikit-learn.org/stable/modules/preprocessing.html\n",
      "Please also refer to the documentation for alternative solver options:\n",
      "    https://scikit-learn.org/stable/modules/linear_model.html#logistic-regression\n",
      "  extra_warning_msg=_LOGISTIC_SOLVER_CONVERGENCE_MSG)\n"
     ]
    },
    {
     "name": "stdout",
     "output_type": "stream",
     "text": [
      "LogisticR: ACC: 0.80717 - F1: 0.73292\n",
      "LogisticR: ACC: 0.81166 - F1: 0.75148\n",
      "LogisticR: ACC: 0.79372 - F1: 0.72619\n"
     ]
    },
    {
     "name": "stderr",
     "output_type": "stream",
     "text": [
      "C:\\Users\\diego.mayer\\AppData\\Local\\Continuum\\anaconda3\\lib\\site-packages\\sklearn\\linear_model\\_logistic.py:940: ConvergenceWarning: lbfgs failed to converge (status=1):\n",
      "STOP: TOTAL NO. of ITERATIONS REACHED LIMIT.\n",
      "\n",
      "Increase the number of iterations (max_iter) or scale the data as shown in:\n",
      "    https://scikit-learn.org/stable/modules/preprocessing.html\n",
      "Please also refer to the documentation for alternative solver options:\n",
      "    https://scikit-learn.org/stable/modules/linear_model.html#logistic-regression\n",
      "  extra_warning_msg=_LOGISTIC_SOLVER_CONVERGENCE_MSG)\n",
      "C:\\Users\\diego.mayer\\AppData\\Local\\Continuum\\anaconda3\\lib\\site-packages\\sklearn\\linear_model\\_logistic.py:940: ConvergenceWarning: lbfgs failed to converge (status=1):\n",
      "STOP: TOTAL NO. of ITERATIONS REACHED LIMIT.\n",
      "\n",
      "Increase the number of iterations (max_iter) or scale the data as shown in:\n",
      "    https://scikit-learn.org/stable/modules/preprocessing.html\n",
      "Please also refer to the documentation for alternative solver options:\n",
      "    https://scikit-learn.org/stable/modules/linear_model.html#logistic-regression\n",
      "  extra_warning_msg=_LOGISTIC_SOLVER_CONVERGENCE_MSG)\n",
      "C:\\Users\\diego.mayer\\AppData\\Local\\Continuum\\anaconda3\\lib\\site-packages\\sklearn\\linear_model\\_logistic.py:940: ConvergenceWarning: lbfgs failed to converge (status=1):\n",
      "STOP: TOTAL NO. of ITERATIONS REACHED LIMIT.\n",
      "\n",
      "Increase the number of iterations (max_iter) or scale the data as shown in:\n",
      "    https://scikit-learn.org/stable/modules/preprocessing.html\n",
      "Please also refer to the documentation for alternative solver options:\n",
      "    https://scikit-learn.org/stable/modules/linear_model.html#logistic-regression\n",
      "  extra_warning_msg=_LOGISTIC_SOLVER_CONVERGENCE_MSG)\n",
      "C:\\Users\\diego.mayer\\AppData\\Local\\Continuum\\anaconda3\\lib\\site-packages\\sklearn\\linear_model\\_logistic.py:940: ConvergenceWarning: lbfgs failed to converge (status=1):\n",
      "STOP: TOTAL NO. of ITERATIONS REACHED LIMIT.\n",
      "\n",
      "Increase the number of iterations (max_iter) or scale the data as shown in:\n",
      "    https://scikit-learn.org/stable/modules/preprocessing.html\n",
      "Please also refer to the documentation for alternative solver options:\n",
      "    https://scikit-learn.org/stable/modules/linear_model.html#logistic-regression\n",
      "  extra_warning_msg=_LOGISTIC_SOLVER_CONVERGENCE_MSG)\n"
     ]
    },
    {
     "name": "stdout",
     "output_type": "stream",
     "text": [
      "LogisticR: ACC: 0.82287 - F1: 0.76133\n",
      "LogisticR: ACC: 0.80493 - F1: 0.74928\n",
      "LogisticR: ACC: 0.81390 - F1: 0.74462\n",
      "LogisticR: ACC: 0.84305 - F1: 0.79290\n",
      "LogisticR: ACC: 0.79596 - F1: 0.72673\n",
      "LogisticR: ACC: 0.80045 - F1: 0.71010\n",
      "LogisticR: ACC: 0.78700 - F1: 0.71810\n"
     ]
    },
    {
     "name": "stderr",
     "output_type": "stream",
     "text": [
      "C:\\Users\\diego.mayer\\AppData\\Local\\Continuum\\anaconda3\\lib\\site-packages\\sklearn\\linear_model\\_logistic.py:940: ConvergenceWarning: lbfgs failed to converge (status=1):\n",
      "STOP: TOTAL NO. of ITERATIONS REACHED LIMIT.\n",
      "\n",
      "Increase the number of iterations (max_iter) or scale the data as shown in:\n",
      "    https://scikit-learn.org/stable/modules/preprocessing.html\n",
      "Please also refer to the documentation for alternative solver options:\n",
      "    https://scikit-learn.org/stable/modules/linear_model.html#logistic-regression\n",
      "  extra_warning_msg=_LOGISTIC_SOLVER_CONVERGENCE_MSG)\n",
      "C:\\Users\\diego.mayer\\AppData\\Local\\Continuum\\anaconda3\\lib\\site-packages\\sklearn\\linear_model\\_logistic.py:940: ConvergenceWarning: lbfgs failed to converge (status=1):\n",
      "STOP: TOTAL NO. of ITERATIONS REACHED LIMIT.\n",
      "\n",
      "Increase the number of iterations (max_iter) or scale the data as shown in:\n",
      "    https://scikit-learn.org/stable/modules/preprocessing.html\n",
      "Please also refer to the documentation for alternative solver options:\n",
      "    https://scikit-learn.org/stable/modules/linear_model.html#logistic-regression\n",
      "  extra_warning_msg=_LOGISTIC_SOLVER_CONVERGENCE_MSG)\n",
      "C:\\Users\\diego.mayer\\AppData\\Local\\Continuum\\anaconda3\\lib\\site-packages\\sklearn\\linear_model\\_logistic.py:940: ConvergenceWarning: lbfgs failed to converge (status=1):\n",
      "STOP: TOTAL NO. of ITERATIONS REACHED LIMIT.\n",
      "\n",
      "Increase the number of iterations (max_iter) or scale the data as shown in:\n",
      "    https://scikit-learn.org/stable/modules/preprocessing.html\n",
      "Please also refer to the documentation for alternative solver options:\n",
      "    https://scikit-learn.org/stable/modules/linear_model.html#logistic-regression\n",
      "  extra_warning_msg=_LOGISTIC_SOLVER_CONVERGENCE_MSG)\n",
      "C:\\Users\\diego.mayer\\AppData\\Local\\Continuum\\anaconda3\\lib\\site-packages\\sklearn\\linear_model\\_logistic.py:940: ConvergenceWarning: lbfgs failed to converge (status=1):\n",
      "STOP: TOTAL NO. of ITERATIONS REACHED LIMIT.\n",
      "\n",
      "Increase the number of iterations (max_iter) or scale the data as shown in:\n",
      "    https://scikit-learn.org/stable/modules/preprocessing.html\n",
      "Please also refer to the documentation for alternative solver options:\n",
      "    https://scikit-learn.org/stable/modules/linear_model.html#logistic-regression\n",
      "  extra_warning_msg=_LOGISTIC_SOLVER_CONVERGENCE_MSG)\n"
     ]
    },
    {
     "name": "stdout",
     "output_type": "stream",
     "text": [
      "LogisticR: ACC: 0.81839 - F1: 0.75676\n",
      "LogisticR: ACC: 0.82511 - F1: 0.76647\n",
      "LogisticR: ACC: 0.82735 - F1: 0.77151\n"
     ]
    },
    {
     "name": "stderr",
     "output_type": "stream",
     "text": [
      "C:\\Users\\diego.mayer\\AppData\\Local\\Continuum\\anaconda3\\lib\\site-packages\\sklearn\\linear_model\\_logistic.py:940: ConvergenceWarning: lbfgs failed to converge (status=1):\n",
      "STOP: TOTAL NO. of ITERATIONS REACHED LIMIT.\n",
      "\n",
      "Increase the number of iterations (max_iter) or scale the data as shown in:\n",
      "    https://scikit-learn.org/stable/modules/preprocessing.html\n",
      "Please also refer to the documentation for alternative solver options:\n",
      "    https://scikit-learn.org/stable/modules/linear_model.html#logistic-regression\n",
      "  extra_warning_msg=_LOGISTIC_SOLVER_CONVERGENCE_MSG)\n",
      "C:\\Users\\diego.mayer\\AppData\\Local\\Continuum\\anaconda3\\lib\\site-packages\\sklearn\\linear_model\\_logistic.py:940: ConvergenceWarning: lbfgs failed to converge (status=1):\n",
      "STOP: TOTAL NO. of ITERATIONS REACHED LIMIT.\n",
      "\n",
      "Increase the number of iterations (max_iter) or scale the data as shown in:\n",
      "    https://scikit-learn.org/stable/modules/preprocessing.html\n",
      "Please also refer to the documentation for alternative solver options:\n",
      "    https://scikit-learn.org/stable/modules/linear_model.html#logistic-regression\n",
      "  extra_warning_msg=_LOGISTIC_SOLVER_CONVERGENCE_MSG)\n",
      "C:\\Users\\diego.mayer\\AppData\\Local\\Continuum\\anaconda3\\lib\\site-packages\\sklearn\\linear_model\\_logistic.py:940: ConvergenceWarning: lbfgs failed to converge (status=1):\n",
      "STOP: TOTAL NO. of ITERATIONS REACHED LIMIT.\n",
      "\n",
      "Increase the number of iterations (max_iter) or scale the data as shown in:\n",
      "    https://scikit-learn.org/stable/modules/preprocessing.html\n",
      "Please also refer to the documentation for alternative solver options:\n",
      "    https://scikit-learn.org/stable/modules/linear_model.html#logistic-regression\n",
      "  extra_warning_msg=_LOGISTIC_SOLVER_CONVERGENCE_MSG)\n",
      "C:\\Users\\diego.mayer\\AppData\\Local\\Continuum\\anaconda3\\lib\\site-packages\\sklearn\\linear_model\\_logistic.py:940: ConvergenceWarning: lbfgs failed to converge (status=1):\n",
      "STOP: TOTAL NO. of ITERATIONS REACHED LIMIT.\n",
      "\n",
      "Increase the number of iterations (max_iter) or scale the data as shown in:\n",
      "    https://scikit-learn.org/stable/modules/preprocessing.html\n",
      "Please also refer to the documentation for alternative solver options:\n",
      "    https://scikit-learn.org/stable/modules/linear_model.html#logistic-regression\n",
      "  extra_warning_msg=_LOGISTIC_SOLVER_CONVERGENCE_MSG)\n"
     ]
    },
    {
     "name": "stdout",
     "output_type": "stream",
     "text": [
      "LogisticR: ACC: 0.83408 - F1: 0.76433\n",
      "LogisticR: ACC: 0.81390 - F1: 0.75075\n",
      "LogisticR: ACC: 0.82063 - F1: 0.76048\n",
      "LogisticR: ACC: 0.78700 - F1: 0.71976"
     ]
    },
    {
     "name": "stderr",
     "output_type": "stream",
     "text": [
      "C:\\Users\\diego.mayer\\AppData\\Local\\Continuum\\anaconda3\\lib\\site-packages\\sklearn\\linear_model\\_logistic.py:940: ConvergenceWarning: lbfgs failed to converge (status=1):\n",
      "STOP: TOTAL NO. of ITERATIONS REACHED LIMIT.\n",
      "\n",
      "Increase the number of iterations (max_iter) or scale the data as shown in:\n",
      "    https://scikit-learn.org/stable/modules/preprocessing.html\n",
      "Please also refer to the documentation for alternative solver options:\n",
      "    https://scikit-learn.org/stable/modules/linear_model.html#logistic-regression\n",
      "  extra_warning_msg=_LOGISTIC_SOLVER_CONVERGENCE_MSG)\n",
      "C:\\Users\\diego.mayer\\AppData\\Local\\Continuum\\anaconda3\\lib\\site-packages\\sklearn\\linear_model\\_logistic.py:940: ConvergenceWarning: lbfgs failed to converge (status=1):\n",
      "STOP: TOTAL NO. of ITERATIONS REACHED LIMIT.\n",
      "\n",
      "Increase the number of iterations (max_iter) or scale the data as shown in:\n",
      "    https://scikit-learn.org/stable/modules/preprocessing.html\n",
      "Please also refer to the documentation for alternative solver options:\n",
      "    https://scikit-learn.org/stable/modules/linear_model.html#logistic-regression\n",
      "  extra_warning_msg=_LOGISTIC_SOLVER_CONVERGENCE_MSG)\n",
      "C:\\Users\\diego.mayer\\AppData\\Local\\Continuum\\anaconda3\\lib\\site-packages\\sklearn\\linear_model\\_logistic.py:940: ConvergenceWarning: lbfgs failed to converge (status=1):\n",
      "STOP: TOTAL NO. of ITERATIONS REACHED LIMIT.\n",
      "\n",
      "Increase the number of iterations (max_iter) or scale the data as shown in:\n",
      "    https://scikit-learn.org/stable/modules/preprocessing.html\n",
      "Please also refer to the documentation for alternative solver options:\n",
      "    https://scikit-learn.org/stable/modules/linear_model.html#logistic-regression\n",
      "  extra_warning_msg=_LOGISTIC_SOLVER_CONVERGENCE_MSG)\n"
     ]
    },
    {
     "name": "stdout",
     "output_type": "stream",
     "text": [
      "\n",
      "LogisticR: ACC: 0.82287 - F1: 0.77101\n",
      "LogisticR: ACC: 0.84081 - F1: 0.77316\n",
      "LogisticR: ACC: 0.79596 - F1: 0.74792\n"
     ]
    },
    {
     "name": "stderr",
     "output_type": "stream",
     "text": [
      "C:\\Users\\diego.mayer\\AppData\\Local\\Continuum\\anaconda3\\lib\\site-packages\\sklearn\\linear_model\\_logistic.py:940: ConvergenceWarning: lbfgs failed to converge (status=1):\n",
      "STOP: TOTAL NO. of ITERATIONS REACHED LIMIT.\n",
      "\n",
      "Increase the number of iterations (max_iter) or scale the data as shown in:\n",
      "    https://scikit-learn.org/stable/modules/preprocessing.html\n",
      "Please also refer to the documentation for alternative solver options:\n",
      "    https://scikit-learn.org/stable/modules/linear_model.html#logistic-regression\n",
      "  extra_warning_msg=_LOGISTIC_SOLVER_CONVERGENCE_MSG)\n",
      "C:\\Users\\diego.mayer\\AppData\\Local\\Continuum\\anaconda3\\lib\\site-packages\\sklearn\\linear_model\\_logistic.py:940: ConvergenceWarning: lbfgs failed to converge (status=1):\n",
      "STOP: TOTAL NO. of ITERATIONS REACHED LIMIT.\n",
      "\n",
      "Increase the number of iterations (max_iter) or scale the data as shown in:\n",
      "    https://scikit-learn.org/stable/modules/preprocessing.html\n",
      "Please also refer to the documentation for alternative solver options:\n",
      "    https://scikit-learn.org/stable/modules/linear_model.html#logistic-regression\n",
      "  extra_warning_msg=_LOGISTIC_SOLVER_CONVERGENCE_MSG)\n",
      "C:\\Users\\diego.mayer\\AppData\\Local\\Continuum\\anaconda3\\lib\\site-packages\\sklearn\\linear_model\\_logistic.py:940: ConvergenceWarning: lbfgs failed to converge (status=1):\n",
      "STOP: TOTAL NO. of ITERATIONS REACHED LIMIT.\n",
      "\n",
      "Increase the number of iterations (max_iter) or scale the data as shown in:\n",
      "    https://scikit-learn.org/stable/modules/preprocessing.html\n",
      "Please also refer to the documentation for alternative solver options:\n",
      "    https://scikit-learn.org/stable/modules/linear_model.html#logistic-regression\n",
      "  extra_warning_msg=_LOGISTIC_SOLVER_CONVERGENCE_MSG)\n",
      "C:\\Users\\diego.mayer\\AppData\\Local\\Continuum\\anaconda3\\lib\\site-packages\\sklearn\\linear_model\\_logistic.py:940: ConvergenceWarning: lbfgs failed to converge (status=1):\n",
      "STOP: TOTAL NO. of ITERATIONS REACHED LIMIT.\n",
      "\n",
      "Increase the number of iterations (max_iter) or scale the data as shown in:\n",
      "    https://scikit-learn.org/stable/modules/preprocessing.html\n",
      "Please also refer to the documentation for alternative solver options:\n",
      "    https://scikit-learn.org/stable/modules/linear_model.html#logistic-regression\n",
      "  extra_warning_msg=_LOGISTIC_SOLVER_CONVERGENCE_MSG)\n"
     ]
    },
    {
     "name": "stdout",
     "output_type": "stream",
     "text": [
      "LogisticR: ACC: 0.81166 - F1: 0.75723\n",
      "LogisticR: ACC: 0.79596 - F1: 0.73926\n",
      "LogisticR: ACC: 0.84305 - F1: 0.78395\n",
      "LogisticR: ACC: 0.83184 - F1: 0.76489\n"
     ]
    },
    {
     "name": "stderr",
     "output_type": "stream",
     "text": [
      "C:\\Users\\diego.mayer\\AppData\\Local\\Continuum\\anaconda3\\lib\\site-packages\\sklearn\\linear_model\\_logistic.py:940: ConvergenceWarning: lbfgs failed to converge (status=1):\n",
      "STOP: TOTAL NO. of ITERATIONS REACHED LIMIT.\n",
      "\n",
      "Increase the number of iterations (max_iter) or scale the data as shown in:\n",
      "    https://scikit-learn.org/stable/modules/preprocessing.html\n",
      "Please also refer to the documentation for alternative solver options:\n",
      "    https://scikit-learn.org/stable/modules/linear_model.html#logistic-regression\n",
      "  extra_warning_msg=_LOGISTIC_SOLVER_CONVERGENCE_MSG)\n",
      "C:\\Users\\diego.mayer\\AppData\\Local\\Continuum\\anaconda3\\lib\\site-packages\\sklearn\\linear_model\\_logistic.py:940: ConvergenceWarning: lbfgs failed to converge (status=1):\n",
      "STOP: TOTAL NO. of ITERATIONS REACHED LIMIT.\n",
      "\n",
      "Increase the number of iterations (max_iter) or scale the data as shown in:\n",
      "    https://scikit-learn.org/stable/modules/preprocessing.html\n",
      "Please also refer to the documentation for alternative solver options:\n",
      "    https://scikit-learn.org/stable/modules/linear_model.html#logistic-regression\n",
      "  extra_warning_msg=_LOGISTIC_SOLVER_CONVERGENCE_MSG)\n",
      "C:\\Users\\diego.mayer\\AppData\\Local\\Continuum\\anaconda3\\lib\\site-packages\\sklearn\\linear_model\\_logistic.py:940: ConvergenceWarning: lbfgs failed to converge (status=1):\n",
      "STOP: TOTAL NO. of ITERATIONS REACHED LIMIT.\n",
      "\n",
      "Increase the number of iterations (max_iter) or scale the data as shown in:\n",
      "    https://scikit-learn.org/stable/modules/preprocessing.html\n",
      "Please also refer to the documentation for alternative solver options:\n",
      "    https://scikit-learn.org/stable/modules/linear_model.html#logistic-regression\n",
      "  extra_warning_msg=_LOGISTIC_SOLVER_CONVERGENCE_MSG)\n",
      "C:\\Users\\diego.mayer\\AppData\\Local\\Continuum\\anaconda3\\lib\\site-packages\\sklearn\\linear_model\\_logistic.py:940: ConvergenceWarning: lbfgs failed to converge (status=1):\n",
      "STOP: TOTAL NO. of ITERATIONS REACHED LIMIT.\n",
      "\n",
      "Increase the number of iterations (max_iter) or scale the data as shown in:\n",
      "    https://scikit-learn.org/stable/modules/preprocessing.html\n",
      "Please also refer to the documentation for alternative solver options:\n",
      "    https://scikit-learn.org/stable/modules/linear_model.html#logistic-regression\n",
      "  extra_warning_msg=_LOGISTIC_SOLVER_CONVERGENCE_MSG)\n",
      "C:\\Users\\diego.mayer\\AppData\\Local\\Continuum\\anaconda3\\lib\\site-packages\\sklearn\\linear_model\\_logistic.py:940: ConvergenceWarning: lbfgs failed to converge (status=1):\n",
      "STOP: TOTAL NO. of ITERATIONS REACHED LIMIT.\n",
      "\n",
      "Increase the number of iterations (max_iter) or scale the data as shown in:\n",
      "    https://scikit-learn.org/stable/modules/preprocessing.html\n",
      "Please also refer to the documentation for alternative solver options:\n",
      "    https://scikit-learn.org/stable/modules/linear_model.html#logistic-regression\n",
      "  extra_warning_msg=_LOGISTIC_SOLVER_CONVERGENCE_MSG)\n",
      "C:\\Users\\diego.mayer\\AppData\\Local\\Continuum\\anaconda3\\lib\\site-packages\\sklearn\\linear_model\\_logistic.py:940: ConvergenceWarning: lbfgs failed to converge (status=1):\n",
      "STOP: TOTAL NO. of ITERATIONS REACHED LIMIT.\n",
      "\n",
      "Increase the number of iterations (max_iter) or scale the data as shown in:\n",
      "    https://scikit-learn.org/stable/modules/preprocessing.html\n",
      "Please also refer to the documentation for alternative solver options:\n",
      "    https://scikit-learn.org/stable/modules/linear_model.html#logistic-regression\n",
      "  extra_warning_msg=_LOGISTIC_SOLVER_CONVERGENCE_MSG)\n"
     ]
    },
    {
     "name": "stdout",
     "output_type": "stream",
     "text": [
      "LogisticR: ACC: 0.81390 - F1: 0.76620\n",
      "LogisticR: ACC: 0.79821 - F1: 0.73054\n",
      "LogisticR: ACC: 0.80269 - F1: 0.73006\n",
      "LogisticR: ACC: 0.81166 - F1: 0.75148\n"
     ]
    },
    {
     "name": "stderr",
     "output_type": "stream",
     "text": [
      "C:\\Users\\diego.mayer\\AppData\\Local\\Continuum\\anaconda3\\lib\\site-packages\\sklearn\\linear_model\\_logistic.py:940: ConvergenceWarning: lbfgs failed to converge (status=1):\n",
      "STOP: TOTAL NO. of ITERATIONS REACHED LIMIT.\n",
      "\n",
      "Increase the number of iterations (max_iter) or scale the data as shown in:\n",
      "    https://scikit-learn.org/stable/modules/preprocessing.html\n",
      "Please also refer to the documentation for alternative solver options:\n",
      "    https://scikit-learn.org/stable/modules/linear_model.html#logistic-regression\n",
      "  extra_warning_msg=_LOGISTIC_SOLVER_CONVERGENCE_MSG)\n",
      "C:\\Users\\diego.mayer\\AppData\\Local\\Continuum\\anaconda3\\lib\\site-packages\\sklearn\\linear_model\\_logistic.py:940: ConvergenceWarning: lbfgs failed to converge (status=1):\n",
      "STOP: TOTAL NO. of ITERATIONS REACHED LIMIT.\n",
      "\n",
      "Increase the number of iterations (max_iter) or scale the data as shown in:\n",
      "    https://scikit-learn.org/stable/modules/preprocessing.html\n",
      "Please also refer to the documentation for alternative solver options:\n",
      "    https://scikit-learn.org/stable/modules/linear_model.html#logistic-regression\n",
      "  extra_warning_msg=_LOGISTIC_SOLVER_CONVERGENCE_MSG)\n",
      "C:\\Users\\diego.mayer\\AppData\\Local\\Continuum\\anaconda3\\lib\\site-packages\\sklearn\\linear_model\\_logistic.py:940: ConvergenceWarning: lbfgs failed to converge (status=1):\n",
      "STOP: TOTAL NO. of ITERATIONS REACHED LIMIT.\n",
      "\n",
      "Increase the number of iterations (max_iter) or scale the data as shown in:\n",
      "    https://scikit-learn.org/stable/modules/preprocessing.html\n",
      "Please also refer to the documentation for alternative solver options:\n",
      "    https://scikit-learn.org/stable/modules/linear_model.html#logistic-regression\n",
      "  extra_warning_msg=_LOGISTIC_SOLVER_CONVERGENCE_MSG)\n",
      "C:\\Users\\diego.mayer\\AppData\\Local\\Continuum\\anaconda3\\lib\\site-packages\\sklearn\\linear_model\\_logistic.py:940: ConvergenceWarning: lbfgs failed to converge (status=1):\n",
      "STOP: TOTAL NO. of ITERATIONS REACHED LIMIT.\n",
      "\n",
      "Increase the number of iterations (max_iter) or scale the data as shown in:\n",
      "    https://scikit-learn.org/stable/modules/preprocessing.html\n",
      "Please also refer to the documentation for alternative solver options:\n",
      "    https://scikit-learn.org/stable/modules/linear_model.html#logistic-regression\n",
      "  extra_warning_msg=_LOGISTIC_SOLVER_CONVERGENCE_MSG)\n"
     ]
    },
    {
     "name": "stdout",
     "output_type": "stream",
     "text": [
      "LogisticR: ACC: 0.80942 - F1: 0.74006\n",
      "LogisticR: ACC: 0.82287 - F1: 0.76833\n",
      "LogisticR: ACC: 0.79596 - F1: 0.71473\n",
      "LogisticR: ACC: 0.80493 - F1: 0.74487\n",
      "LogisticR: ACC: 0.80493 - F1: 0.74336\n",
      "LogisticR: ACC: 0.80269 - F1: 0.73810\n"
     ]
    },
    {
     "name": "stderr",
     "output_type": "stream",
     "text": [
      "C:\\Users\\diego.mayer\\AppData\\Local\\Continuum\\anaconda3\\lib\\site-packages\\sklearn\\linear_model\\_logistic.py:940: ConvergenceWarning: lbfgs failed to converge (status=1):\n",
      "STOP: TOTAL NO. of ITERATIONS REACHED LIMIT.\n",
      "\n",
      "Increase the number of iterations (max_iter) or scale the data as shown in:\n",
      "    https://scikit-learn.org/stable/modules/preprocessing.html\n",
      "Please also refer to the documentation for alternative solver options:\n",
      "    https://scikit-learn.org/stable/modules/linear_model.html#logistic-regression\n",
      "  extra_warning_msg=_LOGISTIC_SOLVER_CONVERGENCE_MSG)\n",
      "C:\\Users\\diego.mayer\\AppData\\Local\\Continuum\\anaconda3\\lib\\site-packages\\sklearn\\linear_model\\_logistic.py:940: ConvergenceWarning: lbfgs failed to converge (status=1):\n",
      "STOP: TOTAL NO. of ITERATIONS REACHED LIMIT.\n",
      "\n",
      "Increase the number of iterations (max_iter) or scale the data as shown in:\n",
      "    https://scikit-learn.org/stable/modules/preprocessing.html\n",
      "Please also refer to the documentation for alternative solver options:\n",
      "    https://scikit-learn.org/stable/modules/linear_model.html#logistic-regression\n",
      "  extra_warning_msg=_LOGISTIC_SOLVER_CONVERGENCE_MSG)\n",
      "C:\\Users\\diego.mayer\\AppData\\Local\\Continuum\\anaconda3\\lib\\site-packages\\sklearn\\linear_model\\_logistic.py:940: ConvergenceWarning: lbfgs failed to converge (status=1):\n",
      "STOP: TOTAL NO. of ITERATIONS REACHED LIMIT.\n",
      "\n",
      "Increase the number of iterations (max_iter) or scale the data as shown in:\n",
      "    https://scikit-learn.org/stable/modules/preprocessing.html\n",
      "Please also refer to the documentation for alternative solver options:\n",
      "    https://scikit-learn.org/stable/modules/linear_model.html#logistic-regression\n",
      "  extra_warning_msg=_LOGISTIC_SOLVER_CONVERGENCE_MSG)\n",
      "C:\\Users\\diego.mayer\\AppData\\Local\\Continuum\\anaconda3\\lib\\site-packages\\sklearn\\linear_model\\_logistic.py:940: ConvergenceWarning: lbfgs failed to converge (status=1):\n",
      "STOP: TOTAL NO. of ITERATIONS REACHED LIMIT.\n",
      "\n",
      "Increase the number of iterations (max_iter) or scale the data as shown in:\n",
      "    https://scikit-learn.org/stable/modules/preprocessing.html\n",
      "Please also refer to the documentation for alternative solver options:\n",
      "    https://scikit-learn.org/stable/modules/linear_model.html#logistic-regression\n",
      "  extra_warning_msg=_LOGISTIC_SOLVER_CONVERGENCE_MSG)\n"
     ]
    },
    {
     "name": "stdout",
     "output_type": "stream",
     "text": [
      "LogisticR: ACC: 0.78700 - F1: 0.71976\n",
      "LogisticR: ACC: 0.81166 - F1: 0.73913\n",
      "LogisticR: ACC: 0.78924 - F1: 0.72024\n"
     ]
    },
    {
     "name": "stderr",
     "output_type": "stream",
     "text": [
      "C:\\Users\\diego.mayer\\AppData\\Local\\Continuum\\anaconda3\\lib\\site-packages\\sklearn\\linear_model\\_logistic.py:940: ConvergenceWarning: lbfgs failed to converge (status=1):\n",
      "STOP: TOTAL NO. of ITERATIONS REACHED LIMIT.\n",
      "\n",
      "Increase the number of iterations (max_iter) or scale the data as shown in:\n",
      "    https://scikit-learn.org/stable/modules/preprocessing.html\n",
      "Please also refer to the documentation for alternative solver options:\n",
      "    https://scikit-learn.org/stable/modules/linear_model.html#logistic-regression\n",
      "  extra_warning_msg=_LOGISTIC_SOLVER_CONVERGENCE_MSG)\n",
      "C:\\Users\\diego.mayer\\AppData\\Local\\Continuum\\anaconda3\\lib\\site-packages\\sklearn\\linear_model\\_logistic.py:940: ConvergenceWarning: lbfgs failed to converge (status=1):\n",
      "STOP: TOTAL NO. of ITERATIONS REACHED LIMIT.\n",
      "\n",
      "Increase the number of iterations (max_iter) or scale the data as shown in:\n",
      "    https://scikit-learn.org/stable/modules/preprocessing.html\n",
      "Please also refer to the documentation for alternative solver options:\n",
      "    https://scikit-learn.org/stable/modules/linear_model.html#logistic-regression\n",
      "  extra_warning_msg=_LOGISTIC_SOLVER_CONVERGENCE_MSG)\n",
      "C:\\Users\\diego.mayer\\AppData\\Local\\Continuum\\anaconda3\\lib\\site-packages\\sklearn\\linear_model\\_logistic.py:940: ConvergenceWarning: lbfgs failed to converge (status=1):\n",
      "STOP: TOTAL NO. of ITERATIONS REACHED LIMIT.\n",
      "\n",
      "Increase the number of iterations (max_iter) or scale the data as shown in:\n",
      "    https://scikit-learn.org/stable/modules/preprocessing.html\n",
      "Please also refer to the documentation for alternative solver options:\n",
      "    https://scikit-learn.org/stable/modules/linear_model.html#logistic-regression\n",
      "  extra_warning_msg=_LOGISTIC_SOLVER_CONVERGENCE_MSG)\n"
     ]
    },
    {
     "name": "stdout",
     "output_type": "stream",
     "text": [
      "LogisticR: ACC: 0.82063 - F1: 0.76048\n",
      "LogisticR: ACC: 0.80493 - F1: 0.74928\n",
      "LogisticR: ACC: 0.81390 - F1: 0.75516\n"
     ]
    },
    {
     "name": "stderr",
     "output_type": "stream",
     "text": [
      "C:\\Users\\diego.mayer\\AppData\\Local\\Continuum\\anaconda3\\lib\\site-packages\\sklearn\\linear_model\\_logistic.py:940: ConvergenceWarning: lbfgs failed to converge (status=1):\n",
      "STOP: TOTAL NO. of ITERATIONS REACHED LIMIT.\n",
      "\n",
      "Increase the number of iterations (max_iter) or scale the data as shown in:\n",
      "    https://scikit-learn.org/stable/modules/preprocessing.html\n",
      "Please also refer to the documentation for alternative solver options:\n",
      "    https://scikit-learn.org/stable/modules/linear_model.html#logistic-regression\n",
      "  extra_warning_msg=_LOGISTIC_SOLVER_CONVERGENCE_MSG)\n",
      "C:\\Users\\diego.mayer\\AppData\\Local\\Continuum\\anaconda3\\lib\\site-packages\\sklearn\\linear_model\\_logistic.py:940: ConvergenceWarning: lbfgs failed to converge (status=1):\n",
      "STOP: TOTAL NO. of ITERATIONS REACHED LIMIT.\n",
      "\n",
      "Increase the number of iterations (max_iter) or scale the data as shown in:\n",
      "    https://scikit-learn.org/stable/modules/preprocessing.html\n",
      "Please also refer to the documentation for alternative solver options:\n",
      "    https://scikit-learn.org/stable/modules/linear_model.html#logistic-regression\n",
      "  extra_warning_msg=_LOGISTIC_SOLVER_CONVERGENCE_MSG)\n"
     ]
    },
    {
     "name": "stdout",
     "output_type": "stream",
     "text": [
      "LogisticR: ACC: 0.82063 - F1: 0.75460\n",
      "LogisticR: ACC: 0.82287 - F1: 0.76968\n",
      "LogisticR: ACC: 0.79372 - F1: 0.70886\n",
      "LogisticR: ACC: 0.81614 - F1: 0.75595\n"
     ]
    },
    {
     "name": "stderr",
     "output_type": "stream",
     "text": [
      "C:\\Users\\diego.mayer\\AppData\\Local\\Continuum\\anaconda3\\lib\\site-packages\\sklearn\\linear_model\\_logistic.py:940: ConvergenceWarning: lbfgs failed to converge (status=1):\n",
      "STOP: TOTAL NO. of ITERATIONS REACHED LIMIT.\n",
      "\n",
      "Increase the number of iterations (max_iter) or scale the data as shown in:\n",
      "    https://scikit-learn.org/stable/modules/preprocessing.html\n",
      "Please also refer to the documentation for alternative solver options:\n",
      "    https://scikit-learn.org/stable/modules/linear_model.html#logistic-regression\n",
      "  extra_warning_msg=_LOGISTIC_SOLVER_CONVERGENCE_MSG)\n",
      "C:\\Users\\diego.mayer\\AppData\\Local\\Continuum\\anaconda3\\lib\\site-packages\\sklearn\\linear_model\\_logistic.py:940: ConvergenceWarning: lbfgs failed to converge (status=1):\n",
      "STOP: TOTAL NO. of ITERATIONS REACHED LIMIT.\n",
      "\n",
      "Increase the number of iterations (max_iter) or scale the data as shown in:\n",
      "    https://scikit-learn.org/stable/modules/preprocessing.html\n",
      "Please also refer to the documentation for alternative solver options:\n",
      "    https://scikit-learn.org/stable/modules/linear_model.html#logistic-regression\n",
      "  extra_warning_msg=_LOGISTIC_SOLVER_CONVERGENCE_MSG)\n",
      "C:\\Users\\diego.mayer\\AppData\\Local\\Continuum\\anaconda3\\lib\\site-packages\\sklearn\\linear_model\\_logistic.py:940: ConvergenceWarning: lbfgs failed to converge (status=1):\n",
      "STOP: TOTAL NO. of ITERATIONS REACHED LIMIT.\n",
      "\n",
      "Increase the number of iterations (max_iter) or scale the data as shown in:\n",
      "    https://scikit-learn.org/stable/modules/preprocessing.html\n",
      "Please also refer to the documentation for alternative solver options:\n",
      "    https://scikit-learn.org/stable/modules/linear_model.html#logistic-regression\n",
      "  extra_warning_msg=_LOGISTIC_SOLVER_CONVERGENCE_MSG)\n",
      "C:\\Users\\diego.mayer\\AppData\\Local\\Continuum\\anaconda3\\lib\\site-packages\\sklearn\\linear_model\\_logistic.py:940: ConvergenceWarning: lbfgs failed to converge (status=1):\n",
      "STOP: TOTAL NO. of ITERATIONS REACHED LIMIT.\n",
      "\n",
      "Increase the number of iterations (max_iter) or scale the data as shown in:\n",
      "    https://scikit-learn.org/stable/modules/preprocessing.html\n",
      "Please also refer to the documentation for alternative solver options:\n",
      "    https://scikit-learn.org/stable/modules/linear_model.html#logistic-regression\n",
      "  extra_warning_msg=_LOGISTIC_SOLVER_CONVERGENCE_MSG)\n"
     ]
    },
    {
     "name": "stdout",
     "output_type": "stream",
     "text": [
      "LogisticR: ACC: 0.80942 - F1: 0.73846\n",
      "LogisticR: ACC: 0.78475 - F1: 0.72727\n",
      "LogisticR: ACC: 0.80045 - F1: 0.73273\n"
     ]
    },
    {
     "name": "stderr",
     "output_type": "stream",
     "text": [
      "C:\\Users\\diego.mayer\\AppData\\Local\\Continuum\\anaconda3\\lib\\site-packages\\sklearn\\linear_model\\_logistic.py:940: ConvergenceWarning: lbfgs failed to converge (status=1):\n",
      "STOP: TOTAL NO. of ITERATIONS REACHED LIMIT.\n",
      "\n",
      "Increase the number of iterations (max_iter) or scale the data as shown in:\n",
      "    https://scikit-learn.org/stable/modules/preprocessing.html\n",
      "Please also refer to the documentation for alternative solver options:\n",
      "    https://scikit-learn.org/stable/modules/linear_model.html#logistic-regression\n",
      "  extra_warning_msg=_LOGISTIC_SOLVER_CONVERGENCE_MSG)\n",
      "C:\\Users\\diego.mayer\\AppData\\Local\\Continuum\\anaconda3\\lib\\site-packages\\sklearn\\linear_model\\_logistic.py:940: ConvergenceWarning: lbfgs failed to converge (status=1):\n",
      "STOP: TOTAL NO. of ITERATIONS REACHED LIMIT.\n",
      "\n",
      "Increase the number of iterations (max_iter) or scale the data as shown in:\n",
      "    https://scikit-learn.org/stable/modules/preprocessing.html\n",
      "Please also refer to the documentation for alternative solver options:\n",
      "    https://scikit-learn.org/stable/modules/linear_model.html#logistic-regression\n",
      "  extra_warning_msg=_LOGISTIC_SOLVER_CONVERGENCE_MSG)\n",
      "C:\\Users\\diego.mayer\\AppData\\Local\\Continuum\\anaconda3\\lib\\site-packages\\sklearn\\linear_model\\_logistic.py:940: ConvergenceWarning: lbfgs failed to converge (status=1):\n",
      "STOP: TOTAL NO. of ITERATIONS REACHED LIMIT.\n",
      "\n",
      "Increase the number of iterations (max_iter) or scale the data as shown in:\n",
      "    https://scikit-learn.org/stable/modules/preprocessing.html\n",
      "Please also refer to the documentation for alternative solver options:\n",
      "    https://scikit-learn.org/stable/modules/linear_model.html#logistic-regression\n",
      "  extra_warning_msg=_LOGISTIC_SOLVER_CONVERGENCE_MSG)\n"
     ]
    },
    {
     "name": "stdout",
     "output_type": "stream",
     "text": [
      "LogisticR: ACC: 0.81839 - F1: 0.75529\n",
      "LogisticR: ACC: 0.78924 - F1: 0.74317\n",
      "LogisticR: ACC: 0.81390 - F1: 0.74772\n",
      "LogisticR: ACC: 0.81839 - F1: 0.75676"
     ]
    },
    {
     "name": "stderr",
     "output_type": "stream",
     "text": [
      "C:\\Users\\diego.mayer\\AppData\\Local\\Continuum\\anaconda3\\lib\\site-packages\\sklearn\\linear_model\\_logistic.py:940: ConvergenceWarning: lbfgs failed to converge (status=1):\n",
      "STOP: TOTAL NO. of ITERATIONS REACHED LIMIT.\n",
      "\n",
      "Increase the number of iterations (max_iter) or scale the data as shown in:\n",
      "    https://scikit-learn.org/stable/modules/preprocessing.html\n",
      "Please also refer to the documentation for alternative solver options:\n",
      "    https://scikit-learn.org/stable/modules/linear_model.html#logistic-regression\n",
      "  extra_warning_msg=_LOGISTIC_SOLVER_CONVERGENCE_MSG)\n",
      "C:\\Users\\diego.mayer\\AppData\\Local\\Continuum\\anaconda3\\lib\\site-packages\\sklearn\\linear_model\\_logistic.py:940: ConvergenceWarning: lbfgs failed to converge (status=1):\n",
      "STOP: TOTAL NO. of ITERATIONS REACHED LIMIT.\n",
      "\n",
      "Increase the number of iterations (max_iter) or scale the data as shown in:\n",
      "    https://scikit-learn.org/stable/modules/preprocessing.html\n",
      "Please also refer to the documentation for alternative solver options:\n",
      "    https://scikit-learn.org/stable/modules/linear_model.html#logistic-regression\n",
      "  extra_warning_msg=_LOGISTIC_SOLVER_CONVERGENCE_MSG)\n",
      "C:\\Users\\diego.mayer\\AppData\\Local\\Continuum\\anaconda3\\lib\\site-packages\\sklearn\\linear_model\\_logistic.py:940: ConvergenceWarning: lbfgs failed to converge (status=1):\n",
      "STOP: TOTAL NO. of ITERATIONS REACHED LIMIT.\n",
      "\n",
      "Increase the number of iterations (max_iter) or scale the data as shown in:\n",
      "    https://scikit-learn.org/stable/modules/preprocessing.html\n",
      "Please also refer to the documentation for alternative solver options:\n",
      "    https://scikit-learn.org/stable/modules/linear_model.html#logistic-regression\n",
      "  extra_warning_msg=_LOGISTIC_SOLVER_CONVERGENCE_MSG)\n",
      "C:\\Users\\diego.mayer\\AppData\\Local\\Continuum\\anaconda3\\lib\\site-packages\\sklearn\\linear_model\\_logistic.py:940: ConvergenceWarning: lbfgs failed to converge (status=1):\n",
      "STOP: TOTAL NO. of ITERATIONS REACHED LIMIT.\n",
      "\n",
      "Increase the number of iterations (max_iter) or scale the data as shown in:\n",
      "    https://scikit-learn.org/stable/modules/preprocessing.html\n",
      "Please also refer to the documentation for alternative solver options:\n",
      "    https://scikit-learn.org/stable/modules/linear_model.html#logistic-regression\n",
      "  extra_warning_msg=_LOGISTIC_SOLVER_CONVERGENCE_MSG)\n"
     ]
    },
    {
     "name": "stdout",
     "output_type": "stream",
     "text": [
      "\n",
      "LogisticR: ACC: 0.81839 - F1: 0.75077\n",
      "LogisticR: ACC: 0.82063 - F1: 0.76048\n",
      "LogisticR: ACC: 0.84529 - F1: 0.78370\n"
     ]
    },
    {
     "name": "stderr",
     "output_type": "stream",
     "text": [
      "C:\\Users\\diego.mayer\\AppData\\Local\\Continuum\\anaconda3\\lib\\site-packages\\sklearn\\linear_model\\_logistic.py:940: ConvergenceWarning: lbfgs failed to converge (status=1):\n",
      "STOP: TOTAL NO. of ITERATIONS REACHED LIMIT.\n",
      "\n",
      "Increase the number of iterations (max_iter) or scale the data as shown in:\n",
      "    https://scikit-learn.org/stable/modules/preprocessing.html\n",
      "Please also refer to the documentation for alternative solver options:\n",
      "    https://scikit-learn.org/stable/modules/linear_model.html#logistic-regression\n",
      "  extra_warning_msg=_LOGISTIC_SOLVER_CONVERGENCE_MSG)\n",
      "C:\\Users\\diego.mayer\\AppData\\Local\\Continuum\\anaconda3\\lib\\site-packages\\sklearn\\linear_model\\_logistic.py:940: ConvergenceWarning: lbfgs failed to converge (status=1):\n",
      "STOP: TOTAL NO. of ITERATIONS REACHED LIMIT.\n",
      "\n",
      "Increase the number of iterations (max_iter) or scale the data as shown in:\n",
      "    https://scikit-learn.org/stable/modules/preprocessing.html\n",
      "Please also refer to the documentation for alternative solver options:\n",
      "    https://scikit-learn.org/stable/modules/linear_model.html#logistic-regression\n",
      "  extra_warning_msg=_LOGISTIC_SOLVER_CONVERGENCE_MSG)\n",
      "C:\\Users\\diego.mayer\\AppData\\Local\\Continuum\\anaconda3\\lib\\site-packages\\sklearn\\linear_model\\_logistic.py:940: ConvergenceWarning: lbfgs failed to converge (status=1):\n",
      "STOP: TOTAL NO. of ITERATIONS REACHED LIMIT.\n",
      "\n",
      "Increase the number of iterations (max_iter) or scale the data as shown in:\n",
      "    https://scikit-learn.org/stable/modules/preprocessing.html\n",
      "Please also refer to the documentation for alternative solver options:\n",
      "    https://scikit-learn.org/stable/modules/linear_model.html#logistic-regression\n",
      "  extra_warning_msg=_LOGISTIC_SOLVER_CONVERGENCE_MSG)\n"
     ]
    },
    {
     "name": "stdout",
     "output_type": "stream",
     "text": [
      "LogisticR: ACC: 0.80045 - F1: 0.73900\n",
      "LogisticR: ACC: 0.78924 - F1: 0.71166\n",
      "LogisticR: ACC: 0.82960 - F1: 0.76970\n"
     ]
    },
    {
     "name": "stderr",
     "output_type": "stream",
     "text": [
      "C:\\Users\\diego.mayer\\AppData\\Local\\Continuum\\anaconda3\\lib\\site-packages\\sklearn\\linear_model\\_logistic.py:940: ConvergenceWarning: lbfgs failed to converge (status=1):\n",
      "STOP: TOTAL NO. of ITERATIONS REACHED LIMIT.\n",
      "\n",
      "Increase the number of iterations (max_iter) or scale the data as shown in:\n",
      "    https://scikit-learn.org/stable/modules/preprocessing.html\n",
      "Please also refer to the documentation for alternative solver options:\n",
      "    https://scikit-learn.org/stable/modules/linear_model.html#logistic-regression\n",
      "  extra_warning_msg=_LOGISTIC_SOLVER_CONVERGENCE_MSG)\n",
      "C:\\Users\\diego.mayer\\AppData\\Local\\Continuum\\anaconda3\\lib\\site-packages\\sklearn\\linear_model\\_logistic.py:940: ConvergenceWarning: lbfgs failed to converge (status=1):\n",
      "STOP: TOTAL NO. of ITERATIONS REACHED LIMIT.\n",
      "\n",
      "Increase the number of iterations (max_iter) or scale the data as shown in:\n",
      "    https://scikit-learn.org/stable/modules/preprocessing.html\n",
      "Please also refer to the documentation for alternative solver options:\n",
      "    https://scikit-learn.org/stable/modules/linear_model.html#logistic-regression\n",
      "  extra_warning_msg=_LOGISTIC_SOLVER_CONVERGENCE_MSG)\n",
      "C:\\Users\\diego.mayer\\AppData\\Local\\Continuum\\anaconda3\\lib\\site-packages\\sklearn\\linear_model\\_logistic.py:940: ConvergenceWarning: lbfgs failed to converge (status=1):\n",
      "STOP: TOTAL NO. of ITERATIONS REACHED LIMIT.\n",
      "\n",
      "Increase the number of iterations (max_iter) or scale the data as shown in:\n",
      "    https://scikit-learn.org/stable/modules/preprocessing.html\n",
      "Please also refer to the documentation for alternative solver options:\n",
      "    https://scikit-learn.org/stable/modules/linear_model.html#logistic-regression\n",
      "  extra_warning_msg=_LOGISTIC_SOLVER_CONVERGENCE_MSG)\n"
     ]
    },
    {
     "name": "stdout",
     "output_type": "stream",
     "text": [
      "LogisticR: ACC: 0.82063 - F1: 0.76608\n",
      "LogisticR: ACC: 0.80045 - F1: 0.73746\n",
      "LogisticR: ACC: 0.79596 - F1: 0.71827\n"
     ]
    },
    {
     "name": "stderr",
     "output_type": "stream",
     "text": [
      "C:\\Users\\diego.mayer\\AppData\\Local\\Continuum\\anaconda3\\lib\\site-packages\\sklearn\\linear_model\\_logistic.py:940: ConvergenceWarning: lbfgs failed to converge (status=1):\n",
      "STOP: TOTAL NO. of ITERATIONS REACHED LIMIT.\n",
      "\n",
      "Increase the number of iterations (max_iter) or scale the data as shown in:\n",
      "    https://scikit-learn.org/stable/modules/preprocessing.html\n",
      "Please also refer to the documentation for alternative solver options:\n",
      "    https://scikit-learn.org/stable/modules/linear_model.html#logistic-regression\n",
      "  extra_warning_msg=_LOGISTIC_SOLVER_CONVERGENCE_MSG)\n",
      "C:\\Users\\diego.mayer\\AppData\\Local\\Continuum\\anaconda3\\lib\\site-packages\\sklearn\\linear_model\\_logistic.py:940: ConvergenceWarning: lbfgs failed to converge (status=1):\n",
      "STOP: TOTAL NO. of ITERATIONS REACHED LIMIT.\n",
      "\n",
      "Increase the number of iterations (max_iter) or scale the data as shown in:\n",
      "    https://scikit-learn.org/stable/modules/preprocessing.html\n",
      "Please also refer to the documentation for alternative solver options:\n",
      "    https://scikit-learn.org/stable/modules/linear_model.html#logistic-regression\n",
      "  extra_warning_msg=_LOGISTIC_SOLVER_CONVERGENCE_MSG)\n",
      "C:\\Users\\diego.mayer\\AppData\\Local\\Continuum\\anaconda3\\lib\\site-packages\\sklearn\\linear_model\\_logistic.py:940: ConvergenceWarning: lbfgs failed to converge (status=1):\n",
      "STOP: TOTAL NO. of ITERATIONS REACHED LIMIT.\n",
      "\n",
      "Increase the number of iterations (max_iter) or scale the data as shown in:\n",
      "    https://scikit-learn.org/stable/modules/preprocessing.html\n",
      "Please also refer to the documentation for alternative solver options:\n",
      "    https://scikit-learn.org/stable/modules/linear_model.html#logistic-regression\n",
      "  extra_warning_msg=_LOGISTIC_SOLVER_CONVERGENCE_MSG)\n"
     ]
    },
    {
     "name": "stdout",
     "output_type": "stream",
     "text": [
      "LogisticR: ACC: 0.78924 - F1: 0.71687\n",
      "LogisticR: ACC: 0.80269 - F1: 0.73494\n",
      "LogisticR: ACC: 0.80717 - F1: 0.74096\n"
     ]
    },
    {
     "name": "stderr",
     "output_type": "stream",
     "text": [
      "C:\\Users\\diego.mayer\\AppData\\Local\\Continuum\\anaconda3\\lib\\site-packages\\sklearn\\linear_model\\_logistic.py:940: ConvergenceWarning: lbfgs failed to converge (status=1):\n",
      "STOP: TOTAL NO. of ITERATIONS REACHED LIMIT.\n",
      "\n",
      "Increase the number of iterations (max_iter) or scale the data as shown in:\n",
      "    https://scikit-learn.org/stable/modules/preprocessing.html\n",
      "Please also refer to the documentation for alternative solver options:\n",
      "    https://scikit-learn.org/stable/modules/linear_model.html#logistic-regression\n",
      "  extra_warning_msg=_LOGISTIC_SOLVER_CONVERGENCE_MSG)\n",
      "C:\\Users\\diego.mayer\\AppData\\Local\\Continuum\\anaconda3\\lib\\site-packages\\sklearn\\linear_model\\_logistic.py:940: ConvergenceWarning: lbfgs failed to converge (status=1):\n",
      "STOP: TOTAL NO. of ITERATIONS REACHED LIMIT.\n",
      "\n",
      "Increase the number of iterations (max_iter) or scale the data as shown in:\n",
      "    https://scikit-learn.org/stable/modules/preprocessing.html\n",
      "Please also refer to the documentation for alternative solver options:\n",
      "    https://scikit-learn.org/stable/modules/linear_model.html#logistic-regression\n",
      "  extra_warning_msg=_LOGISTIC_SOLVER_CONVERGENCE_MSG)\n",
      "C:\\Users\\diego.mayer\\AppData\\Local\\Continuum\\anaconda3\\lib\\site-packages\\sklearn\\linear_model\\_logistic.py:940: ConvergenceWarning: lbfgs failed to converge (status=1):\n",
      "STOP: TOTAL NO. of ITERATIONS REACHED LIMIT.\n",
      "\n",
      "Increase the number of iterations (max_iter) or scale the data as shown in:\n",
      "    https://scikit-learn.org/stable/modules/preprocessing.html\n",
      "Please also refer to the documentation for alternative solver options:\n",
      "    https://scikit-learn.org/stable/modules/linear_model.html#logistic-regression\n",
      "  extra_warning_msg=_LOGISTIC_SOLVER_CONVERGENCE_MSG)\n"
     ]
    },
    {
     "name": "stdout",
     "output_type": "stream",
     "text": [
      "LogisticR: ACC: 0.82735 - F1: 0.77551\n",
      "LogisticR: ACC: 0.80717 - F1: 0.74556\n",
      "LogisticR: ACC: 0.81166 - F1: 0.75148\n"
     ]
    },
    {
     "name": "stderr",
     "output_type": "stream",
     "text": [
      "C:\\Users\\diego.mayer\\AppData\\Local\\Continuum\\anaconda3\\lib\\site-packages\\sklearn\\linear_model\\_logistic.py:940: ConvergenceWarning: lbfgs failed to converge (status=1):\n",
      "STOP: TOTAL NO. of ITERATIONS REACHED LIMIT.\n",
      "\n",
      "Increase the number of iterations (max_iter) or scale the data as shown in:\n",
      "    https://scikit-learn.org/stable/modules/preprocessing.html\n",
      "Please also refer to the documentation for alternative solver options:\n",
      "    https://scikit-learn.org/stable/modules/linear_model.html#logistic-regression\n",
      "  extra_warning_msg=_LOGISTIC_SOLVER_CONVERGENCE_MSG)\n",
      "C:\\Users\\diego.mayer\\AppData\\Local\\Continuum\\anaconda3\\lib\\site-packages\\sklearn\\linear_model\\_logistic.py:940: ConvergenceWarning: lbfgs failed to converge (status=1):\n",
      "STOP: TOTAL NO. of ITERATIONS REACHED LIMIT.\n",
      "\n",
      "Increase the number of iterations (max_iter) or scale the data as shown in:\n",
      "    https://scikit-learn.org/stable/modules/preprocessing.html\n",
      "Please also refer to the documentation for alternative solver options:\n",
      "    https://scikit-learn.org/stable/modules/linear_model.html#logistic-regression\n",
      "  extra_warning_msg=_LOGISTIC_SOLVER_CONVERGENCE_MSG)\n",
      "C:\\Users\\diego.mayer\\AppData\\Local\\Continuum\\anaconda3\\lib\\site-packages\\sklearn\\linear_model\\_logistic.py:940: ConvergenceWarning: lbfgs failed to converge (status=1):\n",
      "STOP: TOTAL NO. of ITERATIONS REACHED LIMIT.\n",
      "\n",
      "Increase the number of iterations (max_iter) or scale the data as shown in:\n",
      "    https://scikit-learn.org/stable/modules/preprocessing.html\n",
      "Please also refer to the documentation for alternative solver options:\n",
      "    https://scikit-learn.org/stable/modules/linear_model.html#logistic-regression\n",
      "  extra_warning_msg=_LOGISTIC_SOLVER_CONVERGENCE_MSG)\n",
      "C:\\Users\\diego.mayer\\AppData\\Local\\Continuum\\anaconda3\\lib\\site-packages\\sklearn\\linear_model\\_logistic.py:940: ConvergenceWarning: lbfgs failed to converge (status=1):\n",
      "STOP: TOTAL NO. of ITERATIONS REACHED LIMIT.\n",
      "\n",
      "Increase the number of iterations (max_iter) or scale the data as shown in:\n",
      "    https://scikit-learn.org/stable/modules/preprocessing.html\n",
      "Please also refer to the documentation for alternative solver options:\n",
      "    https://scikit-learn.org/stable/modules/linear_model.html#logistic-regression\n",
      "  extra_warning_msg=_LOGISTIC_SOLVER_CONVERGENCE_MSG)\n"
     ]
    },
    {
     "name": "stdout",
     "output_type": "stream",
     "text": [
      "LogisticR: ACC: 0.81390 - F1: 0.75516\n",
      "LogisticR: ACC: 0.80717 - F1: 0.73939\n",
      "LogisticR: ACC: 0.80717 - F1: 0.74854\n"
     ]
    },
    {
     "name": "stderr",
     "output_type": "stream",
     "text": [
      "C:\\Users\\diego.mayer\\AppData\\Local\\Continuum\\anaconda3\\lib\\site-packages\\sklearn\\linear_model\\_logistic.py:940: ConvergenceWarning: lbfgs failed to converge (status=1):\n",
      "STOP: TOTAL NO. of ITERATIONS REACHED LIMIT.\n",
      "\n",
      "Increase the number of iterations (max_iter) or scale the data as shown in:\n",
      "    https://scikit-learn.org/stable/modules/preprocessing.html\n",
      "Please also refer to the documentation for alternative solver options:\n",
      "    https://scikit-learn.org/stable/modules/linear_model.html#logistic-regression\n",
      "  extra_warning_msg=_LOGISTIC_SOLVER_CONVERGENCE_MSG)\n",
      "C:\\Users\\diego.mayer\\AppData\\Local\\Continuum\\anaconda3\\lib\\site-packages\\sklearn\\linear_model\\_logistic.py:940: ConvergenceWarning: lbfgs failed to converge (status=1):\n",
      "STOP: TOTAL NO. of ITERATIONS REACHED LIMIT.\n",
      "\n",
      "Increase the number of iterations (max_iter) or scale the data as shown in:\n",
      "    https://scikit-learn.org/stable/modules/preprocessing.html\n",
      "Please also refer to the documentation for alternative solver options:\n",
      "    https://scikit-learn.org/stable/modules/linear_model.html#logistic-regression\n",
      "  extra_warning_msg=_LOGISTIC_SOLVER_CONVERGENCE_MSG)\n",
      "C:\\Users\\diego.mayer\\AppData\\Local\\Continuum\\anaconda3\\lib\\site-packages\\sklearn\\linear_model\\_logistic.py:940: ConvergenceWarning: lbfgs failed to converge (status=1):\n",
      "STOP: TOTAL NO. of ITERATIONS REACHED LIMIT.\n",
      "\n",
      "Increase the number of iterations (max_iter) or scale the data as shown in:\n",
      "    https://scikit-learn.org/stable/modules/preprocessing.html\n",
      "Please also refer to the documentation for alternative solver options:\n",
      "    https://scikit-learn.org/stable/modules/linear_model.html#logistic-regression\n",
      "  extra_warning_msg=_LOGISTIC_SOLVER_CONVERGENCE_MSG)\n"
     ]
    },
    {
     "name": "stdout",
     "output_type": "stream",
     "text": [
      "LogisticR: ACC: 0.80045 - F1: 0.73746\n",
      "LogisticR: ACC: 0.80493 - F1: 0.75766\n",
      "LogisticR: ACC: 0.79596 - F1: 0.73775\n"
     ]
    },
    {
     "name": "stderr",
     "output_type": "stream",
     "text": [
      "C:\\Users\\diego.mayer\\AppData\\Local\\Continuum\\anaconda3\\lib\\site-packages\\sklearn\\linear_model\\_logistic.py:940: ConvergenceWarning: lbfgs failed to converge (status=1):\n",
      "STOP: TOTAL NO. of ITERATIONS REACHED LIMIT.\n",
      "\n",
      "Increase the number of iterations (max_iter) or scale the data as shown in:\n",
      "    https://scikit-learn.org/stable/modules/preprocessing.html\n",
      "Please also refer to the documentation for alternative solver options:\n",
      "    https://scikit-learn.org/stable/modules/linear_model.html#logistic-regression\n",
      "  extra_warning_msg=_LOGISTIC_SOLVER_CONVERGENCE_MSG)\n",
      "C:\\Users\\diego.mayer\\AppData\\Local\\Continuum\\anaconda3\\lib\\site-packages\\sklearn\\linear_model\\_logistic.py:940: ConvergenceWarning: lbfgs failed to converge (status=1):\n",
      "STOP: TOTAL NO. of ITERATIONS REACHED LIMIT.\n",
      "\n",
      "Increase the number of iterations (max_iter) or scale the data as shown in:\n",
      "    https://scikit-learn.org/stable/modules/preprocessing.html\n",
      "Please also refer to the documentation for alternative solver options:\n",
      "    https://scikit-learn.org/stable/modules/linear_model.html#logistic-regression\n",
      "  extra_warning_msg=_LOGISTIC_SOLVER_CONVERGENCE_MSG)\n",
      "C:\\Users\\diego.mayer\\AppData\\Local\\Continuum\\anaconda3\\lib\\site-packages\\sklearn\\linear_model\\_logistic.py:940: ConvergenceWarning: lbfgs failed to converge (status=1):\n",
      "STOP: TOTAL NO. of ITERATIONS REACHED LIMIT.\n",
      "\n",
      "Increase the number of iterations (max_iter) or scale the data as shown in:\n",
      "    https://scikit-learn.org/stable/modules/preprocessing.html\n",
      "Please also refer to the documentation for alternative solver options:\n",
      "    https://scikit-learn.org/stable/modules/linear_model.html#logistic-regression\n",
      "  extra_warning_msg=_LOGISTIC_SOLVER_CONVERGENCE_MSG)\n",
      "C:\\Users\\diego.mayer\\AppData\\Local\\Continuum\\anaconda3\\lib\\site-packages\\sklearn\\linear_model\\_logistic.py:940: ConvergenceWarning: lbfgs failed to converge (status=1):\n",
      "STOP: TOTAL NO. of ITERATIONS REACHED LIMIT.\n",
      "\n",
      "Increase the number of iterations (max_iter) or scale the data as shown in:\n",
      "    https://scikit-learn.org/stable/modules/preprocessing.html\n",
      "Please also refer to the documentation for alternative solver options:\n",
      "    https://scikit-learn.org/stable/modules/linear_model.html#logistic-regression\n",
      "  extra_warning_msg=_LOGISTIC_SOLVER_CONVERGENCE_MSG)\n"
     ]
    },
    {
     "name": "stdout",
     "output_type": "stream",
     "text": [
      "LogisticR: ACC: 0.81166 - F1: 0.76271\n",
      "LogisticR: ACC: 0.80045 - F1: 0.74499\n",
      "LogisticR: ACC: 0.81166 - F1: 0.75294\n",
      "LogisticR: ACC: 0.80717 - F1: 0.75145"
     ]
    },
    {
     "name": "stderr",
     "output_type": "stream",
     "text": [
      "C:\\Users\\diego.mayer\\AppData\\Local\\Continuum\\anaconda3\\lib\\site-packages\\sklearn\\linear_model\\_logistic.py:940: ConvergenceWarning: lbfgs failed to converge (status=1):\n",
      "STOP: TOTAL NO. of ITERATIONS REACHED LIMIT.\n",
      "\n",
      "Increase the number of iterations (max_iter) or scale the data as shown in:\n",
      "    https://scikit-learn.org/stable/modules/preprocessing.html\n",
      "Please also refer to the documentation for alternative solver options:\n",
      "    https://scikit-learn.org/stable/modules/linear_model.html#logistic-regression\n",
      "  extra_warning_msg=_LOGISTIC_SOLVER_CONVERGENCE_MSG)\n",
      "C:\\Users\\diego.mayer\\AppData\\Local\\Continuum\\anaconda3\\lib\\site-packages\\sklearn\\linear_model\\_logistic.py:940: ConvergenceWarning: lbfgs failed to converge (status=1):\n",
      "STOP: TOTAL NO. of ITERATIONS REACHED LIMIT.\n",
      "\n",
      "Increase the number of iterations (max_iter) or scale the data as shown in:\n",
      "    https://scikit-learn.org/stable/modules/preprocessing.html\n",
      "Please also refer to the documentation for alternative solver options:\n",
      "    https://scikit-learn.org/stable/modules/linear_model.html#logistic-regression\n",
      "  extra_warning_msg=_LOGISTIC_SOLVER_CONVERGENCE_MSG)\n"
     ]
    },
    {
     "name": "stdout",
     "output_type": "stream",
     "text": [
      "\n",
      "LogisticR: ACC: 0.82287 - F1: 0.76133\n"
     ]
    },
    {
     "name": "stderr",
     "output_type": "stream",
     "text": [
      "C:\\Users\\diego.mayer\\AppData\\Local\\Continuum\\anaconda3\\lib\\site-packages\\sklearn\\linear_model\\_logistic.py:940: ConvergenceWarning: lbfgs failed to converge (status=1):\n",
      "STOP: TOTAL NO. of ITERATIONS REACHED LIMIT.\n",
      "\n",
      "Increase the number of iterations (max_iter) or scale the data as shown in:\n",
      "    https://scikit-learn.org/stable/modules/preprocessing.html\n",
      "Please also refer to the documentation for alternative solver options:\n",
      "    https://scikit-learn.org/stable/modules/linear_model.html#logistic-regression\n",
      "  extra_warning_msg=_LOGISTIC_SOLVER_CONVERGENCE_MSG)\n",
      "C:\\Users\\diego.mayer\\AppData\\Local\\Continuum\\anaconda3\\lib\\site-packages\\sklearn\\linear_model\\_logistic.py:940: ConvergenceWarning: lbfgs failed to converge (status=1):\n",
      "STOP: TOTAL NO. of ITERATIONS REACHED LIMIT.\n",
      "\n",
      "Increase the number of iterations (max_iter) or scale the data as shown in:\n",
      "    https://scikit-learn.org/stable/modules/preprocessing.html\n",
      "Please also refer to the documentation for alternative solver options:\n",
      "    https://scikit-learn.org/stable/modules/linear_model.html#logistic-regression\n",
      "  extra_warning_msg=_LOGISTIC_SOLVER_CONVERGENCE_MSG)\n",
      "C:\\Users\\diego.mayer\\AppData\\Local\\Continuum\\anaconda3\\lib\\site-packages\\sklearn\\linear_model\\_logistic.py:940: ConvergenceWarning: lbfgs failed to converge (status=1):\n",
      "STOP: TOTAL NO. of ITERATIONS REACHED LIMIT.\n",
      "\n",
      "Increase the number of iterations (max_iter) or scale the data as shown in:\n",
      "    https://scikit-learn.org/stable/modules/preprocessing.html\n",
      "Please also refer to the documentation for alternative solver options:\n",
      "    https://scikit-learn.org/stable/modules/linear_model.html#logistic-regression\n",
      "  extra_warning_msg=_LOGISTIC_SOLVER_CONVERGENCE_MSG)\n",
      "C:\\Users\\diego.mayer\\AppData\\Local\\Continuum\\anaconda3\\lib\\site-packages\\sklearn\\linear_model\\_logistic.py:940: ConvergenceWarning: lbfgs failed to converge (status=1):\n",
      "STOP: TOTAL NO. of ITERATIONS REACHED LIMIT.\n",
      "\n",
      "Increase the number of iterations (max_iter) or scale the data as shown in:\n",
      "    https://scikit-learn.org/stable/modules/preprocessing.html\n",
      "Please also refer to the documentation for alternative solver options:\n",
      "    https://scikit-learn.org/stable/modules/linear_model.html#logistic-regression\n",
      "  extra_warning_msg=_LOGISTIC_SOLVER_CONVERGENCE_MSG)\n"
     ]
    },
    {
     "name": "stdout",
     "output_type": "stream",
     "text": [
      "LogisticR: ACC: 0.81614 - F1: 0.74691\n",
      "LogisticR: ACC: 0.81839 - F1: 0.76791\n",
      "LogisticR: ACC: 0.80045 - F1: 0.70627\n",
      "LogisticR: ACC: 0.81839 - F1: 0.75964\n",
      "GradientB: ACC: 0.79148 - F1: 0.71028\n",
      "GradientB: ACC: 0.81390 - F1: 0.75802\n",
      "GradientB: ACC: 0.81390 - F1: 0.75075\n",
      "GradientB: ACC: 0.81166 - F1: 0.74233\n",
      "GradientB: ACC: 0.82063 - F1: 0.74522\n",
      "GradientB: ACC: 0.77578 - F1: 0.68153\n",
      "GradientB: ACC: 0.77803 - F1: 0.71633\n",
      "GradientB: ACC: 0.82063 - F1: 0.77273\n",
      "GradientB: ACC: 0.83408 - F1: 0.74658\n",
      "GradientB: ACC: 0.81614 - F1: 0.71918\n",
      "GradientB: ACC: 0.79372 - F1: 0.70513\n",
      "GradientB: ACC: 0.84529 - F1: 0.79154\n",
      "GradientB: ACC: 0.80269 - F1: 0.75000\n",
      "GradientB: ACC: 0.82511 - F1: 0.77326\n",
      "GradientB: ACC: 0.82287 - F1: 0.77493\n",
      "GradientB: ACC: 0.81839 - F1: 0.74766\n",
      "GradientB: ACC: 0.79596 - F1: 0.72171\n",
      "GradientB: ACC: 0.77803 - F1: 0.71795\n",
      "GradientB: ACC: 0.80942 - F1: 0.74627\n",
      "GradientB: ACC: 0.82287 - F1: 0.76276\n",
      "GradientB: ACC: 0.80942 - F1: 0.76190\n",
      "GradientB: ACC: 0.81166 - F1: 0.72549\n",
      "GradientB: ACC: 0.82063 - F1: 0.75000\n",
      "GradientB: ACC: 0.81614 - F1: 0.74847\n",
      "GradientB: ACC: 0.81166 - F1: 0.72368\n",
      "GradientB: ACC: 0.82735 - F1: 0.75241\n",
      "GradientB: ACC: 0.82287 - F1: 0.76418\n",
      "GradientB: ACC: 0.81614 - F1: 0.75595\n",
      "GradientB: ACC: 0.80045 - F1: 0.72446\n",
      "GradientB: ACC: 0.82735 - F1: 0.75399\n",
      "GradientB: ACC: 0.80717 - F1: 0.74096\n",
      "GradientB: ACC: 0.81390 - F1: 0.72787\n",
      "GradientB: ACC: 0.86996 - F1: 0.82635\n",
      "GradientB: ACC: 0.84081 - F1: 0.76873\n",
      "GradientB: ACC: 0.82960 - F1: 0.76687\n",
      "GradientB: ACC: 0.81390 - F1: 0.74462\n",
      "GradientB: ACC: 0.80493 - F1: 0.72555\n",
      "GradientB: ACC: 0.81839 - F1: 0.75229\n",
      "GradientB: ACC: 0.81390 - F1: 0.77135\n",
      "GradientB: ACC: 0.78700 - F1: 0.70588\n",
      "GradientB: ACC: 0.82287 - F1: 0.76276\n",
      "GradientB: ACC: 0.81839 - F1: 0.76246\n",
      "GradientB: ACC: 0.82960 - F1: 0.77778\n",
      "GradientB: ACC: 0.79596 - F1: 0.72997\n",
      "GradientB: ACC: 0.83184 - F1: 0.78261\n",
      "GradientB: ACC: 0.82063 - F1: 0.74684\n",
      "GradientB: ACC: 0.81166 - F1: 0.74233\n",
      "GradientB: ACC: 0.79148 - F1: 0.72727\n",
      "GradientB: ACC: 0.79596 - F1: 0.71827\n",
      "GradientB: ACC: 0.82735 - F1: 0.77015\n",
      "GradientB: ACC: 0.80942 - F1: 0.74320\n",
      "GradientB: ACC: 0.83857 - F1: 0.77070\n",
      "GradientB: ACC: 0.82063 - F1: 0.76190\n",
      "GradientB: ACC: 0.82063 - F1: 0.75758\n",
      "GradientB: ACC: 0.82735 - F1: 0.77015\n",
      "GradientB: ACC: 0.81839 - F1: 0.75229\n",
      "GradientB: ACC: 0.81614 - F1: 0.73548\n",
      "GradientB: ACC: 0.81839 - F1: 0.76246\n",
      "GradientB: ACC: 0.83408 - F1: 0.77301\n",
      "GradientB: ACC: 0.83857 - F1: 0.78182\n",
      "GradientB: ACC: 0.81390 - F1: 0.74462\n",
      "GradientB: ACC: 0.83857 - F1: 0.76923\n",
      "GradientB: ACC: 0.80045 - F1: 0.72100\n",
      "GradientB: ACC: 0.80942 - F1: 0.74320\n",
      "GradientB: ACC: 0.82511 - F1: 0.75926\n",
      "GradientB: ACC: 0.84305 - F1: 0.77273\n",
      "GradientB: ACC: 0.82735 - F1: 0.75710\n",
      "GradientB: ACC: 0.83857 - F1: 0.77640\n",
      "GradientB: ACC: 0.80045 - F1: 0.72783\n",
      "GradientB: ACC: 0.81614 - F1: 0.76966\n",
      "GradientB: ACC: 0.84305 - F1: 0.79769\n",
      "GradientB: ACC: 0.81839 - F1: 0.78515\n",
      "GradientB: ACC: 0.80045 - F1: 0.72446\n",
      "GradientB: ACC: 0.81390 - F1: 0.75371\n",
      "GradientB: ACC: 0.82063 - F1: 0.75610\n",
      "GradientB: ACC: 0.81166 - F1: 0.73913\n",
      "GradientB: ACC: 0.82735 - F1: 0.76012\n",
      "GradientB: ACC: 0.84081 - F1: 0.78419\n",
      "GradientB: ACC: 0.84978 - F1: 0.80000\n",
      "GradientB: ACC: 0.82511 - F1: 0.74172\n",
      "GradientB: ACC: 0.79372 - F1: 0.72941\n",
      "GradientB: ACC: 0.80717 - F1: 0.74706\n",
      "GradientB: ACC: 0.83184 - F1: 0.76038\n",
      "GradientB: ACC: 0.80717 - F1: 0.72078\n",
      "GradientB: ACC: 0.81166 - F1: 0.75723\n",
      "GradientB: ACC: 0.79596 - F1: 0.71111\n",
      "GradientB: ACC: 0.82287 - F1: 0.74267\n",
      "GradientB: ACC: 0.84081 - F1: 0.78419\n",
      "GradientB: ACC: 0.85874 - F1: 0.79344\n",
      "GradientB: ACC: 0.80942 - F1: 0.74164\n",
      "GradientB: ACC: 0.81390 - F1: 0.75224\n",
      "GradientB: ACC: 0.81614 - F1: 0.76705\n",
      "GradientB: ACC: 0.80942 - F1: 0.74627\n",
      "GradientB: ACC: 0.81166 - F1: 0.76271\n",
      "GradientB: ACC: 0.83632 - F1: 0.76677\n",
      "GradientB: ACC: 0.82287 - F1: 0.75692\n",
      "GradientB: ACC: 0.82287 - F1: 0.75988\n",
      "GradientB: ACC: 0.79821 - F1: 0.73837\n",
      "GradientB: ACC: 0.82287 - F1: 0.75692\n",
      "GradientB: ACC: 0.84305 - F1: 0.76667\n",
      "GradientB: ACC: 0.81166 - F1: 0.75000\n",
      "GradientB: ACC: 0.81390 - F1: 0.72787\n",
      "GradientB: ACC: 0.82287 - F1: 0.73927\n",
      "GradientB: ACC: 0.83408 - F1: 0.77301\n",
      "GradientB: ACC: 0.81166 - F1: 0.74850\n",
      "GradientB: ACC: 0.82063 - F1: 0.75904\n",
      "GradientB: ACC: 0.83632 - F1: 0.78466\n",
      "GradientB: ACC: 0.83408 - F1: 0.76875\n",
      "GradientB: ACC: 0.84305 - F1: 0.76351\n",
      "GradientB: ACC: 0.80717 - F1: 0.73292\n",
      "GradientB: ACC: 0.80045 - F1: 0.73746\n",
      "GradientB: ACC: 0.84529 - F1: 0.78505\n",
      "GradientB: ACC: 0.78475 - F1: 0.70186\n",
      "GradientB: ACC: 0.82960 - F1: 0.75325\n",
      "GradientB: ACC: 0.80942 - F1: 0.73520\n",
      "GradientB: ACC: 0.80493 - F1: 0.73874\n",
      "GradientB: ACC: 0.85202 - F1: 0.79114\n",
      "GradientB: ACC: 0.84753 - F1: 0.78344\n",
      "GradientB: ACC: 0.81839 - F1: 0.75380\n",
      "GradientB: ACC: 0.82960 - F1: 0.77907\n",
      "GradientB: ACC: 0.83857 - F1: 0.78182\n",
      "GradientB: ACC: 0.82287 - F1: 0.74267\n",
      "GradientB: ACC: 0.80493 - F1: 0.72204\n",
      "GradientB: ACC: 0.80493 - F1: 0.73716\n",
      "GradientB: ACC: 0.81839 - F1: 0.76106\n",
      "GradientB: ACC: 0.80493 - F1: 0.73394\n",
      "GradientB: ACC: 0.83184 - F1: 0.76190\n",
      "GradientB: ACC: 0.85426 - F1: 0.80480\n",
      "GradientB: ACC: 0.81390 - F1: 0.75075\n",
      "GradientB: ACC: 0.81166 - F1: 0.75000\n",
      "GradientB: ACC: 0.80493 - F1: 0.72897\n",
      "GradientB: ACC: 0.82063 - F1: 0.75309\n",
      "GradientB: ACC: 0.79148 - F1: 0.73199\n",
      "GradientB: ACC: 0.81839 - F1: 0.76385\n",
      "GradientB: ACC: 0.78027 - F1: 0.71176\n",
      "GradientB: ACC: 0.81614 - F1: 0.73548\n",
      "GradientB: ACC: 0.82960 - F1: 0.76101\n",
      "GradientB: ACC: 0.82511 - F1: 0.75625\n",
      "GradientB: ACC: 0.80045 - F1: 0.72948\n",
      "GradientB: ACC: 0.80493 - F1: 0.74030\n",
      "GradientB: ACC: 0.80269 - F1: 0.73810\n",
      "GradientB: ACC: 0.79372 - F1: 0.72121\n",
      "GradientB: ACC: 0.82063 - F1: 0.74843\n",
      "GradientB: ACC: 0.81614 - F1: 0.74691\n",
      "GradientB: ACC: 0.80942 - F1: 0.73846\n",
      "GradientB: ACC: 0.81166 - F1: 0.73913\n",
      "GradientB: ACC: 0.82063 - F1: 0.76331\n",
      "GradientB: ACC: 0.82287 - F1: 0.77994\n",
      "GradientB: ACC: 0.84081 - F1: 0.78019\n",
      "GradientB: ACC: 0.80045 - F1: 0.74203\n",
      "GradientB: ACC: 0.80942 - F1: 0.75645\n",
      "GradientB: ACC: 0.80493 - F1: 0.71287\n",
      "GradientB: ACC: 0.81390 - F1: 0.72964\n",
      "GradientB: ACC: 0.80269 - F1: 0.73653\n",
      "GradientB: ACC: 0.83857 - F1: 0.78443\n",
      "GradientB: ACC: 0.83184 - F1: 0.77204\n",
      "GradientB: ACC: 0.82287 - F1: 0.76696\n",
      "GradientB: ACC: 0.81166 - F1: 0.74390\n",
      "GradientB: ACC: 0.82511 - F1: 0.77059\n",
      "GradientB: ACC: 0.82735 - F1: 0.76161\n",
      "GradientB: ACC: 0.82063 - F1: 0.75460\n",
      "GradientB: ACC: 0.82287 - F1: 0.76968\n",
      "GradientB: ACC: 0.80493 - F1: 0.73065\n",
      "GradientB: ACC: 0.83632 - F1: 0.78466\n",
      "GradientB: ACC: 0.80269 - F1: 0.73494\n",
      "GradientB: ACC: 0.82735 - F1: 0.75556\n",
      "GradientB: ACC: 0.81839 - F1: 0.75077\n",
      "GradientB: ACC: 0.81839 - F1: 0.75380\n",
      "GradientB: ACC: 0.82287 - F1: 0.75389\n",
      "GradientB: ACC: 0.81166 - F1: 0.73585\n",
      "GradientB: ACC: 0.86099 - F1: 0.80503\n",
      "GradientB: ACC: 0.82735 - F1: 0.77551\n",
      "GradientB: ACC: 0.82287 - F1: 0.75389\n",
      "GradientB: ACC: 0.79596 - F1: 0.73469\n",
      "GradientB: ACC: 0.79372 - F1: 0.71605\n",
      "GradientB: ACC: 0.81839 - F1: 0.75380\n",
      "GradientB: ACC: 0.80269 - F1: 0.74118\n",
      "GradientB: ACC: 0.79596 - F1: 0.73314\n",
      "GradientB: ACC: 0.82511 - F1: 0.75776\n",
      "GradientB: ACC: 0.82735 - F1: 0.76453\n",
      "GradientB: ACC: 0.81614 - F1: 0.75000\n",
      "GradientB: ACC: 0.80942 - F1: 0.76056\n",
      "GradientB: ACC: 0.79148 - F1: 0.70846\n",
      "GradientB: ACC: 0.81614 - F1: 0.76836\n",
      "GradientB: ACC: 0.81839 - F1: 0.75676\n",
      "GradientB: ACC: 0.76457 - F1: 0.70085\n",
      "GradientB: ACC: 0.83408 - F1: 0.75497\n",
      "GradientB: ACC: 0.77803 - F1: 0.71633\n",
      "GradientB: ACC: 0.81166 - F1: 0.73418\n",
      "GradientB: ACC: 0.83408 - F1: 0.77160\n",
      "GradientB: ACC: 0.81839 - F1: 0.75964\n",
      "GradientB: ACC: 0.82063 - F1: 0.76331\n",
      "GradientB: ACC: 0.81166 - F1: 0.74699\n",
      "GradientB: ACC: 0.80942 - F1: 0.75504\n",
      "GradientB: ACC: 0.81614 - F1: 0.74375\n",
      "GradientB: ACC: 0.81166 - F1: 0.73248\n",
      "GradientB: ACC: 0.80493 - F1: 0.73231\n",
      "GradientB: ACC: 0.79821 - F1: 0.70395\n",
      "GradientB: ACC: 0.79821 - F1: 0.72050\n",
      "GradientB: ACC: 0.80717 - F1: 0.73620\n",
      "LGBMClass: ACC: 0.81839 - F1: 0.74923\n",
      "LGBMClass: ACC: 0.80942 - F1: 0.74006\n",
      "LGBMClass: ACC: 0.75336 - F1: 0.67836\n",
      "LGBMClass: ACC: 0.81166 - F1: 0.73913\n",
      "LGBMClass: ACC: 0.80493 - F1: 0.72204\n",
      "LGBMClass: ACC: 0.79148 - F1: 0.70662\n",
      "LGBMClass: ACC: 0.80493 - F1: 0.72555\n",
      "LGBMClass: ACC: 0.80942 - F1: 0.73684\n",
      "LGBMClass: ACC: 0.79821 - F1: 0.72050\n",
      "LGBMClass: ACC: 0.81839 - F1: 0.75229\n",
      "LGBMClass: ACC: 0.82511 - F1: 0.75926\n",
      "LGBMClass: ACC: 0.82063 - F1: 0.75460\n",
      "LGBMClass: ACC: 0.82511 - F1: 0.77193\n",
      "LGBMClass: ACC: 0.80493 - F1: 0.74636\n",
      "LGBMClass: ACC: 0.78700 - F1: 0.72303\n",
      "LGBMClass: ACC: 0.80269 - F1: 0.73653\n",
      "LGBMClass: ACC: 0.80493 - F1: 0.74928\n",
      "LGBMClass: ACC: 0.80942 - F1: 0.75783\n",
      "LGBMClass: ACC: 0.80942 - F1: 0.73684\n",
      "LGBMClass: ACC: 0.78924 - F1: 0.70988\n",
      "LGBMClass: ACC: 0.82063 - F1: 0.74522\n",
      "LGBMClass: ACC: 0.77578 - F1: 0.70930\n",
      "LGBMClass: ACC: 0.80269 - F1: 0.75556\n",
      "LGBMClass: ACC: 0.83632 - F1: 0.77116\n",
      "LGBMClass: ACC: 0.81390 - F1: 0.75075\n",
      "LGBMClass: ACC: 0.79596 - F1: 0.72997\n",
      "LGBMClass: ACC: 0.82960 - F1: 0.76970\n",
      "LGBMClass: ACC: 0.81839 - F1: 0.77311\n",
      "LGBMClass: ACC: 0.81839 - F1: 0.76385\n",
      "LGBMClass: ACC: 0.80045 - F1: 0.72100\n",
      "LGBMClass: ACC: 0.79596 - F1: 0.71293\n",
      "LGBMClass: ACC: 0.78700 - F1: 0.69055\n",
      "LGBMClass: ACC: 0.79596 - F1: 0.72997\n",
      "LGBMClass: ACC: 0.80942 - F1: 0.75362\n",
      "LGBMClass: ACC: 0.79821 - F1: 0.73988\n",
      "LGBMClass: ACC: 0.78251 - F1: 0.68608\n",
      "LGBMClass: ACC: 0.80717 - F1: 0.73125\n",
      "LGBMClass: ACC: 0.80942 - F1: 0.72492\n",
      "LGBMClass: ACC: 0.78924 - F1: 0.72989\n",
      "LGBMClass: ACC: 0.79821 - F1: 0.72222\n",
      "LGBMClass: ACC: 0.78475 - F1: 0.71765\n",
      "LGBMClass: ACC: 0.82063 - F1: 0.75460\n",
      "LGBMClass: ACC: 0.82063 - F1: 0.76608\n",
      "LGBMClass: ACC: 0.80269 - F1: 0.72840\n",
      "LGBMClass: ACC: 0.80717 - F1: 0.72078\n",
      "LGBMClass: ACC: 0.81390 - F1: 0.74924\n",
      "LGBMClass: ACC: 0.80493 - F1: 0.74336\n",
      "LGBMClass: ACC: 0.78700 - F1: 0.70219\n",
      "LGBMClass: ACC: 0.79148 - F1: 0.71903\n",
      "LGBMClass: ACC: 0.80493 - F1: 0.74336\n",
      "LGBMClass: ACC: 0.80493 - F1: 0.73231\n",
      "LGBMClass: ACC: 0.79372 - F1: 0.73410\n",
      "LGBMClass: ACC: 0.80942 - F1: 0.74474\n",
      "LGBMClass: ACC: 0.82735 - F1: 0.77810\n",
      "LGBMClass: ACC: 0.81390 - F1: 0.74462\n",
      "LGBMClass: ACC: 0.82287 - F1: 0.76558\n",
      "LGBMClass: ACC: 0.82063 - F1: 0.75460\n",
      "LGBMClass: ACC: 0.82511 - F1: 0.77714\n",
      "LGBMClass: ACC: 0.79821 - F1: 0.73373\n",
      "LGBMClass: ACC: 0.80717 - F1: 0.74556\n",
      "LGBMClass: ACC: 0.81390 - F1: 0.76353\n",
      "LGBMClass: ACC: 0.80942 - F1: 0.73354\n",
      "LGBMClass: ACC: 0.79596 - F1: 0.72000\n",
      "LGBMClass: ACC: 0.79821 - F1: 0.73837\n",
      "LGBMClass: ACC: 0.81390 - F1: 0.77008\n",
      "LGBMClass: ACC: 0.79821 - F1: 0.73837\n",
      "LGBMClass: ACC: 0.83184 - F1: 0.75248\n",
      "LGBMClass: ACC: 0.82063 - F1: 0.76608\n",
      "LGBMClass: ACC: 0.76457 - F1: 0.68843\n",
      "LGBMClass: ACC: 0.79372 - F1: 0.73256\n",
      "LGBMClass: ACC: 0.80717 - F1: 0.72258\n",
      "LGBMClass: ACC: 0.80942 - F1: 0.74777\n",
      "LGBMClass: ACC: 0.80045 - F1: 0.73273\n",
      "LGBMClass: ACC: 0.78924 - F1: 0.70064\n",
      "LGBMClass: ACC: 0.81839 - F1: 0.75964\n",
      "LGBMClass: ACC: 0.81166 - F1: 0.74074\n",
      "LGBMClass: ACC: 0.81390 - F1: 0.74618\n",
      "LGBMClass: ACC: 0.82960 - F1: 0.76543\n",
      "LGBMClass: ACC: 0.79596 - F1: 0.72673\n",
      "LGBMClass: ACC: 0.81614 - F1: 0.72848\n",
      "LGBMClass: ACC: 0.81390 - F1: 0.75942\n",
      "LGBMClass: ACC: 0.82063 - F1: 0.74522\n",
      "LGBMClass: ACC: 0.78700 - F1: 0.72464\n",
      "LGBMClass: ACC: 0.81166 - F1: 0.72185\n",
      "LGBMClass: ACC: 0.82735 - F1: 0.75399\n",
      "LGBMClass: ACC: 0.78924 - F1: 0.73295\n",
      "LGBMClass: ACC: 0.80717 - F1: 0.74556\n",
      "LGBMClass: ACC: 0.76009 - F1: 0.68249\n",
      "LGBMClass: ACC: 0.78924 - F1: 0.73889\n",
      "LGBMClass: ACC: 0.79596 - F1: 0.71651\n",
      "LGBMClass: ACC: 0.81390 - F1: 0.76620\n",
      "LGBMClass: ACC: 0.82287 - F1: 0.74921\n",
      "LGBMClass: ACC: 0.82287 - F1: 0.74760\n",
      "LGBMClass: ACC: 0.79821 - F1: 0.73529\n",
      "LGBMClass: ACC: 0.82960 - F1: 0.76970\n",
      "LGBMClass: ACC: 0.80269 - F1: 0.72671\n",
      "LGBMClass: ACC: 0.80942 - F1: 0.73520\n",
      "LGBMClass: ACC: 0.80942 - F1: 0.74777\n",
      "LGBMClass: ACC: 0.81166 - F1: 0.74850\n",
      "LGBMClass: ACC: 0.83184 - F1: 0.78261\n",
      "LGBMClass: ACC: 0.80045 - F1: 0.72446\n",
      "LGBMClass: ACC: 0.80493 - F1: 0.70508\n",
      "LGBMClass: ACC: 0.77354 - F1: 0.67314\n",
      "LGBMClass: ACC: 0.81166 - F1: 0.73750\n",
      "LGBMClass: ACC: 0.80493 - F1: 0.74030\n",
      "LGBMClass: ACC: 0.81614 - F1: 0.75882\n",
      "LGBMClass: ACC: 0.81839 - F1: 0.72542\n",
      "LGBMClass: ACC: 0.80045 - F1: 0.73112\n",
      "LGBMClass: ACC: 0.82063 - F1: 0.75610\n",
      "LGBMClass: ACC: 0.79148 - F1: 0.71733\n",
      "LGBMClass: ACC: 0.76457 - F1: 0.70423\n",
      "LGBMClass: ACC: 0.81839 - F1: 0.72910\n",
      "LGBMClass: ACC: 0.80717 - F1: 0.73125\n",
      "LGBMClass: ACC: 0.78924 - F1: 0.70988\n",
      "LGBMClass: ACC: 0.82960 - F1: 0.76250\n",
      "LGBMClass: ACC: 0.81166 - F1: 0.72368\n",
      "LGBMClass: ACC: 0.78475 - F1: 0.70732\n",
      "LGBMClass: ACC: 0.83184 - F1: 0.77745\n",
      "LGBMClass: ACC: 0.78251 - F1: 0.70336\n",
      "LGBMClass: ACC: 0.80269 - F1: 0.74118\n",
      "LGBMClass: ACC: 0.80269 - F1: 0.72327\n",
      "LGBMClass: ACC: 0.82287 - F1: 0.75841\n",
      "LGBMClass: ACC: 0.82511 - F1: 0.75000\n",
      "LGBMClass: ACC: 0.80717 - F1: 0.72436\n",
      "LGBMClass: ACC: 0.79596 - F1: 0.72171\n",
      "LGBMClass: ACC: 0.79596 - F1: 0.70927\n",
      "LGBMClass: ACC: 0.79372 - F1: 0.72289\n",
      "LGBMClass: ACC: 0.81614 - F1: 0.72297\n",
      "LGBMClass: ACC: 0.82511 - F1: 0.76220\n",
      "LGBMClass: ACC: 0.80942 - F1: 0.75073\n",
      "LGBMClass: ACC: 0.84753 - F1: 0.78205\n",
      "LGBMClass: ACC: 0.81166 - F1: 0.74233\n",
      "LGBMClass: ACC: 0.82735 - F1: 0.76308\n",
      "LGBMClass: ACC: 0.78251 - F1: 0.70154\n",
      "LGBMClass: ACC: 0.80045 - F1: 0.73746\n",
      "LGBMClass: ACC: 0.80493 - F1: 0.75493\n",
      "LGBMClass: ACC: 0.81614 - F1: 0.76301\n",
      "LGBMClass: ACC: 0.82063 - F1: 0.74359\n",
      "LGBMClass: ACC: 0.79821 - F1: 0.73054\n",
      "LGBMClass: ACC: 0.80493 - F1: 0.73874\n",
      "LGBMClass: ACC: 0.83184 - F1: 0.78006\n",
      "LGBMClass: ACC: 0.80045 - F1: 0.74644\n",
      "LGBMClass: ACC: 0.80269 - F1: 0.73964\n",
      "LGBMClass: ACC: 0.78700 - F1: 0.71471\n",
      "LGBMClass: ACC: 0.76682 - F1: 0.69942\n",
      "LGBMClass: ACC: 0.77803 - F1: 0.68571\n",
      "LGBMClass: ACC: 0.82063 - F1: 0.76331\n",
      "LGBMClass: ACC: 0.80942 - F1: 0.75921\n",
      "LGBMClass: ACC: 0.84081 - F1: 0.77316\n",
      "LGBMClass: ACC: 0.80045 - F1: 0.73591\n",
      "LGBMClass: ACC: 0.83184 - F1: 0.76923\n",
      "LGBMClass: ACC: 0.81839 - F1: 0.76522\n",
      "LGBMClass: ACC: 0.80717 - F1: 0.72078\n",
      "LGBMClass: ACC: 0.81390 - F1: 0.74303\n",
      "LGBMClass: ACC: 0.80493 - F1: 0.73874\n",
      "LGBMClass: ACC: 0.82511 - F1: 0.75926\n",
      "LGBMClass: ACC: 0.79596 - F1: 0.73469\n",
      "LGBMClass: ACC: 0.80045 - F1: 0.74052\n",
      "LGBMClass: ACC: 0.82735 - F1: 0.75241\n",
      "LGBMClass: ACC: 0.82287 - F1: 0.77746\n",
      "LGBMClass: ACC: 0.80493 - F1: 0.74184\n",
      "LGBMClass: ACC: 0.80717 - F1: 0.74096\n",
      "LGBMClass: ACC: 0.80942 - F1: 0.73846\n",
      "LGBMClass: ACC: 0.78475 - F1: 0.71429\n",
      "LGBMClass: ACC: 0.81614 - F1: 0.74847\n",
      "LGBMClass: ACC: 0.80269 - F1: 0.74118\n",
      "LGBMClass: ACC: 0.80269 - F1: 0.74857\n",
      "LGBMClass: ACC: 0.76457 - F1: 0.67890\n",
      "LGBMClass: ACC: 0.82735 - F1: 0.77551\n",
      "LGBMClass: ACC: 0.81166 - F1: 0.73248\n",
      "LGBMClass: ACC: 0.80717 - F1: 0.71141\n",
      "LGBMClass: ACC: 0.79821 - F1: 0.71338\n",
      "LGBMClass: ACC: 0.81839 - F1: 0.74766\n",
      "LGBMClass: ACC: 0.79372 - F1: 0.72941\n",
      "LGBMClass: ACC: 0.79596 - F1: 0.70740\n",
      "LGBMClass: ACC: 0.82063 - F1: 0.76879\n",
      "LGBMClass: ACC: 0.82735 - F1: 0.77937\n",
      "LGBMClass: ACC: 0.82735 - F1: 0.77551\n",
      "LGBMClass: ACC: 0.82063 - F1: 0.75610\n",
      "LGBMClass: ACC: 0.80942 - F1: 0.74777\n",
      "LGBMClass: ACC: 0.81390 - F1: 0.74462\n",
      "LGBMClass: ACC: 0.79148 - F1: 0.71903\n",
      "LGBMClass: ACC: 0.82063 - F1: 0.76331\n",
      "LGBMClass: ACC: 0.81614 - F1: 0.76023\n",
      "LGBMClass: ACC: 0.81166 - F1: 0.74390\n",
      "LGBMClass: ACC: 0.81166 - F1: 0.74074\n",
      "LGBMClass: ACC: 0.82063 - F1: 0.75904\n",
      "LGBMClass: ACC: 0.82287 - F1: 0.76133\n",
      "LGBMClass: ACC: 0.83408 - F1: 0.77576\n",
      "LGBMClass: ACC: 0.81839 - F1: 0.73090\n",
      "LGBMClass: ACC: 0.80045 - F1: 0.71746\n",
      "LGBMClass: ACC: 0.79821 - F1: 0.74286\n",
      "LGBMClass: ACC: 0.78700 - F1: 0.71642\n",
      "LGBMClass: ACC: 0.82960 - F1: 0.74834\n",
      "LGBMClass: ACC: 0.81614 - F1: 0.73548\n",
      "LGBMClass: ACC: 0.80717 - F1: 0.74405\n",
      "LGBMClass: ACC: 0.81839 - F1: 0.74923\n",
      "LGBMClass: ACC: 0.80942 - F1: 0.74320\n",
      "LGBMClass: ACC: 0.78700 - F1: 0.74255\n",
      "LGBMClass: ACC: 0.80942 - F1: 0.76056\n"
     ]
    }
   ],
   "source": [
    "# This loop is to get diferents splits and get mean().\n",
    "# The Stratify is None for not stratify the data, because the Kaggle don't do that.\n",
    "for model in models:\n",
    "    for ranges in range(200):\n",
    "        Xtrain, Xvalid, ytrain, yvalid = train_test_split(\n",
    "            X, y, test_size=0.5, stratify=None) \n",
    "        \n",
    "        mdl = model\n",
    "        mdl.fit(Xtrain, ytrain)\n",
    "        pred = mdl.predict(Xvalid)\n",
    "        acc = np.mean(yvalid == pred)\n",
    "        f1 = f1_score(yvalid, pred)\n",
    "        mod_name = str(model)[:9]\n",
    "        scores.append([mod_name, acc, f1])\n",
    "        print(f'{mod_name}: ACC: {acc:.5f} - F1: {f1:.5f}')    "
   ]
  },
  {
   "cell_type": "code",
   "execution_count": 723,
   "metadata": {},
   "outputs": [],
   "source": [
    "df_scores = pd.DataFrame(scores, columns=['Model', 'Acc', 'F1'])"
   ]
  },
  {
   "cell_type": "code",
   "execution_count": 724,
   "metadata": {},
   "outputs": [
    {
     "data": {
      "text/html": [
       "<div>\n",
       "<style scoped>\n",
       "    .dataframe tbody tr th:only-of-type {\n",
       "        vertical-align: middle;\n",
       "    }\n",
       "\n",
       "    .dataframe tbody tr th {\n",
       "        vertical-align: top;\n",
       "    }\n",
       "\n",
       "    .dataframe thead th {\n",
       "        text-align: right;\n",
       "    }\n",
       "</style>\n",
       "<table border=\"1\" class=\"dataframe\">\n",
       "  <thead>\n",
       "    <tr style=\"text-align: right;\">\n",
       "      <th></th>\n",
       "      <th>Acc</th>\n",
       "      <th>F1</th>\n",
       "    </tr>\n",
       "    <tr>\n",
       "      <th>Model</th>\n",
       "      <th></th>\n",
       "      <th></th>\n",
       "    </tr>\n",
       "  </thead>\n",
       "  <tbody>\n",
       "    <tr>\n",
       "      <th>GradientB</th>\n",
       "      <td>0.816962</td>\n",
       "      <td>0.750865</td>\n",
       "    </tr>\n",
       "    <tr>\n",
       "      <th>LGBMClass</th>\n",
       "      <td>0.807332</td>\n",
       "      <td>0.739223</td>\n",
       "    </tr>\n",
       "    <tr>\n",
       "      <th>LogisticR</th>\n",
       "      <td>0.808655</td>\n",
       "      <td>0.744196</td>\n",
       "    </tr>\n",
       "    <tr>\n",
       "      <th>RandomFor</th>\n",
       "      <td>0.807601</td>\n",
       "      <td>0.740010</td>\n",
       "    </tr>\n",
       "  </tbody>\n",
       "</table>\n",
       "</div>"
      ],
      "text/plain": [
       "                Acc        F1\n",
       "Model                        \n",
       "GradientB  0.816962  0.750865\n",
       "LGBMClass  0.807332  0.739223\n",
       "LogisticR  0.808655  0.744196\n",
       "RandomFor  0.807601  0.740010"
      ]
     },
     "execution_count": 724,
     "metadata": {},
     "output_type": "execute_result"
    }
   ],
   "source": [
    "df_scores.groupby('Model').mean()\n",
    "# Baseline Accuracy: 0.742\n",
    "#       Baseline F1: 0.852"
   ]
  },
  {
   "cell_type": "code",
   "execution_count": 698,
   "metadata": {},
   "outputs": [],
   "source": [
    "#            normal data                                with MinMaxScaler\n",
    "# RandomFor 0.7982062780269058 0.7256097560975611  -  0.8251121076233184 0.7547169811320755\n",
    "# LogisticR 0.8228699551569507 0.7538940809968847  -  0.8363228699551569 0.7682539682539683\n",
    "# GradientB 0.7982062780269058 0.7256097560975611  -  0.8363228699551569 0.7697160883280757\n",
    "# LGBMClass 0.8139013452914798 0.7398119122257053  -  0.8183856502242153 0.7460815047021944\n",
    "\n",
    "\tAcc\tF1\n",
    "Model\t\t\n",
    "GradientB\t0.818868\t0.752651\n",
    "LGBMClass\t0.808251\t0.741624\n",
    "LogisticR\t0.818666\t0.758982\n",
    "RandomFor\t0.804955\t0.737582"
   ]
  },
  {
   "cell_type": "raw",
   "metadata": {},
   "source": [
    "                Acc\t      F1\n",
    "Model\t\t\n",
    "GradientB\t0.825471\t0.757156\n",
    "LGBMClass\t0.813924\t0.745011\n",
    "LogisticR\t0.829372\t0.766393\n",
    "RandomFor\t0.813565\t0.742587"
   ]
  },
  {
   "cell_type": "markdown",
   "metadata": {
    "colab_type": "text",
    "id": "edy7v1R25djS"
   },
   "source": [
    "### Cross Validation\n",
    "___________________"
   ]
  },
  {
   "cell_type": "code",
   "execution_count": 727,
   "metadata": {
    "collapsed": true,
    "jupyter": {
     "outputs_hidden": true
    }
   },
   "outputs": [
    {
     "name": "stdout",
     "output_type": "stream",
     "text": [
      "RandomFor: ACC: 0.79148 - F1: 0.72072\n",
      "RandomFor: ACC: 0.79551 - F1: 0.72340\n",
      "RandomFor: ACC: 0.81614 - F1: 0.75152\n",
      "RandomFor: ACC: 0.80449 - F1: 0.73716\n",
      "RandomFor: ACC: 0.80269 - F1: 0.73006\n",
      "RandomFor: ACC: 0.81348 - F1: 0.74772\n",
      "RandomFor: ACC: 0.81614 - F1: 0.75595\n",
      "RandomFor: ACC: 0.78652 - F1: 0.71471\n",
      "RandomFor: ACC: 0.81390 - F1: 0.75224\n",
      "RandomFor: ACC: 0.79551 - F1: 0.73926\n",
      "RandomFor: ACC: 0.81614 - F1: 0.74534\n",
      "RandomFor: ACC: 0.81798 - F1: 0.75964\n",
      "RandomFor: ACC: 0.80493 - F1: 0.72727\n",
      "RandomFor: ACC: 0.80674 - F1: 0.75000\n",
      "RandomFor: ACC: 0.80269 - F1: 0.74713\n",
      "RandomFor: ACC: 0.80899 - F1: 0.74627\n",
      "RandomFor: ACC: 0.82287 - F1: 0.76133\n",
      "RandomFor: ACC: 0.82022 - F1: 0.75460\n",
      "RandomFor: ACC: 0.80942 - F1: 0.74627\n",
      "RandomFor: ACC: 0.83820 - F1: 0.78182\n",
      "RandomFor: ACC: 0.81166 - F1: 0.75439\n",
      "RandomFor: ACC: 0.78876 - F1: 0.71687\n",
      "RandomFor: ACC: 0.79148 - F1: 0.71903\n",
      "RandomFor: ACC: 0.80225 - F1: 0.72840\n",
      "RandomFor: ACC: 0.78700 - F1: 0.69453\n",
      "RandomFor: ACC: 0.80899 - F1: 0.74777\n",
      "RandomFor: ACC: 0.80493 - F1: 0.74487\n",
      "RandomFor: ACC: 0.81798 - F1: 0.74766\n",
      "RandomFor: ACC: 0.80942 - F1: 0.73684\n",
      "RandomFor: ACC: 0.82247 - F1: 0.75841\n",
      "RandomFor: ACC: 0.82960 - F1: 0.76398\n",
      "RandomFor: ACC: 0.80449 - F1: 0.73065\n",
      "RandomFor: ACC: 0.78924 - F1: 0.70625\n",
      "RandomFor: ACC: 0.81573 - F1: 0.75449\n",
      "RandomFor: ACC: 0.79148 - F1: 0.72886\n",
      "RandomFor: ACC: 0.81348 - F1: 0.73651\n",
      "RandomFor: ACC: 0.79821 - F1: 0.73214\n",
      "RandomFor: ACC: 0.80225 - F1: 0.73653\n",
      "RandomFor: ACC: 0.79596 - F1: 0.70550\n",
      "RandomFor: ACC: 0.80000 - F1: 0.73591\n",
      "LogisticR: ACC: 0.81614 - F1: 0.75152\n",
      "LogisticR: ACC: 0.80449 - F1: 0.74487\n"
     ]
    },
    {
     "name": "stderr",
     "output_type": "stream",
     "text": [
      "C:\\Users\\diego.mayer\\AppData\\Local\\Continuum\\anaconda3\\lib\\site-packages\\sklearn\\linear_model\\_logistic.py:940: ConvergenceWarning: lbfgs failed to converge (status=1):\n",
      "STOP: TOTAL NO. of ITERATIONS REACHED LIMIT.\n",
      "\n",
      "Increase the number of iterations (max_iter) or scale the data as shown in:\n",
      "    https://scikit-learn.org/stable/modules/preprocessing.html\n",
      "Please also refer to the documentation for alternative solver options:\n",
      "    https://scikit-learn.org/stable/modules/linear_model.html#logistic-regression\n",
      "  extra_warning_msg=_LOGISTIC_SOLVER_CONVERGENCE_MSG)\n",
      "C:\\Users\\diego.mayer\\AppData\\Local\\Continuum\\anaconda3\\lib\\site-packages\\sklearn\\linear_model\\_logistic.py:940: ConvergenceWarning: lbfgs failed to converge (status=1):\n",
      "STOP: TOTAL NO. of ITERATIONS REACHED LIMIT.\n",
      "\n",
      "Increase the number of iterations (max_iter) or scale the data as shown in:\n",
      "    https://scikit-learn.org/stable/modules/preprocessing.html\n",
      "Please also refer to the documentation for alternative solver options:\n",
      "    https://scikit-learn.org/stable/modules/linear_model.html#logistic-regression\n",
      "  extra_warning_msg=_LOGISTIC_SOLVER_CONVERGENCE_MSG)\n",
      "C:\\Users\\diego.mayer\\AppData\\Local\\Continuum\\anaconda3\\lib\\site-packages\\sklearn\\linear_model\\_logistic.py:940: ConvergenceWarning: lbfgs failed to converge (status=1):\n",
      "STOP: TOTAL NO. of ITERATIONS REACHED LIMIT.\n",
      "\n",
      "Increase the number of iterations (max_iter) or scale the data as shown in:\n",
      "    https://scikit-learn.org/stable/modules/preprocessing.html\n",
      "Please also refer to the documentation for alternative solver options:\n",
      "    https://scikit-learn.org/stable/modules/linear_model.html#logistic-regression\n",
      "  extra_warning_msg=_LOGISTIC_SOLVER_CONVERGENCE_MSG)\n"
     ]
    },
    {
     "name": "stdout",
     "output_type": "stream",
     "text": [
      "LogisticR: ACC: 0.80045 - F1: 0.73112\n",
      "LogisticR: ACC: 0.78876 - F1: 0.70988\n",
      "LogisticR: ACC: 0.80942 - F1: 0.73846\n",
      "LogisticR: ACC: 0.82472 - F1: 0.76786\n"
     ]
    },
    {
     "name": "stderr",
     "output_type": "stream",
     "text": [
      "C:\\Users\\diego.mayer\\AppData\\Local\\Continuum\\anaconda3\\lib\\site-packages\\sklearn\\linear_model\\_logistic.py:940: ConvergenceWarning: lbfgs failed to converge (status=1):\n",
      "STOP: TOTAL NO. of ITERATIONS REACHED LIMIT.\n",
      "\n",
      "Increase the number of iterations (max_iter) or scale the data as shown in:\n",
      "    https://scikit-learn.org/stable/modules/preprocessing.html\n",
      "Please also refer to the documentation for alternative solver options:\n",
      "    https://scikit-learn.org/stable/modules/linear_model.html#logistic-regression\n",
      "  extra_warning_msg=_LOGISTIC_SOLVER_CONVERGENCE_MSG)\n",
      "C:\\Users\\diego.mayer\\AppData\\Local\\Continuum\\anaconda3\\lib\\site-packages\\sklearn\\linear_model\\_logistic.py:940: ConvergenceWarning: lbfgs failed to converge (status=1):\n",
      "STOP: TOTAL NO. of ITERATIONS REACHED LIMIT.\n",
      "\n",
      "Increase the number of iterations (max_iter) or scale the data as shown in:\n",
      "    https://scikit-learn.org/stable/modules/preprocessing.html\n",
      "Please also refer to the documentation for alternative solver options:\n",
      "    https://scikit-learn.org/stable/modules/linear_model.html#logistic-regression\n",
      "  extra_warning_msg=_LOGISTIC_SOLVER_CONVERGENCE_MSG)\n",
      "C:\\Users\\diego.mayer\\AppData\\Local\\Continuum\\anaconda3\\lib\\site-packages\\sklearn\\linear_model\\_logistic.py:940: ConvergenceWarning: lbfgs failed to converge (status=1):\n",
      "STOP: TOTAL NO. of ITERATIONS REACHED LIMIT.\n",
      "\n",
      "Increase the number of iterations (max_iter) or scale the data as shown in:\n",
      "    https://scikit-learn.org/stable/modules/preprocessing.html\n",
      "Please also refer to the documentation for alternative solver options:\n",
      "    https://scikit-learn.org/stable/modules/linear_model.html#logistic-regression\n",
      "  extra_warning_msg=_LOGISTIC_SOLVER_CONVERGENCE_MSG)\n",
      "C:\\Users\\diego.mayer\\AppData\\Local\\Continuum\\anaconda3\\lib\\site-packages\\sklearn\\linear_model\\_logistic.py:940: ConvergenceWarning: lbfgs failed to converge (status=1):\n",
      "STOP: TOTAL NO. of ITERATIONS REACHED LIMIT.\n",
      "\n",
      "Increase the number of iterations (max_iter) or scale the data as shown in:\n",
      "    https://scikit-learn.org/stable/modules/preprocessing.html\n",
      "Please also refer to the documentation for alternative solver options:\n",
      "    https://scikit-learn.org/stable/modules/linear_model.html#logistic-regression\n",
      "  extra_warning_msg=_LOGISTIC_SOLVER_CONVERGENCE_MSG)\n"
     ]
    },
    {
     "name": "stdout",
     "output_type": "stream",
     "text": [
      "LogisticR: ACC: 0.82735 - F1: 0.76596\n",
      "LogisticR: ACC: 0.80000 - F1: 0.73591\n",
      "LogisticR: ACC: 0.80269 - F1: 0.74269\n",
      "LogisticR: ACC: 0.79775 - F1: 0.72561\n"
     ]
    },
    {
     "name": "stderr",
     "output_type": "stream",
     "text": [
      "C:\\Users\\diego.mayer\\AppData\\Local\\Continuum\\anaconda3\\lib\\site-packages\\sklearn\\linear_model\\_logistic.py:940: ConvergenceWarning: lbfgs failed to converge (status=1):\n",
      "STOP: TOTAL NO. of ITERATIONS REACHED LIMIT.\n",
      "\n",
      "Increase the number of iterations (max_iter) or scale the data as shown in:\n",
      "    https://scikit-learn.org/stable/modules/preprocessing.html\n",
      "Please also refer to the documentation for alternative solver options:\n",
      "    https://scikit-learn.org/stable/modules/linear_model.html#logistic-regression\n",
      "  extra_warning_msg=_LOGISTIC_SOLVER_CONVERGENCE_MSG)\n",
      "C:\\Users\\diego.mayer\\AppData\\Local\\Continuum\\anaconda3\\lib\\site-packages\\sklearn\\linear_model\\_logistic.py:940: ConvergenceWarning: lbfgs failed to converge (status=1):\n",
      "STOP: TOTAL NO. of ITERATIONS REACHED LIMIT.\n",
      "\n",
      "Increase the number of iterations (max_iter) or scale the data as shown in:\n",
      "    https://scikit-learn.org/stable/modules/preprocessing.html\n",
      "Please also refer to the documentation for alternative solver options:\n",
      "    https://scikit-learn.org/stable/modules/linear_model.html#logistic-regression\n",
      "  extra_warning_msg=_LOGISTIC_SOLVER_CONVERGENCE_MSG)\n",
      "C:\\Users\\diego.mayer\\AppData\\Local\\Continuum\\anaconda3\\lib\\site-packages\\sklearn\\linear_model\\_logistic.py:940: ConvergenceWarning: lbfgs failed to converge (status=1):\n",
      "STOP: TOTAL NO. of ITERATIONS REACHED LIMIT.\n",
      "\n",
      "Increase the number of iterations (max_iter) or scale the data as shown in:\n",
      "    https://scikit-learn.org/stable/modules/preprocessing.html\n",
      "Please also refer to the documentation for alternative solver options:\n",
      "    https://scikit-learn.org/stable/modules/linear_model.html#logistic-regression\n",
      "  extra_warning_msg=_LOGISTIC_SOLVER_CONVERGENCE_MSG)\n",
      "C:\\Users\\diego.mayer\\AppData\\Local\\Continuum\\anaconda3\\lib\\site-packages\\sklearn\\linear_model\\_logistic.py:940: ConvergenceWarning: lbfgs failed to converge (status=1):\n",
      "STOP: TOTAL NO. of ITERATIONS REACHED LIMIT.\n",
      "\n",
      "Increase the number of iterations (max_iter) or scale the data as shown in:\n",
      "    https://scikit-learn.org/stable/modules/preprocessing.html\n",
      "Please also refer to the documentation for alternative solver options:\n",
      "    https://scikit-learn.org/stable/modules/linear_model.html#logistic-regression\n",
      "  extra_warning_msg=_LOGISTIC_SOLVER_CONVERGENCE_MSG)\n",
      "C:\\Users\\diego.mayer\\AppData\\Local\\Continuum\\anaconda3\\lib\\site-packages\\sklearn\\linear_model\\_logistic.py:940: ConvergenceWarning: lbfgs failed to converge (status=1):\n",
      "STOP: TOTAL NO. of ITERATIONS REACHED LIMIT.\n",
      "\n",
      "Increase the number of iterations (max_iter) or scale the data as shown in:\n",
      "    https://scikit-learn.org/stable/modules/preprocessing.html\n",
      "Please also refer to the documentation for alternative solver options:\n",
      "    https://scikit-learn.org/stable/modules/linear_model.html#logistic-regression\n",
      "  extra_warning_msg=_LOGISTIC_SOLVER_CONVERGENCE_MSG)\n",
      "C:\\Users\\diego.mayer\\AppData\\Local\\Continuum\\anaconda3\\lib\\site-packages\\sklearn\\linear_model\\_logistic.py:940: ConvergenceWarning: lbfgs failed to converge (status=1):\n",
      "STOP: TOTAL NO. of ITERATIONS REACHED LIMIT.\n",
      "\n",
      "Increase the number of iterations (max_iter) or scale the data as shown in:\n",
      "    https://scikit-learn.org/stable/modules/preprocessing.html\n",
      "Please also refer to the documentation for alternative solver options:\n",
      "    https://scikit-learn.org/stable/modules/linear_model.html#logistic-regression\n",
      "  extra_warning_msg=_LOGISTIC_SOLVER_CONVERGENCE_MSG)\n",
      "C:\\Users\\diego.mayer\\AppData\\Local\\Continuum\\anaconda3\\lib\\site-packages\\sklearn\\linear_model\\_logistic.py:940: ConvergenceWarning: lbfgs failed to converge (status=1):\n",
      "STOP: TOTAL NO. of ITERATIONS REACHED LIMIT.\n",
      "\n",
      "Increase the number of iterations (max_iter) or scale the data as shown in:\n",
      "    https://scikit-learn.org/stable/modules/preprocessing.html\n",
      "Please also refer to the documentation for alternative solver options:\n",
      "    https://scikit-learn.org/stable/modules/linear_model.html#logistic-regression\n",
      "  extra_warning_msg=_LOGISTIC_SOLVER_CONVERGENCE_MSG)\n"
     ]
    },
    {
     "name": "stdout",
     "output_type": "stream",
     "text": [
      "LogisticR: ACC: 0.81614 - F1: 0.75595\n",
      "LogisticR: ACC: 0.81573 - F1: 0.75882\n",
      "LogisticR: ACC: 0.82960 - F1: 0.76101\n",
      "LogisticR: ACC: 0.78876 - F1: 0.72674"
     ]
    },
    {
     "name": "stderr",
     "output_type": "stream",
     "text": [
      "C:\\Users\\diego.mayer\\AppData\\Local\\Continuum\\anaconda3\\lib\\site-packages\\sklearn\\linear_model\\_logistic.py:940: ConvergenceWarning: lbfgs failed to converge (status=1):\n",
      "STOP: TOTAL NO. of ITERATIONS REACHED LIMIT.\n",
      "\n",
      "Increase the number of iterations (max_iter) or scale the data as shown in:\n",
      "    https://scikit-learn.org/stable/modules/preprocessing.html\n",
      "Please also refer to the documentation for alternative solver options:\n",
      "    https://scikit-learn.org/stable/modules/linear_model.html#logistic-regression\n",
      "  extra_warning_msg=_LOGISTIC_SOLVER_CONVERGENCE_MSG)\n",
      "C:\\Users\\diego.mayer\\AppData\\Local\\Continuum\\anaconda3\\lib\\site-packages\\sklearn\\linear_model\\_logistic.py:940: ConvergenceWarning: lbfgs failed to converge (status=1):\n",
      "STOP: TOTAL NO. of ITERATIONS REACHED LIMIT.\n",
      "\n",
      "Increase the number of iterations (max_iter) or scale the data as shown in:\n",
      "    https://scikit-learn.org/stable/modules/preprocessing.html\n",
      "Please also refer to the documentation for alternative solver options:\n",
      "    https://scikit-learn.org/stable/modules/linear_model.html#logistic-regression\n",
      "  extra_warning_msg=_LOGISTIC_SOLVER_CONVERGENCE_MSG)\n",
      "C:\\Users\\diego.mayer\\AppData\\Local\\Continuum\\anaconda3\\lib\\site-packages\\sklearn\\linear_model\\_logistic.py:940: ConvergenceWarning: lbfgs failed to converge (status=1):\n",
      "STOP: TOTAL NO. of ITERATIONS REACHED LIMIT.\n",
      "\n",
      "Increase the number of iterations (max_iter) or scale the data as shown in:\n",
      "    https://scikit-learn.org/stable/modules/preprocessing.html\n",
      "Please also refer to the documentation for alternative solver options:\n",
      "    https://scikit-learn.org/stable/modules/linear_model.html#logistic-regression\n",
      "  extra_warning_msg=_LOGISTIC_SOLVER_CONVERGENCE_MSG)\n"
     ]
    },
    {
     "name": "stdout",
     "output_type": "stream",
     "text": [
      "\n",
      "LogisticR: ACC: 0.80493 - F1: 0.74487\n",
      "LogisticR: ACC: 0.82697 - F1: 0.76737\n",
      "LogisticR: ACC: 0.84529 - F1: 0.79154\n",
      "LogisticR: ACC: 0.80225 - F1: 0.74419\n",
      "LogisticR: ACC: 0.81166 - F1: 0.74074\n",
      "LogisticR: ACC: 0.81124 - F1: 0.74390\n"
     ]
    },
    {
     "name": "stderr",
     "output_type": "stream",
     "text": [
      "C:\\Users\\diego.mayer\\AppData\\Local\\Continuum\\anaconda3\\lib\\site-packages\\sklearn\\linear_model\\_logistic.py:940: ConvergenceWarning: lbfgs failed to converge (status=1):\n",
      "STOP: TOTAL NO. of ITERATIONS REACHED LIMIT.\n",
      "\n",
      "Increase the number of iterations (max_iter) or scale the data as shown in:\n",
      "    https://scikit-learn.org/stable/modules/preprocessing.html\n",
      "Please also refer to the documentation for alternative solver options:\n",
      "    https://scikit-learn.org/stable/modules/linear_model.html#logistic-regression\n",
      "  extra_warning_msg=_LOGISTIC_SOLVER_CONVERGENCE_MSG)\n",
      "C:\\Users\\diego.mayer\\AppData\\Local\\Continuum\\anaconda3\\lib\\site-packages\\sklearn\\linear_model\\_logistic.py:940: ConvergenceWarning: lbfgs failed to converge (status=1):\n",
      "STOP: TOTAL NO. of ITERATIONS REACHED LIMIT.\n",
      "\n",
      "Increase the number of iterations (max_iter) or scale the data as shown in:\n",
      "    https://scikit-learn.org/stable/modules/preprocessing.html\n",
      "Please also refer to the documentation for alternative solver options:\n",
      "    https://scikit-learn.org/stable/modules/linear_model.html#logistic-regression\n",
      "  extra_warning_msg=_LOGISTIC_SOLVER_CONVERGENCE_MSG)\n",
      "C:\\Users\\diego.mayer\\AppData\\Local\\Continuum\\anaconda3\\lib\\site-packages\\sklearn\\linear_model\\_logistic.py:940: ConvergenceWarning: lbfgs failed to converge (status=1):\n",
      "STOP: TOTAL NO. of ITERATIONS REACHED LIMIT.\n",
      "\n",
      "Increase the number of iterations (max_iter) or scale the data as shown in:\n",
      "    https://scikit-learn.org/stable/modules/preprocessing.html\n",
      "Please also refer to the documentation for alternative solver options:\n",
      "    https://scikit-learn.org/stable/modules/linear_model.html#logistic-regression\n",
      "  extra_warning_msg=_LOGISTIC_SOLVER_CONVERGENCE_MSG)\n",
      "C:\\Users\\diego.mayer\\AppData\\Local\\Continuum\\anaconda3\\lib\\site-packages\\sklearn\\linear_model\\_logistic.py:940: ConvergenceWarning: lbfgs failed to converge (status=1):\n",
      "STOP: TOTAL NO. of ITERATIONS REACHED LIMIT.\n",
      "\n",
      "Increase the number of iterations (max_iter) or scale the data as shown in:\n",
      "    https://scikit-learn.org/stable/modules/preprocessing.html\n",
      "Please also refer to the documentation for alternative solver options:\n",
      "    https://scikit-learn.org/stable/modules/linear_model.html#logistic-regression\n",
      "  extra_warning_msg=_LOGISTIC_SOLVER_CONVERGENCE_MSG)\n"
     ]
    },
    {
     "name": "stdout",
     "output_type": "stream",
     "text": [
      "LogisticR: ACC: 0.79821 - F1: 0.74138\n",
      "LogisticR: ACC: 0.82921 - F1: 0.76829\n",
      "LogisticR: ACC: 0.82063 - F1: 0.76048\n",
      "LogisticR: ACC: 0.80000 - F1: 0.72948"
     ]
    },
    {
     "name": "stderr",
     "output_type": "stream",
     "text": [
      "C:\\Users\\diego.mayer\\AppData\\Local\\Continuum\\anaconda3\\lib\\site-packages\\sklearn\\linear_model\\_logistic.py:940: ConvergenceWarning: lbfgs failed to converge (status=1):\n",
      "STOP: TOTAL NO. of ITERATIONS REACHED LIMIT.\n",
      "\n",
      "Increase the number of iterations (max_iter) or scale the data as shown in:\n",
      "    https://scikit-learn.org/stable/modules/preprocessing.html\n",
      "Please also refer to the documentation for alternative solver options:\n",
      "    https://scikit-learn.org/stable/modules/linear_model.html#logistic-regression\n",
      "  extra_warning_msg=_LOGISTIC_SOLVER_CONVERGENCE_MSG)\n",
      "C:\\Users\\diego.mayer\\AppData\\Local\\Continuum\\anaconda3\\lib\\site-packages\\sklearn\\linear_model\\_logistic.py:940: ConvergenceWarning: lbfgs failed to converge (status=1):\n",
      "STOP: TOTAL NO. of ITERATIONS REACHED LIMIT.\n",
      "\n",
      "Increase the number of iterations (max_iter) or scale the data as shown in:\n",
      "    https://scikit-learn.org/stable/modules/preprocessing.html\n",
      "Please also refer to the documentation for alternative solver options:\n",
      "    https://scikit-learn.org/stable/modules/linear_model.html#logistic-regression\n",
      "  extra_warning_msg=_LOGISTIC_SOLVER_CONVERGENCE_MSG)\n",
      "C:\\Users\\diego.mayer\\AppData\\Local\\Continuum\\anaconda3\\lib\\site-packages\\sklearn\\linear_model\\_logistic.py:940: ConvergenceWarning: lbfgs failed to converge (status=1):\n",
      "STOP: TOTAL NO. of ITERATIONS REACHED LIMIT.\n",
      "\n",
      "Increase the number of iterations (max_iter) or scale the data as shown in:\n",
      "    https://scikit-learn.org/stable/modules/preprocessing.html\n",
      "Please also refer to the documentation for alternative solver options:\n",
      "    https://scikit-learn.org/stable/modules/linear_model.html#logistic-regression\n",
      "  extra_warning_msg=_LOGISTIC_SOLVER_CONVERGENCE_MSG)\n",
      "C:\\Users\\diego.mayer\\AppData\\Local\\Continuum\\anaconda3\\lib\\site-packages\\sklearn\\linear_model\\_logistic.py:940: ConvergenceWarning: lbfgs failed to converge (status=1):\n",
      "STOP: TOTAL NO. of ITERATIONS REACHED LIMIT.\n",
      "\n",
      "Increase the number of iterations (max_iter) or scale the data as shown in:\n",
      "    https://scikit-learn.org/stable/modules/preprocessing.html\n",
      "Please also refer to the documentation for alternative solver options:\n",
      "    https://scikit-learn.org/stable/modules/linear_model.html#logistic-regression\n",
      "  extra_warning_msg=_LOGISTIC_SOLVER_CONVERGENCE_MSG)\n"
     ]
    },
    {
     "name": "stdout",
     "output_type": "stream",
     "text": [
      "\n",
      "LogisticR: ACC: 0.80717 - F1: 0.73939\n",
      "LogisticR: ACC: 0.83596 - F1: 0.78592\n",
      "LogisticR: ACC: 0.79148 - F1: 0.72566\n"
     ]
    },
    {
     "name": "stderr",
     "output_type": "stream",
     "text": [
      "C:\\Users\\diego.mayer\\AppData\\Local\\Continuum\\anaconda3\\lib\\site-packages\\sklearn\\linear_model\\_logistic.py:940: ConvergenceWarning: lbfgs failed to converge (status=1):\n",
      "STOP: TOTAL NO. of ITERATIONS REACHED LIMIT.\n",
      "\n",
      "Increase the number of iterations (max_iter) or scale the data as shown in:\n",
      "    https://scikit-learn.org/stable/modules/preprocessing.html\n",
      "Please also refer to the documentation for alternative solver options:\n",
      "    https://scikit-learn.org/stable/modules/linear_model.html#logistic-regression\n",
      "  extra_warning_msg=_LOGISTIC_SOLVER_CONVERGENCE_MSG)\n",
      "C:\\Users\\diego.mayer\\AppData\\Local\\Continuum\\anaconda3\\lib\\site-packages\\sklearn\\linear_model\\_logistic.py:940: ConvergenceWarning: lbfgs failed to converge (status=1):\n",
      "STOP: TOTAL NO. of ITERATIONS REACHED LIMIT.\n",
      "\n",
      "Increase the number of iterations (max_iter) or scale the data as shown in:\n",
      "    https://scikit-learn.org/stable/modules/preprocessing.html\n",
      "Please also refer to the documentation for alternative solver options:\n",
      "    https://scikit-learn.org/stable/modules/linear_model.html#logistic-regression\n",
      "  extra_warning_msg=_LOGISTIC_SOLVER_CONVERGENCE_MSG)\n",
      "C:\\Users\\diego.mayer\\AppData\\Local\\Continuum\\anaconda3\\lib\\site-packages\\sklearn\\linear_model\\_logistic.py:940: ConvergenceWarning: lbfgs failed to converge (status=1):\n",
      "STOP: TOTAL NO. of ITERATIONS REACHED LIMIT.\n",
      "\n",
      "Increase the number of iterations (max_iter) or scale the data as shown in:\n",
      "    https://scikit-learn.org/stable/modules/preprocessing.html\n",
      "Please also refer to the documentation for alternative solver options:\n",
      "    https://scikit-learn.org/stable/modules/linear_model.html#logistic-regression\n",
      "  extra_warning_msg=_LOGISTIC_SOLVER_CONVERGENCE_MSG)\n",
      "C:\\Users\\diego.mayer\\AppData\\Local\\Continuum\\anaconda3\\lib\\site-packages\\sklearn\\linear_model\\_logistic.py:940: ConvergenceWarning: lbfgs failed to converge (status=1):\n",
      "STOP: TOTAL NO. of ITERATIONS REACHED LIMIT.\n",
      "\n",
      "Increase the number of iterations (max_iter) or scale the data as shown in:\n",
      "    https://scikit-learn.org/stable/modules/preprocessing.html\n",
      "Please also refer to the documentation for alternative solver options:\n",
      "    https://scikit-learn.org/stable/modules/linear_model.html#logistic-regression\n",
      "  extra_warning_msg=_LOGISTIC_SOLVER_CONVERGENCE_MSG)\n",
      "C:\\Users\\diego.mayer\\AppData\\Local\\Continuum\\anaconda3\\lib\\site-packages\\sklearn\\linear_model\\_logistic.py:940: ConvergenceWarning: lbfgs failed to converge (status=1):\n",
      "STOP: TOTAL NO. of ITERATIONS REACHED LIMIT.\n",
      "\n",
      "Increase the number of iterations (max_iter) or scale the data as shown in:\n",
      "    https://scikit-learn.org/stable/modules/preprocessing.html\n",
      "Please also refer to the documentation for alternative solver options:\n",
      "    https://scikit-learn.org/stable/modules/linear_model.html#logistic-regression\n",
      "  extra_warning_msg=_LOGISTIC_SOLVER_CONVERGENCE_MSG)\n",
      "C:\\Users\\diego.mayer\\AppData\\Local\\Continuum\\anaconda3\\lib\\site-packages\\sklearn\\linear_model\\_logistic.py:940: ConvergenceWarning: lbfgs failed to converge (status=1):\n",
      "STOP: TOTAL NO. of ITERATIONS REACHED LIMIT.\n",
      "\n",
      "Increase the number of iterations (max_iter) or scale the data as shown in:\n",
      "    https://scikit-learn.org/stable/modules/preprocessing.html\n",
      "Please also refer to the documentation for alternative solver options:\n",
      "    https://scikit-learn.org/stable/modules/linear_model.html#logistic-regression\n",
      "  extra_warning_msg=_LOGISTIC_SOLVER_CONVERGENCE_MSG)\n"
     ]
    },
    {
     "name": "stdout",
     "output_type": "stream",
     "text": [
      "LogisticR: ACC: 0.83596 - F1: 0.77676\n",
      "LogisticR: ACC: 0.80493 - F1: 0.73556\n",
      "LogisticR: ACC: 0.80899 - F1: 0.74627\n"
     ]
    },
    {
     "name": "stderr",
     "output_type": "stream",
     "text": [
      "C:\\Users\\diego.mayer\\AppData\\Local\\Continuum\\anaconda3\\lib\\site-packages\\sklearn\\linear_model\\_logistic.py:940: ConvergenceWarning: lbfgs failed to converge (status=1):\n",
      "STOP: TOTAL NO. of ITERATIONS REACHED LIMIT.\n",
      "\n",
      "Increase the number of iterations (max_iter) or scale the data as shown in:\n",
      "    https://scikit-learn.org/stable/modules/preprocessing.html\n",
      "Please also refer to the documentation for alternative solver options:\n",
      "    https://scikit-learn.org/stable/modules/linear_model.html#logistic-regression\n",
      "  extra_warning_msg=_LOGISTIC_SOLVER_CONVERGENCE_MSG)\n",
      "C:\\Users\\diego.mayer\\AppData\\Local\\Continuum\\anaconda3\\lib\\site-packages\\sklearn\\linear_model\\_logistic.py:940: ConvergenceWarning: lbfgs failed to converge (status=1):\n",
      "STOP: TOTAL NO. of ITERATIONS REACHED LIMIT.\n",
      "\n",
      "Increase the number of iterations (max_iter) or scale the data as shown in:\n",
      "    https://scikit-learn.org/stable/modules/preprocessing.html\n",
      "Please also refer to the documentation for alternative solver options:\n",
      "    https://scikit-learn.org/stable/modules/linear_model.html#logistic-regression\n",
      "  extra_warning_msg=_LOGISTIC_SOLVER_CONVERGENCE_MSG)\n",
      "C:\\Users\\diego.mayer\\AppData\\Local\\Continuum\\anaconda3\\lib\\site-packages\\sklearn\\linear_model\\_logistic.py:940: ConvergenceWarning: lbfgs failed to converge (status=1):\n",
      "STOP: TOTAL NO. of ITERATIONS REACHED LIMIT.\n",
      "\n",
      "Increase the number of iterations (max_iter) or scale the data as shown in:\n",
      "    https://scikit-learn.org/stable/modules/preprocessing.html\n",
      "Please also refer to the documentation for alternative solver options:\n",
      "    https://scikit-learn.org/stable/modules/linear_model.html#logistic-regression\n",
      "  extra_warning_msg=_LOGISTIC_SOLVER_CONVERGENCE_MSG)\n"
     ]
    },
    {
     "name": "stdout",
     "output_type": "stream",
     "text": [
      "LogisticR: ACC: 0.83632 - F1: 0.78466\n",
      "LogisticR: ACC: 0.80899 - F1: 0.74164\n",
      "LogisticR: ACC: 0.80717 - F1: 0.75706\n",
      "LogisticR: ACC: 0.82921 - F1: 0.75796\n"
     ]
    },
    {
     "name": "stderr",
     "output_type": "stream",
     "text": [
      "C:\\Users\\diego.mayer\\AppData\\Local\\Continuum\\anaconda3\\lib\\site-packages\\sklearn\\linear_model\\_logistic.py:940: ConvergenceWarning: lbfgs failed to converge (status=1):\n",
      "STOP: TOTAL NO. of ITERATIONS REACHED LIMIT.\n",
      "\n",
      "Increase the number of iterations (max_iter) or scale the data as shown in:\n",
      "    https://scikit-learn.org/stable/modules/preprocessing.html\n",
      "Please also refer to the documentation for alternative solver options:\n",
      "    https://scikit-learn.org/stable/modules/linear_model.html#logistic-regression\n",
      "  extra_warning_msg=_LOGISTIC_SOLVER_CONVERGENCE_MSG)\n",
      "C:\\Users\\diego.mayer\\AppData\\Local\\Continuum\\anaconda3\\lib\\site-packages\\sklearn\\linear_model\\_logistic.py:940: ConvergenceWarning: lbfgs failed to converge (status=1):\n",
      "STOP: TOTAL NO. of ITERATIONS REACHED LIMIT.\n",
      "\n",
      "Increase the number of iterations (max_iter) or scale the data as shown in:\n",
      "    https://scikit-learn.org/stable/modules/preprocessing.html\n",
      "Please also refer to the documentation for alternative solver options:\n",
      "    https://scikit-learn.org/stable/modules/linear_model.html#logistic-regression\n",
      "  extra_warning_msg=_LOGISTIC_SOLVER_CONVERGENCE_MSG)\n",
      "C:\\Users\\diego.mayer\\AppData\\Local\\Continuum\\anaconda3\\lib\\site-packages\\sklearn\\linear_model\\_logistic.py:940: ConvergenceWarning: lbfgs failed to converge (status=1):\n",
      "STOP: TOTAL NO. of ITERATIONS REACHED LIMIT.\n",
      "\n",
      "Increase the number of iterations (max_iter) or scale the data as shown in:\n",
      "    https://scikit-learn.org/stable/modules/preprocessing.html\n",
      "Please also refer to the documentation for alternative solver options:\n",
      "    https://scikit-learn.org/stable/modules/linear_model.html#logistic-regression\n",
      "  extra_warning_msg=_LOGISTIC_SOLVER_CONVERGENCE_MSG)\n",
      "C:\\Users\\diego.mayer\\AppData\\Local\\Continuum\\anaconda3\\lib\\site-packages\\sklearn\\linear_model\\_logistic.py:940: ConvergenceWarning: lbfgs failed to converge (status=1):\n",
      "STOP: TOTAL NO. of ITERATIONS REACHED LIMIT.\n",
      "\n",
      "Increase the number of iterations (max_iter) or scale the data as shown in:\n",
      "    https://scikit-learn.org/stable/modules/preprocessing.html\n",
      "Please also refer to the documentation for alternative solver options:\n",
      "    https://scikit-learn.org/stable/modules/linear_model.html#logistic-regression\n",
      "  extra_warning_msg=_LOGISTIC_SOLVER_CONVERGENCE_MSG)\n"
     ]
    },
    {
     "name": "stdout",
     "output_type": "stream",
     "text": [
      "LogisticR: ACC: 0.81839 - F1: 0.76657\n",
      "LogisticR: ACC: 0.80225 - F1: 0.72500\n",
      "LogisticR: ACC: 0.80269 - F1: 0.73810\n"
     ]
    },
    {
     "name": "stderr",
     "output_type": "stream",
     "text": [
      "C:\\Users\\diego.mayer\\AppData\\Local\\Continuum\\anaconda3\\lib\\site-packages\\sklearn\\linear_model\\_logistic.py:940: ConvergenceWarning: lbfgs failed to converge (status=1):\n",
      "STOP: TOTAL NO. of ITERATIONS REACHED LIMIT.\n",
      "\n",
      "Increase the number of iterations (max_iter) or scale the data as shown in:\n",
      "    https://scikit-learn.org/stable/modules/preprocessing.html\n",
      "Please also refer to the documentation for alternative solver options:\n",
      "    https://scikit-learn.org/stable/modules/linear_model.html#logistic-regression\n",
      "  extra_warning_msg=_LOGISTIC_SOLVER_CONVERGENCE_MSG)\n",
      "C:\\Users\\diego.mayer\\AppData\\Local\\Continuum\\anaconda3\\lib\\site-packages\\sklearn\\linear_model\\_logistic.py:940: ConvergenceWarning: lbfgs failed to converge (status=1):\n",
      "STOP: TOTAL NO. of ITERATIONS REACHED LIMIT.\n",
      "\n",
      "Increase the number of iterations (max_iter) or scale the data as shown in:\n",
      "    https://scikit-learn.org/stable/modules/preprocessing.html\n",
      "Please also refer to the documentation for alternative solver options:\n",
      "    https://scikit-learn.org/stable/modules/linear_model.html#logistic-regression\n",
      "  extra_warning_msg=_LOGISTIC_SOLVER_CONVERGENCE_MSG)\n"
     ]
    },
    {
     "name": "stdout",
     "output_type": "stream",
     "text": [
      "LogisticR: ACC: 0.80449 - F1: 0.73874\n",
      "LogisticR: ACC: 0.80717 - F1: 0.73125\n",
      "LogisticR: ACC: 0.82022 - F1: 0.76608\n",
      "GradientB: ACC: 0.82735 - F1: 0.76453\n",
      "GradientB: ACC: 0.80449 - F1: 0.74336\n",
      "GradientB: ACC: 0.82287 - F1: 0.76418\n",
      "GradientB: ACC: 0.82247 - F1: 0.74598\n",
      "GradientB: ACC: 0.82960 - F1: 0.76398\n",
      "GradientB: ACC: 0.83146 - F1: 0.76923\n",
      "GradientB: ACC: 0.80942 - F1: 0.73684\n",
      "GradientB: ACC: 0.79551 - F1: 0.72000\n",
      "GradientB: ACC: 0.80942 - F1: 0.74777\n",
      "GradientB: ACC: 0.82472 - F1: 0.76506\n",
      "GradientB: ACC: 0.80717 - F1: 0.72785\n",
      "GradientB: ACC: 0.82472 - F1: 0.76074\n",
      "GradientB: ACC: 0.82287 - F1: 0.75692\n",
      "GradientB: ACC: 0.82247 - F1: 0.76696\n",
      "GradientB: ACC: 0.83184 - F1: 0.77204\n",
      "GradientB: ACC: 0.82921 - F1: 0.76829\n",
      "GradientB: ACC: 0.84529 - F1: 0.78899\n",
      "GradientB: ACC: 0.81124 - F1: 0.74699\n",
      "GradientB: ACC: 0.81166 - F1: 0.74545\n",
      "GradientB: ACC: 0.84494 - F1: 0.79279\n",
      "GradientB: ACC: 0.82735 - F1: 0.76877\n",
      "GradientB: ACC: 0.83371 - F1: 0.77301\n",
      "GradientB: ACC: 0.79596 - F1: 0.72340\n",
      "GradientB: ACC: 0.80449 - F1: 0.73716\n",
      "GradientB: ACC: 0.82063 - F1: 0.75460\n",
      "GradientB: ACC: 0.82697 - F1: 0.77151\n",
      "GradientB: ACC: 0.81839 - F1: 0.76106\n",
      "GradientB: ACC: 0.82472 - F1: 0.76074\n",
      "GradientB: ACC: 0.80717 - F1: 0.72258\n",
      "GradientB: ACC: 0.82022 - F1: 0.76048\n",
      "GradientB: ACC: 0.82287 - F1: 0.76558\n",
      "GradientB: ACC: 0.80674 - F1: 0.73780\n",
      "GradientB: ACC: 0.81166 - F1: 0.75439\n",
      "GradientB: ACC: 0.82472 - F1: 0.76220\n",
      "GradientB: ACC: 0.82063 - F1: 0.75758\n",
      "GradientB: ACC: 0.82022 - F1: 0.75309\n",
      "GradientB: ACC: 0.82511 - F1: 0.76647\n",
      "GradientB: ACC: 0.82247 - F1: 0.76276\n",
      "GradientB: ACC: 0.82287 - F1: 0.74098\n",
      "GradientB: ACC: 0.80899 - F1: 0.75219\n",
      "LGBMClass: ACC: 0.80717 - F1: 0.73780\n",
      "LGBMClass: ACC: 0.77303 - F1: 0.69851\n",
      "LGBMClass: ACC: 0.82287 - F1: 0.75841\n",
      "LGBMClass: ACC: 0.78427 - F1: 0.70186\n",
      "LGBMClass: ACC: 0.80942 - F1: 0.73846\n",
      "LGBMClass: ACC: 0.80899 - F1: 0.74777\n",
      "LGBMClass: ACC: 0.83408 - F1: 0.76875\n",
      "LGBMClass: ACC: 0.79101 - F1: 0.72566\n",
      "LGBMClass: ACC: 0.81390 - F1: 0.75224\n",
      "LGBMClass: ACC: 0.81124 - F1: 0.75294\n",
      "LGBMClass: ACC: 0.80493 - F1: 0.73065\n",
      "LGBMClass: ACC: 0.82697 - F1: 0.76737\n",
      "LGBMClass: ACC: 0.81166 - F1: 0.73750\n",
      "LGBMClass: ACC: 0.81348 - F1: 0.75075\n",
      "LGBMClass: ACC: 0.80493 - F1: 0.74783\n",
      "LGBMClass: ACC: 0.82472 - F1: 0.75776\n",
      "LGBMClass: ACC: 0.84305 - F1: 0.78916\n",
      "LGBMClass: ACC: 0.81124 - F1: 0.74545\n",
      "LGBMClass: ACC: 0.80269 - F1: 0.73653\n",
      "LGBMClass: ACC: 0.84494 - F1: 0.79403\n",
      "LGBMClass: ACC: 0.80717 - F1: 0.74405\n",
      "LGBMClass: ACC: 0.82921 - F1: 0.76970\n",
      "LGBMClass: ACC: 0.79148 - F1: 0.71560\n",
      "LGBMClass: ACC: 0.80225 - F1: 0.72152\n",
      "LGBMClass: ACC: 0.80493 - F1: 0.72026\n",
      "LGBMClass: ACC: 0.81573 - F1: 0.75449\n",
      "LGBMClass: ACC: 0.81390 - F1: 0.75371\n",
      "LGBMClass: ACC: 0.79775 - F1: 0.72393\n",
      "LGBMClass: ACC: 0.79821 - F1: 0.72050\n",
      "LGBMClass: ACC: 0.80449 - F1: 0.73716\n",
      "LGBMClass: ACC: 0.80942 - F1: 0.74474\n",
      "LGBMClass: ACC: 0.79326 - F1: 0.71951\n",
      "LGBMClass: ACC: 0.78700 - F1: 0.71976\n",
      "LGBMClass: ACC: 0.82022 - F1: 0.75904\n",
      "LGBMClass: ACC: 0.80942 - F1: 0.74474\n",
      "LGBMClass: ACC: 0.81348 - F1: 0.75075\n",
      "LGBMClass: ACC: 0.80942 - F1: 0.75073\n",
      "LGBMClass: ACC: 0.81348 - F1: 0.74772\n",
      "LGBMClass: ACC: 0.80045 - F1: 0.71383\n",
      "LGBMClass: ACC: 0.79326 - F1: 0.72455\n"
     ]
    }
   ],
   "source": [
    "f1, acc, scores_kf = [],[],[]\n",
    "for model in models:\n",
    "    kf = RepeatedKFold(n_splits=2, n_repeats=20, random_state=10)\n",
    "    for line_t, line_v in kf.split(X):\n",
    "        Xtrain, Xvalid = X.iloc[line_t], X.iloc[line_v]\n",
    "        ytrain, yvalid = y.iloc[line_t], y.iloc[line_v]\n",
    "\n",
    "        mdl = model\n",
    "        mdl.fit(Xtrain, ytrain)\n",
    "        pred = mdl.predict(Xvalid)\n",
    "        acc = np.mean(yvalid == pred)\n",
    "        f1 = f1_score(yvalid, pred)\n",
    "        mod_name = str(model)[:9]\n",
    "        scores_kf.append([mod_name, acc, f1])\n",
    "        print(f'{mod_name}: ACC: {acc:.5f} - F1: {f1:.5f}')    "
   ]
  },
  {
   "cell_type": "code",
   "execution_count": 729,
   "metadata": {},
   "outputs": [],
   "source": [
    "df_scores_kf = pd.DataFrame(scores_kf, columns=['Model', 'Acc', 'F1'])"
   ]
  },
  {
   "cell_type": "code",
   "execution_count": 730,
   "metadata": {},
   "outputs": [
    {
     "data": {
      "text/html": [
       "<div>\n",
       "<style scoped>\n",
       "    .dataframe tbody tr th:only-of-type {\n",
       "        vertical-align: middle;\n",
       "    }\n",
       "\n",
       "    .dataframe tbody tr th {\n",
       "        vertical-align: top;\n",
       "    }\n",
       "\n",
       "    .dataframe thead th {\n",
       "        text-align: right;\n",
       "    }\n",
       "</style>\n",
       "<table border=\"1\" class=\"dataframe\">\n",
       "  <thead>\n",
       "    <tr style=\"text-align: right;\">\n",
       "      <th></th>\n",
       "      <th>Acc</th>\n",
       "      <th>F1</th>\n",
       "    </tr>\n",
       "    <tr>\n",
       "      <th>Model</th>\n",
       "      <th></th>\n",
       "      <th></th>\n",
       "    </tr>\n",
       "  </thead>\n",
       "  <tbody>\n",
       "    <tr>\n",
       "      <th>GradientB</th>\n",
       "      <td>0.819866</td>\n",
       "      <td>0.755857</td>\n",
       "    </tr>\n",
       "    <tr>\n",
       "      <th>LGBMClass</th>\n",
       "      <td>0.808978</td>\n",
       "      <td>0.741893</td>\n",
       "    </tr>\n",
       "    <tr>\n",
       "      <th>LogisticR</th>\n",
       "      <td>0.812345</td>\n",
       "      <td>0.749132</td>\n",
       "    </tr>\n",
       "    <tr>\n",
       "      <th>RandomFor</th>\n",
       "      <td>0.806736</td>\n",
       "      <td>0.739300</td>\n",
       "    </tr>\n",
       "  </tbody>\n",
       "</table>\n",
       "</div>"
      ],
      "text/plain": [
       "                Acc        F1\n",
       "Model                        \n",
       "GradientB  0.819866  0.755857\n",
       "LGBMClass  0.808978  0.741893\n",
       "LogisticR  0.812345  0.749132\n",
       "RandomFor  0.806736  0.739300"
      ]
     },
     "execution_count": 730,
     "metadata": {},
     "output_type": "execute_result"
    }
   ],
   "source": [
    "df_scores_kf.groupby('Model').mean()"
   ]
  },
  {
   "cell_type": "code",
   "execution_count": null,
   "metadata": {},
   "outputs": [],
   "source": [
    "# Data without Scaler\n",
    "t_t_split      Acc\t      F1\n",
    "Model\t\t\n",
    "GradientB\t0.816962\t0.750865\n",
    "LGBMClass\t0.807332\t0.739223\n",
    "LogisticR\t0.808655\t0.744196\n",
    "RandomFor\t0.807601\t0.740010\n",
    "\n",
    "KFold\t       Acc\t      F1\n",
    "Model\t\t\n",
    "GradientB\t0.819866\t0.755857\n",
    "LGBMClass\t0.808978\t0.741893\n",
    "LogisticR\t0.812345\t0.749132\n",
    "RandomFor\t0.806736\t0.739300"
   ]
  },
  {
   "cell_type": "code",
   "execution_count": 731,
   "metadata": {},
   "outputs": [],
   "source": [
    "#pylab.hist(result_kf)"
   ]
  },
  {
   "cell_type": "markdown",
   "metadata": {
    "colab_type": "text",
    "id": "mOQB-qDvY6Ts"
   },
   "source": [
    "### Optimization Models"
   ]
  },
  {
   "cell_type": "markdown",
   "metadata": {},
   "source": [
    "### Parameters"
   ]
  },
  {
   "cell_type": "code",
   "execution_count": 482,
   "metadata": {
    "colab": {},
    "colab_type": "code",
    "id": "Ji8CCkh_dMzl",
    "jupyter": {
     "source_hidden": true
    }
   },
   "outputs": [],
   "source": [
    "max_depth = [int(x) for x in np.linspace(1, 110)]\n",
    "max_depth.append(None)\n",
    "n_estimators = [int(x) for x in np.linspace(start = 50, stop = 10000, num = 1000)]\n",
    "random_state = (0, 301)\n",
    "learning_rate = (1e-4, 1e-1, 'log-uniform')\n",
    "num_leaves = (1, 164)\n",
    "min_child_samples = (1, 150)\n",
    "subsample = (0.05, 1.0)\n",
    "colsample_bytree = (0.1, 1.0)\n",
    "max_features = ['auto', 'sqrt']\n",
    "min_samples_split = [2, 3, 4, 5, 6, 7, 10, 12, 15]\n",
    "min_samples_leaf = [1, 2, 4, 6, 8, 10, 13, 14]\n",
    "bootstrap = [True, False]\n",
    "penalty = ('l1, l2')\n",
    "fit_intercept = [True, False]\n",
    "intercept_scaling = (1e-4, 10e-0)\n",
    "max_iter = [int(x) for x in np.linspace(start = 5, stop = 400, num = 100)]\n",
    "dual = [True,False]\n",
    "C = np.logspace(-4, 4, 20)"
   ]
  },
  {
   "cell_type": "code",
   "execution_count": 483,
   "metadata": {
    "colab": {},
    "colab_type": "code",
    "id": "xYZm3PnkiW6N",
    "jupyter": {
     "source_hidden": true
    }
   },
   "outputs": [],
   "source": [
    "space = [C, max_iter]"
   ]
  },
  {
   "cell_type": "code",
   "execution_count": 450,
   "metadata": {
    "colab": {
     "base_uri": "https://localhost:8080/",
     "height": 34
    },
    "colab_type": "code",
    "collapsed": true,
    "id": "-AIz-vPkBEmu",
    "jupyter": {
     "outputs_hidden": true,
     "source_hidden": true
    },
    "outputId": "8ede7917-793d-4845-fd5f-5d70a8ed3df8"
   },
   "outputs": [
    {
     "ename": "IndexError",
     "evalue": "list index out of range",
     "output_type": "error",
     "traceback": [
      "\u001b[1;31m---------------------------------------------------------------------------\u001b[0m",
      "\u001b[1;31mIndexError\u001b[0m                                Traceback (most recent call last)",
      "\u001b[1;32m<ipython-input-450-7bfb17aaa9e5>\u001b[0m in \u001b[0;36m<module>\u001b[1;34m\u001b[0m\n\u001b[0;32m     26\u001b[0m \u001b[1;33m\u001b[0m\u001b[0m\n\u001b[0;32m     27\u001b[0m     \u001b[1;32mreturn\u001b[0m \u001b[0mf1\u001b[0m\u001b[1;33m,\u001b[0m \u001b[0mroc\u001b[0m\u001b[1;33m,\u001b[0m \u001b[0macc\u001b[0m\u001b[1;33m,\u001b[0m \u001b[0mlog\u001b[0m\u001b[1;33m\u001b[0m\u001b[1;33m\u001b[0m\u001b[0m\n\u001b[1;32m---> 28\u001b[1;33m \u001b[0mmodel_RF\u001b[0m\u001b[1;33m(\u001b[0m\u001b[0mXtrain\u001b[0m\u001b[1;33m,\u001b[0m \u001b[0mXvalid\u001b[0m\u001b[1;33m,\u001b[0m \u001b[0mytrain\u001b[0m\u001b[1;33m,\u001b[0m \u001b[0myvalid\u001b[0m\u001b[1;33m,\u001b[0m \u001b[0mparameters\u001b[0m\u001b[1;33m)\u001b[0m\u001b[1;33m\u001b[0m\u001b[1;33m\u001b[0m\u001b[0m\n\u001b[0m",
      "\u001b[1;32m<ipython-input-450-7bfb17aaa9e5>\u001b[0m in \u001b[0;36mmodel_RF\u001b[1;34m(Xtrain, Xvalid, ytrain, yvalid, params)\u001b[0m\n\u001b[0;32m      3\u001b[0m     \u001b[0mmax_depth\u001b[0m \u001b[1;33m=\u001b[0m \u001b[0mparams\u001b[0m\u001b[1;33m[\u001b[0m\u001b[1;36m0\u001b[0m\u001b[1;33m]\u001b[0m\u001b[1;33m\u001b[0m\u001b[1;33m\u001b[0m\u001b[0m\n\u001b[0;32m      4\u001b[0m     \u001b[0mrandom_state\u001b[0m\u001b[1;33m=\u001b[0m \u001b[0mparams\u001b[0m\u001b[1;33m[\u001b[0m\u001b[1;36m1\u001b[0m\u001b[1;33m]\u001b[0m\u001b[1;33m\u001b[0m\u001b[1;33m\u001b[0m\u001b[0m\n\u001b[1;32m----> 5\u001b[1;33m     \u001b[0mn_estimators\u001b[0m \u001b[1;33m=\u001b[0m \u001b[0mparams\u001b[0m\u001b[1;33m[\u001b[0m\u001b[1;36m2\u001b[0m\u001b[1;33m]\u001b[0m\u001b[1;33m\u001b[0m\u001b[1;33m\u001b[0m\u001b[0m\n\u001b[0m\u001b[0;32m      6\u001b[0m     \u001b[0mmax_features\u001b[0m \u001b[1;33m=\u001b[0m \u001b[0mparams\u001b[0m\u001b[1;33m[\u001b[0m\u001b[1;36m3\u001b[0m\u001b[1;33m]\u001b[0m\u001b[1;33m\u001b[0m\u001b[1;33m\u001b[0m\u001b[0m\n\u001b[0;32m      7\u001b[0m     \u001b[0mmin_samples_split\u001b[0m \u001b[1;33m=\u001b[0m \u001b[0mparams\u001b[0m\u001b[1;33m[\u001b[0m\u001b[1;36m4\u001b[0m\u001b[1;33m]\u001b[0m\u001b[1;33m\u001b[0m\u001b[1;33m\u001b[0m\u001b[0m\n",
      "\u001b[1;31mIndexError\u001b[0m: list index out of range"
     ]
    }
   ],
   "source": [
    "def model_RF(Xtrain, Xvalid, ytrain, yvalid, params):\n",
    "\n",
    "    max_depth = params[0]\n",
    "    random_state= params[1]\n",
    "    n_estimators = params[2]\n",
    "    max_features = params[3]\n",
    "    min_samples_split = params[4]\n",
    "    min_samples_leaf = params[5]\n",
    "    bootstrap = params[6]\n",
    "\n",
    "    mdl = RandomForestClassifier(n_estimators=n_estimators, max_depth=max_depth,\n",
    "                                 random_state=random_state, \n",
    "                                 max_features=max_features, \n",
    "                                 min_samples_split=min_samples_split,\n",
    "                                 min_samples_leaf=min_samples_leaf,\n",
    "                                 bootstrap=bootstrap, n_jobs=-1)\n",
    "    mdl.fit(Xtrain, ytrain)\n",
    "\n",
    "    pred = mdl.predict(Xvalid)\n",
    "    yscore = mdl.predict_proba(Xvalid)[:, 1]\n",
    "\n",
    "    f1 = f1_score(yvalid, pred)\n",
    "    roc = roc_auc_score(yvalid, yscore)\n",
    "    acc = np.mean(yvalid == pred)\n",
    "    log = log_loss(yvalid, pred)\n",
    "\n",
    "    return f1, roc, acc, log\n",
    "model_RF(Xtrain, Xvalid, ytrain, yvalid, parameters)"
   ]
  },
  {
   "cell_type": "markdown",
   "metadata": {
    "colab_type": "text",
    "id": "sp8OZckzLYsc"
   },
   "source": [
    "### GBDT"
   ]
  },
  {
   "cell_type": "code",
   "execution_count": 353,
   "metadata": {
    "colab": {
     "base_uri": "https://localhost:8080/",
     "height": 34
    },
    "colab_type": "code",
    "id": "7DBifzlLN64E",
    "jupyter": {
     "source_hidden": true
    },
    "outputId": "f4c8a146-5253-4fdd-fddd-94e525e3c626"
   },
   "outputs": [
    {
     "data": {
      "text/plain": [
       "(0.7402985074626866, 0.866566265060241, 0.804932735426009, 6.7374653099587185)"
      ]
     },
     "execution_count": 353,
     "metadata": {},
     "output_type": "execute_result"
    }
   ],
   "source": [
    "def model_GBDT(Xtrain, Xvalid, ytrain, yvalid, params):\n",
    "    max_depth = params[0]\n",
    "    random_state= params[1]\n",
    "    n_estimators = params[2]\n",
    "    max_features = params[3]\n",
    "    min_samples_split = params[4]\n",
    "    min_samples_leaf = params[5]\n",
    "    learning_rate = params[6]\n",
    "    subsample = params[7]\n",
    "\n",
    "    mdl = GradientBoostingClassifier(max_depth=max_depth,\n",
    "                                     random_state=random_state,\n",
    "                                     n_estimators=n_estimators,\n",
    "                                     max_features=max_features,\n",
    "                                     min_samples_split=min_samples_split,\n",
    "                                     min_samples_leaf=min_samples_leaf,\n",
    "                                     learning_rate=learning_rate,\n",
    "                                     subsample=subsample)\n",
    "    \n",
    "    mdl.fit(Xtrain, ytrain)\n",
    "\n",
    "    pred = mdl.predict(Xvalid)\n",
    "    yscore = mdl.predict_proba(Xvalid)[:, 1]\n",
    "\n",
    "    f1 = f1_score(yvalid, pred)\n",
    "    roc = roc_auc_score(yvalid, yscore)\n",
    "    acc = np.mean(yvalid == pred)\n",
    "    log = log_loss(yvalid, pred)\n",
    "\n",
    "    return f1, roc, acc, log\n",
    "\n",
    "model_GBDT(Xtrain, Xvalid, ytrain, yvalid, parameters)"
   ]
  },
  {
   "cell_type": "markdown",
   "metadata": {
    "colab_type": "text",
    "id": "G5SlTe4fLYOB"
   },
   "source": [
    "### LGBM"
   ]
  },
  {
   "cell_type": "code",
   "execution_count": 179,
   "metadata": {
    "colab": {
     "base_uri": "https://localhost:8080/",
     "height": 34
    },
    "colab_type": "code",
    "id": "99A63T0VKFy3",
    "jupyter": {
     "source_hidden": true
    },
    "outputId": "035b3c5f-e690-4ab5-937d-ec8d872ed1cf"
   },
   "outputs": [
    {
     "data": {
      "text/plain": [
       "(0.7582089552238807, 0.8537918010524529, 0.8183856502242153, 6.272801958509535)"
      ]
     },
     "execution_count": 179,
     "metadata": {},
     "output_type": "execute_result"
    }
   ],
   "source": [
    "def model_LGBM(Xtrain, Xvalid, ytrain, yvalid, params):\n",
    "    max_depth = params[0]\n",
    "    random_state= params[1]\n",
    "    n_estimators = params[2]\n",
    "    max_features = params[3]\n",
    "    min_samples_split = params[4]\n",
    "    min_samples_leaf = params[5]\n",
    "    learning_rate = params[6]\n",
    "    subsample = params[7]\n",
    "\n",
    "    mdl = LGBMClassifier(max_depth=max_depth,\n",
    "                                     random_state=random_state,\n",
    "                                     n_estimators=n_estimators,\n",
    "                                     max_features=max_features,\n",
    "                                     min_samples_split=min_samples_split,\n",
    "                                     min_samples_leaf=min_samples_leaf,\n",
    "                                     learning_rate=learning_rate,\n",
    "                                     subsample=subsample)\n",
    "    mdl.fit(Xtrain, ytrain)\n",
    "\n",
    "    pred = mdl.predict(Xvalid)\n",
    "    yscore = mdl.predict_proba(Xvalid)[:, 1]\n",
    "\n",
    "    f1 = f1_score(yvalid, pred)\n",
    "    roc = roc_auc_score(yvalid, yscore)\n",
    "    acc = np.mean(yvalid == pred)\n",
    "    log = log_loss(yvalid, pred)\n",
    "\n",
    "    return f1, roc, acc, log\n",
    "model_LGBM(Xtrain, Xvalid, ytrain, yvalid, parameters)"
   ]
  },
  {
   "cell_type": "markdown",
   "metadata": {
    "colab_type": "text",
    "id": "_KilUNmrfT43"
   },
   "source": [
    "### Logistic Regression"
   ]
  },
  {
   "cell_type": "code",
   "execution_count": 503,
   "metadata": {
    "colab": {
     "base_uri": "https://localhost:8080/",
     "height": 190
    },
    "colab_type": "code",
    "collapsed": true,
    "id": "sfefJwmxfKju",
    "jupyter": {
     "outputs_hidden": true,
     "source_hidden": true
    },
    "outputId": "5e6f4e68-2e61-47e7-d103-8d617c8a988d"
   },
   "outputs": [
    {
     "name": "stdout",
     "output_type": "stream",
     "text": [
      "Iteration No: 1 started. Evaluating function at random point.\n",
      "[10000.0, 376]\n",
      "Iteration No: 1 ended. Evaluation done at random point.\n",
      "Time taken: 0.0220\n",
      "Function value obtained: -0.7485\n",
      "Current minimum: -0.7485\n",
      "Iteration No: 2 started. Evaluating function at random point.\n",
      "[0.0006951927961775605, 400]\n",
      "Iteration No: 2 ended. Evaluation done at random point.\n",
      "Time taken: 0.0120\n",
      "Function value obtained: -0.4945\n",
      "Current minimum: -0.7485\n",
      "Iteration No: 3 started. Evaluating function at random point.\n",
      "[0.004832930238571752, 160]\n",
      "Iteration No: 3 ended. Evaluation done at random point.\n",
      "Time taken: 0.0110\n",
      "Function value obtained: -0.5037\n",
      "Current minimum: -0.7485\n",
      "Iteration No: 4 started. Evaluating function at random point.\n",
      "[0.08858667904100823, 268]\n",
      "Iteration No: 4 ended. Evaluation done at random point.\n",
      "Time taken: 0.0109\n",
      "Function value obtained: -0.7175\n",
      "Current minimum: -0.7485\n",
      "Iteration No: 5 started. Evaluating function at random point.\n",
      "[3792.690190732246, 340]\n",
      "Iteration No: 5 ended. Evaluation done at random point.\n",
      "Time taken: 0.0224\n",
      "Function value obtained: -0.7042\n",
      "Current minimum: -0.7485\n",
      "Iteration No: 6 started. Evaluating function at random point.\n",
      "[0.03359818286283781, 212]\n",
      "Iteration No: 6 ended. Evaluation done at random point.\n",
      "Time taken: 0.0100\n",
      "Function value obtained: -0.6710\n",
      "Current minimum: -0.7485\n",
      "Iteration No: 7 started. Evaluating function at random point.\n",
      "[0.23357214690901212, 92]\n",
      "Iteration No: 7 ended. Evaluation done at random point.\n",
      "Time taken: 0.0209\n",
      "Function value obtained: -0.7702\n",
      "Current minimum: -0.7702\n",
      "Iteration No: 8 started. Evaluating function at random point.\n",
      "[1.623776739188721, 368]\n",
      "Iteration No: 8 ended. Evaluation done at random point.\n",
      "Time taken: 0.0140\n",
      "Function value obtained: -0.7821\n",
      "Current minimum: -0.7821\n",
      "Iteration No: 9 started. Evaluating function at random point.\n",
      "[0.615848211066026, 176]\n",
      "Iteration No: 9 ended. Evaluation done at random point.\n",
      "Time taken: 0.0170\n",
      "Function value obtained: -0.7731\n",
      "Current minimum: -0.7821\n",
      "Iteration No: 10 started. Evaluating function at random point.\n",
      "[3792.690190732246, 312]\n",
      "Iteration No: 10 ended. Evaluation done at random point.\n",
      "Time taken: 0.0180\n",
      "Function value obtained: -0.7500\n",
      "Current minimum: -0.7821\n",
      "Iteration No: 11 started. Evaluating function at random point.\n",
      "[78.47599703514607, 324]\n",
      "Iteration No: 11 ended. Evaluation done at random point.\n",
      "Time taken: 0.0239\n",
      "Function value obtained: -0.7493\n",
      "Current minimum: -0.7821\n",
      "Iteration No: 12 started. Evaluating function at random point.\n",
      "[0.00026366508987303583, 208]\n",
      "Iteration No: 12 ended. Evaluation done at random point.\n",
      "Time taken: 0.0381\n",
      "Function value obtained: -0.4609\n",
      "Current minimum: -0.7821\n",
      "Iteration No: 13 started. Evaluating function at random point.\n",
      "[1438.44988828766, 332]\n",
      "Iteration No: 13 ended. Evaluation done at random point.\n",
      "Time taken: 0.0239\n",
      "Function value obtained: -0.7250\n",
      "Current minimum: -0.7821\n",
      "Iteration No: 14 started. Evaluating function at random point.\n",
      "[545.5594781168514, 112]\n",
      "Iteration No: 14 ended. Evaluation done at random point.\n",
      "Time taken: 0.0199\n",
      "Function value obtained: -0.7584\n",
      "Current minimum: -0.7821\n",
      "Iteration No: 15 started. Evaluating function at random point.\n",
      "[0.00026366508987303583, 272]\n",
      "Iteration No: 15 ended. Evaluation done at random point.\n",
      "Time taken: 0.0140\n",
      "Function value obtained: -0.4535\n",
      "Current minimum: -0.7821\n",
      "Iteration No: 16 started. Evaluating function at random point.\n",
      "[4.281332398719396, 272]\n",
      "Iteration No: 16 ended. Evaluation done at random point.\n",
      "Time taken: 0.0160\n",
      "Function value obtained: -0.7666\n",
      "Current minimum: -0.7821\n",
      "Iteration No: 17 started. Evaluating function at random point.\n",
      "[0.23357214690901212, 80]\n",
      "Iteration No: 17 ended. Evaluation done at random point.\n",
      "Time taken: 0.0170\n",
      "Function value obtained: -0.7121\n",
      "Current minimum: -0.7821\n",
      "Iteration No: 18 started. Evaluating function at random point.\n",
      "[0.012742749857031334, 60]\n",
      "Iteration No: 18 ended. Evaluation done at random point.\n",
      "Time taken: 0.0140\n",
      "Function value obtained: -0.5852\n",
      "Current minimum: -0.7821\n",
      "Iteration No: 19 started. Evaluating function at random point.\n",
      "[206.913808111479, 168]\n",
      "Iteration No: 19 ended. Evaluation done at random point.\n",
      "Time taken: 0.0084\n",
      "Function value obtained: -0.6818\n",
      "Current minimum: -0.7821\n",
      "Iteration No: 20 started. Evaluating function at random point.\n",
      "[0.0001, 252]\n",
      "Iteration No: 20 ended. Evaluation done at random point.\n",
      "Time taken: 0.0156\n",
      "Function value obtained: -0.4370\n",
      "Current minimum: -0.7821\n",
      "Iteration No: 21 started. Evaluating function at random point.\n",
      "[29.763514416313132, 120]\n",
      "Iteration No: 21 ended. Evaluation done at random point.\n",
      "Time taken: 0.0156\n",
      "Function value obtained: -0.7514\n",
      "Current minimum: -0.7821\n",
      "Iteration No: 22 started. Evaluating function at random point.\n",
      "[0.23357214690901212, 92]\n",
      "Iteration No: 22 ended. Evaluation done at random point.\n",
      "Time taken: 0.0156\n",
      "Function value obtained: -0.7638\n",
      "Current minimum: -0.7821\n",
      "Iteration No: 23 started. Evaluating function at random point.\n",
      "[0.00026366508987303583, 188]\n",
      "Iteration No: 23 ended. Evaluation done at random point.\n",
      "Time taken: 0.0156\n",
      "Function value obtained: -0.4948\n",
      "Current minimum: -0.7821\n",
      "Iteration No: 24 started. Evaluating function at random point.\n",
      "[0.00026366508987303583, 364]\n",
      "Iteration No: 24 ended. Evaluation done at random point.\n",
      "Time taken: 0.0156\n",
      "Function value obtained: -0.4380\n",
      "Current minimum: -0.7821\n",
      "Iteration No: 25 started. Evaluating function at random point.\n",
      "[0.0006951927961775605, 212]\n",
      "Iteration No: 25 ended. Evaluation done at random point.\n",
      "Time taken: 0.0156\n",
      "Function value obtained: -0.4615\n",
      "Current minimum: -0.7821\n",
      "Iteration No: 26 started. Evaluating function at random point.\n",
      "[0.00026366508987303583, 368]\n",
      "Iteration No: 26 ended. Evaluation done at random point.\n",
      "Time taken: 0.0156\n",
      "Function value obtained: -0.5348\n",
      "Current minimum: -0.7821\n",
      "Iteration No: 27 started. Evaluating function at random point.\n",
      "[3792.690190732246, 120]\n",
      "Iteration No: 27 ended. Evaluation done at random point.\n",
      "Time taken: 0.0156\n",
      "Function value obtained: -0.7546\n",
      "Current minimum: -0.7821\n",
      "Iteration No: 28 started. Evaluating function at random point.\n",
      "[4.281332398719396, 228]\n",
      "Iteration No: 28 ended. Evaluation done at random point.\n",
      "Time taken: 0.0156\n",
      "Function value obtained: -0.7544\n",
      "Current minimum: -0.7821\n",
      "Iteration No: 29 started. Evaluating function at random point.\n",
      "[11.288378916846883, 384]\n",
      "Iteration No: 29 ended. Evaluation done at random point.\n",
      "Time taken: 0.0156\n",
      "Function value obtained: -0.7692\n",
      "Current minimum: -0.7821\n",
      "Iteration No: 30 started. Evaluating function at random point.\n",
      "[0.012742749857031334, 96]\n",
      "Iteration No: 30 ended. Evaluation done at random point.\n",
      "Time taken: 0.0332\n",
      "Function value obtained: -0.5420\n",
      "Current minimum: -0.7821\n",
      "Iteration No: 31 started. Evaluating function at random point.\n",
      "[1.623776739188721, 380]\n",
      "Iteration No: 31 ended. Evaluation done at random point.\n",
      "Time taken: 0.0170\n",
      "Function value obtained: -0.7041\n",
      "Current minimum: -0.7821\n",
      "Iteration No: 32 started. Evaluating function at random point.\n",
      "[0.615848211066026, 220]\n",
      "Iteration No: 32 ended. Evaluation done at random point.\n",
      "Time taken: 0.0150\n",
      "Function value obtained: -0.7683\n",
      "Current minimum: -0.7821\n",
      "Iteration No: 33 started. Evaluating function at random point.\n",
      "[206.913808111479, 20]\n",
      "Iteration No: 33 ended. Evaluation done at random point.\n",
      "Time taken: 0.0170\n",
      "Function value obtained: -0.7634\n",
      "Current minimum: -0.7821\n",
      "Iteration No: 34 started. Evaluating function at random point.\n",
      "[0.0006951927961775605, 320]\n",
      "Iteration No: 34 ended. Evaluation done at random point.\n",
      "Time taken: 0.0140\n",
      "Function value obtained: -0.4672\n",
      "Current minimum: -0.7821\n",
      "Iteration No: 35 started. Evaluating function at random point.\n",
      "[0.0001, 356]\n",
      "Iteration No: 35 ended. Evaluation done at random point.\n",
      "Time taken: 0.0120\n",
      "Function value obtained: -0.4460\n",
      "Current minimum: -0.7821\n",
      "Iteration No: 36 started. Evaluating function at random point.\n",
      "[1.623776739188721, 180]\n",
      "Iteration No: 36 ended. Evaluation done at random point.\n",
      "Time taken: 0.0150\n",
      "Function value obtained: -0.7829\n",
      "Current minimum: -0.7829\n",
      "Iteration No: 37 started. Evaluating function at random point.\n",
      "[1438.44988828766, 152]\n",
      "Iteration No: 37 ended. Evaluation done at random point.\n",
      "Time taken: 0.0160\n",
      "Function value obtained: -0.7594\n",
      "Current minimum: -0.7829\n",
      "Iteration No: 38 started. Evaluating function at random point.\n",
      "[1.623776739188721, 264]\n",
      "Iteration No: 38 ended. Evaluation done at random point.\n",
      "Time taken: 0.0140\n",
      "Function value obtained: -0.7818\n",
      "Current minimum: -0.7829\n",
      "Iteration No: 39 started. Evaluating function at random point.\n",
      "[0.08858667904100823, 232]\n",
      "Iteration No: 39 ended. Evaluation done at random point.\n",
      "Time taken: 0.0130\n",
      "Function value obtained: -0.7190\n",
      "Current minimum: -0.7829\n",
      "Iteration No: 40 started. Evaluating function at random point.\n",
      "[11.288378916846883, 52]\n",
      "Iteration No: 40 ended. Evaluation done at random point.\n",
      "Time taken: 0.0120\n",
      "Function value obtained: -0.7543\n",
      "Current minimum: -0.7829\n",
      "Iteration No: 41 started. Evaluating function at random point.\n",
      "[29.763514416313132, 260]\n",
      "Iteration No: 41 ended. Evaluation done at random point.\n",
      "Time taken: 0.0120\n",
      "Function value obtained: -0.7553\n",
      "Current minimum: -0.7829\n",
      "Iteration No: 42 started. Evaluating function at random point.\n",
      "[0.08858667904100823, 308]\n",
      "Iteration No: 42 ended. Evaluation done at random point.\n",
      "Time taken: 0.0081\n",
      "Function value obtained: -0.7103\n",
      "Current minimum: -0.7829\n",
      "Iteration No: 43 started. Evaluating function at random point.\n",
      "[0.08858667904100823, 304]\n",
      "Iteration No: 43 ended. Evaluation done at random point.\n",
      "Time taken: 0.0000\n",
      "Function value obtained: -0.7126\n",
      "Current minimum: -0.7829\n",
      "Iteration No: 44 started. Evaluating function at random point.\n",
      "[1438.44988828766, 8]\n",
      "Iteration No: 44 ended. Evaluation done at random point.\n",
      "Time taken: 0.0156\n",
      "Function value obtained: -0.7755\n",
      "Current minimum: -0.7829\n",
      "Iteration No: 45 started. Evaluating function at random point.\n",
      "[0.615848211066026, 32]\n",
      "Iteration No: 45 ended. Evaluation done at random point.\n",
      "Time taken: 0.0156\n",
      "Function value obtained: -0.7500\n",
      "Current minimum: -0.7829\n",
      "Iteration No: 46 started. Evaluating function at random point.\n"
     ]
    },
    {
     "name": "stderr",
     "output_type": "stream",
     "text": [
      "C:\\Users\\diego.mayer\\AppData\\Local\\Continuum\\anaconda3\\lib\\site-packages\\sklearn\\svm\\_base.py:947: ConvergenceWarning: Liblinear failed to converge, increase the number of iterations.\n",
      "  \"the number of iterations.\", ConvergenceWarning)\n",
      "C:\\Users\\diego.mayer\\AppData\\Local\\Continuum\\anaconda3\\lib\\site-packages\\sklearn\\svm\\_base.py:947: ConvergenceWarning: Liblinear failed to converge, increase the number of iterations.\n",
      "  \"the number of iterations.\", ConvergenceWarning)\n"
     ]
    },
    {
     "name": "stdout",
     "output_type": "stream",
     "text": [
      "[206.913808111479, 28]\n",
      "Iteration No: 46 ended. Evaluation done at random point.\n",
      "Time taken: 0.0227\n",
      "Function value obtained: -0.7493\n",
      "Current minimum: -0.7829\n",
      "Iteration No: 47 started. Evaluating function at random point.\n",
      "[0.08858667904100823, 380]\n",
      "Iteration No: 47 ended. Evaluation done at random point.\n",
      "Time taken: 0.0140\n",
      "Function value obtained: -0.7010\n",
      "Current minimum: -0.7829\n",
      "Iteration No: 48 started. Evaluating function at random point.\n",
      "[0.08858667904100823, 308]\n",
      "Iteration No: 48 ended. Evaluation done at random point.\n",
      "Time taken: 0.0100\n",
      "Function value obtained: -0.7024\n",
      "Current minimum: -0.7829\n",
      "Iteration No: 49 started. Evaluating function at random point.\n",
      "[206.913808111479, 124]\n",
      "Iteration No: 49 ended. Evaluation done at random point.\n",
      "Time taken: 0.0150\n",
      "Function value obtained: -0.7355\n",
      "Current minimum: -0.7829\n",
      "Iteration No: 50 started. Evaluating function at random point.\n",
      "[206.913808111479, 64]\n",
      "Iteration No: 50 ended. Evaluation done at random point.\n",
      "Time taken: 0.0160\n",
      "Function value obtained: -0.7209\n",
      "Current minimum: -0.7829\n",
      "Iteration No: 51 started. Evaluating function at random point.\n",
      "[4.281332398719396, 5]\n",
      "Iteration No: 51 ended. Evaluation done at random point.\n",
      "Time taken: 0.0140\n",
      "Function value obtained: -0.5149\n",
      "Current minimum: -0.7829\n",
      "Iteration No: 52 started. Evaluating function at random point.\n",
      "[78.47599703514607, 192]\n",
      "Iteration No: 52 ended. Evaluation done at random point.\n",
      "Time taken: 0.0160\n",
      "Function value obtained: -0.7719\n",
      "Current minimum: -0.7829\n",
      "Iteration No: 53 started. Evaluating function at random point.\n",
      "[206.913808111479, 188]\n",
      "Iteration No: 53 ended. Evaluation done at random point.\n",
      "Time taken: 0.0120\n",
      "Function value obtained: -0.7537\n",
      "Current minimum: -0.7829\n",
      "Iteration No: 54 started. Evaluating function at random point.\n",
      "[0.012742749857031334, 336]\n",
      "Iteration No: 54 ended. Evaluation done at random point.\n",
      "Time taken: 0.0090\n",
      "Function value obtained: -0.5649\n",
      "Current minimum: -0.7829\n",
      "Iteration No: 55 started. Evaluating function at random point.\n",
      "[4.281332398719396, 32]\n",
      "Iteration No: 55 ended. Evaluation done at random point.\n",
      "Time taken: 0.0000\n",
      "Function value obtained: -0.7539\n",
      "Current minimum: -0.7829\n",
      "Iteration No: 56 started. Evaluating function at random point.\n",
      "[0.615848211066026, 300]\n",
      "Iteration No: 56 ended. Evaluation done at random point.\n",
      "Time taken: 0.0156\n",
      "Function value obtained: -0.7178\n",
      "Current minimum: -0.7829\n",
      "Iteration No: 57 started. Evaluating function at random point.\n",
      "[0.0018329807108324356, 188]\n",
      "Iteration No: 57 ended. Evaluation done at random point.\n",
      "Time taken: 0.0156\n",
      "Function value obtained: -0.4867\n",
      "Current minimum: -0.7829\n",
      "Iteration No: 58 started. Evaluating function at random point.\n",
      "[0.004832930238571752, 204]\n",
      "Iteration No: 58 ended. Evaluation done at random point.\n",
      "Time taken: 0.0161\n",
      "Function value obtained: -0.5039\n",
      "Current minimum: -0.7829\n",
      "Iteration No: 59 started. Evaluating function at random point.\n",
      "[0.004832930238571752, 20]\n",
      "Iteration No: 59 ended. Evaluation done at random point.\n",
      "Time taken: 0.0100\n",
      "Function value obtained: -0.5353\n",
      "Current minimum: -0.7829\n",
      "Iteration No: 60 started. Evaluating function at random point.\n",
      "[1.623776739188721, 72]\n",
      "Iteration No: 60 ended. Evaluation done at random point.\n",
      "Time taken: 0.0160\n",
      "Function value obtained: -0.7356\n",
      "Current minimum: -0.7829\n",
      "Iteration No: 61 started. Evaluating function at random point.\n",
      "[0.08858667904100823, 44]\n",
      "Iteration No: 61 ended. Evaluation done at random point.\n",
      "Time taken: 0.0140\n",
      "Function value obtained: -0.7508\n",
      "Current minimum: -0.7829\n",
      "Iteration No: 62 started. Evaluating function at random point.\n",
      "[1.623776739188721, 44]\n",
      "Iteration No: 62 ended. Evaluation done at random point.\n",
      "Time taken: 0.0160\n",
      "Function value obtained: -0.7772\n",
      "Current minimum: -0.7829\n",
      "Iteration No: 63 started. Evaluating function at random point.\n",
      "[0.012742749857031334, 96]\n",
      "Iteration No: 63 ended. Evaluation done at random point.\n",
      "Time taken: 0.0130\n",
      "Function value obtained: -0.5745\n",
      "Current minimum: -0.7829\n",
      "Iteration No: 64 started. Evaluating function at random point.\n",
      "[10000.0, 112]\n",
      "Iteration No: 64 ended. Evaluation done at random point.\n",
      "Time taken: 0.0170\n",
      "Function value obtained: -0.7568\n",
      "Current minimum: -0.7829\n",
      "Iteration No: 65 started. Evaluating function at random point.\n",
      "[0.004832930238571752, 40]\n",
      "Iteration No: 65 ended. Evaluation done at random point.\n",
      "Time taken: 0.0120\n",
      "Function value obtained: -0.4943\n",
      "Current minimum: -0.7829\n",
      "Iteration No: 66 started. Evaluating function at random point.\n",
      "[4.281332398719396, 168]\n",
      "Iteration No: 66 ended. Evaluation done at random point.\n",
      "Time taken: 0.0120\n",
      "Function value obtained: -0.7341\n",
      "Current minimum: -0.7829\n",
      "Iteration No: 67 started. Evaluating function at random point.\n",
      "[0.08858667904100823, 328]\n",
      "Iteration No: 67 ended. Evaluation done at random point.\n",
      "Time taken: 0.0100\n",
      "Function value obtained: -0.7678\n",
      "Current minimum: -0.7829\n",
      "Iteration No: 68 started. Evaluating function at random point.\n",
      "[0.012742749857031334, 288]\n",
      "Iteration No: 68 ended. Evaluation done at random point.\n",
      "Time taken: 0.0052\n",
      "Function value obtained: -0.5848\n",
      "Current minimum: -0.7829\n",
      "Iteration No: 69 started. Evaluating function at random point.\n",
      "[11.288378916846883, 172]\n",
      "Iteration No: 69 ended. Evaluation done at random point.\n",
      "Time taken: 0.0156\n",
      "Function value obtained: -0.7549\n",
      "Current minimum: -0.7829\n",
      "Iteration No: 70 started. Evaluating function at random point.\n",
      "[206.913808111479, 172]\n",
      "Iteration No: 70 ended. Evaluation done at random point.\n",
      "Time taken: 0.0156\n",
      "Function value obtained: -0.7627\n",
      "Current minimum: -0.7829\n",
      "Iteration No: 71 started. Evaluating function at random point.\n",
      "[0.23357214690901212, 148]\n",
      "Iteration No: 71 ended. Evaluation done at random point.\n",
      "Time taken: 0.0000\n",
      "Function value obtained: -0.7594\n",
      "Current minimum: -0.7829\n",
      "Iteration No: 72 started. Evaluating function at random point.\n",
      "[0.0018329807108324356, 376]\n",
      "Iteration No: 72 ended. Evaluation done at random point.\n",
      "Time taken: 0.0000\n",
      "Function value obtained: -0.5447\n",
      "Current minimum: -0.7829\n",
      "Iteration No: 73 started. Evaluating function at random point.\n",
      "[3792.690190732246, 316]\n",
      "Iteration No: 73 ended. Evaluation done at random point.\n",
      "Time taken: 0.0156\n",
      "Function value obtained: -0.7384\n",
      "Current minimum: -0.7829\n",
      "Iteration No: 74 started. Evaluating function at random point.\n",
      "[11.288378916846883, 16]\n",
      "Iteration No: 74 ended. Evaluation done at random point.\n",
      "Time taken: 0.0253\n",
      "Function value obtained: -0.7160\n",
      "Current minimum: -0.7829\n",
      "Iteration No: 75 started. Evaluating function at random point.\n",
      "[29.763514416313132, 52]\n",
      "Iteration No: 75 ended. Evaluation done at random point.\n",
      "Time taken: 0.0110\n",
      "Function value obtained: -0.7477\n",
      "Current minimum: -0.7829\n",
      "Iteration No: 76 started. Evaluating function at random point.\n",
      "[0.012742749857031334, 148]\n",
      "Iteration No: 76 ended. Evaluation done at random point.\n",
      "Time taken: 0.0100\n",
      "Function value obtained: -0.5861\n",
      "Current minimum: -0.7829\n",
      "Iteration No: 77 started. Evaluating function at random point.\n",
      "[0.012742749857031334, 32]\n",
      "Iteration No: 77 ended. Evaluation done at random point.\n",
      "Time taken: 0.0140\n",
      "Function value obtained: -0.5965\n",
      "Current minimum: -0.7829\n",
      "Iteration No: 78 started. Evaluating function at random point.\n",
      "[0.0018329807108324356, 68]\n",
      "Iteration No: 78 ended. Evaluation done at random point.\n",
      "Time taken: 0.0120\n",
      "Function value obtained: -0.5000\n",
      "Current minimum: -0.7829\n",
      "Iteration No: 79 started. Evaluating function at random point.\n",
      "[3792.690190732246, 152]\n",
      "Iteration No: 79 ended. Evaluation done at random point.\n",
      "Time taken: 0.0170\n",
      "Function value obtained: -0.7251\n",
      "Current minimum: -0.7829\n",
      "Iteration No: 80 started. Evaluating function at random point.\n",
      "[0.00026366508987303583, 300]\n",
      "Iteration No: 80 ended. Evaluation done at random point.\n",
      "Time taken: 0.0100\n",
      "Function value obtained: -0.3985\n",
      "Current minimum: -0.7829\n",
      "Iteration No: 81 started. Evaluating function at random point.\n",
      "[0.012742749857031334, 84]\n",
      "Iteration No: 81 ended. Evaluation done at random point.\n",
      "Time taken: 0.0090\n",
      "Function value obtained: -0.5755\n",
      "Current minimum: -0.7829\n",
      "Iteration No: 82 started. Evaluating function at random point.\n",
      "[10000.0, 360]\n",
      "Iteration No: 82 ended. Evaluation done at random point.\n",
      "Time taken: 0.0033\n",
      "Function value obtained: -0.7425\n",
      "Current minimum: -0.7829\n",
      "Iteration No: 83 started. Evaluating function at random point.\n",
      "[206.913808111479, 264]\n",
      "Iteration No: 83 ended. Evaluation done at random point.\n",
      "Time taken: 0.0156\n",
      "Function value obtained: -0.7536\n",
      "Current minimum: -0.7829\n",
      "Iteration No: 84 started. Evaluating function at random point.\n",
      "[0.0001, 328]\n",
      "Iteration No: 84 ended. Evaluation done at random point.\n",
      "Time taken: 0.0156\n",
      "Function value obtained: -0.4674\n",
      "Current minimum: -0.7829\n",
      "Iteration No: 85 started. Evaluating function at random point.\n",
      "[206.913808111479, 184]\n",
      "Iteration No: 85 ended. Evaluation done at random point.\n",
      "Time taken: 0.0156\n",
      "Function value obtained: -0.7143\n",
      "Current minimum: -0.7829\n",
      "Iteration No: 86 started. Evaluating function at random point.\n",
      "[1.623776739188721, 44]\n",
      "Iteration No: 86 ended. Evaluation done at random point.\n",
      "Time taken: 0.0000\n",
      "Function value obtained: -0.7455\n",
      "Current minimum: -0.7829\n",
      "Iteration No: 87 started. Evaluating function at random point.\n",
      "[0.0006951927961775605, 204]\n",
      "Iteration No: 87 ended. Evaluation done at random point.\n",
      "Time taken: 0.0000\n",
      "Function value obtained: -0.4748\n",
      "Current minimum: -0.7829\n",
      "Iteration No: 88 started. Evaluating function at random point.\n",
      "[0.004832930238571752, 368]\n",
      "Iteration No: 88 ended. Evaluation done at random point.\n",
      "Time taken: 0.0156\n",
      "Function value obtained: -0.5058\n",
      "Current minimum: -0.7829\n",
      "Iteration No: 89 started. Evaluating function at random point.\n",
      "[0.615848211066026, 56]\n",
      "Iteration No: 89 ended. Evaluation done at random point.\n",
      "Time taken: 0.0167\n",
      "Function value obtained: -0.7401\n",
      "Current minimum: -0.7829\n",
      "Iteration No: 90 started. Evaluating function at random point.\n",
      "[206.913808111479, 88]\n",
      "Iteration No: 90 ended. Evaluation done at random point.\n",
      "Time taken: 0.0150\n",
      "Function value obtained: -0.7423\n",
      "Current minimum: -0.7829\n",
      "Iteration No: 91 started. Evaluating function at random point.\n",
      "[0.00026366508987303583, 40]\n",
      "Iteration No: 91 ended. Evaluation done at random point.\n",
      "Time taken: 0.0120\n",
      "Function value obtained: -0.4269\n",
      "Current minimum: -0.7829\n",
      "Iteration No: 92 started. Evaluating function at random point.\n",
      "[0.0018329807108324356, 144]\n",
      "Iteration No: 92 ended. Evaluation done at random point.\n",
      "Time taken: 0.0120\n",
      "Function value obtained: -0.4906\n",
      "Current minimum: -0.7829\n",
      "Iteration No: 93 started. Evaluating function at random point.\n",
      "[0.00026366508987303583, 60]\n",
      "Iteration No: 93 ended. Evaluation done at random point.\n",
      "Time taken: 0.0110\n",
      "Function value obtained: -0.4835\n",
      "Current minimum: -0.7829\n",
      "Iteration No: 94 started. Evaluating function at random point.\n",
      "[3792.690190732246, 232]\n",
      "Iteration No: 94 ended. Evaluation done at random point.\n",
      "Time taken: 0.0130\n",
      "Function value obtained: -0.7714\n",
      "Current minimum: -0.7829\n",
      "Iteration No: 95 started. Evaluating function at random point.\n",
      "[545.5594781168514, 252]\n",
      "Iteration No: 95 ended. Evaluation done at random point.\n",
      "Time taken: 0.0160\n",
      "Function value obtained: -0.7666\n",
      "Current minimum: -0.7829\n",
      "Iteration No: 96 started. Evaluating function at random point.\n",
      "[0.03359818286283781, 292]\n",
      "Iteration No: 96 ended. Evaluation done at random point.\n",
      "Time taken: 0.0027\n",
      "Function value obtained: -0.6881\n",
      "Current minimum: -0.7829\n",
      "Iteration No: 97 started. Evaluating function at random point.\n",
      "[1.623776739188721, 296]\n",
      "Iteration No: 97 ended. Evaluation done at random point.\n",
      "Time taken: 0.0156\n",
      "Function value obtained: -0.7562\n",
      "Current minimum: -0.7829\n",
      "Iteration No: 98 started. Evaluating function at random point.\n",
      "[0.0018329807108324356, 276]\n",
      "Iteration No: 98 ended. Evaluation done at random point.\n",
      "Time taken: 0.0156\n",
      "Function value obtained: -0.5283\n",
      "Current minimum: -0.7829\n",
      "Iteration No: 99 started. Evaluating function at random point.\n",
      "[0.23357214690901212, 292]\n",
      "Iteration No: 99 ended. Evaluation done at random point.\n",
      "Time taken: 0.0000\n",
      "Function value obtained: -0.7508\n",
      "Current minimum: -0.7829\n",
      "Iteration No: 100 started. Evaluating function at random point.\n",
      "[206.913808111479, 160]\n",
      "Iteration No: 100 ended. Evaluation done at random point.\n",
      "Time taken: 0.0156\n",
      "Function value obtained: -0.7434\n",
      "Current minimum: -0.7829\n",
      "Iteration No: 101 started. Evaluating function at random point.\n",
      "[3792.690190732246, 84]\n",
      "Iteration No: 101 ended. Evaluation done at random point.\n",
      "Time taken: 0.0156\n",
      "Function value obtained: -0.7268\n",
      "Current minimum: -0.7829\n",
      "Iteration No: 102 started. Evaluating function at random point.\n",
      "[0.0001, 372]\n",
      "Iteration No: 102 ended. Evaluation done at random point.\n",
      "Time taken: 0.0156\n",
      "Function value obtained: -0.4772\n",
      "Current minimum: -0.7829\n",
      "Iteration No: 103 started. Evaluating function at random point.\n",
      "[0.012742749857031334, 68]\n",
      "Iteration No: 103 ended. Evaluation done at random point.\n",
      "Time taken: 0.0156\n",
      "Function value obtained: -0.5882\n",
      "Current minimum: -0.7829\n",
      "Iteration No: 104 started. Evaluating function at random point.\n",
      "[0.0001, 184]\n",
      "Iteration No: 104 ended. Evaluation done at random point.\n",
      "Time taken: 0.0123\n",
      "Function value obtained: -0.4791\n",
      "Current minimum: -0.7829\n",
      "Iteration No: 105 started. Evaluating function at random point.\n",
      "[545.5594781168514, 148]\n",
      "Iteration No: 105 ended. Evaluation done at random point.\n",
      "Time taken: 0.0150\n",
      "Function value obtained: -0.7343\n",
      "Current minimum: -0.7829\n",
      "Iteration No: 106 started. Evaluating function at random point.\n",
      "[11.288378916846883, 16]\n",
      "Iteration No: 106 ended. Evaluation done at random point.\n",
      "Time taken: 0.0130\n",
      "Function value obtained: -0.7848\n",
      "Current minimum: -0.7848\n",
      "Iteration No: 107 started. Evaluating function at random point.\n",
      "[0.08858667904100823, 32]\n",
      "Iteration No: 107 ended. Evaluation done at random point.\n",
      "Time taken: 0.0100\n",
      "Function value obtained: -0.6954\n",
      "Current minimum: -0.7848\n",
      "Iteration No: 108 started. Evaluating function at random point.\n",
      "[29.763514416313132, 8]\n",
      "Iteration No: 108 ended. Evaluation done at random point.\n",
      "Time taken: 0.0140\n",
      "Function value obtained: -0.6688\n",
      "Current minimum: -0.7848\n",
      "Iteration No: 109 started. Evaluating function at random point.\n",
      "[0.615848211066026, 388]\n",
      "Iteration No: 109 ended. Evaluation done at random point.\n",
      "Time taken: 0.0120\n",
      "Function value obtained: -0.7284\n",
      "Current minimum: -0.7848\n",
      "Iteration No: 110 started. Evaluating function at random point.\n",
      "[0.03359818286283781, 192]\n",
      "Iteration No: 110 ended. Evaluation done at random point.\n",
      "Time taken: 0.0150\n",
      "Function value obtained: -0.6486\n",
      "Current minimum: -0.7848\n",
      "Iteration No: 111 started. Evaluating function at random point.\n",
      "[0.0006951927961775605, 204]\n",
      "Iteration No: 111 ended. Evaluation done at random point.\n",
      "Time taken: 0.0150\n",
      "Function value obtained: -0.5217\n",
      "Current minimum: -0.7848\n",
      "Iteration No: 112 started. Evaluating function at random point.\n",
      "[1438.44988828766, 216]\n",
      "Iteration No: 112 ended. Evaluation done at random point.\n",
      "Time taken: 0.0229\n",
      "Function value obtained: -0.7611\n",
      "Current minimum: -0.7848\n",
      "Iteration No: 113 started. Evaluating function at random point.\n",
      "[0.012742749857031334, 144]\n",
      "Iteration No: 113 ended. Evaluation done at random point.\n",
      "Time taken: 0.0120\n",
      "Function value obtained: -0.5816\n",
      "Current minimum: -0.7848\n",
      "Iteration No: 114 started. Evaluating function at random point.\n",
      "[1438.44988828766, 100]\n",
      "Iteration No: 114 ended. Evaluation done at random point.\n",
      "Time taken: 0.0227\n",
      "Function value obtained: -0.7683\n",
      "Current minimum: -0.7848\n",
      "Iteration No: 115 started. Evaluating function at random point.\n",
      "[0.0001, 388]\n",
      "Iteration No: 115 ended. Evaluation done at random point.\n",
      "Time taken: 0.0000\n",
      "Function value obtained: -0.4698\n",
      "Current minimum: -0.7848\n",
      "Iteration No: 116 started. Evaluating function at random point.\n"
     ]
    },
    {
     "name": "stderr",
     "output_type": "stream",
     "text": [
      "C:\\Users\\diego.mayer\\AppData\\Local\\Continuum\\anaconda3\\lib\\site-packages\\sklearn\\svm\\_base.py:947: ConvergenceWarning: Liblinear failed to converge, increase the number of iterations.\n",
      "  \"the number of iterations.\", ConvergenceWarning)\n",
      "C:\\Users\\diego.mayer\\AppData\\Local\\Continuum\\anaconda3\\lib\\site-packages\\sklearn\\svm\\_base.py:947: ConvergenceWarning: Liblinear failed to converge, increase the number of iterations.\n",
      "  \"the number of iterations.\", ConvergenceWarning)\n"
     ]
    },
    {
     "name": "stdout",
     "output_type": "stream",
     "text": [
      "[0.23357214690901212, 140]\n",
      "Iteration No: 116 ended. Evaluation done at random point.\n",
      "Time taken: 0.0213\n",
      "Function value obtained: -0.7636\n",
      "Current minimum: -0.7848\n",
      "Iteration No: 117 started. Evaluating function at random point.\n",
      "[4.281332398719396, 52]\n",
      "Iteration No: 117 ended. Evaluation done at random point.\n",
      "Time taken: 0.0160\n",
      "Function value obtained: -0.7522\n",
      "Current minimum: -0.7848\n",
      "Iteration No: 118 started. Evaluating function at random point.\n",
      "[10000.0, 128]\n",
      "Iteration No: 118 ended. Evaluation done at random point.\n",
      "Time taken: 0.0170\n",
      "Function value obtained: -0.7566\n",
      "Current minimum: -0.7848\n",
      "Iteration No: 119 started. Evaluating function at random point.\n",
      "[10000.0, 88]\n",
      "Iteration No: 119 ended. Evaluation done at random point.\n",
      "Time taken: 0.0150\n",
      "Function value obtained: -0.7358\n",
      "Current minimum: -0.7848\n",
      "Iteration No: 120 started. Evaluating function at random point.\n",
      "[0.004832930238571752, 348]\n",
      "Iteration No: 120 ended. Evaluation done at random point.\n",
      "Time taken: 0.0080\n",
      "Function value obtained: -0.5000\n",
      "Current minimum: -0.7848\n",
      "Iteration No: 121 started. Evaluating function at random point.\n",
      "[0.004832930238571752, 328]\n",
      "Iteration No: 121 ended. Evaluation done at random point.\n",
      "Time taken: 0.0100\n",
      "Function value obtained: -0.5083\n",
      "Current minimum: -0.7848\n",
      "Iteration No: 122 started. Evaluating function at random point.\n",
      "[1.623776739188721, 80]\n",
      "Iteration No: 122 ended. Evaluation done at random point.\n",
      "Time taken: 0.0130\n",
      "Function value obtained: -0.7195\n",
      "Current minimum: -0.7848\n",
      "Iteration No: 123 started. Evaluating function at random point.\n",
      "[4.281332398719396, 20]\n",
      "Iteration No: 123 ended. Evaluation done at random point.\n",
      "Time taken: 0.0140\n",
      "Function value obtained: -0.7375\n",
      "Current minimum: -0.7848\n",
      "Iteration No: 124 started. Evaluating function at random point.\n",
      "[0.0001, 20]\n",
      "Iteration No: 124 ended. Evaluation done at random point.\n",
      "Time taken: 0.0100\n",
      "Function value obtained: -0.4945\n",
      "Current minimum: -0.7848\n",
      "Iteration No: 125 started. Evaluating function at random point.\n",
      "[0.08858667904100823, 232]\n",
      "Iteration No: 125 ended. Evaluation done at random point.\n",
      "Time taken: 0.0170\n",
      "Function value obtained: -0.6914\n",
      "Current minimum: -0.7848\n",
      "Iteration No: 126 started. Evaluating function at random point.\n",
      "[1438.44988828766, 316]\n",
      "Iteration No: 126 ended. Evaluation done at random point.\n",
      "Time taken: 0.0219\n",
      "Function value obtained: -0.7861\n",
      "Current minimum: -0.7861\n",
      "Iteration No: 127 started. Evaluating function at random point.\n",
      "[0.012742749857031334, 36]\n",
      "Iteration No: 127 ended. Evaluation done at random point.\n",
      "Time taken: 0.0110\n",
      "Function value obtained: -0.5424\n",
      "Current minimum: -0.7861\n",
      "Iteration No: 128 started. Evaluating function at random point.\n",
      "[0.0018329807108324356, 84]\n",
      "Iteration No: 128 ended. Evaluation done at random point.\n",
      "Time taken: 0.0130\n",
      "Function value obtained: -0.4941\n",
      "Current minimum: -0.7861\n",
      "Iteration No: 129 started. Evaluating function at random point.\n",
      "[0.23357214690901212, 140]\n",
      "Iteration No: 129 ended. Evaluation done at random point.\n",
      "Time taken: 0.0140\n",
      "Function value obtained: -0.7273\n",
      "Current minimum: -0.7861\n",
      "Iteration No: 130 started. Evaluating function at random point.\n",
      "[29.763514416313132, 280]\n",
      "Iteration No: 130 ended. Evaluation done at random point.\n",
      "Time taken: 0.0209\n",
      "Function value obtained: -0.7656\n",
      "Current minimum: -0.7861\n",
      "Iteration No: 131 started. Evaluating function at random point.\n",
      "[0.00026366508987303583, 16]\n",
      "Iteration No: 131 ended. Evaluation done at random point.\n",
      "Time taken: 0.0100\n",
      "Function value obtained: -0.4494\n",
      "Current minimum: -0.7861\n",
      "Iteration No: 132 started. Evaluating function at random point.\n",
      "[206.913808111479, 364]\n",
      "Iteration No: 132 ended. Evaluation done at random point.\n",
      "Time taken: 0.0150\n",
      "Function value obtained: -0.7552\n",
      "Current minimum: -0.7861\n",
      "Iteration No: 133 started. Evaluating function at random point.\n",
      "[0.0001, 108]\n",
      "Iteration No: 133 ended. Evaluation done at random point.\n",
      "Time taken: 0.0130\n",
      "Function value obtained: -0.4504\n",
      "Current minimum: -0.7861\n",
      "Iteration No: 134 started. Evaluating function at random point.\n",
      "[0.615848211066026, 144]\n",
      "Iteration No: 134 ended. Evaluation done at random point.\n",
      "Time taken: 0.0120\n",
      "Function value obtained: -0.7633\n",
      "Current minimum: -0.7861\n",
      "Iteration No: 135 started. Evaluating function at random point.\n",
      "[0.004832930238571752, 12]\n",
      "Iteration No: 135 ended. Evaluation done at random point.\n",
      "Time taken: 0.0090\n",
      "Function value obtained: -0.5098\n",
      "Current minimum: -0.7861\n",
      "Iteration No: 136 started. Evaluating function at random point.\n",
      "[1.623776739188721, 56]\n",
      "Iteration No: 136 ended. Evaluation done at random point.\n",
      "Time taken: 0.0110\n",
      "Function value obtained: -0.7731\n",
      "Current minimum: -0.7861\n",
      "Iteration No: 137 started. Evaluating function at random point.\n",
      "[4.281332398719396, 68]\n",
      "Iteration No: 137 ended. Evaluation done at random point.\n",
      "Time taken: 0.0033\n",
      "Function value obtained: -0.7378\n",
      "Current minimum: -0.7861\n",
      "Iteration No: 138 started. Evaluating function at random point.\n",
      "[0.23357214690901212, 276]\n",
      "Iteration No: 138 ended. Evaluation done at random point.\n",
      "Time taken: 0.0156\n",
      "Function value obtained: -0.7508\n",
      "Current minimum: -0.7861\n",
      "Iteration No: 139 started. Evaluating function at random point.\n",
      "[0.012742749857031334, 5]\n",
      "Iteration No: 139 ended. Evaluation done at random point.\n",
      "Time taken: 0.0000\n",
      "Function value obtained: -0.5568\n",
      "Current minimum: -0.7861\n",
      "Iteration No: 140 started. Evaluating function at random point.\n",
      "[0.004832930238571752, 16]\n",
      "Iteration No: 140 ended. Evaluation done at random point.\n",
      "Time taken: 0.0156\n",
      "Function value obtained: -0.5343\n",
      "Current minimum: -0.7861\n",
      "Iteration No: 141 started. Evaluating function at random point.\n",
      "[3792.690190732246, 316]\n",
      "Iteration No: 141 ended. Evaluation done at random point.\n",
      "Time taken: 0.0156\n",
      "Function value obtained: -0.7403\n",
      "Current minimum: -0.7861\n",
      "Iteration No: 142 started. Evaluating function at random point.\n",
      "[1.623776739188721, 8]\n",
      "Iteration No: 142 ended. Evaluation done at random point.\n",
      "Time taken: 0.0156\n",
      "Function value obtained: -0.6881\n",
      "Current minimum: -0.7861\n",
      "Iteration No: 143 started. Evaluating function at random point.\n",
      "[0.012742749857031334, 220]\n",
      "Iteration No: 143 ended. Evaluation done at random point.\n",
      "Time taken: 0.0136\n",
      "Function value obtained: -0.5704\n",
      "Current minimum: -0.7861\n",
      "Iteration No: 144 started. Evaluating function at random point.\n",
      "[1438.44988828766, 76]\n",
      "Iteration No: 144 ended. Evaluation done at random point.\n",
      "Time taken: 0.0170\n",
      "Function value obtained: -0.7197\n",
      "Current minimum: -0.7861\n",
      "Iteration No: 145 started. Evaluating function at random point.\n",
      "[0.00026366508987303583, 20]\n",
      "Iteration No: 145 ended. Evaluation done at random point.\n",
      "Time taken: 0.0120\n",
      "Function value obtained: -0.4351\n",
      "Current minimum: -0.7861\n",
      "Iteration No: 146 started. Evaluating function at random point.\n",
      "[0.23357214690901212, 8]\n",
      "Iteration No: 146 ended. Evaluation done at random point.\n",
      "Time taken: 0.0160\n",
      "Function value obtained: -0.7321\n",
      "Current minimum: -0.7861\n",
      "Iteration No: 147 started. Evaluating function at random point.\n",
      "[0.00026366508987303583, 328]\n",
      "Iteration No: 147 ended. Evaluation done at random point.\n",
      "Time taken: 0.0120\n",
      "Function value obtained: -0.5000\n",
      "Current minimum: -0.7861\n",
      "Iteration No: 148 started. Evaluating function at random point.\n",
      "[11.288378916846883, 312]\n",
      "Iteration No: 148 ended. Evaluation done at random point.\n",
      "Time taken: 0.0150\n",
      "Function value obtained: -0.7538\n",
      "Current minimum: -0.7861\n",
      "Iteration No: 149 started. Evaluating function at random point.\n",
      "[78.47599703514607, 96]\n",
      "Iteration No: 149 ended. Evaluation done at random point.\n",
      "Time taken: 0.0129\n",
      "Function value obtained: -0.7335\n",
      "Current minimum: -0.7861\n",
      "Iteration No: 150 started. Evaluating function at random point.\n",
      "[0.0001, 116]\n",
      "Iteration No: 150 ended. Evaluation done at random point.\n",
      "Time taken: 0.0080\n",
      "Function value obtained: -0.4739\n",
      "Current minimum: -0.7861\n"
     ]
    },
    {
     "name": "stderr",
     "output_type": "stream",
     "text": [
      "C:\\Users\\diego.mayer\\AppData\\Local\\Continuum\\anaconda3\\lib\\site-packages\\sklearn\\svm\\_base.py:947: ConvergenceWarning: Liblinear failed to converge, increase the number of iterations.\n",
      "  \"the number of iterations.\", ConvergenceWarning)\n",
      "C:\\Users\\diego.mayer\\AppData\\Local\\Continuum\\anaconda3\\lib\\site-packages\\sklearn\\svm\\_base.py:947: ConvergenceWarning: Liblinear failed to converge, increase the number of iterations.\n",
      "  \"the number of iterations.\", ConvergenceWarning)\n",
      "C:\\Users\\diego.mayer\\AppData\\Local\\Continuum\\anaconda3\\lib\\site-packages\\sklearn\\svm\\_base.py:947: ConvergenceWarning: Liblinear failed to converge, increase the number of iterations.\n",
      "  \"the number of iterations.\", ConvergenceWarning)\n"
     ]
    }
   ],
   "source": [
    "def logistic_reg(params):\n",
    "    C = params[0]\n",
    "    max_iter = params[1]\n",
    "\n",
    "    Xtrain, Xvalid, ytrain, yvalid = train_test_split(X, y, test_size=0.5)\n",
    "    \n",
    "    print(params)\n",
    "    mdl = LogisticRegression(dual=False, C=C, penalty='l2', \n",
    "                             solver='liblinear', max_iter=max_iter)   \n",
    " \n",
    "    \n",
    "    mdl.fit(Xtrain, ytrain)\n",
    "\n",
    "    pred = mdl.predict(Xvalid)\n",
    "    yscore = mdl.predict_proba(Xvalid)[:, 1]\n",
    "\n",
    "    f1 = f1_score(yvalid, pred)\n",
    "    roc = roc_auc_score(yvalid, yscore)\n",
    "    acc = np.mean(yvalid == pred)\n",
    "    log = log_loss(yvalid, pred)\n",
    "\n",
    "    return -f1\n",
    "results = dummy_minimize(logistic_reg, space, random_state=1, verbose=1, n_calls=150)\n",
    "params_log_reg = results.x"
   ]
  },
  {
   "cell_type": "code",
   "execution_count": 489,
   "metadata": {
    "collapsed": true,
    "jupyter": {
     "outputs_hidden": true
    }
   },
   "outputs": [
    {
     "data": {
      "text/plain": [
       "<matplotlib.axes._subplots.AxesSubplot at 0x211878817f0>"
      ]
     },
     "execution_count": 489,
     "metadata": {},
     "output_type": "execute_result"
    },
    {
     "data": {
      "image/png": "[encoded data removed]",
      "text/plain": [
       "<Figure size 432x288 with 1 Axes>"
      ]
     },
     "metadata": {
      "needs_background": "light"
     },
     "output_type": "display_data"
    }
   ],
   "source": [
    "#plots.plot_convergence(results)"
   ]
  },
  {
   "cell_type": "markdown",
   "metadata": {},
   "source": [
    "### Error Analysis"
   ]
  },
  {
   "cell_type": "markdown",
   "metadata": {},
   "source": [
    "This analysis conist in take the slice in the prediction that has a wrong prediction and take a analys from him"
   ]
  },
  {
   "cell_type": "code",
   "execution_count": 261,
   "metadata": {},
   "outputs": [],
   "source": [
    "f1, roc, acc, log, pred = model_GBDT(Xtrain, Xvalid, ytrain, yvalid, parameters)"
   ]
  },
  {
   "cell_type": "code",
   "execution_count": 262,
   "metadata": {},
   "outputs": [],
   "source": [
    "Xerror = Xvalid.copy()\n",
    "Xerror['predicted'] = pred\n",
    "Xerror['yvalid'] = yvalid"
   ]
  },
  {
   "cell_type": "code",
   "execution_count": 263,
   "metadata": {},
   "outputs": [],
   "source": [
    "Xerror = Xerror[Xerror['predicted'] != yvalid]"
   ]
  },
  {
   "cell_type": "code",
   "execution_count": 170,
   "metadata": {},
   "outputs": [],
   "source": [
    "Xtrain, Xvalid, ytrain, yvalid = train_test_split(Xerror[features], Xerror['yvalid'])"
   ]
  },
  {
   "cell_type": "markdown",
   "metadata": {
    "colab_type": "text",
    "id": "GWMYTHqlLYz0"
   },
   "source": [
    "### Bayesian optimizetion"
   ]
  },
  {
   "cell_type": "markdown",
   "metadata": {
    "colab_type": "text",
    "id": "lGXPwH3E5djT"
   },
   "source": [
    "# 07 - Metrics\n",
    "___________________"
   ]
  },
  {
   "cell_type": "code",
   "execution_count": null,
   "metadata": {
    "colab": {},
    "colab_type": "code",
    "id": "96sRI0qa5V86"
   },
   "outputs": [],
   "source": [
    "# Baseline Accuracy: 0.742\n",
    "#                F1: 0.85\n",
    "# _________________________________________________________________________\n",
    "# Scores with just features, randomforest\n",
    "#_________|   01  |   02  |   03  |   04  |   05  |   06  |  07   |  08   |\n",
    "#F1_Score : 0.698 | 0.705 | 0.697 | 0.697 | 0.698 | 0.652 | 0.648 | 0.686 |\n",
    "#Roc_Score: 0.830 | 0.831 | 0.824 | 0.828 | 0.827 | 0.823 | 0.800 | 0.842 |\n",
    "#Accuracy : 0.783 | 0.780 | 0.776 | 0.778 | 0.771 | 0.751 | 0.749 | 0.778 | \n",
    "#Log_Loss : 7.512 | 7.589 | 7.744 | 7.667 | 7.899 | 8.596 | 8.674 | 7.667 |\n",
    "#___________________________________________________________________________\n",
    "#_________|   09  |   10  |   11  |   12  |   13  |\n",
    "#F1_Score : 0.675 | 0.726 | 0.728 | 0.745 | 0.755 |\n",
    "#Roc_Score: 0.836 | 0.851 | 0.850 | 0.850 | 0.852 |\n",
    "#Accuracy : 0.767 | 0.798 | 0.803 | 0.812 | 0.818 |\n",
    "#Log_Loss : 8.054 | 6.970 | 6.815 | 6.505 | 6.273 |\n",
    "\n",
    "# 13: It was MinMaxScaler(), I got the features Numb 12 and done the Scaler"
   ]
  },
  {
   "cell_type": "code",
   "execution_count": null,
   "metadata": {
    "colab": {
     "base_uri": "https://localhost:8080/",
     "height": 258
    },
    "colab_type": "code",
    "collapsed": true,
    "id": "cLueCdF36uOm",
    "jupyter": {
     "outputs_hidden": true
    },
    "outputId": "0fc8d59a-4304-447f-f5d8-efc4aab0ecfe"
   },
   "outputs": [
    {
     "name": "stdout",
     "output_type": "stream",
     "text": [
      "(0.7794561933534744, 0.8630338889595792, 0.8359550561797753, 5.665961945070844)\n",
      "(0.7964071856287425, 0.8751749586461381, 0.8471910112359551, 5.277884008954026)\n",
      "(0.7800586510263929, 0.8628430249819738, 0.8314606741573034, 5.821203181867253)\n"
     ]
    },
    {
     "name": "stderr",
     "output_type": "stream",
     "text": [
      "/usr/local/lib/python3.6/dist-packages/sklearn/linear_model/_logistic.py:940: ConvergenceWarning: lbfgs failed to converge (status=1):\n",
      "STOP: TOTAL NO. of ITERATIONS REACHED LIMIT.\n",
      "\n",
      "Increase the number of iterations (max_iter) or scale the data as shown in:\n",
      "    https://scikit-learn.org/stable/modules/preprocessing.html\n",
      "Please also refer to the documentation for alternative solver options:\n",
      "    https://scikit-learn.org/stable/modules/linear_model.html#logistic-regression\n",
      "  extra_warning_msg=_LOGISTIC_SOLVER_CONVERGENCE_MSG)\n"
     ]
    },
    {
     "name": "stdout",
     "output_type": "stream",
     "text": [
      "(0.7462686567164178, 0.863733723544132, 0.8089887640449438, 6.597359054100888)\n",
      "(0.742, 0.862, 0.808, 6.621)\n"
     ]
    }
   ],
   "source": [
    "print(model_RF(Xtrain, Xvalid, ytrain, yvalid))\n",
    "print(model_GBDT(Xtrain, Xvalid, ytrain, yvalid))\n",
    "print(model_LGBM(Xtrain, Xvalid, ytrain, yvalid))\n",
    "print(logistic_reg(Xtrain, Xvalid, ytrain, yvalid))\n",
    "print(kf_validation(X, y))"
   ]
  },
  {
   "cell_type": "markdown",
   "metadata": {
    "colab_type": "text",
    "id": "MrSFfLg15djp"
   },
   "source": [
    "# 08 - Test Data\n",
    "___________________"
   ]
  },
  {
   "cell_type": "code",
   "execution_count": 732,
   "metadata": {
    "colab": {
     "base_uri": "https://localhost:8080/",
     "height": 445
    },
    "colab_type": "code",
    "id": "a94iaLnG5djq",
    "outputId": "42346944-6659-4131-a96e-3c850062b227"
   },
   "outputs": [
    {
     "name": "stderr",
     "output_type": "stream",
     "text": [
      "C:\\Users\\diego.mayer\\AppData\\Local\\Continuum\\anaconda3\\lib\\site-packages\\ipykernel_launcher.py:18: SettingWithCopyWarning: \n",
      "A value is trying to be set on a copy of a slice from a DataFrame\n",
      "\n",
      "See the caveats in the documentation: http://pandas.pydata.org/pandas-docs/stable/indexing.html#indexing-view-versus-copy\n",
      "C:\\Users\\diego.mayer\\AppData\\Local\\Continuum\\anaconda3\\lib\\site-packages\\ipykernel_launcher.py:19: SettingWithCopyWarning: \n",
      "A value is trying to be set on a copy of a slice from a DataFrame\n",
      "\n",
      "See the caveats in the documentation: http://pandas.pydata.org/pandas-docs/stable/indexing.html#indexing-view-versus-copy\n",
      "C:\\Users\\diego.mayer\\AppData\\Local\\Continuum\\anaconda3\\lib\\site-packages\\ipykernel_launcher.py:20: SettingWithCopyWarning: \n",
      "A value is trying to be set on a copy of a slice from a DataFrame\n",
      "\n",
      "See the caveats in the documentation: http://pandas.pydata.org/pandas-docs/stable/indexing.html#indexing-view-versus-copy\n",
      "C:\\Users\\diego.mayer\\AppData\\Local\\Continuum\\anaconda3\\lib\\site-packages\\ipykernel_launcher.py:21: SettingWithCopyWarning: \n",
      "A value is trying to be set on a copy of a slice from a DataFrame\n",
      "\n",
      "See the caveats in the documentation: http://pandas.pydata.org/pandas-docs/stable/indexing.html#indexing-view-versus-copy\n",
      "C:\\Users\\diego.mayer\\AppData\\Local\\Continuum\\anaconda3\\lib\\site-packages\\ipykernel_launcher.py:22: SettingWithCopyWarning: \n",
      "A value is trying to be set on a copy of a slice from a DataFrame\n",
      "\n",
      "See the caveats in the documentation: http://pandas.pydata.org/pandas-docs/stable/indexing.html#indexing-view-versus-copy\n",
      "C:\\Users\\diego.mayer\\AppData\\Local\\Continuum\\anaconda3\\lib\\site-packages\\ipykernel_launcher.py:23: SettingWithCopyWarning: \n",
      "A value is trying to be set on a copy of a slice from a DataFrame\n",
      "\n",
      "See the caveats in the documentation: http://pandas.pydata.org/pandas-docs/stable/indexing.html#indexing-view-versus-copy\n"
     ]
    }
   ],
   "source": [
    "test = pd.DataFrame()\n",
    "\n",
    "test['Pclass'] = df_test['Pclass'].copy()\n",
    "test['Sex'] = df_test.Sex.map({\n",
    "    'female':1,\n",
    "    'male':0\n",
    "}).copy()\n",
    "#---------------------------------------\n",
    "test['Age'] = df_test['Age'].copy()\n",
    "\n",
    "med_cl_fem_3 = test.Age[(test.Pclass == 3) & (test.Sex == 1)].median()\n",
    "med_cl_fem_2 = test.Age[(test.Pclass == 2) & (test.Sex == 1)].median()\n",
    "med_cl_fem_1 = test.Age[(test.Pclass == 1) & (test.Sex == 1)].median()\n",
    "med_cl_mal_3 = test.Age[(test.Pclass == 3) & (test.Sex == 0)].median()\n",
    "med_cl_mal_2 = test.Age[(test.Pclass == 2) & (test.Sex == 0)].median()\n",
    "med_cl_mal_1 = test.Age[(test.Pclass == 1) & (test.Sex == 0)].median()\n",
    "\n",
    "test.Age[(test.Pclass == 3) & (test.Sex == 1)] = test.Age[(test.Pclass == 3) & (test.Sex == 1)].fillna(med_cl_fem_3)\n",
    "test.Age[(test.Pclass == 2) & (test.Sex == 1)] = test.Age[(test.Pclass == 2) & (test.Sex == 1)].fillna(med_cl_fem_2)\n",
    "test.Age[(test.Pclass == 1) & (test.Sex == 1)] = test.Age[(test.Pclass == 1) & (test.Sex == 1)].fillna(med_cl_fem_1)\n",
    "test.Age[(test.Pclass == 3) & (test.Sex == 0)] = test.Age[(test.Pclass == 3) & (test.Sex == 0)].fillna(med_cl_mal_3)\n",
    "test.Age[(test.Pclass == 2) & (test.Sex == 0)] = test.Age[(test.Pclass == 2) & (test.Sex == 0)].fillna(med_cl_mal_2)\n",
    "test.Age[(test.Pclass == 1) & (test.Sex == 0)] = test.Age[(test.Pclass == 1) & (test.Sex == 0)].fillna(med_cl_mal_1)\n",
    "\n",
    "#---------------------------------------\n",
    "\n",
    "age_4 = test.Age[test.Age <=4].copy()\n",
    "age_30 = test.Age[(test.Age >=4) & (test.Age <=30)].copy()\n",
    "age_40 = test.Age[(test.Age >=31) & (test.Age <=40)].copy()\n",
    "age_80 = test.Age[test.Age >=41].copy()\n",
    "age_4.name, age_30.name = 'age_4', 'age_30'\n",
    "age_40.name, age_80.name = 'age_40', 'age_80'\n",
    "\n",
    "test = pd.concat([test, age_4], axis=1).fillna(0)\n",
    "test = pd.concat([test, age_30], axis=1).fillna(0)\n",
    "test = pd.concat([test, age_40], axis=1).fillna(0)\n",
    "test = pd.concat([test, age_80], axis=1).fillna(0)\n",
    "\n",
    "#---------------------------------------\n",
    "\n",
    "test = test.drop(['Age'], axis=1)\n",
    "test['Family_size'] = df_test.SibSp + df_test.Parch\n",
    "\n",
    "#---------------------------------------\n",
    "\n",
    "test['SibSp'] = df_test['SibSp'].copy()\n",
    "test['Parch'] = df_test['Parch'].copy()\n",
    "\n",
    "#---------------------------------------\n",
    "\n",
    "outlier = np.mean(df_test.Fare) + (2 * np.std(df_test.Fare))\n",
    "fare_out = df_test.Fare[df_test.Fare >= outlier].copy()\n",
    "fare = df_test.Fare[df_test.Fare < outlier].copy()\n",
    "fare_out.name, fare.name = 'Fare_out', 'Fare'\n",
    "\n",
    "test = pd.concat([test, fare_out], axis=1).fillna(0)\n",
    "test = pd.concat([test, fare], axis=1).fillna(0)\n",
    "\n",
    "#---------------------------------------\n",
    "\n",
    "test['Embarked'] = df_test['Embarked'].fillna('S').copy()\n",
    "embark = pd.get_dummies(test['Embarked'], prefix='Embark')\n",
    "test = pd.concat([test, embark], axis=1).copy()\n",
    "test = test.drop('Embarked', axis=1).copy()\n",
    "\n",
    "#---------------------------------------\n",
    "\n",
    "test['Name'] = df_test.Name.copy()\n",
    "surname = ['Mr.', 'Mrs', 'Miss', 'Master', 'Rev.', 'Dr', 'Col.', 'Sir.', 'Major', 'Don.', 'Capt']\n",
    "for rep in surname:\n",
    "    for name in test['Name'][test.Name.str.contains(rep, regex=False)]:\n",
    "        if rep in ['Col.', 'Major', 'Capt']:\n",
    "            test.replace(name, 'Army', inplace=True)\n",
    "        elif rep in ['Sir.', 'Don.']:\n",
    "            test.replace(name, 'Mr.', inplace=True)\n",
    "        else:\n",
    "            test.replace(name, rep, inplace=True)\n",
    "\n",
    "for title in test.Name:\n",
    "    if title not in ['Mr.', 'Miss', 'Mrs', 'Master', 'Dr', 'Rev', 'Army']:\n",
    "        test.replace(title, 'Miss', inplace=True)\n",
    "        \n",
    "name_dum = pd.get_dummies(test.Name, prefix='name').copy()\n",
    "test = pd.concat([test, name_dum], axis=1)\n",
    "\n",
    "test = test.drop('Name', axis=1)\n",
    "\n",
    "#---------------------------------------\n",
    "\n",
    "cab = df_test.Cabin.str.extract((r'([A-Za-z])'), ).fillna(0).copy()\n",
    "cab_dum = pd.get_dummies(cab, prefix='Deck')\n",
    "test = pd.concat([test, cab_dum], axis=1).copy()\n",
    "test = test.drop(['Deck_0'], axis=1).copy()\n",
    "\n",
    "#---------------------------------------\n",
    "\n",
    "test['Deck_T'] = 0\n",
    "\n",
    "#---------------------------------------\n",
    "\n",
    "surname = df_test.Name.str.extract(r'(\\w+)').copy()\n",
    "surname.columns = ['Surname']\n",
    "\n",
    "test = pd.concat([test, surname], axis=1).copy()\n",
    "mapping = test.Surname.value_counts()\n",
    "test.Surname = test.Surname.map(mapping).copy()\n",
    "\n",
    "#---------------------------------------\n",
    "null_cabin = df_test['Cabin'][df_test['Cabin'].isnull()]\n",
    "null_cabin.fillna(1, inplace=True)\n",
    "null_cabin.name = 'Null_Cabin'\n",
    "test = pd.concat([test, null_cabin], axis=1).fillna(0).copy()\n",
    "features = test.columns.copy()"
   ]
  },
  {
   "cell_type": "markdown",
   "metadata": {
    "colab_type": "text",
    "id": "HhVMoYcz5djr"
   },
   "source": [
    "# 09 - Submission\n",
    "___________________"
   ]
  },
  {
   "cell_type": "code",
   "execution_count": 106,
   "metadata": {},
   "outputs": [],
   "source": [
    "sca = MinMaxScaler()\n",
    "train_scaled = sca.fit_transform(X)\n",
    "test_scaled = sca.fit_transform(test)"
   ]
  },
  {
   "cell_type": "code",
   "execution_count": 346,
   "metadata": {
    "colab": {},
    "colab_type": "code",
    "id": "1t7MSGje5djv",
    "jupyter": {
     "source_hidden": true
    }
   },
   "outputs": [],
   "source": [
    "def sub_kaggle_GBDT(test, params):\n",
    "    max_depth = params[0]\n",
    "    random_state= params[1]\n",
    "    n_estimators = params[2]\n",
    "    max_features = params[3]\n",
    "    min_samples_split = params[4]\n",
    "    min_samples_leaf = params[5]\n",
    "    learning_rate = params[6]\n",
    "    subsample = params[7]\n",
    "    loss = params[8]\n",
    "    \n",
    "    #Xtrain, Xvalid, ytrain, yvalid = train_test_split(X, y, test_size=0.5)\n",
    "\n",
    "    mdl = GradientBoostingClassifier(max_depth=max_depth,\n",
    "                                     random_state=random_state,\n",
    "                                     n_estimators=n_estimators,\n",
    "                                     max_features=max_features,\n",
    "                                     min_samples_split=min_samples_split,\n",
    "                                     min_samples_leaf=min_samples_leaf,\n",
    "                                     learning_rate=learning_rate,\n",
    "                                     subsample=subsample, loss=loss)  \n",
    "    \n",
    "    mdl.fit(Xtrain, ytrain)\n",
    "    pred = mdl.predict(test)\n",
    "\n",
    "    sub = pd.DataFrame({\n",
    "    'PassengerId':df_test['PassengerId'],\n",
    "    'Survived':pred\n",
    "    })\n",
    "    \n",
    "    sub.to_csv(f\"sub_10042020_GBDT.csv\", index=False)\n",
    "\n",
    "sub_kaggle_GBDT(test, parameters)"
   ]
  },
  {
   "cell_type": "code",
   "execution_count": 107,
   "metadata": {
    "colab": {},
    "colab_type": "code",
    "id": "MEwiAiao4JeP",
    "jupyter": {
     "source_hidden": true
    }
   },
   "outputs": [],
   "source": [
    "def sub_kaggle_RF(X, y, test, params):\n",
    "    max_depth = params[0]\n",
    "    random_state= params[1]\n",
    "    n_estimators = params[2]\n",
    "    max_features = params[3]\n",
    "    min_samples_split = params[4]\n",
    "    min_samples_leaf = params[5]\n",
    "    bootstrap = params[6]\n",
    "\n",
    "    Xtrain, Xvalid, ytrain, yvalid = train_test_split(X, y, test_size=0.5)\n",
    "    mdl = RandomForestClassifier(n_estimators=n_estimators, max_depth=max_depth,\n",
    "                                 random_state=random_state, \n",
    "                                 max_features=max_features, \n",
    "                                 min_samples_split=min_samples_split,\n",
    "                                 min_samples_leaf=min_samples_leaf,\n",
    "                                 bootstrap=bootstrap, n_jobs=-1)\n",
    "\n",
    "    mdl.fit(Xtrain, ytrain)\n",
    "    pred = mdl.predict(test)\n",
    "\n",
    "    sub = pd.DataFrame({\n",
    "    'PassengerId':df_test['PassengerId'],\n",
    "    'Survived':pred\n",
    "    })\n",
    "    \n",
    "    sub.to_csv(f\"sub_08042020_dum.csv\", index=False)\n",
    "\n",
    "sub_kaggle_RF(X, y, test, parameters)"
   ]
  },
  {
   "cell_type": "code",
   "execution_count": 191,
   "metadata": {
    "jupyter": {
     "source_hidden": true
    }
   },
   "outputs": [],
   "source": [
    "def sub_kaggle_LGBM(X, y, test, params):\n",
    "    max_depth = params[0]\n",
    "    random_state= params[1]\n",
    "    n_estimators = params[2]\n",
    "    max_features = params[3]\n",
    "    min_samples_split = params[4]\n",
    "    min_samples_leaf = params[5]\n",
    "    learning_rate = params[6]\n",
    "    subsample = params[7]\n",
    "\n",
    "    Xtrain, Xvalid, ytrain, yvalid = train_test_split(X, y, test_size=0.5)\n",
    "\n",
    "    mdl = LGBMClassifier(max_depth=max_depth,\n",
    "                                     random_state=random_state,\n",
    "                                     n_estimators=n_estimators,\n",
    "                                     max_features=max_features,\n",
    "                                     min_samples_split=min_samples_split,\n",
    "                                     min_samples_leaf=min_samples_leaf,\n",
    "                                     learning_rate=learning_rate,\n",
    "                                     subsample=subsample)\n",
    "    \n",
    "    mdl.fit(Xtrain, ytrain)\n",
    "    pred = mdl.predict(test)\n",
    "\n",
    "    sub = pd.DataFrame({\n",
    "    'PassengerId':df_test['PassengerId'],\n",
    "    'Survived':pred\n",
    "    })\n",
    "\n",
    "    sub.to_csv(f\"sub_08042020_LGBM.csv\", index=False)\n",
    "\n",
    "sub_kaggle_LGBM(X, y, test, parameters)"
   ]
  },
  {
   "cell_type": "code",
   "execution_count": 437,
   "metadata": {
    "jupyter": {
     "source_hidden": true
    }
   },
   "outputs": [
    {
     "name": "stdout",
     "output_type": "stream",
     "text": [
      "[4.281332398719396, 332]\n"
     ]
    }
   ],
   "source": [
    "def sub_kaggle_Log_Reg(X, y, test, params):\n",
    "    C = params[0]\n",
    "    max_iter = params[1]\n",
    "\n",
    "   # Xtrain, Xvalid, ytrain, yvalid = train_test_split(X, y, test_size=0.5)\n",
    "    \n",
    "    print(params)\n",
    "    mdl = LogisticRegression(dual=False, C=C, penalty='l2',\n",
    "                            solver='liblinear', max_iter=max_iter,)\n",
    "    \n",
    "    mdl.fit(Xtrain, ytrain)\n",
    "    pred = mdl.predict(test)\n",
    "\n",
    "    sub = pd.DataFrame({\n",
    "    'PassengerId':df_test['PassengerId'],\n",
    "    'Survived':pred\n",
    "    })\n",
    "\n",
    "    sub.to_csv(f\"sub_11042020_LR.csv\", index=False)\n",
    "\n",
    "sub_kaggle_Log_Reg(X, y, test, parameters)"
   ]
  },
  {
   "cell_type": "code",
   "execution_count": null,
   "metadata": {},
   "outputs": [],
   "source": [
    "for model in models:\n",
    "    for ranges in range(200):\n",
    "        Xtrain, Xvalid, ytrain, yvalid = train_test_split(\n",
    "            X, y, test_size=0.5, stratify=None) \n",
    "        \n",
    "        mdl = model\n",
    "        mdl.fit(Xtrain, ytrain)\n",
    "        pred = mdl.predict(Xvalid)\n",
    "        acc = np.mean(yvalid == pred)\n",
    "        f1 = f1_score(yvalid, pred)\n",
    "        mod_name = str(model)[:9]\n",
    "        scores.append([mod_name, acc, f1])\n",
    "        print(f'{mod_name}: ACC: {acc:.5f} - F1: {f1:.5f}')   "
   ]
  },
  {
   "cell_type": "code",
   "execution_count": null,
   "metadata": {},
   "outputs": [],
   "source": []
  },
  {
   "cell_type": "code",
   "execution_count": null,
   "metadata": {},
   "outputs": [],
   "source": []
  },
  {
   "cell_type": "code",
   "execution_count": null,
   "metadata": {},
   "outputs": [],
   "source": []
  },
  {
   "cell_type": "markdown",
   "metadata": {
    "colab_type": "text",
    "id": "IJnAWPwf5dj1"
   },
   "source": [
    "# 10 - Deployment\n",
    "___________________"
   ]
  },
  {
   "cell_type": "code",
   "execution_count": 54,
   "metadata": {},
   "outputs": [
    {
     "data": {
      "text/plain": [
       "[110, 242, 9960, 'auto', 4, 10, 0.0010384113097852907, 0.3511379799862342]"
      ]
     },
     "execution_count": 54,
     "metadata": {},
     "output_type": "execute_result"
    }
   ],
   "source": [
    "parameters"
   ]
  },
  {
   "cell_type": "code",
   "execution_count": null,
   "metadata": {},
   "outputs": [],
   "source": []
  }
 ],
 "metadata": {
  "colab": {
   "collapsed_sections": [
    "9aIS6hEl5dfk",
    "25VtR6NM5dfn",
    "Vpt3T3gc5dfu",
    "kEtHpTm_5dij",
    "cLKHt-CF5djE",
    "YM5dvJojKTF4",
    "WkvqjL8hKJ2E",
    "MrSFfLg15djp",
    "HhVMoYcz5djr"
   ],
   "name": "titanic.ipynb",
   "provenance": [],
   "toc_visible": true
  },
  "kernelspec": {
   "display_name": "Python 3",
   "language": "python",
   "name": "python3"
  },
  "language_info": {
   "codemirror_mode": {
    "name": "ipython",
    "version": 3
   },
   "file_extension": ".py",
   "mimetype": "text/x-python",
   "name": "python",
   "nbconvert_exporter": "python",
   "pygments_lexer": "ipython3",
   "version": "3.7.3"
  }
 },
 "nbformat": 4,
 "nbformat_minor": 4
}
